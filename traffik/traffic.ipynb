{
 "cells": [
  {
   "cell_type": "code",
   "execution_count": 34,
   "metadata": {},
   "outputs": [],
   "source": [
    "import pandas as pd\n",
    "\n"
   ]
  },
  {
   "cell_type": "code",
   "execution_count": 35,
   "metadata": {},
   "outputs": [],
   "source": [
    "df = pd.read_csv('mdevedkovo.csv', sep=';')\n"
   ]
  },
  {
   "cell_type": "code",
   "execution_count": 36,
   "metadata": {},
   "outputs": [],
   "source": [
    "df.drop('Author', inplace = True, axis=1)"
   ]
  },
  {
   "cell_type": "code",
   "execution_count": 37,
   "metadata": {},
   "outputs": [],
   "source": [
    "drop_list = df.columns"
   ]
  },
  {
   "cell_type": "code",
   "execution_count": 38,
   "metadata": {},
   "outputs": [
    {
     "data": {
      "text/plain": [
       "Index(['Identif', 'MonthlyPeoples', 'DailyPeoples', 'HourlyPeoples_08_22',\n",
       "       'HourlyPeoples_08_10', 'HourlyPeoples_17_19', 'HourlyPeoples_22_08',\n",
       "       'DistrictName', 'WKT', 'HeatmapPoint', 'lat1', 'lon1', 'lat2', 'lon2'],\n",
       "      dtype='object')"
      ]
     },
     "execution_count": 38,
     "metadata": {},
     "output_type": "execute_result"
    }
   ],
   "source": [
    "drop_list"
   ]
  },
  {
   "cell_type": "code",
   "execution_count": 39,
   "metadata": {},
   "outputs": [
    {
     "data": {
      "text/plain": [
       "['MonthlyPeoples',\n",
       " 'DailyPeoples',\n",
       " 'HourlyPeoples_08_22',\n",
       " 'HourlyPeoples_08_10',\n",
       " 'HourlyPeoples_17_19',\n",
       " 'HourlyPeoples_22_08',\n",
       " 'DistrictName',\n",
       " 'WKT',\n",
       " 'HeatmapPoint']"
      ]
     },
     "execution_count": 39,
     "metadata": {},
     "output_type": "execute_result"
    }
   ],
   "source": [
    "drop_list=['MonthlyPeoples', 'DailyPeoples', 'HourlyPeoples_08_22',\n",
    "       'HourlyPeoples_08_10', 'HourlyPeoples_17_19', 'HourlyPeoples_22_08',\n",
    "       'DistrictName', 'WKT', 'HeatmapPoint']\n",
    "drop_list"
   ]
  },
  {
   "cell_type": "code",
   "execution_count": 24,
   "metadata": {},
   "outputs": [],
   "source": [
    "df.drop(drop_list, inplace = True, axis=1)"
   ]
  },
  {
   "cell_type": "code",
   "execution_count": 25,
   "metadata": {},
   "outputs": [
    {
     "data": {
      "text/html": [
       "<div>\n",
       "<style scoped>\n",
       "    .dataframe tbody tr th:only-of-type {\n",
       "        vertical-align: middle;\n",
       "    }\n",
       "\n",
       "    .dataframe tbody tr th {\n",
       "        vertical-align: top;\n",
       "    }\n",
       "\n",
       "    .dataframe thead th {\n",
       "        text-align: right;\n",
       "    }\n",
       "</style>\n",
       "<table border=\"1\" class=\"dataframe\">\n",
       "  <thead>\n",
       "    <tr style=\"text-align: right;\">\n",
       "      <th></th>\n",
       "      <th>Identif</th>\n",
       "      <th>lat1</th>\n",
       "      <th>lon1</th>\n",
       "      <th>lat2</th>\n",
       "      <th>lon2</th>\n",
       "    </tr>\n",
       "  </thead>\n",
       "  <tbody>\n",
       "    <tr>\n",
       "      <th>0</th>\n",
       "      <td>257431</td>\n",
       "      <td>55.876213</td>\n",
       "      <td>37.651131</td>\n",
       "      <td>55.876242</td>\n",
       "      <td>37.650848</td>\n",
       "    </tr>\n",
       "    <tr>\n",
       "      <th>1</th>\n",
       "      <td>257432</td>\n",
       "      <td>55.876242</td>\n",
       "      <td>37.650848</td>\n",
       "      <td>55.876300</td>\n",
       "      <td>37.650794</td>\n",
       "    </tr>\n",
       "    <tr>\n",
       "      <th>2</th>\n",
       "      <td>257433</td>\n",
       "      <td>55.876300</td>\n",
       "      <td>37.650794</td>\n",
       "      <td>55.876609</td>\n",
       "      <td>37.650883</td>\n",
       "    </tr>\n",
       "    <tr>\n",
       "      <th>3</th>\n",
       "      <td>257434</td>\n",
       "      <td>55.876609</td>\n",
       "      <td>37.650883</td>\n",
       "      <td>55.876640</td>\n",
       "      <td>37.650565</td>\n",
       "    </tr>\n",
       "    <tr>\n",
       "      <th>4</th>\n",
       "      <td>257435</td>\n",
       "      <td>55.876640</td>\n",
       "      <td>37.650565</td>\n",
       "      <td>55.876885</td>\n",
       "      <td>37.648160</td>\n",
       "    </tr>\n",
       "    <tr>\n",
       "      <th>...</th>\n",
       "      <td>...</td>\n",
       "      <td>...</td>\n",
       "      <td>...</td>\n",
       "      <td>...</td>\n",
       "      <td>...</td>\n",
       "    </tr>\n",
       "    <tr>\n",
       "      <th>2310</th>\n",
       "      <td>540137</td>\n",
       "      <td>55.872580</td>\n",
       "      <td>37.627873</td>\n",
       "      <td>55.872843</td>\n",
       "      <td>37.627862</td>\n",
       "    </tr>\n",
       "    <tr>\n",
       "      <th>2311</th>\n",
       "      <td>540138</td>\n",
       "      <td>55.872843</td>\n",
       "      <td>37.627862</td>\n",
       "      <td>55.873267</td>\n",
       "      <td>37.627826</td>\n",
       "    </tr>\n",
       "    <tr>\n",
       "      <th>2312</th>\n",
       "      <td>540139</td>\n",
       "      <td>55.873267</td>\n",
       "      <td>37.627826</td>\n",
       "      <td>55.873295</td>\n",
       "      <td>37.627611</td>\n",
       "    </tr>\n",
       "    <tr>\n",
       "      <th>2313</th>\n",
       "      <td>540140</td>\n",
       "      <td>55.873295</td>\n",
       "      <td>37.627611</td>\n",
       "      <td>55.873375</td>\n",
       "      <td>37.627651</td>\n",
       "    </tr>\n",
       "    <tr>\n",
       "      <th>2314</th>\n",
       "      <td>540141</td>\n",
       "      <td>55.873375</td>\n",
       "      <td>37.627651</td>\n",
       "      <td>55.873452</td>\n",
       "      <td>37.627243</td>\n",
       "    </tr>\n",
       "  </tbody>\n",
       "</table>\n",
       "<p>2315 rows × 5 columns</p>\n",
       "</div>"
      ],
      "text/plain": [
       "      Identif       lat1       lon1       lat2       lon2\n",
       "0      257431  55.876213  37.651131  55.876242  37.650848\n",
       "1      257432  55.876242  37.650848  55.876300  37.650794\n",
       "2      257433  55.876300  37.650794  55.876609  37.650883\n",
       "3      257434  55.876609  37.650883  55.876640  37.650565\n",
       "4      257435  55.876640  37.650565  55.876885  37.648160\n",
       "...       ...        ...        ...        ...        ...\n",
       "2310   540137  55.872580  37.627873  55.872843  37.627862\n",
       "2311   540138  55.872843  37.627862  55.873267  37.627826\n",
       "2312   540139  55.873267  37.627826  55.873295  37.627611\n",
       "2313   540140  55.873295  37.627611  55.873375  37.627651\n",
       "2314   540141  55.873375  37.627651  55.873452  37.627243\n",
       "\n",
       "[2315 rows x 5 columns]"
      ]
     },
     "execution_count": 25,
     "metadata": {},
     "output_type": "execute_result"
    }
   ],
   "source": [
    "df"
   ]
  },
  {
   "cell_type": "code",
   "execution_count": null,
   "metadata": {},
   "outputs": [],
   "source": []
  },
  {
   "cell_type": "code",
   "execution_count": null,
   "metadata": {},
   "outputs": [],
   "source": []
  },
  {
   "cell_type": "code",
   "execution_count": null,
   "metadata": {},
   "outputs": [],
   "source": []
  },
  {
   "cell_type": "code",
   "execution_count": null,
   "metadata": {},
   "outputs": [],
   "source": []
  },
  {
   "cell_type": "code",
   "execution_count": null,
   "metadata": {},
   "outputs": [],
   "source": []
  }
 ],
 "metadata": {
  "kernelspec": {
   "display_name": "Python 3",
   "language": "python",
   "name": "python3"
  },
  "language_info": {
   "codemirror_mode": {
    "name": "ipython",
    "version": 3
   },
   "file_extension": ".py",
   "mimetype": "text/x-python",
   "name": "python",
   "nbconvert_exporter": "python",
   "pygments_lexer": "ipython3",
   "version": "3.8.5"
  }
 },
 "nbformat": 4,
 "nbformat_minor": 4
}
