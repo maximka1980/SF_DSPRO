{
 "cells": [
  {
   "cell_type": "markdown",
   "metadata": {},
   "source": [
    "### Задание 4.1 "
   ]
  },
  {
   "cell_type": "code",
   "execution_count": null,
   "metadata": {},
   "outputs": [],
   "source": [
    "select city, count(airport_name) Qty \n",
    "from dst_project.airports \n",
    "group by 1 \n",
    "having count(airport_name)>1 \n",
    "order by 2 desc "
   ]
  },
  {
   "cell_type": "markdown",
   "metadata": {},
   "source": [
    "### Задание 4.2 "
   ]
  },
  {
   "cell_type": "code",
   "execution_count": null,
   "metadata": {},
   "outputs": [],
   "source": [
    "#вопрос1 - 6\n",
    "select count(distinct status) from dst_project.flights\n",
    "\n",
    "#вопрос2 - 58\n",
    "select count(status) from dst_project.flights where status='Departed'\n",
    "\n",
    "#вопрос3 - 402\n",
    "select count(seat_no) from dst_project.seats where aircraft_code='773'\n",
    "\n",
    "#вопрос4 - 74227\n",
    "select count(*)\n",
    "from dst_project.flights\n",
    "where (actual_arrival between '2017-04-01' and '2017-09-01') and (status = 'Arrived')\n"
   ]
  },
  {
   "cell_type": "markdown",
   "metadata": {},
   "source": [
    "### Задание 4.3 "
   ]
  },
  {
   "cell_type": "code",
   "execution_count": null,
   "metadata": {},
   "outputs": [],
   "source": [
    "#вопрос1 - 437\n",
    "select count(*) from dst_project.flights where status='Cancelled'\n",
    "\n",
    "#вопрос2 - \n",
    "\n",
    "SELECT 'Airbus', count(*)\n",
    "FROM dst_project.aircrafts a\n",
    "WHERE a.model LIKE 'Airbus%'\n",
    "union all\n",
    "SELECT 'Boeing', count(*)\n",
    "FROM dst_project.aircrafts a\n",
    "WHERE a.model LIKE 'Boeing%'\n",
    "union all\n",
    "SELECT 'Sukhoi', count(*)\n",
    "FROM dst_project.aircrafts a\n",
    "WHERE a.model LIKE 'Sukhoi%'\n",
    "\n",
    "#вопрос3 - Europe/Asia\n",
    "select timezone, count(airport_code) from dst_project.airports group by timezone order by 2 desc\n",
    "\n",
    "\n",
    "#вопрос4 - 157571\n",
    "SELECT f.flight_id,  \n",
    "(f.actual_arrival - f.scheduled_arrival) delta\n",
    "FROM dst_project.flights AS f WHERE f.actual_arrival IS NOT NULL\n",
    "order by 2 desc"
   ]
  },
  {
   "cell_type": "markdown",
   "metadata": {},
   "source": [
    "### Задание 4.4 "
   ]
  },
  {
   "cell_type": "code",
   "execution_count": null,
   "metadata": {},
   "outputs": [],
   "source": [
    "#вопрос1 - 14.08.2016\n",
    "select scheduled_departure from dst_project.flights order by 1 asc limit 1\n",
    "\n",
    "#вопрос2 - 530\n",
    "SELECT EXTRACT(EPOCH FROM AGE(f.scheduled_arrival, f.scheduled_departure))/60 delta, departure_airport, arrival_airport\n",
    "FROM dst_project.flights AS f WHERE f.scheduled_arrival IS NOT NULL or f.scheduled_arrival is not null\n",
    "order by 1 desc limit 1 \n",
    "\n",
    "#вопрос3 - DME -UUS\n",
    "SELECT EXTRACT(EPOCH FROM AGE(f.scheduled_arrival, f.scheduled_departure))/60 delta, departure_airport, arrival_airport\n",
    "FROM dst_project.flights AS f WHERE f.scheduled_arrival IS NOT NULL or f.scheduled_arrival is not null\n",
    "order by 1 desc limit 1 \n",
    "\n",
    "#вопрос4 - 128\n",
    "select round(avg(A.delta)) from\n",
    "(\n",
    "\n",
    "SELECT EXTRACT(EPOCH FROM AGE(f.scheduled_arrival, f.scheduled_departure))/60 delta, departure_airport, arrival_airport\n",
    "FROM dst_project.flights AS f WHERE f.scheduled_arrival IS NOT NULL or f.scheduled_arrival is not null\n",
    "order by 1 desc\n",
    "\n",
    "\n",
    ") as A"
   ]
  },
  {
   "cell_type": "markdown",
   "metadata": {},
   "source": [
    "### Задание 4.5 "
   ]
  },
  {
   "cell_type": "code",
   "execution_count": null,
   "metadata": {},
   "outputs": [],
   "source": [
    "#вопрос1 - Economy 85\n",
    "select distinct B.fare_conditions, count(*)\n",
    "from \n",
    "(\n",
    "select * from dst_project.aircrafts ac\n",
    "join dst_project.seats acs on ac.aircraft_code = acs.aircraft_code where ac.aircraft_code='SU9'\n",
    ") as B \n",
    "group by 1\n",
    "order by 2 desc limit 1\n",
    "\n"
   ]
  }
 ],
 "metadata": {
  "kernelspec": {
   "display_name": "Python 3",
   "language": "python",
   "name": "python3"
  },
  "language_info": {
   "codemirror_mode": {
    "name": "ipython",
    "version": 3
   },
   "file_extension": ".py",
   "mimetype": "text/x-python",
   "name": "python",
   "nbconvert_exporter": "python",
   "pygments_lexer": "ipython3",
   "version": "3.8.5"
  }
 },
 "nbformat": 4,
 "nbformat_minor": 4
}
