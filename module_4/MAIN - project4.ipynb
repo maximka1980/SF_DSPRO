{
 "cells": [
  {
   "cell_type": "markdown",
   "metadata": {},
   "source": [
    "### Задание 4.1 "
   ]
  },
  {
   "cell_type": "code",
   "execution_count": null,
   "metadata": {},
   "outputs": [],
   "source": [
    "select city, count(airport_name) Qty \n",
    "from dst_project.airports \n",
    "group by 1 \n",
    "having count(airport_name)>1 \n",
    "order by 2 desc "
   ]
  },
  {
   "cell_type": "markdown",
   "metadata": {},
   "source": [
    "### Задание 4.2 "
   ]
  },
  {
   "cell_type": "code",
   "execution_count": null,
   "metadata": {},
   "outputs": [],
   "source": [
    "#вопрос1 - 6\n",
    "select count(distinct status) from dst_project.flights\n",
    "\n",
    "#вопрос2 - 58\n",
    "select count(status) from dst_project.flights where status='Departed'\n",
    "\n",
    "#вопрос3 - 402\n",
    "select count(seat_no) from dst_project.seats where aircraft_code='773'\n",
    "\n",
    "#вопрос4 - 74227\n",
    "select count(*)\n",
    "from dst_project.flights\n",
    "where (actual_arrival between '2017-04-01' and '2017-09-01') and (status = 'Arrived')\n"
   ]
  },
  {
   "cell_type": "markdown",
   "metadata": {},
   "source": [
    "### Задание 4.3 "
   ]
  },
  {
   "cell_type": "code",
   "execution_count": null,
   "metadata": {},
   "outputs": [],
   "source": [
    "#вопрос1 - 437\n",
    "select count(*) from dst_project.flights where status='Cancelled'\n",
    "\n",
    "#вопрос2 - \n",
    "\n",
    "SELECT 'Airbus', count(*)\n",
    "FROM dst_project.aircrafts a\n",
    "WHERE a.model LIKE 'Airbus%'\n",
    "union all\n",
    "SELECT 'Boeing', count(*)\n",
    "FROM dst_project.aircrafts a\n",
    "WHERE a.model LIKE 'Boeing%'\n",
    "union all\n",
    "SELECT 'Sukhoi', count(*)\n",
    "FROM dst_project.aircrafts a\n",
    "WHERE a.model LIKE 'Sukhoi%'\n",
    "\n",
    "#вопрос3 - \n",
    "\n",
    "\n",
    "#вопрос4 - "
   ]
  }
 ],
 "metadata": {
  "kernelspec": {
   "display_name": "Python 3",
   "language": "python",
   "name": "python3"
  },
  "language_info": {
   "codemirror_mode": {
    "name": "ipython",
    "version": 3
   },
   "file_extension": ".py",
   "mimetype": "text/x-python",
   "name": "python",
   "nbconvert_exporter": "python",
   "pygments_lexer": "ipython3",
   "version": "3.8.5"
  }
 },
 "nbformat": 4,
 "nbformat_minor": 4
}
