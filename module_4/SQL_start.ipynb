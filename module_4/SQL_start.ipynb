{
 "cells": [
  {
   "cell_type": "markdown",
   "metadata": {},
   "source": [
    "### [John VIESCAS Michael HERNANDEZ  SQL Queries for mere mortals](01_John_VIESCAS_Michael_HERNANDEZ__SQL_Queries_for_mere_mortals.pdf)  \n",
    "pdf located in same dir as this notebok, will not work if your move pdf or this notebook"
   ]
  },
  {
   "cell_type": "markdown",
   "metadata": {},
   "source": [
    "#### [for SQLite syntax diagrams](https://sqlite.org/syntaxdiagrams.html)  \n",
    "#### [7 программ для построения блок-схем](https://levashove.ru/7-besplatnyh-programm-dlya-postroeniya-blok-shem-v-windows-10/)  \n",
    "#### [Dia Diagram Editor](http://dia-installer.de/index.html.en)  \n",
    "### [Algorithm Flowchart editor](https://viktor-zin.github.io/afce/)  \n",
    "\n"
   ]
  },
  {
   "cell_type": "markdown",
   "metadata": {},
   "source": [
    "### Table of Contents   = NOT DONE YET\n",
    "\n",
    "**[1. Markdown](#heading--1)**\n",
    "\n",
    "  * [1.1. Markdown formatting cheatsheet](#heading--1-1)\n",
    "  * [1.2. Markdown formatting details](#heading--1-2)\n",
    "\n",
    "**[2. BBCode formatting](#heading--2)**\n",
    "\n",
    "  * [2.1. Basic text formatting](#heading--2-1)\n",
    "\n",
    "      * [2.1.1. Not so basic text formatting](#heading--2-1-1)\n",
    "\n",
    "  * [2.2. Lists, Images, Code](#heading--2-2)\n",
    "  * [2.3. Special features](#heading--2-3)\n",
    "\n",
    "----"
   ]
  },
  {
   "cell_type": "raw",
   "metadata": {},
   "source": [
    "Логин: demo7@skillfactory.ru\n",
    "Пароль: _37m8r2MT2texd\n",
    "Если у вас возникают проблемы с доступом (например, не открывается Metabase из-за \n",
    "заблокированного порта 3000), смело пишите в Slack!\n",
    "Support  2 months ago:\n",
    "Логин: demo1@skillfactory.ru Пароль:NO-LLaQKuc?_G7\n",
    "Логин: demo2@skillfactory.ru Пароль: _WiDeiZpUOMf58\n",
    "Логин: demo3@skillfactory.ru Пароль: JiDvzwIEV5gbyH\n",
    "Логин: demo4@skillfactory.ru Пароль: no9ok4G9nBnqDH\n",
    "Логин: demo5@skillfactory.ru Пароль: cIwzNp68vFuTBo"
   ]
  },
  {
   "cell_type": "markdown",
   "metadata": {},
   "source": [
    "Вот ссылка на [Metabase](http://sql.skillfactory.ru:3000/)  \n",
    "\n",
    "Посмотреть [учетные данные](https://lms.skillfactory.ru/courses/course-v1:Skillfactory+DST-PRO+15APR2020/0afa28dd5f474b0f92c7d0102835b10b/)  "
   ]
  },
  {
   "cell_type": "markdown",
   "metadata": {},
   "source": [
    "[Приложение J. Демонстрационная база данных «Авиаперевозки»](https://postgrespro.ru/docs/postgrespro/10/demodb-bookings)"
   ]
  },
  {
   "cell_type": "markdown",
   "metadata": {},
   "source": [
    "**01_Энтони_МОЛИНАРО__SQL_Сборник_рецептов**  \n",
    "**02_Chris_FEHILY__SQL_Visual_QuickStart_Guide**  \n",
    "**02_NoC_Крис_ФИАЙЛИ__SQL_Быстрый_старт**  \n",
    "**02_NoC_Крис_ФИАЙЛИ__SQL_Быстрый_старт**  \n",
    "**15_Rudy_LIMEBACK__Simply_SQL**  \n",
    "**20_John_VIESCAS_Michael_HERNANDEZ__SQL_Queries_for_mere_mortals**  \n",
    "**30_Larry_ROCKOFF__The_Language_of_SQL**  \n",
    "\n",
    "not so usefull:  \n",
    "21_John_VIESCAS_SQL_61_Specific_Ways_to_Write_Better_SQL  \n",
    "40_Thomas_NIELD_Getting_Started_with_SQL  \n",
    "80_GROFF_WEINBERG_OPPELl_SQL_Complete_Reference  \n",
    "80_ГРОФФ_ВАЙНБЕРГ_ОППЕЛЬ_SQL_Полное_руководство  \n",
    "97_Peter_ROBSON_Stephane_FAROULT_The_Art_of_SQL (for dev)  \n",
    "98_Michael_HERNANDEZ_Database_Design_for_Mere_Mortals  \n",
    "99_Chris_DATE_SQL_and_Relational_Theory  \n",
    "99_Крис_ДЕЙТ_SQL_и_реляционная_теория  \n",
    "100_SQL_and_Relational_Theory_3rd_Edition  \n",
    "\n",
    "101_Alan_BEAULIEU_Learning_SQL_EN  \n",
    "101_NoC_Алан_БЬЮЛИ_Изучаем_SQL  \n",
    "102_Мартин_ГРУБЕР_SQL_для_простых_смертных  \n",
    "103_Мартин_ГРУБЕР_Понимание_SQL  \n",
    "104_NoC_Линн_БЕЙЛИ_Изучаем_SQL  \n",
    "105_NoC_Алекс_Кригель_Борис_Трухнов_SQL_Библия  \n",
    "106_Antony_De_BARROS_Practical_SQL  \n",
    "107_Paul_DuBOIS_MySQL_Cookbook  \n",
    "200_NoC_Robert_PEARL_Healthy_SQL\n",
    "201_Sylvia_VASILIK_SQL_Practice_Problems"
   ]
  },
  {
   "cell_type": "markdown",
   "metadata": {},
   "source": [
    "В качестве нашей учебной СУБД используется **PostgreSQL версии 11**  \n",
    "\n",
    "Как справочник вы можете использовать [англоязычную](https://www.postgresql.org/docs/11/index.html)   или [русскоязычную документацию](https://postgrespro.ru/docs/postgresql/11/index.html)  "
   ]
  },
  {
   "cell_type": "markdown",
   "metadata": {},
   "source": [
    "**Metabase** — это бесплатный и удобный инструмент для запросов к БД. Также он позволяет визуализировать отчёты и объединять их в дашборды (но это не будет темой нашего курса)."
   ]
  },
  {
   "cell_type": "markdown",
   "metadata": {},
   "source": [
    "In many RDBMS programs, a **view** is commonly implemented and referred to as a **saved query** or, more simply, a **query**  "
   ]
  },
  {
   "cell_type": "markdown",
   "metadata": {},
   "source": [
    "The SELECT operation in SQL can be broken down into three smaller operations, which we\n",
    "will refer to as the  \n",
    "+ SELECT statement  \n",
    "+ SELECT expression\n",
    "+ SELECT query.   \n",
    "Each of these operations provides its own set of keywords and clauses"
   ]
  },
  {
   "cell_type": "markdown",
   "metadata": {},
   "source": [
    "In other books about relational databases, you’ll sometimes see the word  \n",
    "+ **relation** used for **table**,  \n",
    "and you might encounter \n",
    "+ **tuple or record for row** \n",
    "+ and perhaps **attribute or field for column**  \n",
    "However, the SQL Standard specifically uses the terms table, row,\n",
    "and column to refer to these particular elements of a database structure"
   ]
  },
  {
   "cell_type": "markdown",
   "metadata": {},
   "source": [
    "When you create and execute a SELECT **statement**, you are querying the database\n",
    "In fact, many RDBMS programs allow you to save a SELECT statement as a\n",
    "query, view, function, or stored procedure. Whenever someone says she is going to query the\n",
    "database, you know that she’s going to execute some sort of SELECT statement\n",
    "Depending on\n",
    "the RDBMS program, SELECT statements can be executed directly from a command line\n",
    "window, from an interactive Query by Example (QBE) grid, or from within a block of\n",
    "programming code. Regardless of how you choose to define and execute it, the syntax of the\n",
    "SELECT statement is always the same."
   ]
  },
  {
   "cell_type": "markdown",
   "metadata": {},
   "source": [
    "**SELECT**—This is the primary clause of the SELECT statement and is absolutely\n",
    "required.  \n",
    "You use it to **specify the columns (fields)** you want in the result set of your query.  \n",
    "The columns themselves are drawn **from the table or view you specify in the FROM** clause.  \n",
    "You can also draw them from **several tables simultaneously**.  \n",
    "\n",
    "You can also use in this clause **aggregate functions**, such as Sum(HoursWorked),  \n",
    "or **mathematical expressions**, such as **\"Quantity * Price\"**"
   ]
  },
  {
   "cell_type": "markdown",
   "metadata": {},
   "source": [
    "**FROM** —This is the second most important clause in the SELECT statement and is also\n",
    "required.  \n",
    "You use the FROM clause to **specify the tables or views** from which to draw\n",
    "the columns you’ve listed in the SELECT clause.  \n",
    "You can use this clause in more complex ways, but we’ll discuss this in later chapters"
   ]
  },
  {
   "cell_type": "markdown",
   "metadata": {},
   "source": [
    "**WHERE** —This is an **optional** clause that you use to **filter the rows**  returned by the FROM clause.  \n",
    "The WHERE keyword is followed by an **expression, technically known\n",
    "as a predicate, that evaluates to true, false, or unknown**    \n",
    "\n"
   ]
  },
  {
   "cell_type": "markdown",
   "metadata": {},
   "source": [
    "**GROUP BY** —When you use aggregate functions in the SELECT clause to produce\n",
    "summary information, you use the GROUP BY clause to divide the information into\n",
    "distinct groups. Your database system uses **any column or list of columns** following the\n",
    "GROUP BY keywords as grouping columns"
   ]
  },
  {
   "cell_type": "markdown",
   "metadata": {},
   "source": [
    "**HAVING**—The HAVING clause **filters the result of aggregate functions in grouped information**"
   ]
  },
  {
   "cell_type": "markdown",
   "metadata": {},
   "source": [
    "##### select ALL columns = SELECT * FROM ..."
   ]
  },
  {
   "cell_type": "markdown",
   "metadata": {},
   "source": [
    "Eliminating **Duplicate Rows** = **DISTINCT**  same as unique()  \n",
    "You can use the DISTINCT keyword on multiple columns as well  \n",
    "SELECT DISTINCT City, State FROM Bowlers\n",
    "The DISTINCT keyword is a very useful tool under the right circumstances.  \n",
    "Use it only when you really want to see unique rows in your result set.\n",
    "\n"
   ]
  },
  {
   "cell_type": "markdown",
   "metadata": {},
   "source": [
    "The only way to **sort the result set** is to embed\n",
    "the SELECT statement within a SELECT query  \n",
    "\n",
    "We define a SELECT **query** as a SELECT **statement with an ORDER BY clause**\n",
    "\n",
    "you can actually embed a SELECT **statement** within another SELECT **statement or SELECT expression**  \n",
    "to answer very complex questions.  \n",
    "However, the SELECT **query cannot be embedded at any level**."
   ]
  },
  {
   "cell_type": "markdown",
   "metadata": {},
   "source": [
    "Earlier versions of the SQL Standard,\n",
    "however, defined the ORDER BY clause as part of a cursor (an object that you define\n",
    "inside an application program), as part of an array (a list of values that form a logical\n",
    "table such as a subquery, discussed in Chapter 11, “Subqueries”), or as part of a scalar\n",
    "subquery (a subquery that returns only one value). A complete discussion of cursors\n",
    "and arrays is beyond the scope of this book."
   ]
  },
  {
   "cell_type": "markdown",
   "metadata": {},
   "source": [
    "The latest 2011 standard uses the term <query specification> for what we call a\n",
    "SELECT statement and the term <query expression> for the construct that we have\n",
    "called SELECT query. In this one case, we’ll deviate (with your permission) from the\n",
    "names in the standard and use our terminology."
   ]
  },
  {
   "cell_type": "markdown",
   "metadata": {},
   "source": [
    "The only columns you can use in the **ORDER BY** clause are those\n",
    "that are currently listed in the SELECT clause. (Although this requirement is specified in the\n",
    "SQL Standard, some vendor implementations allow you to disregard it"
   ]
  },
  {
   "cell_type": "raw",
   "metadata": {},
   "source": [
    "SELECT EmpLastName, EmpFirstName, EmpPhoneNumber,\n",
    "EmployeeID\n",
    "FROM Employees\n",
    "ORDER BY EmpLastName DESC, EmpFirstName ASC"
   ]
  },
  {
   "cell_type": "markdown",
   "metadata": {},
   "source": [
    "#### To get more than simple columns, you need to create an expression"
   ]
  },
  {
   "cell_type": "raw",
   "metadata": {},
   "source": [
    "The SQL Standard defines seven general categories of types of data—character, national\n",
    "character, binary, numeric, Boolean, datetime, and interval"
   ]
  },
  {
   "cell_type": "markdown",
   "metadata": {},
   "source": [
    "#### The CAST function converts a literal value or the value of a column into a specific data type."
   ]
  },
  {
   "cell_type": "raw",
   "metadata": {},
   "source": [
    "character string literals you can define\n",
    "'This is a sample character string literal.'\n",
    "'Here\"s yet another!'\n",
    "'B-28'\n",
    "'Seattle'\n",
    "\n",
    "SQL\n",
    "'The Vendor\"s name is: '\n",
    "Displayed as\n",
    "The Vendor’s name is:\n",
    "\n",
    "SELECT VendWebPage, 'is the Web site for',\n",
    "VendName\n",
    "FROM Vendors"
   ]
  },
  {
   "cell_type": "raw",
   "metadata": {},
   "source": [
    "The format for a date literal is year-month-day\n",
    "'2007-05-16'\n",
    "'2016-11-22'\n",
    "'21:00'\n",
    "'03:30:25'\n",
    "'2008-09-29 14:25:00'\n",
    "\n",
    "in MySQL:\n",
    "CAST('2016-11-22' AS DATE)\n",
    "CAST('03:30:25' AS TIME)\n",
    "CAST('2008-09-29 14:25:00' AS DATETIME)\n",
    "\n",
    "'Mike' || 'Hernandez'\n",
    "= MikeHernandez\n",
    "\n",
    "CompanyName || ' is based in ' || City\n",
    "= DataTex Consulting Group is based in Seattle\n",
    "\n",
    "EntStageName || ' was signed with our agency on '\n",
    "|| CAST(DateEntered as CHARACTER(10))\n",
    "= Modern Dance was signed with our agency on 1995-05-16 \n",
    "\n",
    "Note ! We specified an explicit length for the CHARACTER data type because the SQL\n",
    "Standard specifies that the absence of a length specification defaults to a length of 1."
   ]
  },
  {
   "cell_type": "markdown",
   "metadata": {},
   "source": [
    "Of the major database systems, we found that only IBM’s DB2 and Informix and\n",
    "Oracle’s Oracle support the SQL Standard operator for concatenation. Microsoft\n",
    "Office Access supports **& and + as concatenation operators, Microsoft SQL Server and\n",
    "Ingres support +, and in MySQL you must use the CONCAT function. In all the\n",
    "examples in the book, we use the SQL Standard || operator**"
   ]
  },
  {
   "cell_type": "raw",
   "metadata": {},
   "source": [
    "TotalLength + CAST(Distance AS INTEGER)"
   ]
  },
  {
   "cell_type": "raw",
   "metadata": {},
   "source": [
    "DATE plus or minus INTERVAL yields DATE\n",
    "DATE minus DATE yields INTERVAL\n",
    "INTERVAL plus DATE yields DATE\n",
    "INTERVAL plus or minus INTERVAL yields INTERVAL\n",
    "INTERVAL times or divided by NUMBER yields INTERVAL\n",
    "ReviewDate + 90\n",
    "EstimateDate – DaysRequired\n",
    "'2012-07-22' – '2012-06-13'\n",
    "ShipDate – OrderDate\n",
    "'14:00' + '00:22'\n",
    "'19:00' – '16:30'\n",
    "StartTime + '00:19'\n",
    "StopTime – StartTime"
   ]
  },
  {
   "cell_type": "raw",
   "metadata": {},
   "source": [
    "For example, the result set for the following SELECT statement\n",
    "will contain three columns—two “real” columns and one calculated column:\n",
    "SELECT EmpFirstName || ' ' || EmpLastName AS MyNewEmpName,\n",
    "EmpPhoneNumber, EmpCity\n",
    "FROM Employees"
   ]
  },
  {
   "cell_type": "raw",
   "metadata": {},
   "source": [
    "SELECT StfLastName || ', ' || StfFirstName\n",
    "AS Staff, Salary, Salary * 0.07 AS Bonus\n",
    "FROM Staff"
   ]
  },
  {
   "cell_type": "markdown",
   "metadata": {},
   "source": [
    "**WHERE** - Filtering Your Data"
   ]
  },
  {
   "cell_type": "raw",
   "metadata": {},
   "source": [
    "SELECT CustLastName\n",
    "FROM Customers\n",
    "WHERE CustLastName = 'Smith'"
   ]
  },
  {
   "cell_type": "markdown",
   "metadata": {},
   "source": [
    "The SQL Standard defines 18 predicates, but we’ll cover the five basic ones in this chapter:\n",
    "Comparison, BETWEEN, IN, LIKE, and IS NULL."
   ]
  },
  {
   "cell_type": "markdown",
   "metadata": {},
   "source": [
    "**COMPARISON**  \n",
    "Use one of the six comparison operators to compare one value expression to another value expression. The six operators and their meanings are:  \n",
    "+  = equal to\n",
    "+ **\\<> not equal to**  \n",
    "+ \\< less than\n",
    "+ \\> greater than\n",
    "+ \\<= less than or equal to\n",
    "+ \\>= greater than or equal to"
   ]
  },
  {
   "cell_type": "markdown",
   "metadata": {},
   "source": [
    "**BETWEEN** (RANGE) You specify the range using two value expressions separated by the AND keyword"
   ]
  },
  {
   "cell_type": "markdown",
   "metadata": {},
   "source": [
    "**IN** (MEMBERSHIP)"
   ]
  },
  {
   "cell_type": "markdown",
   "metadata": {},
   "source": [
    "**LIKE** (PATTERN MATCH)"
   ]
  },
  {
   "cell_type": "markdown",
   "metadata": {},
   "source": [
    "**IS NULL**"
   ]
  },
  {
   "cell_type": "markdown",
   "metadata": {},
   "source": [
    "Don’t worry too much about the other 11 predicates defined in the current SQL Standard  \n",
    "(Similar, Regex, Unique, Normalized, Match, Overlaps, Distinct, Member, Submultiset, Set, and Type)  \n",
    "We could not find **any commercial implementation of 11 of them**.  \n",
    "We’ll cover the other two — **Quantified and EXISTS** — in Chapter 11, “Subqueries.”  "
   ]
  },
  {
   "cell_type": "raw",
   "metadata": {},
   "source": [
    "SELECT CustFirstName, CustLastName\n",
    "FROM Customers\n",
    "WHERE CustState = 'WA'"
   ]
  },
  {
   "cell_type": "raw",
   "metadata": {},
   "source": [
    "SELECT AgtFirstName, AgtLastName\n",
    "FROM Agents\n",
    "WHERE DateHired = '1977-03-14'"
   ]
  },
  {
   "cell_type": "markdown",
   "metadata": {},
   "source": [
    "There’s one “gotcha” about using **BETWEEN . . . AND**. \n",
    "The SQL Standard actually defines **two types of BETWEEN comparisons: ASYMMETRIC and SYMMETRIC. The default, ASYMMETRIC** but there are no such keyword"
   ]
  },
  {
   "cell_type": "markdown",
   "metadata": {},
   "source": [
    "#### MyColumn BETWEEN 10 AND 5  ==  MyColumn >=10 AND MyColumn <= 5  which can never be true!"
   ]
  },
  {
   "cell_type": "markdown",
   "metadata": {},
   "source": [
    "#### BETWEEN operator includes the start and end points in the range."
   ]
  },
  {
   "cell_type": "raw",
   "metadata": {},
   "source": [
    "SELECT FirstName, LastName\n",
    "FROM Staff\n",
    "WHERE DateHired\n",
    "    BETWEEN '1986-07-01' AND '1986-07-31'"
   ]
  },
  {
   "cell_type": "raw",
   "metadata": {},
   "source": [
    "last name begins with the letter ‘B’  =>  WHERE StudLastName BETWEEN 'B' AND 'Bz'"
   ]
  },
  {
   "cell_type": "raw",
   "metadata": {},
   "source": [
    "WHERE '2012-10-10' BETWEEN StartDate AND EndDate"
   ]
  },
  {
   "cell_type": "markdown",
   "metadata": {},
   "source": [
    "**IN** - Set Membership"
   ]
  },
  {
   "cell_type": "raw",
   "metadata": {},
   "source": [
    "SELECT EntStageName\n",
    "FROM Entertainers\n",
    "WHERE EntCity\n",
    "    IN ('Seattle', 'Redmond', 'Bothell')"
   ]
  },
  {
   "cell_type": "markdown",
   "metadata": {},
   "source": [
    "**LIKE** - Pattern Match"
   ]
  },
  {
   "cell_type": "raw",
   "metadata": {},
   "source": [
    "подстановка % это *, _ это один символ , case sensitive !\n",
    "WHERE CustLastName LIKE 'Mar%'\n",
    "contains the word ‘Forest’ =>  LIKE '%Forest%'"
   ]
  },
  {
   "cell_type": "raw",
   "metadata": {},
   "source": [
    "product codes beginning with ‘G_00’ and ending in a single number or letter such as G_002 and G_00X\n",
    "WHERE ProductCode LIKE 'G\\_00_' ESCAPE '\\'"
   ]
  },
  {
   "cell_type": "markdown",
   "metadata": {},
   "source": [
    "#### IS NULL"
   ]
  },
  {
   "cell_type": "raw",
   "metadata": {},
   "source": [
    "Null does not represent a zero or a zero-length character string\n",
    "Null does represent a missing or unknown value"
   ]
  },
  {
   "cell_type": "markdown",
   "metadata": {},
   "source": [
    "Washington, D.C. (Washington, by the way, is the only city in the entire United States that isn’t\n",
    "situated within a county.)"
   ]
  },
  {
   "cell_type": "raw",
   "metadata": {},
   "source": [
    "WHERE ContractPrice IS NULL , искать <ValueExpression> = Null НЕЛЬЗЯ !!!"
   ]
  },
  {
   "cell_type": "markdown",
   "metadata": {},
   "source": [
    "also **NOT BETWEEN, NOT IN, NOT LIKE, NOT IS NULL**"
   ]
  },
  {
   "cell_type": "raw",
   "metadata": {},
   "source": [
    "WHERE OrderDate NOT BETWEEN '2012-10-01' \n",
    "    AND '2012-10-31'"
   ]
  },
  {
   "cell_type": "raw",
   "metadata": {},
   "source": [
    "WHERE Title\n",
    "NOT IN ('Professor', 'Associate Professor')"
   ]
  },
  {
   "cell_type": "markdown",
   "metadata": {},
   "source": [
    "#### Using Multiple Conditions"
   ]
  },
  {
   "cell_type": "raw",
   "metadata": {},
   "source": [
    "WHERE CustCity = 'Seattle'\n",
    "    AND CustLastName LIKE 'H%'"
   ]
  },
  {
   "cell_type": "raw",
   "metadata": {},
   "source": [
    "WHERE StfCity = 'Seattle' OR StfState = 'Da'"
   ]
  },
  {
   "cell_type": "raw",
   "metadata": {},
   "source": [
    "WHERE (StfAreaCode = '425'\n",
    "    AND StfPhoneNumber LIKE '555%')\n",
    "OR DateHired\n",
    "    BETWEEN '2007-10-01' AND '2007-12-31'"
   ]
  },
  {
   "cell_type": "raw",
   "metadata": {},
   "source": [
    "WHERE (Title = 'Professor' OR Title =\n",
    "    'Associate Professor') AND DateHired =\n",
    "    '1989-05-16'"
   ]
  },
  {
   "cell_type": "markdown",
   "metadata": {},
   "source": [
    "WHERE CustomerID = 1001\n",
    "    OR ShipDate = OrderDate + 4"
   ]
  },
  {
   "cell_type": "markdown",
   "metadata": {},
   "source": [
    "#### system should evaluate AND before OR, but better to use ()"
   ]
  },
  {
   "cell_type": "raw",
   "metadata": {},
   "source": [
    "WHERE (CustLastName = 'Patterson' AND CustState = 'CA')\n",
    "    OR CustZipCode LIKE '%9'"
   ]
  },
  {
   "cell_type": "raw",
   "metadata": {},
   "source": [
    "WHERE CustLastName = 'Patterson' AND (CustState = 'CA'\n",
    "    OR CustZipCode LIKE '%9')"
   ]
  },
  {
   "cell_type": "markdown",
   "metadata": {},
   "source": [
    "Checking for Overlapping Ranges"
   ]
  },
  {
   "cell_type": "raw",
   "metadata": {},
   "source": [
    "WHERE StartDate BETWEEN '2012-11-12' AND '2012-11-18'   # BAD (4 ranges)\n",
    "    AND EndDate BETWEEN '2012-11-12' AND '2012-11-18'"
   ]
  },
  {
   "cell_type": "raw",
   "metadata": {},
   "source": [
    "WHERE (StartDate BETWEEN '2012-11-12' AND '2012-11-18'\n",
    "AND EndDate BETWEEN '2012-11-12' AND '2012-11-18')\n",
    "OR (StartDate <= '2012-11-12')\n",
    "AND EndDate BETWEEN '2012-11-12' AND '2012-11-18')\n",
    "OR (StartDate BETWEEN '2007-11-12' AND '2012-11-18'\n",
    "AND EndDate >= '2012-11-18')\n",
    "OR (StartDate <= '2012-11-12'\n",
    "AND EndDate >= '2012-11-18')"
   ]
  },
  {
   "cell_type": "raw",
   "metadata": {},
   "source": [
    "WHERE StartDate <= '2012-11-18'\n",
    "AND EndDate >= '2012-11-12'"
   ]
  },
  {
   "cell_type": "raw",
   "metadata": {},
   "source": [
    "A = B. If either A or B for a given row is the Null value, then the result of the\n",
    "comparison is unknown."
   ]
  },
  {
   "cell_type": "raw",
   "metadata": {},
   "source": [
    "ОПАСНОСТЬ  OR  ! \n",
    "WHERE Title = 'Graduate Counselor'  # если тут пусто, то вторая часть выдаст перечень\n",
    "OR DateHired = '2007-09-01'\n",
    "= >  test any columns you’re using as criteria with the Null condition\n",
    "WHERE Title IS NULL"
   ]
  },
  {
   "cell_type": "markdown",
   "metadata": {},
   "source": [
    "### Variants"
   ]
  },
  {
   "cell_type": "raw",
   "metadata": {},
   "source": [
    "DateHired BETWEEN '2007-10-01' AND '2007-10-31'\n",
    "DateHired >= '2007-10-01' AND DateHired <= '2007-10-31'\n",
    "\n",
    "VendState IN ('CA', 'OR', 'WA')\n",
    "VendState = 'CA' OR VendState = 'OR' OR VendState = 'WA'\n",
    "\n",
    "CustLastName >= 'H' AND CustLastName <= 'HZ'\n",
    "CustLastName BETWEEN 'H' AND 'HZ'\n",
    "CustLastName LIKE 'H%'\n",
    "\n",
    "StudCity <> 'Seattle' AND StudCity <> 'Redmond'\n",
    "StudCity NOT IN ('Seattle', 'Redmond')\n",
    "NOT (StudCity = 'Seattle' OR StudCity = 'Redmond')"
   ]
  },
  {
   "cell_type": "raw",
   "metadata": {},
   "source": [
    "SELECT IngredientName FROM Ingredients\n",
    "    WHERE (IngredientClassID = 2)\n",
    "    AND (IngredientName NOT LIKE '%chicken%')"
   ]
  },
  {
   "cell_type": "markdown",
   "metadata": {},
   "source": [
    "### The only way to sort the result set is to embed the SELECT statement within a SELECT query"
   ]
  },
  {
   "cell_type": "markdown",
   "metadata": {},
   "source": [
    "### Working with Multiple Tables  - with IN - JOIN  потом"
   ]
  },
  {
   "cell_type": "raw",
   "metadata": {},
   "source": [
    "The sad news is that not many commercial implementations of SQL yet support the\n",
    "INTERSECT operator"
   ]
  },
  {
   "cell_type": "markdown",
   "metadata": {},
   "source": [
    "#### Finding Common Values: INTERSECT"
   ]
  },
  {
   "cell_type": "raw",
   "metadata": {},
   "source": [
    "SELECT DISTINCT OrderNumber  # Primary Key in tabl 1\n",
    "FROM Order_Details      \n",
    "WHERE ProductNumber IN (1, 2, 6, 11)\n",
    "INTERSECT\n",
    "SELECT DISTINCT OrderNumber  # Primary Key in tabl 2 should be equal !\n",
    "FROM Order_Details\n",
    "WHERE ProductNumber IN (10, 25, 26)"
   ]
  },
  {
   "cell_type": "markdown",
   "metadata": {},
   "source": [
    "#### Finding Missing Values: EXCEPT (DIFFERENCE)"
   ]
  },
  {
   "cell_type": "raw",
   "metadata": {},
   "source": [
    "BAD :\n",
    "WHERE ProductNumber IN (..byke)\n",
    "AND ProductNumber NOT IN (... helmet)\n",
    "\n",
    "SELECT DISTINCT OrderNumber\n",
    "FROM Order_Details\n",
    "WHERE ProductNumber IN (.. byke)\n",
    "EXCEPT\n",
    "SELECT DISTINCT OrderNumber\n",
    "FROM Order_Details\n",
    "WHERE ProductNumber IN (.... helmet)\n",
    "\n",
    "The sad news is that not many commercial implementations of SQL yet \n",
    "support the EXCEPT operator"
   ]
  },
  {
   "cell_type": "markdown",
   "metadata": {},
   "source": [
    "#### Combining Sets: UNION  for ONE table"
   ]
  },
  {
   "cell_type": "raw",
   "metadata": {},
   "source": [
    "SELECT DISTINCT OrderNumber   # data belong to ONE table !\n",
    "FROM Order_Details\n",
    "WHERE ProductNumber IN (...belongs to bikes)\n",
    "UNION\n",
    "SELECT DISTINCT OrderNumber\n",
    "FROM Order_Details\n",
    "WHERE ProductNumber IN (... belongs to helmets)"
   ]
  },
  {
   "cell_type": "raw",
   "metadata": {},
   "source": [
    "The good news is that nearly all commercial implementations of SQL \n",
    "support the UNION operator."
   ]
  },
  {
   "cell_type": "markdown",
   "metadata": {},
   "source": [
    "#### INNER JOINs  - default"
   ]
  },
  {
   "cell_type": "raw",
   "metadata": {},
   "source": [
    "JOIN можно делать только по “JOIN eligible” data types \n",
    "char to char, num to num, date to date\n",
    "\n",
    "+ The linking columns must have the same data meaning for the JOIN to make sense."
   ]
  },
  {
   "cell_type": "markdown",
   "metadata": {},
   "source": [
    "you provide a **column reference** that **includes the table name** = table_name.ТОЧКАcolumn_name"
   ]
  },
  {
   "cell_type": "markdown",
   "metadata": {},
   "source": [
    "![Figure 8_2 The syntax diagram of a query using an INNER JOIN on two tables](Figure_8_2_INNER_JOIN.png)"
   ]
  },
  {
   "cell_type": "raw",
   "metadata": {},
   "source": [
    "SELECT Employees.FirstName, Employees.LastName,\n",
    "    Employees.PhoneNumber\n",
    "FROM Employees"
   ]
  },
  {
   "cell_type": "markdown",
   "metadata": {},
   "source": [
    "To solve the JOIN, your database\n",
    "system logically combines every row in the first table with every row in the second table.  \n",
    "(This combination of all rows from one table with all rows from a second table  \n",
    "is called a **Cartesian product**.  "
   ]
  },
  {
   "cell_type": "raw",
   "metadata": {},
   "source": [
    "SELECT RecipeTitle, Preparation,\n",
    "    RecipeClassDescription\n",
    "FROM Recipe_Classes\n",
    "INNER JOIN Recipes\n",
    "ON Recipe_Classes.RecipeClassID =\n",
    "    Recipes.RecipeClassID\n",
    "    \n",
    "or with full col names\n",
    "SELECT Recipes.RecipeTitle,\n",
    "Recipes.Preparation,\n",
    "Recipe_Classes.RecipeClassDescription\n",
    "FROM Recipe_Classes\n",
    "INNER JOIN Recipes\n",
    "ON Recipe_Classes.RecipeClassID = Recipes.RecipeClassID"
   ]
  },
  {
   "cell_type": "raw",
   "metadata": {},
   "source": [
    "In databases that do not    => USE WHERE\n",
    "support JOIN, you solve our example problem like this:\n",
    "SELECT Recipes.RecipeTitle, Recipes.Preparation,\n",
    "    Recipe_Classes.RecipeClassDescription\n",
    "FROM Recipe_Classes, Recipes\n",
    "WHERE Recipe_Classes.RecipeClassID = Recipes.RecipeClassID\n",
    "\n",
    "In the SQL Standard, you use the WHERE clause only to filter rows out \n",
    "of the result set defined by the FROM clause."
   ]
  },
  {
   "cell_type": "raw",
   "metadata": {},
   "source": [
    "Show me the recipe title, preparation, and recipe class description \n",
    "of all recipes in my database\n",
    "\n",
    "SELECT Recipes.RecipeTitle, Recipes.Preparation,\n",
    "    Recipe_Classes.RecipeClassDescription\n",
    "FROM Recipe_Classes\n",
    "INNER JOIN Recipes\n",
    "USING (RecipeClassID)"
   ]
  },
  {
   "cell_type": "raw",
   "metadata": {},
   "source": [
    "Some database systems do not yet support USING. If you find that you can’t use USING with\n",
    "your database, you can always get the same result with an ON clause and an equals\n",
    "comparison\n",
    "If you specify NATURAL JOIN, an INNER join is assumed."
   ]
  },
  {
   "cell_type": "markdown",
   "metadata": {},
   "source": [
    "#### Assigning Correlation (Alias) Names to Tables"
   ]
  },
  {
   "cell_type": "raw",
   "metadata": {},
   "source": [
    "SELECT R.RecipeTitle, R.Preparation,\n",
    "RC.RecipeClassDescription\n",
    "FROM Recipe_Classes AS RC\n",
    "INNER JOIN Recipes AS R\n",
    "ON RC.RecipeClassID = R.RecipeClassID\n",
    "\n",
    "SELECT R.RecipeTitle, R.Preparation,\n",
    "RC.RecipeClassDescription\n",
    "FROM Recipe_Classes AS RC\n",
    "INNER JOIN Recipes AS R\n",
    "ON RC.RecipeClassID = R.RecipeClassID\n",
    "WHERE RC.RecipeClassDescription = 'Main course'\n",
    "OR RC.RecipeClassDescription = 'Dessert'"
   ]
  },
  {
   "cell_type": "raw",
   "metadata": {},
   "source": [
    "In some cases, you must assign a correlation name to a table in a complex JOIN\n",
    "если в запросе надо вызвать таблицу дважды (таб + как копию)"
   ]
  },
  {
   "cell_type": "markdown",
   "metadata": {},
   "source": [
    "#### embedding a SELECT statement inside a FROM clause  \n",
    "Some database systems do not support"
   ]
  },
  {
   "cell_type": "raw",
   "metadata": {},
   "source": [
    "втавлять результат seleсt в from\n",
    "SELECT R.RecipeTitle, R.Preparation,\n",
    "RCFiltered.ClassName\n",
    "FROM (SELECT RecipeClassID,\n",
    "RecipeClassDescription AS ClassName\n",
    "FROM Recipe_Classes AS RC\n",
    "WHERE RC.ClassName = 'Main course' OR\n",
    "RC.ClassName = 'Dessert') AS RCFiltered\n",
    "INNER JOIN Recipes AS R\n",
    "ON RCFiltered.RecipeClassID = R.RecipeClassID\n"
   ]
  },
  {
   "cell_type": "markdown",
   "metadata": {},
   "source": [
    "#### be sure  to include not only the columns you want to appear in the final result  \n",
    "#### but also any linking columns needed to perform the JOIN"
   ]
  },
  {
   "cell_type": "markdown",
   "metadata": {},
   "source": [
    "#### Embedding JOINs within JOINs\n",
    "you’ll often need to link three, four, or more tables to get all the data you require"
   ]
  },
  {
   "cell_type": "raw",
   "metadata": {},
   "source": [
    "SELECT Recipe_Classes.RecipeClassDescription,\n",
    "    Recipes.RecipeTitle, Recipes.Preparation,\n",
    "    Ingredients.IngredientName,\n",
    "    Recipe_Ingredients.RecipeSeqNo,\n",
    "    Recipe_Ingredients.Amount,\n",
    "    Measurements.MeasurementDescription\n",
    "FROM (((Recipe_Classes\n",
    "INNER JOIN Recipes\n",
    "ON Recipe_Classes.RecipeClassID =\n",
    "    Recipes.RecipeClassID)\n",
    "INNER JOIN Recipe_Ingredients\n",
    "ON Recipes.RecipeID =\n",
    "    Recipe_Ingredients.RecipeID)\n",
    "INNER JOIN Ingredients\n",
    "ON Ingredients.IngredientID =\n",
    "    Recipe_Ingredients.IngredientID)\n",
    "INNER JOIN Measurements\n",
    "ON Measurements.MeasureAmountID =\n",
    "    Recipe_Ingredients.MeasureAmountID\n",
    "ORDER BY RecipeTitle, RecipeSeqNo"
   ]
  },
  {
   "cell_type": "raw",
   "metadata": {},
   "source": [
    "SELECT Recipe_Classes.RecipeClassDescription,\n",
    "    Recipes.RecipeTitle, Recipes.Preparation,\n",
    "    Ingredients.IngredientName,\n",
    "    Recipe_Ingredients.RecipeSeqNo,\n",
    "    Recipe_Ingredients.Amount,\n",
    "    Measurements.MeasurementDescription\n",
    "FROM Recipe_Classes\n",
    "INNER JOIN (((Recipes\n",
    "INNER JOIN Recipe_Ingredients\n",
    "ON Recipes.RecipeID =\n",
    "    Recipe_Ingredients.RecipeID)\n",
    "INNER JOIN Ingredients\n",
    "ON Ingredients.IngredientID =\n",
    "    Recipe_Ingredients.IngredientID)\n",
    "INNER JOIN Measurements\n",
    "ON Measurements.MeasureAmountID =\n",
    "    Recipe_Ingredients.MeasureAmountID)\n",
    "ON Recipe_Classes.RecipeClassID =\n",
    "    Recipes.RecipeClassID\n",
    "ORDER BY RecipeTitle, RecipeSeqNo"
   ]
  },
  {
   "cell_type": "raw",
   "metadata": {},
   "source": [
    "knowing the relationships between your tables is of utmost importance."
   ]
  },
  {
   "cell_type": "raw",
   "metadata": {},
   "source": [
    "SELECT Categories.CategoryDescription,\n",
    "    Products.ProductName\n",
    "FROM Categories\n",
    "INNER JOIN Products\n",
    "    ON Categories.CategoryID = Products.CategoryID"
   ]
  },
  {
   "cell_type": "raw",
   "metadata": {},
   "source": [
    "“List the subjects taught on Wednesday.” Wednesday = is TRUE\n",
    "\n",
    "SELECT DISTINCT Subjects.SubjectName\n",
    "FROM Subjects\n",
    "INNER JOIN Classes\n",
    "    ON Subjects.SubjectID\n",
    "    = Classes.SubjectID\n",
    "WHERE Classes.WednesdaySchedule = -1\n",
    "\n",
    "A false value is always the number zero (0). True can be 1.\n",
    "but we chose to use a more universal “integer with all bits on” value: –1"
   ]
  },
  {
   "cell_type": "raw",
   "metadata": {},
   "source": [
    "“Find all the customers who ever ordered a bicycle helmet = 3 tables\n",
    "\n",
    "SELECT DISTINCT Customers.CustFirstName,\n",
    "    Customers.CustLastName\n",
    "FROM ((Customers\n",
    "INNER JOIN Orders\n",
    "    ON Customers.CustomerID = Orders.CustomerID)\n",
    "INNER JOIN Order_Details\n",
    "    ON Orders.OrderNumber =\n",
    "        Order_Details.OrderNumber)\n",
    "INNER JOIN Products\n",
    "    ON Products.ProductNumber =\n",
    "        Order_Details.ProductNumber\n",
    "WHERE Products.ProductName LIKE '%Helmet%'\n",
    "Because a customer might have ordered a helmet more than once, we included the\n",
    "DISTINCT keyword to eliminate duplicate rows"
   ]
  },
  {
   "cell_type": "markdown",
   "metadata": {},
   "source": [
    "#### Looking for Matching Values"
   ]
  },
  {
   "cell_type": "raw",
   "metadata": {},
   "source": [
    "“Find all the customers who ordered a bicycle, then find all the customers who ordered a\n",
    "helmet, and finally list the common customers so that we know who ordered both a\n",
    "bicycle and a helmet.”"
   ]
  },
  {
   "cell_type": "raw",
   "metadata": {},
   "source": [
    "SELECT CustBikes.CustFirstName,\n",
    "    CustBikes.CustLastName\n",
    "FROM\n",
    "    (SELECT DISTINCT Customers.CustomerID,\n",
    "        Customers.CustFirstName,\n",
    "        Customers.CustLastName\n",
    "    FROM ((Customers\n",
    "    INNER JOIN Orders\n",
    "    ON Customers.CustomerID\n",
    "       = Orders.CustomerID)\n",
    "    INNER JOIN Order_Details\n",
    "    ON Orders.OrderNumber =\n",
    "        Order_Details.OrderNumber)\n",
    "    INNER JOIN Products\n",
    "    ON Products.ProductNumber =\n",
    "        Order_Details.ProductNumber\n",
    "    WHERE Products.ProductName LIKE '%Bike')\n",
    "  AS CustBikes\n",
    "INNER JOIN\n",
    "    (SELECT DISTINCT Customers.CustomerID\n",
    "    FROM ((Customers\n",
    "    INNER JOIN Orders\n",
    "    ON Customers.CustomerID = Orders.CustomerID)\n",
    "    INNER JOIN Order_Details\n",
    "    ON Orders.OrderNumber =\n",
    "        Order_Details.OrderNumber)\n",
    "    INNER JOIN Products\n",
    "    ON Products.ProductNumber =\n",
    "        Order_Details.ProductNumber\n",
    "    WHERE Products.ProductName LIKE '%Helmet')\n",
    "       AS CustHelmets\n",
    "ON CustBikes.CustomerID =\n",
    "    CustHelmets.CustomerID"
   ]
  },
  {
   "cell_type": "raw",
   "metadata": {},
   "source": [
    "We simplified the second embedded SELECT statement to fetch only the CustomerID\n",
    "because that’s the only column we need for the INNER JOIN of the two sets to work.\n",
    "We could have actually eliminated the JOIN to the Customers table and fetched the\n",
    "CustomerID from the Orders table. Remember that you can think of a SELECT\n",
    "Statement embedded in a FROM clause as a “logical table,” and we assigned a unique\n",
    "name to each statement so that we could write the final ON clause.\n",
    "You could also solve this problem as the INTERSECT of the two sets, but you would\n",
    "need to include all the output columns in both of the result sets that you intersect.\n",
    "Quite frankly, this might not be the best way to solve this problem. We’ll show you\n",
    "how to solve this problem more efficiently in Chapter 11, “Subqueries,” when we\n",
    "teach you how to use subqueries."
   ]
  },
  {
   "cell_type": "raw",
   "metadata": {},
   "source": [
    "“List the entertainers who played engagements for both customers Berg and Hallmark.”"
   ]
  },
  {
   "cell_type": "raw",
   "metadata": {},
   "source": [
    "“Find all the entertainers who played an engagement for Berg, then find all the\n",
    "entertainers who played an engagement for Hallmark, and finally list the common\n",
    "entertainers so that we know who played an engagement for both.”"
   ]
  },
  {
   "cell_type": "raw",
   "metadata": {},
   "source": [
    "FROM\n",
    "    (SELECT DISTINCT Entertainers.EntertainerID,\n",
    "        Entertainers.EntStageName\n",
    "    FROM (Entertainers\n",
    "    INNER JOIN Engagements\n",
    "    ON Entertainers.EntertainerID =\n",
    "        Engagements.EntertainerID)\n",
    "    INNER JOIN Customers\n",
    "    ON Customers.CustomerID =\n",
    "            Engagements.CustomerID\n",
    "    WHERE Customers.CustLastName = 'Berg')\n",
    " AS EntBerg\n",
    "INNER JOIN\n",
    "    (SELECT DISTINCT Entertainers.EntertainerID,\n",
    "        Entertainers.EntStageName\n",
    "    FROM (Entertainers\n",
    "    INNER JOIN Engagements\n",
    "    ON Entertainers.EntertainerID =\n",
    "        Engagements.EntertainerID)\n",
    "    INNER JOIN Customers\n",
    "    ON Customers.CustomerID =\n",
    "        Engagements.CustomerID\n",
    "    WHERE Customers.CustLastName = 'Hallmark')\n",
    "  AS EntHallmark\n",
    "ON EntBerg.EntertainerID ="
   ]
  },
  {
   "cell_type": "raw",
   "metadata": {},
   "source": [
    "This is another example of a request that can also be solved with INTERSECT. It can\n",
    "also be solved more efficiently with subqueries, which you’ll learn about in Chapter\n",
    "11."
   ]
  },
  {
   "cell_type": "markdown",
   "metadata": {},
   "source": [
    "#### 9. OUTER JOINs  page 289"
   ]
  },
  {
   "cell_type": "raw",
   "metadata": {},
   "source": [
    "An OUTER JOIN asks your database system to return not only the rows that match on the criteria you specify but aso the unmatched rows from either one or both of the two sets you want to link"
   ]
  },
  {
   "cell_type": "markdown",
   "metadata": {},
   "source": [
    "all the action happens in the FROM clause \n",
    "If you\n",
    "do not specify the type of JOIN you want, your database system assumes you want an INNER\n",
    "JOIN. In this case, because you want an OUTER JOIN, you must explicitly state that you want\n",
    "either a LEFT JOIN or a RIGHT JOIN. The OUTER keyword is optional."
   ]
  },
  {
   "cell_type": "markdown",
   "metadata": {},
   "source": [
    "#### The critical part of any JOIN is the ON or USING clause that follows the second table and tells your database system how to perform the JOIN"
   ]
  },
  {
   "cell_type": "markdown",
   "metadata": {},
   "source": [
    "To solve the JOIN, your database system logically combines **every row in the first table with every row in the second table**.  \n",
    "(This combination of all rows from one table with all rows from a second table is called a **Cartesian product**.)"
   ]
  },
  {
   "cell_type": "markdown",
   "metadata": {},
   "source": [
    "It then **applies the criteria in the ON or USING clause to find the matching rows** to be returned.  \n",
    "Because you asked for an OUTER JOIN, your database system **also returns the\n",
    "unmatched rows from either the “left” or “right” table**  "
   ]
  },
  {
   "cell_type": "markdown",
   "metadata": {},
   "source": [
    "![Figure_8_2.png](Figure_8_2.png)"
   ]
  },
  {
   "cell_type": "markdown",
   "metadata": {},
   "source": [
    "### what to use  = ON  or = USING keyword  \n",
    "### Some database systems do not yet support USING"
   ]
  },
  {
   "cell_type": "raw",
   "metadata": {},
   "source": [
    "SELECT Recipes.RecipeTitle,\n",
    "Recipes.Preparation,\n",
    "Recipe_Classes.RecipeClassDescription\n",
    "FROM Recipe_Classes\n",
    "INNER JOIN Recipes\n",
    "ON Recipe_Classes.RecipeClassID =\n",
    "Recipes.RecipeClassID"
   ]
  },
  {
   "cell_type": "raw",
   "metadata": {},
   "source": [
    "SELECT Recipes.RecipeTitle, Recipes.Preparation,\n",
    "Recipe_Classes.RecipeClassDescription\n",
    "FROM Recipe_Classes\n",
    "INNER JOIN Recipes\n",
    "USING (RecipeClassID)"
   ]
  },
  {
   "cell_type": "raw",
   "metadata": {},
   "source": [
    "SELECT DISTINCT c.city_name\n",
    "FROM shipping.city AS c\n",
    "    JOIN shipping.shipment AS s\n",
    "        USING (city_id)\n",
    "WHERE s.weight < 10000\n",
    "ORDER BY c.city_name ASC"
   ]
  },
  {
   "cell_type": "markdown",
   "metadata": {},
   "source": [
    "### Embedding a SELECT Statement   p302"
   ]
  },
  {
   "cell_type": "markdown",
   "metadata": {},
   "source": [
    "#### most SQL implementations let you substitute an entire SELECT\n",
    "#### statement for any table name **in your FROM clause**  \n",
    "#### Of course, you must then assign a **correlation name**"
   ]
  },
  {
   "cell_type": "markdown",
   "metadata": {},
   "source": [
    "SELECT statement can include all query clauses except an ORDER BY clause  \n",
    "\n",
    "Also, you can mix and match SELECT statements with table names on either side of the\n",
    "OUTER JOIN keywords."
   ]
  },
  {
   "cell_type": "raw",
   "metadata": {},
   "source": [
    "Let’s look at the Recipes and Recipe_Classes tables again. For this example, let’s also assume\n",
    "that you are interested only in classes Salads, Soups, and Main courses. Here’s the query with\n",
    "the Recipe_Classes table filtered in a SELECT statement that participates in a LEFT OUTER\n",
    "JOIN with the Recipes table:"
   ]
  },
  {
   "cell_type": "raw",
   "metadata": {},
   "source": [
    "SELECT RCFiltered.ClassName, R.RecipeTitle\n",
    "FROM\n",
    "    (SELECT RecipeClassID,\n",
    "        RecipeClassDescription AS ClassName\n",
    "     FROM Recipe_Classes AS RC\n",
    "    WHERE RC.ClassName = 'Salads'\n",
    "        OR RC.ClassName = 'Soup'\n",
    "        OR RC.ClassName = 'Main Course')\n",
    "    AS RCFiltered\n",
    "LEFT OUTER JOIN Recipes AS R\n",
    "ON RCFiltered.RecipeClassID = R.RecipeClassID   "
   ]
  },
  {
   "cell_type": "markdown",
   "metadata": {},
   "source": [
    "You must be careful when using a SELECT statement in a FROM clause. First, when you\n",
    "decide to substitute a SELECT statement for a table name, you must be sure **to include not only\n",
    "the columns you want to appear in the final result but also any linking columns you need to\n",
    "perform the JOIN.**"
   ]
  },
  {
   "cell_type": "raw",
   "metadata": {},
   "source": [
    "Just for fun, we gave RecipeClassDescription an alias name of\n",
    "ClassName in the embedded statement. As a result, the SELECT clause asks for ClassName\n",
    "rather than RecipeClassDescription. Note that the ON clause now references the correlation\n",
    "name (RCFiltered) of the embedded SELECT statement rather than the original name of the\n",
    "table or the correlation name we assigned the table inside the embedded SELECT statement."
   ]
  },
  {
   "cell_type": "raw",
   "metadata": {},
   "source": [
    "You must be careful when using a SELECT statement in a FROM clause. First, when you\n",
    "decide to substitute a SELECT statement for a table name, you must be sure to include not only\n",
    "the columns you want to appear in the final result but also any linking columns you need to\n",
    "perform the JOIN. That’s why you see both RecipeClassID and RecipeClassDescription in the\n",
    "embedded statement. Just for fun, we gave RecipeClassDescription an alias name of\n",
    "ClassName in the embedded statement. As a result, the SELECT clause asks for ClassName\n",
    "rather than RecipeClassDescription. Note that the ON clause now references the correlation\n",
    "name (RCFiltered) of the embedded SELECT statement rather than the original name of the\n",
    "table or the correlation name we assigned the table inside the embedded SELECT statement.\n",
    "As the query is stated for the actual Recipes sample database, you see one row with\n",
    "RecipeClassDescription of Soup with a Null value returned for Recipe-Title because there are\n",
    "no soup recipes in the sample database. We could just as easily have built a SELECT statement\n",
    "on the Recipes table on the right side of the OUTER JOIN. For example, we could have asked\n",
    "for recipes that contain the word “beef” in their titles, as in the following statement:\n",
    "SQL\n",
    "SELECT RCFiltered.ClassName, R.RecipeTitle\n",
    "FROM\n",
    "(SELECT RecipeClassID,\n",
    "RecipeClassDescription AS ClassName\n",
    "FROM Recipe_Classes AS RC\n",
    "WHERE RC.ClassName = 'Salads'\n",
    "OR RC.ClassName = 'Soup'\n",
    "OR RC.ClassName = 'Main Course')\n",
    "AS RCFiltered\n",
    "LEFT OUTER JOIN\n",
    "(SELECT Recipes.RecipeClassID, Recipes.Recipe\n",
    "Title\n",
    "FROM Recipes\n",
    "WHERE Recipes.RecipeTitle LIKE '%beef%')\n",
    "AS R\n",
    "ON RCFiltered.RecipeClassID = R.RecipeClassID\n",
    "Keep in mind that the LEFT OUTER JOIN asks for all rows from the result set or table on the\n",
    "left side of the JOIN, regardless of whether any matching rows exist on the right side. The\n",
    "previous query not only returns a Soup row with a Null RecipeTitle (because there are no soups\n",
    "in the database at all) but also a Salad row with a Null. You might conclude that there are no\n",
    "salad recipes in the database. Actually, there are salads in the database but no salads with\n",
    "“beef” in the title of the recipe!"
   ]
  },
  {
   "cell_type": "markdown",
   "metadata": {},
   "source": [
    "**you can enter a full search condition as part of the ON\n",
    "clause in a JOIN. This is absolutely true, so it is perfectly legal in the SQL Standard to\n",
    "solve the example problem as follows**"
   ]
  },
  {
   "cell_type": "raw",
   "metadata": {},
   "source": [
    "SELECT Recipe_Classes.RecipeClassDescription,\n",
    "Recipes.RecipeTitle\n",
    "FROM Recipe_Classes\n",
    "LEFT OUTER JOIN Recipes\n",
    "ON Recipe_Classes.RecipeClassID =\n",
    "Recipes.RecipeClassID\n",
    "AND\n",
    "(Recipe_Classes.RecipeClassDescription = 'Salads'\n",
    "OR Recipe_Classes.RecipeClassDescription = 'Soup'\n",
    "OR Recipe_Classes.RecipeClassDescription =\n",
    "'Main Course')\n",
    "AND Recipes.RecipeTitle LIKE '%beef%'"
   ]
  },
  {
   "cell_type": "markdown",
   "metadata": {},
   "source": [
    "### search condition as part of the ON clause in a JOIN\n",
    "Unfortunately, we have discovered that some major implementations of SQL solve\n",
    "this problem incorrectly or do not accept this syntax at all! Therefore, we recommend\n",
    "that you always enter in the search condition in the ON clause only criteria that\n",
    "compare columns from the two tables or result sets. If you want to filter the rows from\n",
    "the underlying tables, do so with a separate search condition in a WHERE clause in an\n",
    "embedded SELECT statement."
   ]
  },
  {
   "cell_type": "raw",
   "metadata": {},
   "source": [
    "Looks like you need data from five different tables! Just as in Chapter 8, you can do this by\n",
    "constructing a more complex FROM clause, embedding JOIN clauses within JOIN clauses"
   ]
  },
  {
   "cell_type": "markdown",
   "metadata": {},
   "source": [
    "** завключить JOIN в скобки\n",
    "Here’s the trick: Everywhere you can specify a table name, you can also specify an entire JOIN\n",
    "clause surrounded with parentheses. Figure 9–8 shows a simplified version of joining two\n",
    "tables.**"
   ]
  },
  {
   "cell_type": "markdown",
   "metadata": {},
   "source": [
    "![Figure_9_8_simple_JOIN_of_2_tables.png](Figure_9_8_simple_JOIN_of_2_tables.png)"
   ]
  },
  {
   "cell_type": "markdown",
   "metadata": {},
   "source": [
    "To add a third table to the mix, just place an open parenthesis before the first table name, add a\n",
    "close parenthesis after the search condition, and then insert another JOIN, a table name, the ON\n",
    "keyword, and another search condition. Figure 9–9 (on page 312) shows how to do this."
   ]
  },
  {
   "cell_type": "markdown",
   "metadata": {},
   "source": [
    "![Figure_9_9_simple_JOIN_of_3_tables.png](Figure_9_9_simple_JOIN_of_3_tables.png)"
   ]
  },
  {
   "cell_type": "markdown",
   "metadata": {},
   "source": [
    "If you think about it, the JOIN of two tables inside the parentheses forms a logical table, or\n",
    "inner result set.  \n",
    "**we implied that you must first join the first table with the second table and then join that\n",
    "result with the third table**"
   ]
  },
  {
   "cell_type": "markdown",
   "metadata": {},
   "source": [
    "SELECT Recipe_Classes.RecipeClassDescription,\n",
    "Recipes.RecipeTitle, Recipes.Preparation,\n",
    "Ingredients.IngredientName,\n",
    "Recipe_Ingredients.RecipeSeqNo,\n",
    "Recipe_Ingredients.Amount,\n",
    "Measurements.MeasurementDescription\n",
    "FROM Recipe_Classes\n",
    "LEFT OUTER JOIN (((Recipes\n",
    "INNER JOIN Recipe_Ingredients\n",
    "ON Recipe.RecipeID =\n",
    "Recipe_Ingredients.RecipeID)\n",
    "INNER JOIN Ingredients\n",
    "Ingredients.IngredientID =\n",
    "Recipe_Ingredients.IngredientID)\n",
    "INNER JOIN Measurements\n",
    "ON Measurements.MeasureAmountID =\n",
    "Recipe_Ingredients.MeasureAmountID)\n",
    "Recipe_Classes.RecipeClassID =\n",
    "Recipe.RecipeClassID\n",
    "ORDER BY RecipeTitle, RecipeSeqNo"
   ]
  },
  {
   "cell_type": "markdown",
   "metadata": {},
   "source": [
    "Note that we added parentheses to help ensure that the database performs the INNER JOINs\n",
    "first and then LEFT JOINs the result with the Recip_Classes table"
   ]
  },
  {
   "cell_type": "markdown",
   "metadata": {},
   "source": [
    "Remember that the optimizers in some database systems are sensitive to the sequence of the\n",
    "JOIN definitions. If your query with many JOINs is taking a long time to execute on a large\n",
    "database, it might run faster if you change the sequence of JOINs in your SQL statement"
   ]
  },
  {
   "cell_type": "markdown",
   "metadata": {},
   "source": [
    "You might have noticed that we used only one OUTER JOIN in the previous multiple-JOIN\n",
    "examples. You’re probably wondering whether it’s possible or even makes sense to use more\n",
    "than one OUTER JOIN in a complex JOIN. Let’s assume that there are not only some recipe\n",
    "classes that don’t have matching recipe rows but also some recipes that don’t have any\n",
    "ingredients defined yet. In the previous example, you won’t see any rows from the Recipes\n",
    "table that do not have any matching rows in the Recipe_Ingredients table because the INNER\n",
    "JOIN eliminates them. Let’s ask for all recipes as well"
   ]
  },
  {
   "cell_type": "raw",
   "metadata": {},
   "source": [
    "“I need all the recipe types, and then all the recipe names and preparation instructions,\n",
    "and then any matching ingredient names, ingredient step numbers, ingredient\n",
    "quantities, and ingredient measurements from my recipes database, sorted in recipe title\n",
    "and step number sequence.”"
   ]
  },
  {
   "cell_type": "raw",
   "metadata": {},
   "source": [
    "SELECT Recipe_Classes.RecipeClassDescription,\n",
    "Recipes.RecipeTitle, Recipes.Preparation,\n",
    "Ingredients.IngredientName,\n",
    "Recipe_Ingredients.RecipeSeqNo,\n",
    "Recipe_Ingredients.Amount,\n",
    "Measurements.MeasurementDescription\n",
    "FROM (((Recipe_Classes\n",
    "LEFT OUTER JOIN Recipes\n",
    "ON Recipe_Classes.RecipeClassID =\n",
    "Recipes.RecipeClassID)\n",
    "LEFT OUTER JOIN Recipe_Ingredients\n",
    "ON Recipes.RecipeID =\n",
    "Recipe_Ingredients.RecipeID)\n",
    "INNER JOIN Ingredients\n",
    "ON Ingredients.IngredientID =\n",
    "Recipe_Ingredients.IngredientID)\n",
    "INNER JOIN Measurements\n",
    "ON Measurements.MeasureAmountID =\n",
    "Recipe_Ingredients.MeasureAmountID\n",
    "ORDER BY RecipeTitle, RecipeSeqNo"
   ]
  },
  {
   "cell_type": "markdown",
   "metadata": {},
   "source": [
    "**Be careful! This sort of multiple OUTER JOIN works as expected only if you’re following a\n",
    "path of one-to-many relationships**"
   ]
  },
  {
   "cell_type": "raw",
   "metadata": {},
   "source": [
    "page 311  for details --  long text to put here"
   ]
  },
  {
   "cell_type": "markdown",
   "metadata": {},
   "source": [
    "Null matching problem. Some\n",
    "database systems might recognize this logic problem and refuse to solve your query at all—\n",
    "you’ll see something like an “ambiguous OUTER JOINs” error message"
   ]
  },
  {
   "cell_type": "markdown",
   "metadata": {},
   "source": [
    "What’s the **solution to this problem?**  Read on to the next section to find out!\n",
    "**The FULL OUTER JOIN**"
   ]
  },
  {
   "cell_type": "raw",
   "metadata": {},
   "source": [
    "A FULL OUTER JOIN is neither “left” nor “right”—it’s both! It includes all the rows from\n",
    "both of the tables or result sets participating in the JOIN. When no matching rows exist for\n",
    "rows on the “left” side of the JOIN, you see Null values from the result set on the “right.”\n",
    "Conversely, when no matching rows exist for rows on the “right” side of the JOIN, you see\n",
    "Null values from the result set on the “left.”"
   ]
  },
  {
   "cell_type": "markdown",
   "metadata": {},
   "source": [
    "![Figure_9_13_FULL_OUTER_JOIN.png](Figure_9_13_FULL_OUTER_JOIN.png)"
   ]
  },
  {
   "cell_type": "markdown",
   "metadata": {},
   "source": [
    "Let’s take another look at the problem we introduced at the end of the previous section.  \n",
    "\n",
    "**We can now solve it properly using a FULL OUTER JOIN.**"
   ]
  },
  {
   "cell_type": "raw",
   "metadata": {},
   "source": [
    "-- следи  за СКОБКАМИ !\n",
    "\n",
    "SELECT Recipe_Classes.RecipeClassDescription,\n",
    "Recipes.RecipeTitle, Recipes.Preparation,\n",
    "Ingredients.IngredientName,\n",
    "Recipe_Ingredients.RecipeSeqNo,\n",
    "Recipe_Ingredients.Amount,\n",
    "Measurements.MeasurementDescription\n",
    "FROM\n",
    "    (\n",
    "        (\n",
    "            (Recipe_Classes\n",
    "            FULL OUTER JOIN Recipes\n",
    "            ON Recipe_Classes.RecipeClassID =\n",
    "            Recipes.RecipeClassID)\n",
    "        LEFT OUTER JOIN Recipe_Ingredients\n",
    "        ON Recipes.RecipeID =\n",
    "        Recipe_Ingredients.RecipeID\n",
    "        )\n",
    "    INNER JOIN Measurements\n",
    "    ON Measurements.MeasureAmountID =\n",
    "    Recipe_Ingredients.MeasureAmountID\n",
    "    )\n",
    "    \n",
    "FULL OUTER JOIN Ingredients\n",
    "ON Ingredients.IngredientID =\n",
    "Recipe_Ingredients.IngredientID\n",
    "ORDER BY RecipeTitle, RecipeSeqNo"
   ]
  },
  {
   "cell_type": "markdown",
   "metadata": {},
   "source": [
    "**The first and last JOINs now ask for all rows from both sides of the JOIN, \n",
    "\n",
    "so the problem with Nulls not matching is solved**"
   ]
  },
  {
   "cell_type": "raw",
   "metadata": {},
   "source": [
    "You should now see not only recipe classes for which there are\n",
    "no recipes and recipes for which there are no ingredients but also ingredients that haven’t been\n",
    "used in a recipe yet. You might get away with using a LEFT OUTER JOIN for the first JOIN,\n",
    "but because you can’t predict in advance how your database system decides to nest the JOINs,\n",
    "you should ask for a FULL OUTER JOIN on both ends to ensure the right answer."
   ]
  },
  {
   "cell_type": "raw",
   "metadata": {},
   "source": [
    "As you might expect, database systems that do not support the SQL Standard syntax\n",
    "for LEFT OUTER JOIN or RIGHT OUTER JOIN also have a special syntax for\n",
    "FULL OUTER JOIN. You must consult your database documentation to learn the\n",
    "specific nonstandard syntax that your database requires to define the OUTER JOIN.\n",
    "For example, earlier versions of Microsoft SQL Server support the following syntax.\n",
    "(Notice the asterisks in the WHERE clause.)"
   ]
  },
  {
   "cell_type": "raw",
   "metadata": {},
   "source": [
    "SELECT Recipe_Classes.RecipeClassDescription,\n",
    "Recipes.RecipeTitle\n",
    "FROM Recipe_Classes, Recipes\n",
    "WHERE Recipe_Classes.RecipeClassID *=*\n",
    "Recipes.RecipeClassID\n",
    "\n",
    "Products that do not support any FULL OUTER JOIN syntax but do support LEFT or\n",
    "RIGHT OUTER JOINs yield an equivalent result by performing a UNION on a LEFT\n",
    "and RIGHT OUTER JOIN. We’ll discuss UNION in more detail in the next chapter.\n",
    "Because the specific syntax for defining a FULL OUTER JOIN using the WHERE\n",
    "clause varies by product, you might have to learn several different syntaxes if you\n",
    "work with multiple nonstandard products."
   ]
  },
  {
   "cell_type": "markdown",
   "metadata": {},
   "source": [
    "**FULL OUTER JOIN on Non-Key Values**  page 315"
   ]
  },
  {
   "cell_type": "raw",
   "metadata": {},
   "source": [
    "Suppose you’re interested in\n",
    "listing all staff members and all students and showing the ones who have the same first name as\n",
    "well.\n",
    "SELECT (Students.StudFirstName || ' ' ||\n",
    "Students.StudLastName) AS StudFullName,\n",
    "(Staff.StfFirstName || ' ' ||\n",
    "Staff.StfLastName) AS StfFullName\n",
    "FROM Students\n",
    "FULL OUTER JOIN Staff\n",
    "ON Students.StudFirstName =\n",
    "Staff.StfFirstName"
   ]
  },
  {
   "cell_type": "markdown",
   "metadata": {},
   "source": [
    "### UNION JOIN"
   ]
  },
  {
   "cell_type": "markdown",
   "metadata": {},
   "source": [
    "In the SQL Standard, a  \n",
    "**UNION JOIN is a FULL OUTER JOIN with the matching rows removed**"
   ]
  },
  {
   "cell_type": "markdown",
   "metadata": {},
   "source": [
    "![Figure_9_14_UNION_JOIN.png](Figure_9_14_UNION_JOIN.png)"
   ]
  },
  {
   "cell_type": "markdown",
   "metadata": {},
   "source": [
    "As you might expect, not many commercial implementations support a UNION JOIN. Quite\n",
    "frankly, we’re hard pressed to think of a good reason why you would want to do a UNION\n",
    "JOIN."
   ]
  },
  {
   "cell_type": "raw",
   "metadata": {},
   "source": [
    "Uses for OUTER JOINs\n",
    "Because an OUTER JOIN lets you see not only the matched rows but also the unmatched ones,\n",
    "it’s great for finding out which, if any, rows in one table do not have a matching related row in\n",
    "another table. It also helps you find rows that have matches on a few rows but not on all. In\n",
    "addition, it’s useful for creating input to a report where you want to show all categories\n",
    "(regardless of whether matching rows exist in other tables) or all customers (regardless of\n",
    "whether a customer has placed an order)"
   ]
  },
  {
   "cell_type": "markdown",
   "metadata": {},
   "source": [
    "Find Missing Values\n",
    "Sometimes you just want to find what’s missing. You do so by using an OUTER JOIN with a\n",
    "test for Null"
   ]
  },
  {
   "cell_type": "markdown",
   "metadata": {},
   "source": [
    "“What products have never been ordered?”\n",
    "SELECT Products.ProductNumber,\n",
    "Products.ProductName\n",
    "FROM Products LEFT OUTER JOIN Order_Details\n",
    "ON Products.ProductNumber =\n",
    "Order_Details.ProductNumber\n",
    "WHERE Order_Details.OrderNumber IS NULL"
   ]
  },
  {
   "cell_type": "markdown",
   "metadata": {},
   "source": [
    "“Display all customers and any orders for bicycles.”\n",
    "Because we’re looking for specific orders (bicycles), we split the translation process\n",
    "into two steps to show that the orders need to be filtered before applying an OUTER\n",
    "JOIN\n",
    "SELECT Customers.CustFirstName || ' ' ||\n",
    "Customers.CustLastName AS CustFullName,\n",
    "RD.OrderDate, RD.ProductName,\n",
    "RD.QuantityOrdered, RD.QuotedPrice\n",
    "FROM Customers\n",
    "LEFT OUTER JOIN\n",
    "(SELECT Orders.CustomerID, Orders.OrderDate,\n",
    "Products.ProductName,\n",
    "Order_Details.QuantityOrdered,\n",
    "Order_Details.QuotedPrice\n",
    "FROM ((Orders\n",
    "INNER JOIN Order_Details\n",
    "ON Orders.OrderNumber =\n",
    "Order_Details.OrderNumber)\n",
    "INNER JOIN Products\n",
    "ON Order_Details.ProductNumber =\n",
    "Products.ProductNumber)\n",
    "INNER JOIN Categories\n",
    "ON Categories.CategoryID =\n",
    "Products.CategoryID\n",
    "WHERE Categories.CategoryDescription =\n",
    "'Bikes')\n",
    "AS RD\n",
    "ON Customers.CustomerID = RD.CustomerID\n",
    "This request is really tricky because you want to list all customers OUTER JOINed\n",
    "with only the orders for bikes. If you turn Translation 1 directly into SQL, you won’t\n",
    "find any of the customers who have not ordered a bike! An OUTER JOIN from\n",
    "Customers to Orders will return all customers and any orders. When you add the filter\n",
    "to select only bike orders, that’s all you will get—customers who ordered bikes.\n",
    "Translation 2 shows you how to do it correctly—create an inner result set that returns\n",
    "only orders for bikes, and then OUTER JOIN that with Customers to get the final\n",
    "answer"
   ]
  },
  {
   "cell_type": "markdown",
   "metadata": {},
   "source": [
    "“List entertainers who have never been booked.”\n",
    "SELECT Entertainers.EntertainerID,\n",
    "Entertainers.EntStageName\n",
    "FROM Entertainers\n",
    "LEFT OUTER JOIN Engagements\n",
    "ON Entertainers.EntertainerID =\n",
    "Engagements.EntertainerID\n",
    "WHERE Engagements.EngagementNumber IS NULL"
   ]
  },
  {
   "cell_type": "markdown",
   "metadata": {},
   "source": [
    "“Show me all musical styles and the customers who prefer those styles.”\n",
    "SELECT Musical_Styles.StyleID,\n",
    "Musical_Styles.StyleName,\n",
    "Customers.CustomerID,\n",
    "Customers.CustFirstName,\n",
    "Customers.CustLastName\n",
    "FROM Musical_Styles\n",
    "LEFT OUTER JOIN (Musical_Preferences\n",
    "INNER JOIN Customers\n",
    "ON Musical_Preferences.CustomerID =\n",
    "Customers.CustomerID)\n",
    "ON Musical_Styles.StyleID =\n",
    "Musical_Preferences.StyleID\n",
    "We very carefully phrased the FROM clause to influence the database system to first\n",
    "perform the INNER JOIN between Musical_Preferences and Customers, and then\n",
    "OUTER JOINed that with Musical_Styles. If your database tends to process JOINs\n",
    "from left to right, you might have to state the FROM clause with the INNER JOIN\n",
    "first followed by a RIGHT OUTER JOIN to Musical_Styles. In Microsoft Office\n",
    "Access, we had to state the INNER JOIN as an embedded SELECT statement to get it\n",
    "to return the correct answer"
   ]
  },
  {
   "cell_type": "markdown",
   "metadata": {},
   "source": [
    "“Display students who have never withdrawn from a class.”\n",
    "SELECT Students.StudLastName || ', ' ||\n",
    "Students.StudFirstName AS StudFullName\n",
    "FROM Students\n",
    "LEFT OUTER JOIN\n",
    "(SELECT Student_Schedules.StudentID\n",
    "FROM Student_Class_Status\n",
    "INNER JOIN Student_Schedules\n",
    "ON Student_Class_Status.ClassStatus =\n",
    "Student_Schedules.ClassStatus\n",
    "WHERE Student_Class_Status.ClassStatus\n",
    "Description = 'withdrew')\n",
    "AS Withdrew\n",
    "ON Students.StudentID = Withdrew.StudentID\n",
    "WHERE Withdrew.StudentID IS NULL\n",
    "This is another example where you must apply the filter on “withdrew” in an\n",
    "embedded SELECT statement. If you use that filter in the WHERE clause of the main\n",
    "query, you will get no results. Remember that when you need to apply a filter to the\n",
    "“right” side of a “left” join (or vice-versa), you must do it in an embedded SELECT\n",
    "statement."
   ]
  },
  {
   "cell_type": "raw",
   "metadata": {},
   "source": [
    "“Show me all subject categories and any classes for all subjects.”\n",
    "SELECT Categories.CategoryDescription,\n",
    "Subjects.SubjectName, Classes.ClassroomID,\n",
    "Classes.StartDate, Classes.StartTime,\n",
    "Classes.Duration\n",
    "FROM (Categories\n",
    "LEFT OUTER JOIN Subjects\n",
    "ON Categories.CategoryID = Subjects.CategoryID)\n",
    "LEFT OUTER JOIN Classes\n",
    "ON Subjects.SubjectID = Classes.SubjectID\n",
    "We were very careful again to construct the sequence and nesting of JOINs to be sure\n",
    "we got the answer we expected."
   ]
  },
  {
   "cell_type": "raw",
   "metadata": {},
   "source": [
    "more on page 326"
   ]
  },
  {
   "cell_type": "markdown",
   "metadata": {},
   "source": [
    "#### 10. UNIONs   \n",
    "A UNION lets you select the rows from two or more similar result sets and combine them into\n",
    "a single result set. Notice that we said **“rows,” not “columns.”**  \n",
    "\n",
    "Notice that we get only one column in the result set\n",
    "The name of the column is inherited from\n",
    "the column in the first table we chose to include in the SELECT expression"
   ]
  },
  {
   "cell_type": "markdown",
   "metadata": {},
   "source": [
    "![Figure_10_2_basic_UNION.png](Figure_10_2_basic_UNION.png)"
   ]
  },
  {
   "cell_type": "markdown",
   "metadata": {},
   "source": [
    "**ALL - is to keep all DUPLICATES**"
   ]
  },
  {
   "cell_type": "markdown",
   "metadata": {},
   "source": [
    "To perform a UNION, the two result sets must meet certain requirements. First, each of the two\n",
    "SELECT statements that you’re linking with a UNION must have the same number of output\n",
    "columns specified after the SELECT keyword so that the result set will have the same number\n",
    "of columns. Secondly, each corresponding column must be what the SQL Standard calls\n",
    "“comparable"
   ]
  },
  {
   "cell_type": "markdown",
   "metadata": {},
   "source": [
    "![Figure_10_4_UNION_to_combine_two_SELECT.png](Figure_10_4_UNION_to_combine_two_SELECT.png)"
   ]
  },
  {
   "cell_type": "raw",
   "metadata": {},
   "source": [
    "Unlike when you ask for a JOIN, all the action happens in the UNION operator that you specify\n",
    "to combine the two SELECT statements. As mentioned earlier, if you leave out the optional\n",
    "ALL keyword, your database system eliminates any duplicate rows it finds"
   ]
  },
  {
   "cell_type": "raw",
   "metadata": {},
   "source": [
    "read more page 341"
   ]
  },
  {
   "cell_type": "raw",
   "metadata": {},
   "source": []
  },
  {
   "cell_type": "raw",
   "metadata": {},
   "source": []
  },
  {
   "cell_type": "raw",
   "metadata": {},
   "source": []
  },
  {
   "cell_type": "raw",
   "metadata": {},
   "source": []
  },
  {
   "cell_type": "raw",
   "metadata": {},
   "source": [
    "<  пропущено >  UNION    .....  11. Subqueries  ....p 360"
   ]
  },
  {
   "cell_type": "markdown",
   "metadata": {},
   "source": [
    "### Part IV: Summarizing and Grouping Data  \n",
    "#### 12. Simple Totals p397"
   ]
  },
  {
   "cell_type": "raw",
   "metadata": {},
   "source": [
    "SELECT LastName, COUNT(*) As CountOfStudents  # returns a single value\n",
    "FROM Students"
   ]
  },
  {
   "cell_type": "raw",
   "metadata": {},
   "source": [
    "SELECT 'The number of students is: ', COUNT(*)\n",
    "    As CountOfStudents\n",
    "FROM Students"
   ]
  },
  {
   "cell_type": "markdown",
   "metadata": {},
   "source": [
    "The SQL Standard defines two versions of the COUNT function. COUNT(*) processes rows in\n",
    "a result set,  \n",
    "and COUNT (value expression) processes values returned by a value expression"
   ]
  },
  {
   "cell_type": "raw",
   "metadata": {},
   "source": [
    "You can indicate which rows COUNT(*) should include by using a WHERE clause"
   ]
  },
  {
   "cell_type": "raw",
   "metadata": {},
   "source": [
    "SELECT COUNT(*)\n",
    "FROM Employees\n",
    "WHERE EmpState = 'WA'"
   ]
  },
  {
   "cell_type": "raw",
   "metadata": {},
   "source": [
    "to provide a meaningful column name for the result set\n",
    "SELECT COUNT(*) AS TotalWashingtonEmployees\n",
    "FROM Employees\n",
    "WHERE EmpState = 'WA'"
   ]
  },
  {
   "cell_type": "markdown",
   "metadata": {},
   "source": [
    "### COUNT(*) includes Null values as well"
   ]
  },
  {
   "cell_type": "markdown",
   "metadata": {},
   "source": [
    "#### automatically excludes any Null values from the final count"
   ]
  },
  {
   "cell_type": "raw",
   "metadata": {},
   "source": [
    "SELECT COUNT(CustCounty)\n",
    "AS NumberOfKnownCounties\n",
    "FROM Customers"
   ]
  },
  {
   "cell_type": "markdown",
   "metadata": {},
   "source": [
    "#### you can use the function’s DISTINCT option to exclude duplicate values from the count"
   ]
  },
  {
   "cell_type": "raw",
   "metadata": {},
   "source": [
    "SELECT COUNT(DISTINCT CustCounty)\n",
    "AS NumberOfUniqueCounties\n",
    "FROM Customers"
   ]
  },
  {
   "cell_type": "raw",
   "metadata": {},
   "source": [
    "SELECT COUNT(DISTINCT CustCounty)\n",
    "AS NumberOfUniqueOregonCounties\n",
    "FROM Customers\n",
    "WHERE CustState = 'DA'"
   ]
  },
  {
   "cell_type": "markdown",
   "metadata": {},
   "source": [
    "if the value expression in all the rows is **Null or  \n",
    "if the result of evaluating the FROM and WHERE clauses is an empty set, then SUM returns a Null**"
   ]
  },
  {
   "cell_type": "raw",
   "metadata": {},
   "source": [
    "SELECT SUM(Salary) AS TotalSalaryAmount\n",
    "FROM Employees\n",
    "WHERE EmpState = 'CA'"
   ]
  },
  {
   "cell_type": "raw",
   "metadata": {},
   "source": [
    "SELECT SUM(WholesalePrice * QuantityOnHand)\n",
    "      AS TotalInventoryValue\n",
    "FROM Products"
   ]
  },
  {
   "cell_type": "raw",
   "metadata": {},
   "source": [
    "SELECT SUM(DISTINCT WholesaleCost)\n",
    "AS SumoOf__Unique___WholesaleCosts\n",
    "FROM Products"
   ]
  },
  {
   "cell_type": "markdown",
   "metadata": {},
   "source": [
    "#### Calculating a Mean Value with == AVG"
   ]
  },
  {
   "cell_type": "raw",
   "metadata": {},
   "source": [
    "SELECT AVG(ContractPrice)\n",
    "    AS AverageContractPrice\n",
    "FROM Vendor_Contracts\n",
    "WHERE VendorID = 10014"
   ]
  },
  {
   "cell_type": "raw",
   "metadata": {},
   "source": [
    "SELECT AVG(Price * QuantityOrdered)  # if any Null present - will not work\n",
    "    AS AverageItemTotal\n",
    "FROM Order_Details\n",
    "WHERE OrderID = 64"
   ]
  },
  {
   "cell_type": "raw",
   "metadata": {},
   "source": [
    "SELECT AVG(DISTINCT Price)\n",
    "    AS UniqueProductPrices\n",
    "FROM Products"
   ]
  },
  {
   "cell_type": "raw",
   "metadata": {},
   "source": [
    "SELECT MAX(ContractPrice)\n",
    "    AS LargestContractPrice\n",
    "FROM Engagements"
   ]
  },
  {
   "cell_type": "markdown",
   "metadata": {},
   "source": [
    "Although the SQL Standard specifies DISTINCT as an option for the MAX\n",
    "function, DISTINCT has no effect on the MAX function whatsoever. There can be only one\n",
    "maximum value, regardless of whether or not it is distinct  \n",
    "we recommend that you use the MAX function without the DISTINCT option"
   ]
  },
  {
   "cell_type": "raw",
   "metadata": {},
   "source": [
    "SELECT MIN(Price * QuantityOrdered)\n",
    "    AS LowestItemTotal\n",
    "FROM Order_Details\n",
    "WHERE OrderID = 3314\n",
    "# DISTINCT option has no effect whatsoever on the MIN"
   ]
  },
  {
   "cell_type": "raw",
   "metadata": {},
   "source": [
    "SELECT MIN(ReviewDate) AS EarliestReviewDate,\n",
    "    MAX(ReviewDate) AS RecentReviewDate\n",
    "FROM Employees\n",
    "WHERE Department = 'Advertising'"
   ]
  },
  {
   "cell_type": "raw",
   "metadata": {},
   "source": [
    "SELECT COUNT(DISTINCT ProductID) AS\n",
    "TotalProductsPurchased,\n",
    "    SUM(Price * QuantityOrdered) AS OrderAmount\n",
    "FROM Order_Details\n",
    "WHERE OrderNumber = 553"
   ]
  },
  {
   "cell_type": "markdown",
   "metadata": {},
   "source": [
    "You must keep in mind a couple of **restrictions** when you work with two or more aggregate\n",
    "functions. The first is that you cannot embed one aggregate function within another. This\n",
    "restriction makes the following **expression illegal:\n",
    "SUM(AVG(LineItemTotal)**"
   ]
  },
  {
   "cell_type": "markdown",
   "metadata": {},
   "source": [
    "The second is that you **cannot use a subquery** as the value expression of an aggregate function.  \n",
    "For example, the following **expression is illegal** under this restriction:  \n",
    "AVG((SELECT Price FROM Products WHERE Category = 'Bikes'))"
   ]
  },
  {
   "cell_type": "markdown",
   "metadata": {},
   "source": [
    "#### Using Aggregate Functions in Filters"
   ]
  },
  {
   "cell_type": "raw",
   "metadata": {},
   "source": [
    "SELECT EngagementNumber\n",
    "FROM Engagements\n",
    "WHERE ContractPrice >= 1266.22\n",
    "\n",
    "subquery instead to get number:\n",
    "\n",
    "SELECT EngagementNumber\n",
    "FROM Engagements\n",
    "WHERE ContractPrice >=\n",
    "    (SELECT AVG(ContractPrice)\n",
    "    FROM Engagements)"
   ]
  },
  {
   "cell_type": "raw",
   "metadata": {},
   "source": [
    "If you use a literal value, you must be certain that you always recalculate the average\n",
    "contract price before executing the SELECT statement, just in case you’ve modified any\n",
    "existing contract prices"
   ]
  },
  {
   "cell_type": "markdown",
   "metadata": {},
   "source": [
    "**You can limit the rows that an aggregate function evaluates  \n",
    "by using a WHERE clause in the subquery**  \n",
    "This allows you to narrow the scope of the statistical value returned by the aggregate\n",
    "function."
   ]
  },
  {
   "cell_type": "markdown",
   "metadata": {},
   "source": [
    "### <<<< USE IT >>>"
   ]
  },
  {
   "cell_type": "raw",
   "metadata": {},
   "source": [
    "SELECT EngagementNumber, ContractPrice\n",
    "FROM Engagements\n",
    "WHERE ContractPrice >\n",
    "    (SELECT SUM(ContractPrice) FROM Engagements\n",
    "        WHERE StartDate BETWEEN '2012-09-01'\n",
    "        AND '2012-09-30')"
   ]
  },
  {
   "cell_type": "markdown",
   "metadata": {},
   "source": [
    "**“List the product names and numbers  \n",
    "that have a quoted price greater than or equal to  \n",
    "the overall average retail price in the products table.”**"
   ]
  },
  {
   "cell_type": "raw",
   "metadata": {},
   "source": [
    "SELECT DISTINCT Products.ProductName,\n",
    "    Products.ProductNumber\n",
    "FROM Products\n",
    "INNER JOIN Order_Details\n",
    "ON Products.ProductNumber =\n",
    "    Order_Details.ProductNumber\n",
    "WHERE Order_Details.QuotedPrice >=\n",
    "    (SELECT AVG(RetailPrice)\n",
    "    FROM Products)"
   ]
  },
  {
   "cell_type": "raw",
   "metadata": {},
   "source": [
    "“List the engagement number and contract price of contracts that occur on the earliest date\""
   ]
  },
  {
   "cell_type": "raw",
   "metadata": {},
   "source": [
    "SELECT EngagementNumber, ContractPrice\n",
    "FROM Engagements\n",
    "WHERE StartDate =\n",
    "(SELECT MIN(StartDate) FROM Engagements)"
   ]
  },
  {
   "cell_type": "raw",
   "metadata": {},
   "source": [
    "“What was the total value of all engagements booked in October 2012?”"
   ]
  },
  {
   "cell_type": "raw",
   "metadata": {},
   "source": [
    "SELECT SUM(ContractPrice) AS TotalBookedValue\n",
    "FROM Engagements\n",
    "WHERE StartDate\n",
    "BETWEEN '2012-10-01' AND '2012-10-31'"
   ]
  },
  {
   "cell_type": "raw",
   "metadata": {},
   "source": [
    "“List the last name and first name, in alphabetical order, of every bowler whose personal\n",
    "average score is greater than or equal to the overall average score.”"
   ]
  },
  {
   "cell_type": "raw",
   "metadata": {},
   "source": [
    "SELECT Bowlers.BowlerLastName,\n",
    "    Bowlers.BowlerFirstName\n",
    "FROM Bowlers\n",
    "WHERE (SELECT AVG(RawScore)\n",
    "FROM Bowler_Scores AS BS\n",
    "WHERE BS.BowlerID = Bowlers.BowlerID)\n",
    ">=(SELECT AVG(RawScore) FROM Bowler_Scores)\n",
    "ORDER BY Bowlers.BowlerLastName,\n",
    "    Bowlers.BowlerFirstName"
   ]
  },
  {
   "cell_type": "markdown",
   "metadata": {},
   "source": [
    "**“How many recipes contain a beef ingredient?”**"
   ]
  },
  {
   "cell_type": "raw",
   "metadata": {},
   "source": [
    "SELECT COUNT(*) AS NumberOfRecipes\n",
    "FROM Recipes\n",
    "WHERE Recipes.RecipeID IN\n",
    "    (SELECT RecipeID\n",
    "    FROM Recipe_Ingredients\n",
    "    INNER JOIN Ingredients ON\n",
    "        Recipe_Ingredients.IngredientID =\n",
    "        Ingredients.IngredientID\n",
    "    WHERE Ingredients.IngredientName\n",
    "        LIKE 'Beef%')"
   ]
  },
  {
   "cell_type": "raw",
   "metadata": {},
   "source": [
    "“How many ingredients are measured by the cup?”\n",
    "Select the count (*) of ingredients as NumberOfIngredients from the\n",
    "ingredients table inner joined with the measurements table on\n",
    "ingredients.measure amount ID in the ingredients table matches =\n",
    "measurements.measure amount ID in the measurements table where the\n",
    "measurement description is = ‘Cup’"
   ]
  },
  {
   "cell_type": "raw",
   "metadata": {},
   "source": [
    "SELECT COUNT(*) AS NumberOfIngredients\n",
    "FROM Ingredients\n",
    "INNER JOIN Measurements\n",
    "ON Ingredients.MeasureAmountID =\n",
    "    Measurements.MeasureAmountID\n",
    "WHERE MeasurementDescription = 'Cup'"
   ]
  },
  {
   "cell_type": "markdown",
   "metadata": {},
   "source": [
    "#### 13. Grouping Data p421\n",
    "You can then ask your database to calculate aggregate values on each group"
   ]
  },
  {
   "cell_type": "raw",
   "metadata": {},
   "source": [
    "SELECT Entertainers.EntStageName,\n",
    "    Engagements.ContractPrice\n",
    "FROM Entertainers\n",
    "INNER JOIN Engagements\n",
    "ON Entertainers.EntertainerID =\n",
    "    Engagements.EntertainerID\n",
    "ORDER BY EntStageName"
   ]
  },
  {
   "cell_type": "markdown",
   "metadata": {},
   "source": [
    "#### The GROUP BY Clause"
   ]
  },
  {
   "cell_type": "raw",
   "metadata": {},
   "source": [
    "SELECT Entertainers.EntStageName,\n",
    "    COUNT(*) AS NumContracts,\n",
    "    SUM(Engagements.ContractPrice) AS TotPrice,\n",
    "    MIN(Engagements.ContractPrice) AS MinPrice,\n",
    "    MAX(Engagements.ContractPrice) AS MaxPrice,\n",
    "    AVG(Engagements.ContractPrice) AS AvgPrice\n",
    "FROM Entertainers\n",
    "INNER JOIN Engagements\n",
    "ON Entertainers.EntertainerID =\n",
    "    Engagements.EntertainerID\n",
    "GROUP BY Entertainers.EntStageName"
   ]
  },
  {
   "cell_type": "raw",
   "metadata": {},
   "source": [
    "Do you suppose the above query returns a row for each entertainer? What about entertainers\n",
    "who have never been booked? about OUTER\n",
    "JOIN, you might be tempted to solve the problem like this:"
   ]
  },
  {
   "cell_type": "raw",
   "metadata": {},
   "source": [
    "SELECT Entertainers.EntStageName,\n",
    "    COUNT(*) AS NumContracts,\n",
    "    SUM(Engagements.ContractPrice) AS TotPrice,\n",
    "    MIN(Engagements.ContractPrice) AS MinPrice,\n",
    "        MAX(Engagements.ContractPrice) AS MaxPrice,\n",
    "AVG(Engagements.ContractPrice) AS AvgPrice\n",
    "FROM Entertainers\n",
    "LEFT OUTER JOIN Engagements\n",
    "ON Entertainers.EntertainerID =\n",
    "    Engagements.EntertainerID\n",
    "GROUP BY Entertainers.EntStageName"
   ]
  },
  {
   "cell_type": "raw",
   "metadata": {},
   "source": [
    "One interesting point about all the aggregate functions is that they ignore rows that have a Null\n",
    "value. The above query will return a blank or Null value for TotPrice, MinPrice, MaxPrice, and\n",
    "AvgPrice for the one entertainer who has no engagements, but you’ll find that NumContracts is\n",
    "1! How can that be? Well, this SQL asks for COUNT(*)—count any row returned. The\n",
    "OUTER JOIN returns exactly one row for the entertainer with no booking, so the count of 1 is\n",
    "correct. But if you remember from the previous chapter, you can also COUNT(value\n",
    "expression), and that tells your database system to add to the count only if it finds a non-Null\n",
    "value in the value expression or column name you specify. Let’s tweak the query one more\n",
    "time.  page 428"
   ]
  },
  {
   "cell_type": "raw",
   "metadata": {},
   "source": [
    "SELECT Entertainers.EntStageName,\n",
    "COUNT(Engagements.EntertainerID) AS NumContracts,\n",
    "SUM(Engagements.ContractPrice) AS TotPrice,\n",
    "MIN(Engagements.ContractPrice) AS MinPrice,\n",
    "MAX(Engagements.ContractPrice) AS MaxPrice,\n",
    "AVG(Engagements.ContractPrice) AS AvgPrice\n",
    "FROM Entertainers\n",
    "LEFT OUTER JOIN Engagements\n",
    "ON Entertainers.EntertainerID =\n",
    "Engagements.EntertainerID"
   ]
  },
  {
   "cell_type": "raw",
   "metadata": {},
   "source": [
    "SELECT Customers.CustLastName || ', ' ||\n",
    "Customers.CustFirstName AS CustomerFullName,\n",
    "Customers.CustStreetAddress || ', ' ||\n",
    "Customers.CustCity || ', ' ||\n",
    "Customers.CustState || ' ' ||\n",
    "Customers.CustZipCode AS CustomerFullAddress\n",
    "MAX(Engagements.StartDate) AS LatestDate,\n",
    "SUM(Engagements.ContractPrice),\n",
    "AS TotalContractPrice\n",
    "FROM Customers\n",
    "INNER JOIN Engagements\n",
    "ON Customers.CustomerID =\n",
    "Engagements.CustomerID\n",
    "GROUP BY Customers.CustLastName,\n",
    "Customers.CustFirstName,\n",
    "Customers.CustStreetAddress,\n",
    "Customers.CustCity, Customers.CustState,\n",
    "Customers.CustZipCode"
   ]
  },
  {
   "cell_type": "markdown",
   "metadata": {},
   "source": [
    "#### Using GROUP BY in a Subquery in a WHERE Clause p431"
   ]
  },
  {
   "cell_type": "raw",
   "metadata": {},
   "source": [
    "SELECT Customers.CustFirstName,\n",
    "    Customers.CustLastName,\n",
    "    Engagements.StartDate,\n",
    "    Engagements.ContractPrice\n",
    "FROM Customers\n",
    "INNER JOIN Engagements\n",
    "    ON Customers.CustomerID =\n",
    "Engagements.CustomerID\n",
    "WHERE Engagements.ContractPrice > ALL\n",
    "    (Select SUM(ContractPrice)\n",
    "    FROM Engagements AS E2\n",
    "    WHERE E2.CustomerID <> Customers.CustomerID\n",
    "    GROUP BY E2.CustomerID)"
   ]
  },
  {
   "cell_type": "raw",
   "metadata": {},
   "source": [
    "Let’s analyze what the subquery is doing. For each engagement that the query looks at in the\n",
    "JOIN of the Customers and Engagements tables, the subquery calculates the SUM of all\n",
    "contract prices for all other customers and groups them by customer ID. Because there are\n",
    "multiple customers in the database, the subquery will return multiple SUM values—one for\n",
    "each of the other customers"
   ]
  },
  {
   "cell_type": "raw",
   "metadata": {},
   "source": [
    "For this reason, we cannot ask for a simple greater than (>)\n",
    "comparison. We can, however, use the quantified greater than all (> ALL) comparison to check\n",
    "a set of values as you learned in Chapter 11. If you run this query in the sample Entertainment\n",
    "Agency database for this chapter (we saved it as CH13_Biggest_Big_Contract), you’ll find that\n",
    "one contract fits the bill, as shown here:"
   ]
  },
  {
   "cell_type": "markdown",
   "metadata": {},
   "source": [
    "#### Simulating a SELECT DISTINCT Statement"
   ]
  },
  {
   "cell_type": "raw",
   "metadata": {},
   "source": [
    "Did it occur to you that you can use a GROUP BY clause and not include any aggregate\n",
    "functions in your SELECT clause? Sure you can! When you do this, you get the same effect as\n",
    "using the DISTINCT keyword covered in Chapter 4. (See the “Eliminating Duplicate Rows”\n",
    "section in that chapter.)"
   ]
  },
  {
   "cell_type": "markdown",
   "metadata": {},
   "source": [
    "##### “Show me the unique city names from the customers table.”"
   ]
  },
  {
   "cell_type": "raw",
   "metadata": {},
   "source": [
    "SELECT Customers.CustCityName\n",
    "FROM Customers\n",
    "GROUP BY Customers.CustCityName"
   ]
  },
  {
   "cell_type": "markdown",
   "metadata": {},
   "source": [
    "Remember that GROUP BY **groups all the rows** on the grouping column(s) you specify **and\n",
    "returns one row per group**. This is a slightly different way to get to the same result that you\n",
    "obtain with the DISTINCT keyword"
   ]
  },
  {
   "cell_type": "markdown",
   "metadata": {},
   "source": [
    "Which one is better? We think that **DISTINCT might be a\n",
    "clearer statement** of what you want if all you want is unique rows, but you might find that your\n",
    "database system solves the problem faster when you use GROUP BY. In addition, **GROUP BY\n",
    "lets you obtain more information** about your data"
   ]
  },
  {
   "cell_type": "raw",
   "metadata": {},
   "source": [
    "SELECT Customers.CustCityName, Count(*) as\n",
    "CustPerCity\n",
    "FROM Customers\n",
    "GROUP BY Customers.CustCityName"
   ]
  },
  {
   "cell_type": "markdown",
   "metadata": {},
   "source": [
    "With this query, you **not only fetch the unique city names** but also find out how many\n",
    "customers are in each city.   \n",
    "Is that cool or what?"
   ]
  },
  {
   "cell_type": "markdown",
   "metadata": {},
   "source": [
    "**“Some Restrictions Apply”**"
   ]
  },
  {
   "cell_type": "markdown",
   "metadata": {},
   "source": [
    "#### Column Restrictions"
   ]
  },
  {
   "cell_type": "markdown",
   "metadata": {},
   "source": [
    "When you add a GROUP BY clause, you’re asking your database system **to form unique\n",
    "groups of rows** from those returned by the tables defined in your FROM clause and filtered by\n",
    "your WHERE clause"
   ]
  },
  {
   "cell_type": "markdown",
   "metadata": {},
   "source": [
    "You can use as many aggregate expressions as you like in your SELECT\n",
    "clause,  \n",
    "and these expressions can use any of the columns in the table defined by the FROM and\n",
    "WHERE clauses."
   ]
  },
  {
   "cell_type": "markdown",
   "metadata": {},
   "source": [
    "As we pointed out in an earlier example, it probably does not make sense to\n",
    "reference a column in an aggregate expression and also include that column in your grouping\n",
    "specification"
   ]
  },
  {
   "cell_type": "markdown",
   "metadata": {},
   "source": [
    "**If you choose to also include expressions that reference columns but do not include an\n",
    "aggregate function, you must list all columns you use this way in the GROUP BY clause**"
   ]
  },
  {
   "cell_type": "raw",
   "metadata": {},
   "source": [
    "One of the most common mistakes is to assume that you can reference columns in nonaggregate\n",
    "expressions as long as the columns come from unique rows"
   ]
  },
  {
   "cell_type": "markdown",
   "metadata": {},
   "source": [
    "For example, let’s look at an\n",
    "**incorrect request that includes a primary key value**  \n",
    "\n",
    "— something that we know **by definition is unique**"
   ]
  },
  {
   "cell_type": "markdown",
   "metadata": {},
   "source": [
    "##### “Display the customer ID, customer full name, and the total of all engagement contract prices.”"
   ]
  },
  {
   "cell_type": "raw",
   "metadata": {},
   "source": [
    "SELECT Customers.CustomerID,\n",
    "Customers.CustFirstName || ' ' ||\n",
    "Customers.CustLastName AS CustFullName,\n",
    "SUM(Engagements.ContractPrice) AS TotalPrice\n",
    "FROM Customers\n",
    "INNER JOIN Engagements\n",
    "ON Customers.CustomerID =\n",
    "Engagements.CustomerID\n",
    "GROUP BY Customers.CustomerID   # will fail"
   ]
  },
  {
   "cell_type": "raw",
   "metadata": {},
   "source": [
    "We know that CustomerID is unique per customer. Grouping on CustomerID alone should be\n",
    "sufficient to fetch unique customer first and last name information within the groups formed by\n",
    "CustomerID"
   ]
  },
  {
   "cell_type": "markdown",
   "metadata": {},
   "source": [
    "However, SQL is a language based on syntax, not semantics. In other words, SQL\n",
    "does not take into account any knowledge that could be implied by the design of your database\n",
    "tables—including whether columns are primary keys"
   ]
  },
  {
   "cell_type": "markdown",
   "metadata": {},
   "source": [
    "SQL demands that your request be syntactically “pure” and translatable without any knowledge of the underlying table design.  \n",
    "So,the above SQL statement **will fail on a database system that is fully compliant with the SQL\n",
    "Standard because we’ve included columns in the SELECT clause that are not in an aggregate\n",
    "function and are also not in the GROUP BY clause** (CustFirstName and CustLastName). \n",
    "The correct SQL request is as follows:"
   ]
  },
  {
   "cell_type": "raw",
   "metadata": {},
   "source": [
    "SELECT Customers.CustomerID,\n",
    "Customers.CustFirstName || ' ' ||\n",
    "Customers.CustLastName AS CustFullName,\n",
    "SUM(Engagements.ContractPrice) AS TotalPrice\n",
    "FROM Customers\n",
    "INNER JOIN Engagements\n",
    "ON Customers.CustomerID =\n",
    "Engagements.CustomerID\n",
    "GROUP BY Customers.CustomerID,\n",
    "Customers.CustFirstName,\n",
    "Customers.CustLastName"
   ]
  },
  {
   "cell_type": "markdown",
   "metadata": {},
   "source": [
    "#### This might seem like overkill, but it’s the correct way to do it!"
   ]
  },
  {
   "cell_type": "raw",
   "metadata": {},
   "source": [
    "Note\n",
    "In some database systems, you must exactly duplicate the expressions you use in the\n",
    "SELECT clause in the GROUP BY clause. Oracle and Microsoft Office Access are\n",
    "examples of systems that either support or require this. (Microsoft Office Access lets\n",
    "you do it either way.) In our example, you would have to end the SQL with this:\n",
    "\n",
    "GROUP BY Customers.CustomerID,\n",
    "Customers.CustFirstName || ' ' ||\n",
    "Customers.CustLastName"
   ]
  },
  {
   "cell_type": "markdown",
   "metadata": {},
   "source": [
    "#### Grouping on Expressions"
   ]
  },
  {
   "cell_type": "markdown",
   "metadata": {},
   "source": [
    "Remember that the **GROUP BY clause must refer to columns created by the FROM and WHERE clauses. \n",
    "It cannot use an expression you create in your SELECT clause.**"
   ]
  },
  {
   "cell_type": "raw",
   "metadata": {},
   "source": [
    "“Show me for each customer in the state of Washington the customer full name, \n",
    "the customer full address, the latest contract date for the customer, \n",
    "and the total price of all the contracts.”"
   ]
  },
  {
   "cell_type": "raw",
   "metadata": {},
   "source": [
    "let’s make the mistake\n",
    "SELECT Customers.CustLastName || ', ' ||\n",
    "    Customers.CustFirstName AS CustomerFullName,\n",
    "    Customers.CustStreetAddress || ', ' ||\n",
    "    Customers.CustCity || ', ' ||\n",
    "    Customers.CustState || ' ' ||\n",
    "    Customers.CustZip AS CustomerFullAddress\n",
    "    MAX(Engagements.StartDate) AS LatestDate,\n",
    "    SUM(Engagements.ContractPrice)\n",
    "        AS TotalContractPrice\n",
    "FROM Customers\n",
    "INNER JOIN Engagements\n",
    "ON Customers.CustomerID =\n",
    "    Engagements.CustomerID\n",
    "WHERE Customers.CustState ='WA'\n",
    "GROUP BY CustomerFullName,\n",
    "    CustomerFullAddress\n",
    "Some database systems will let you get away with this, but it’s not correct."
   ]
  },
  {
   "cell_type": "raw",
   "metadata": {},
   "source": [
    "CustomerFullName and CustomerFullAddress columns don’t exist until after your database\n",
    "system has evaluated the FROM, WHERE, and GROUP BY clauses."
   ]
  },
  {
   "cell_type": "raw",
   "metadata": {},
   "source": [
    "The GROUP BY clause\n",
    "won’t find these columns in the result created in the FROM and WHERE clauses, so on a\n",
    "database system that strictly adheres to the SQL Standard you’ll get a syntax error."
   ]
  },
  {
   "cell_type": "raw",
   "metadata": {},
   "source": [
    "We showed you earlier one correct way to solve this: \n",
    "You must list all the columns you use in both the CustomerFullName and CustomerFullAddress expressions"
   ]
  },
  {
   "cell_type": "markdown",
   "metadata": {},
   "source": [
    "Another way is to make the **FROM clause generate the calculated columns by embedding a table subquery**. Here’s what it looks like:"
   ]
  },
  {
   "cell_type": "raw",
   "metadata": {},
   "source": [
    "SELECT CE.CustomerFullName,\n",
    "    CE.CustomerFullAddress,\n",
    "    SUM(CE.ContractPrice)\n",
    "    AS TotalContractPrice\n",
    "FROM\n",
    "    (SELECT Customers.CustLastName || ', ' ||\n",
    "    Customers.CustFirstName AS CustomerFullName,\n",
    "    Customers.CustStreetAddress || ', ' ||\n",
    "    Customers.CustCity || ', ' ||\n",
    "    Customers.CustState || ' ' ||\n",
    "        Customers.CustZip AS CustomerFullAddress,\n",
    "    Engagements.StartDate,\n",
    "        Engagements.ContractPrice\n",
    "    FROM Customers\n",
    "    INNER JOIN Engagements\n",
    "    ON Customers.CustomerID =\n",
    "        Engagements.CustomerID\n",
    "    WHERE Customers.CustState ='WA')\n",
    "AS CE\n",
    "GROUP BY CE.CustomerFullName,\n",
    "    CE.CustomerFullAddress"
   ]
  },
  {
   "cell_type": "markdown",
   "metadata": {},
   "source": [
    "This works now because we’ve generated the CustomerFullName and CustomerFullAddress\n",
    "columns as output in the FROM clause. You have to admit, though, that this makes the query\n",
    "very complex. In truth, it’s better to just list all the individual columns you plan to use in\n",
    "nonaggregate expressions rather than try to generate the expressions as columns inside the\n",
    "FROM clause."
   ]
  },
  {
   "cell_type": "raw",
   "metadata": {},
   "source": [
    "Sample Statements p437"
   ]
  },
  {
   "cell_type": "raw",
   "metadata": {},
   "source": [
    "“List for each customer and order date the customer full name and the total cost of items\n",
    "ordered on each date.”"
   ]
  },
  {
   "cell_type": "raw",
   "metadata": {},
   "source": [
    "SELECT Customers.CustFirstName || ' ' ||\n",
    "    Customers.CustLastName AS CustFullName,\n",
    "    Orders.OrderDate,\n",
    "    SUM(Order_Details.QuotedPrice *\n",
    "    Order_Details.QuantityOrdered) AS TotalCost\n",
    "FROM (Customers\n",
    "INNER JOIN Orders\n",
    "ON Customers.CustomerID = Orders.CustomerID)\n",
    "INNER JOIN Order_Details\n",
    "ON Orders.OrderNumber =\n",
    "    Order_Details.OrderNumber\n",
    "GROUP BY Customers.CustFirstName,\n",
    "    Customers.CustLastName, Orders.OrderDate"
   ]
  },
  {
   "cell_type": "raw",
   "metadata": {},
   "source": [
    "“Display each entertainment group ID, entertainment group member, and the amount of\n",
    "pay for each member based on the total contract price divided by the number of\n",
    "members in the group.”\n",
    "This one is really tricky because each member might belong to more than one\n",
    "entertainer group. You must sum the contract prices for each entertainer and then\n",
    "divide by the count of members in that group (assuming each member gets equal pay).\n",
    "Fetching the count requires a subquery filtered on the current entertainer ID (the ID of\n",
    "the group, not the ID of the member), which means you also must group on entertainer\n",
    "ID. Oh yes, and don’t forget to exclude members who are not active (Status = 3)."
   ]
  },
  {
   "cell_type": "raw",
   "metadata": {},
   "source": [
    "SELECT Entertainers.EntertainerID,\n",
    "    Members.MbrFirstName, Members.MbrLastName,\n",
    "    SUM(Engagements.ContractPrice)/\n",
    "        (SELECT COUNT(*)\n",
    "        FROM Entertainer_Members AS EM2\n",
    "        WHERE EM2.Status <> 3\n",
    "      AND EM2.EntertainerID =\n",
    "Entertainers.EntertainerID)\n",
    "AS MemberPay\n",
    "FROM ((Members\n",
    "INNER JOIN Entertainer_Members\n",
    "ON Members.MemberID =\n",
    "    Entertainer_Members.MemberID)\n",
    "INNER JOIN Entertainers\n",
    "ON Entertainers.EntertainerID =\n",
    "    Entertainer_Members.EntertainerID)\n",
    "INNER JOIN Engagements\n",
    "ON Entertainers.EntertainerID =\n",
    "    Engagements.EntertainerID\n",
    "WHERE Entertainer_Members.Status<>3\n",
    "GROUP BY Entertainers.EntertainerID,\n",
    "    Members.MbrFirstName, Members.MbrLastName\n",
    "ORDER BY Members.MbrLastName"
   ]
  },
  {
   "cell_type": "raw",
   "metadata": {},
   "source": [
    "“For completed classes, list by category and student the category name, the student\n",
    "name, and the student’s average grade of all classes taken in that category.”"
   ]
  },
  {
   "cell_type": "raw",
   "metadata": {},
   "source": [
    "SELECT Categories.CategoryDescription,\n",
    "Students.StudFirstName,\n",
    "Students.StudLastName,\n",
    "AVG(Student_Schedules.Grade) AS AvgOfGrade\n",
    "FROM ((((Categories\n",
    "INNER JOIN Subjects\n",
    "ON Categories.CategoryID = Subjects.CategoryID)\n",
    "INNER JOIN Classes\n",
    "ON Subjects.SubjectID = Classes.SubjectID)\n",
    "INNER JOIN Student_Schedules\n",
    "ON Classes.ClassID = Student_Schedules.ClassID)\n",
    "INNER JOIN Student_Class_Status\n",
    "ON Student_Class_Status.ClassStatus =\n",
    "Student_Schedules.ClassStatus)\n",
    "INNER JOIN Students\n",
    "ON Students.StudentID =\n",
    "Student_Schedules.StudentID\n",
    "WHERE Student_Class_Status.ClassStatusDescription =\n",
    "'Completed'\n",
    "GROUP BY Categories.CategoryDescription,\n",
    "Students.StudFirstName,\n",
    "Students.StudLastName"
   ]
  },
  {
   "cell_type": "markdown",
   "metadata": {},
   "source": [
    "#### 14. Filtering Grouped Data p449  HAVING clause"
   ]
  },
  {
   "cell_type": "raw",
   "metadata": {},
   "source": [
    "“Show me the entertainer groups that play in a jazz style and have more than three\n",
    "members.”  - 4 tables"
   ]
  },
  {
   "cell_type": "raw",
   "metadata": {},
   "source": [
    "SELECT Entertainers.EntStageName,\n",
    "COUNT(*) AS CountOfMembers\n",
    "FROM Entertainers\n",
    "INNER JOIN Entertainer_Members\n",
    "ON Entertainers.EntertainerID =\n",
    "Entertainer_Members.EntertainerID\n",
    "WHERE Entertainers.EntertainerID\n",
    "IN\n",
    "(SELECT Entertainer_Styles.EntertainerID\n",
    "FROM Entertainer_Styles\n",
    "INNER JOIN Musical_Styles\n",
    "ON Entertainer_Styles.StyleID =\n",
    "Musical_Styles.StyleID\n",
    "WHERE Musical_Styles.StyleName = 'Jazz')\n",
    "AND COUNT(*) > 3\n",
    "GROUP BY Entertainers.EntStageName\n",
    "What’s wrong with this picture? The key is that any column you reference in a WHERE clause\n",
    "(remember Chapter 6, “Filtering Your Data”?) must be a column in one of the tables defined in\n",
    "the FROM clause. Is COUNT(*) a column generated from the FROM clause? We don’t think\n",
    "so! In fact, you can calculate COUNT for each group only after the rows are grouped.\n",
    "Looks like we need a new clause after GROUP BY. Figure 14–2 shows the entire syntax for a\n",
    "SELECT statement, including the new HAVING clause."
   ]
  },
  {
   "cell_type": "markdown",
   "metadata": {},
   "source": [
    "Because the **HAVING** clause acts on rows **after they have been grouped**, the SQL Standard\n",
    "defines some restrictions on the columns you reference in any predicate in the search condition"
   ]
  },
  {
   "cell_type": "raw",
   "metadata": {},
   "source": [
    "Note !  that when you do not have a GROUP BY clause, the HAVING clause operates on all\n",
    "rows returned by the FROM and WHERE clauses as though they are a single group "
   ]
  },
  {
   "cell_type": "raw",
   "metadata": {},
   "source": [
    "Any reference to a column in a predicate within the search condition of a\n",
    "HAVING clause either must name a column listed in the GROUP BY clause or must be\n",
    "enclosed within an aggregate function"
   ]
  },
  {
   "cell_type": "raw",
   "metadata": {},
   "source": [
    "SELECT Entertainers.EntertainerID,\n",
    "Entertainers.EntStageName,\n",
    "Count(Entertainer_Members.EntertainerID)\n",
    "AS CountOfEntertainerID\n",
    "FROM ((Entertainers INNER JOIN Entertainer_Members\n",
    "ON Entertainers.EntertainerID =\n",
    "Entertainer_Members.EntertainerID)\n",
    "INNER JOIN Entertainer_Styles\n",
    "ON Entertainers.EntertainerID =\n",
    "Entertainer_Styles.EntertainerID)\n",
    "INNER JOIN Musical_Styles\n",
    "ON Musical_Styles.StyleID =\n",
    "Entertainer_Styles.StyleID\n",
    "WHERE Musical_Styles.StyleName='Jazz'\n",
    "GROUP BY Entertainers.EntertainerID,\n",
    "Entertainers.EntStageName\n",
    "HAVING Count(Entertainer_Members.EntertainerID)>3"
   ]
  },
  {
   "cell_type": "markdown",
   "metadata": {},
   "source": [
    "#### two ways to filter your final result set: WHERE and HAVING"
   ]
  },
  {
   "cell_type": "markdown",
   "metadata": {},
   "source": [
    "Should You Filter in WHERE or in HAVING?  p454"
   ]
  },
  {
   "cell_type": "markdown",
   "metadata": {},
   "source": [
    "five major types of predicates you can build to filter the rows\n",
    "returned by the FROM clause of your request. These are **comparison (=, <>, <, >, >=, <=),\n",
    "range (BETWEEN), set membership (IN), pattern match (LIKE), and Null (IS NULL)**"
   ]
  },
  {
   "cell_type": "raw",
   "metadata": {},
   "source": [
    "In Chapter 11, we expanded your horizons by showing you how to use a subquery as one of the\n",
    "arguments in comparison and set membership predicates, and we introduced you to two\n",
    "additional classes of predicates—quantified (ANY, SOME, ALL) and existence (EXISTS)—\n",
    "that require a subquery as one of the arguments."
   ]
  },
  {
   "cell_type": "markdown",
   "metadata": {},
   "source": [
    "### WHERE clause filters rows before your database system groups them"
   ]
  },
  {
   "cell_type": "markdown",
   "metadata": {},
   "source": [
    "In general, when you want to ultimately group only a subset of rows,  \n",
    "it’s better to eliminate unwanted rows first in the WHERE clause"
   ]
  },
  {
   "cell_type": "markdown",
   "metadata": {},
   "source": [
    "#### Avoiding the HAVING COUNT Trap - p456\n",
    "The trick here is you also want to know **which categories have zero members**"
   ]
  },
  {
   "cell_type": "raw",
   "metadata": {},
   "source": [
    "samples see in book"
   ]
  },
  {
   "cell_type": "markdown",
   "metadata": {},
   "source": [
    "#### 19. Condition Testing   p586  CASE   COALWSCE"
   ]
  },
  {
   "cell_type": "raw",
   "metadata": {},
   "source": [
    "SELECT StudentID, StudFirstName, StudLastName,\n",
    "(CASE StudGender WHEN 'M' THEN 'Male'\n",
    "WHEN 'F' THEN 'Female'\n",
    "ELSE 'Not Specified' END) AS Gender\n",
    "FROM Students"
   ]
  },
  {
   "cell_type": "raw",
   "metadata": {},
   "source": []
  },
  {
   "cell_type": "raw",
   "metadata": {},
   "source": []
  },
  {
   "cell_type": "raw",
   "metadata": {},
   "source": []
  },
  {
   "cell_type": "raw",
   "metadata": {},
   "source": []
  },
  {
   "cell_type": "raw",
   "metadata": {},
   "source": []
  },
  {
   "cell_type": "raw",
   "metadata": {},
   "source": []
  },
  {
   "cell_type": "raw",
   "metadata": {},
   "source": []
  },
  {
   "cell_type": "raw",
   "metadata": {},
   "source": []
  },
  {
   "cell_type": "raw",
   "metadata": {},
   "source": []
  },
  {
   "cell_type": "raw",
   "metadata": {},
   "source": []
  },
  {
   "cell_type": "raw",
   "metadata": {},
   "source": []
  },
  {
   "cell_type": "raw",
   "metadata": {},
   "source": []
  },
  {
   "cell_type": "raw",
   "metadata": {},
   "source": []
  },
  {
   "cell_type": "raw",
   "metadata": {},
   "source": []
  },
  {
   "cell_type": "raw",
   "metadata": {},
   "source": []
  },
  {
   "cell_type": "code",
   "execution_count": null,
   "metadata": {},
   "outputs": [],
   "source": []
  }
 ],
 "metadata": {
  "kernelspec": {
   "display_name": "Python 3",
   "language": "python",
   "name": "python3"
  },
  "language_info": {
   "codemirror_mode": {
    "name": "ipython",
    "version": 3
   },
   "file_extension": ".py",
   "mimetype": "text/x-python",
   "name": "python",
   "nbconvert_exporter": "python",
   "pygments_lexer": "ipython3",
   "version": "3.8.5"
  }
 },
 "nbformat": 4,
 "nbformat_minor": 4
}
