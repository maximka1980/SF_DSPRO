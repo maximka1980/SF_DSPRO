{
 "cells": [
  {
   "cell_type": "markdown",
   "metadata": {},
   "source": [
    "### Задание 4.1 "
   ]
  },
  {
   "cell_type": "code",
   "execution_count": null,
   "metadata": {},
   "outputs": [],
   "source": [
    "select city, count(airport_name) Qty \n",
    "from dst_project.airports \n",
    "group by 1 \n",
    "having count(airport_name)>1 \n",
    "order by 2 desc "
   ]
  },
  {
   "cell_type": "markdown",
   "metadata": {},
   "source": [
    "### Задание 4.2 "
   ]
  },
  {
   "cell_type": "code",
   "execution_count": null,
   "metadata": {},
   "outputs": [],
   "source": [
    "#вопрос1 - 6\n",
    "select count(distinct status) from dst_project.flights\n",
    "\n",
    "#вопрос2 - 58\n",
    "select count(status) from dst_project.flights where status='Departed'\n",
    "\n",
    "#вопрос3 - 402\n",
    "select count(seat_no) from dst_project.seats where aircraft_code='773'\n",
    "\n",
    "#вопрос4 - 74227\n",
    "select count(*)\n",
    "from dst_project.flights\n",
    "where (actual_arrival between '2017-04-01' and '2017-09-01') and (status = 'Arrived')\n"
   ]
  },
  {
   "cell_type": "markdown",
   "metadata": {},
   "source": [
    "### Задание 4.3 "
   ]
  },
  {
   "cell_type": "code",
   "execution_count": null,
   "metadata": {},
   "outputs": [],
   "source": [
    "#вопрос1 - 437\n",
    "select count(*) from dst_project.flights where status='Cancelled'\n",
    "\n",
    "#вопрос2 - \n",
    "\n",
    "SELECT 'Airbus', count(*)\n",
    "FROM dst_project.aircrafts a\n",
    "WHERE a.model LIKE 'Airbus%'\n",
    "union all\n",
    "SELECT 'Boeing', count(*)\n",
    "FROM dst_project.aircrafts a\n",
    "WHERE a.model LIKE 'Boeing%'\n",
    "union all\n",
    "SELECT 'Sukhoi', count(*)\n",
    "FROM dst_project.aircrafts a\n",
    "WHERE a.model LIKE 'Sukhoi%'\n",
    "\n",
    "#вопрос3 - Europe/Asia\n",
    "select timezone, count(airport_code) from dst_project.airports group by timezone order by 2 desc\n",
    "\n",
    "\n",
    "#вопрос4 - 157571\n",
    "SELECT f.flight_id,  \n",
    "(f.actual_arrival - f.scheduled_arrival) delta\n",
    "FROM dst_project.flights AS f WHERE f.actual_arrival IS NOT NULL\n",
    "order by 2 desc"
   ]
  },
  {
   "cell_type": "markdown",
   "metadata": {},
   "source": [
    "### Задание 4.4 "
   ]
  },
  {
   "cell_type": "code",
   "execution_count": null,
   "metadata": {},
   "outputs": [],
   "source": [
    "#вопрос1 - 14.08.2016\n",
    "select scheduled_departure from dst_project.flights order by 1 asc limit 1\n",
    "\n",
    "#вопрос2 - 530\n",
    "SELECT EXTRACT(EPOCH FROM AGE(f.scheduled_arrival, f.scheduled_departure))/60 delta, departure_airport, arrival_airport\n",
    "FROM dst_project.flights AS f WHERE f.scheduled_arrival IS NOT NULL or f.scheduled_arrival is not null\n",
    "order by 1 desc limit 1 \n",
    "\n",
    "#вопрос3 - DME -UUS\n",
    "SELECT EXTRACT(EPOCH FROM AGE(f.scheduled_arrival, f.scheduled_departure))/60 delta, departure_airport, arrival_airport\n",
    "FROM dst_project.flights AS f WHERE f.scheduled_arrival IS NOT NULL or f.scheduled_arrival is not null\n",
    "order by 1 desc limit 1 \n",
    "\n",
    "#вопрос4 - 128\n",
    "select round(avg(A.delta)) from\n",
    "(\n",
    "\n",
    "SELECT EXTRACT(EPOCH FROM AGE(f.scheduled_arrival, f.scheduled_departure))/60 delta, departure_airport, arrival_airport\n",
    "FROM dst_project.flights AS f WHERE f.scheduled_arrival IS NOT NULL or f.scheduled_arrival is not null\n",
    "order by 1 desc\n",
    "\n",
    "\n",
    ") as A"
   ]
  },
  {
   "cell_type": "markdown",
   "metadata": {},
   "source": [
    "### Задание 4.5 "
   ]
  },
  {
   "cell_type": "code",
   "execution_count": null,
   "metadata": {},
   "outputs": [],
   "source": [
    "#вопрос1 - Economy 85\n",
    "select distinct B.fare_conditions, count(*)\n",
    "from \n",
    "(\n",
    "select * from dst_project.aircrafts ac\n",
    "join dst_project.seats acs on ac.aircraft_code = acs.aircraft_code where ac.aircraft_code='SU9'\n",
    ") as B \n",
    "group by 1\n",
    "order by 2 desc limit 1\n",
    "\n",
    "#вопрос2 - 3400\n",
    "select * from dst_project.bookings order by 3 asc  limit 1\n",
    "\n",
    "#вопрос3 - 2A\n",
    "select bp.seat_no from dst_project.tickets t\n",
    "    join dst_project.boarding_passes bp on bp.ticket_no = t.ticket_no \n",
    "    where t.passenger_id = '4313 788533'\n",
    "\n"
   ]
  },
  {
   "cell_type": "markdown",
   "metadata": {},
   "source": [
    "# 5. Предварительный анализ"
   ]
  },
  {
   "cell_type": "markdown",
   "metadata": {},
   "source": [
    "### Задание 5.1 \n"
   ]
  },
  {
   "cell_type": "code",
   "execution_count": null,
   "metadata": {},
   "outputs": [],
   "source": [
    "#вопрос1 - 486\n",
    "select count(*) \n",
    "    from dst_project.flights f \n",
    "    join dst_project.airports a on a.airport_code = f.arrival_airport \n",
    "    where a.city = 'Anapa' and date_part('Year',f.actual_arrival)=2017\n",
    "    \n",
    "#вопрос2 - 127\n",
    "select count(*)  \n",
    "    from dst_project.flights f join dst_project.airports a on a.airport_code = f.arrival_airport\n",
    "    where a.city = 'Anapa' \n",
    "    and date_part('Year',f.actual_arrival)=2017 \n",
    "    and date_part('Month',f.actual_arrival) IN (11,12,1,2)\n",
    "\n",
    "#вопрос3 - 1\n",
    "select count(*)  \n",
    "    from dst_project.flights f join dst_project.airports a on a.airport_code = f.arrival_airport \n",
    "    where a.city = 'Anapa' and f.status='Cancelled'\n",
    "\n",
    "#Воспро4 - 453\n",
    "select count(*) \n",
    "    from dst_project.flights f join dst_project.airports a on a.airport_code = f.departure_airport \n",
    "    where a.city = 'Anapa' and f.arrival_airport not in \n",
    "        (select distinct f.arrival_airport \n",
    "             from dst_project.flights f join dst_project.airports a on a.airport_code = f.arrival_airport \n",
    "             where a.city = 'Moscow')\n",
    "        \n",
    "#вопрос5 -\n",
    "запрос на кол-во мест в каждой модели\n",
    "select distinct model, count(*) over (partition by model)qty from dst_project.aircrafts ac join dst_project.seats acs on acs.aircraft_code = ac.aircraft_code order by 2 desc\n",
    "\n",
    "запрос на вылетающие из анапы рейсы с маркой самолета\n",
    "select *\n",
    "    from dst_project.flights f \n",
    "    join dst_project.airports a on a.airport_code = f.departure_airport \n",
    "    join dst_project.aircrafts ac on ac.aircraft_code = f.aircraft_code\n",
    "    where a.city = 'Anapa'"
   ]
  },
  {
   "cell_type": "markdown",
   "metadata": {},
   "source": [
    "# собираем датасет"
   ]
  },
  {
   "cell_type": "code",
   "execution_count": null,
   "metadata": {},
   "outputs": [],
   "source": [
    "\n",
    "WITH table_1 AS\n",
    "  (SELECT f.flight_id,\n",
    "          f.flight_no,\n",
    "          f.departure_airport,\n",
    "          f.arrival_airport,\n",
    "          f.actual_departure,\n",
    "          f.status,\n",
    "          a.aircraft_code\n",
    "   FROM dst_project.flights f\n",
    "   LEFT JOIN dst_project.aircrafts a ON f.aircraft_code = a.aircraft_code), /* В таблице table_1 содержится общая информация о рейсах и самолетах. Даты вылета-прилета, код самолетах\n",
    "id рейса - уникальное значение для каждого рейса\n",
    "*/ \n",
    "   table_2 AS\n",
    "  (SELECT tf.flight_id,\n",
    "          count(CASE\n",
    "                    WHEN tf.fare_conditions = 'Economy' THEN tf.fare_conditions\n",
    "                END) AS ticket_economy,\n",
    "          count(CASE\n",
    "                    WHEN tf.fare_conditions = 'Comfort' THEN tf.fare_conditions\n",
    "                END) AS ticket_comfort,\n",
    "          count(CASE\n",
    "                    WHEN tf.fare_conditions = 'Business' THEN tf.fare_conditions\n",
    "                END) AS ticket_bisiness\n",
    "   FROM dst_project.ticket_flights AS tf\n",
    "   GROUP BY 1), /* В таблице table_2 - информация о заполняемости мест по каждому классу, для каждого рейса */\n",
    "   \n",
    "   table_3 AS\n",
    "  (SELECT flight_id,\n",
    "          sum(amount) total_amount\n",
    "   FROM dst_project.ticket_flights\n",
    "   GROUP BY 1), /* В таблице table_3 - общая стоимость билетов на рейс */\n",
    "   \n",
    "   table_4 AS\n",
    "  (SELECT aircraft_code,\n",
    "          count(DISTINCT seat_no) cnt_seats\n",
    "   FROM dst_project.seats\n",
    "   GROUP BY 1), /* В таблице table_4 - общее количество мест в самолете */\n",
    "   \n",
    "   table_5 AS\n",
    "  (SELECT f.flight_id,\n",
    "          (EXTRACT(EPOCH\n",
    "                   FROM f.actual_arrival) - EXTRACT(EPOCH\n",
    "                                                    FROM f.actual_departure)) / 60 / 60 AS fly_time,\n",
    "          EXTRACT(ISODOW\n",
    "                  FROM f.actual_departure) AS dow\n",
    "   FROM dst_project.flights AS f\n",
    "   GROUP BY 1) /* В таблице table_5 - время полета и день недели, когда совершен рейс */\n",
    "\n",
    "SELECT t1.flight_id,\n",
    "       t1.flight_no,\n",
    "       t1.departure_airport,\n",
    "       t1.arrival_airport,\n",
    "       t1.actual_departure,\n",
    "       t1.status,\n",
    "       t1.aircraft_code,\n",
    "       t2.ticket_economy,\n",
    "       t2.ticket_comfort,\n",
    "       t2.ticket_bisiness,\n",
    "       t3.total_amount,\n",
    "       t4.cnt_seats,\n",
    "       t5.fly_time,\n",
    "       t5.dow\n",
    "FROM table_1 t1\n",
    "LEFT JOIN table_2 t2 ON t1.flight_id = t2.flight_id\n",
    "LEFT JOIN table_3 t3 ON t1.flight_id = t3.flight_id\n",
    "LEFT JOIN table_4 t4 ON t1.aircraft_code = t4.aircraft_code\n",
    "LEFT JOIN table_5 t5 ON t1.flight_id = t5.flight_id\n",
    "WHERE departure_airport = 'AAQ'\n",
    "  AND (date_trunc('month', actual_departure) in ('2016-12-01',\n",
    "                                                    '2017-01-01',\n",
    "                                                    '2017-02-01'))\n",
    "  AND status not in ('Cancelled')"
   ]
  }
 ],
 "metadata": {
  "kernelspec": {
   "display_name": "Python 3",
   "language": "python",
   "name": "python3"
  },
  "language_info": {
   "codemirror_mode": {
    "name": "ipython",
    "version": 3
   },
   "file_extension": ".py",
   "mimetype": "text/x-python",
   "name": "python",
   "nbconvert_exporter": "python",
   "pygments_lexer": "ipython3",
   "version": "3.8.5"
  }
 },
 "nbformat": 4,
 "nbformat_minor": 4
}
