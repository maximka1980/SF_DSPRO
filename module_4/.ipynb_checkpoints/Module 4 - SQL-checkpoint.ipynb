{
 "cells": [
  {
   "cell_type": "markdown",
   "metadata": {},
   "source": [
    "# 2.1 Аггрегатные функции"
   ]
  },
  {
   "cell_type": "markdown",
   "metadata": {},
   "source": [
    "2.2.3\n",
    "select author, count(book_name) as books_count from books where publishing_year between 1985 and 2015 group by author order by books_count desc, author asc limit 5\n",
    "\n",
    "2.2.4\n",
    "select author, count(distinct genre) as genres_count from books where language_code = 'eng' group by author order by genres_count desc, author asc limit 10\n",
    "\n",
    "2.2.5\n",
    "select distinct genre from books\n",
    "\n",
    "2.2.6\n",
    "select author, count(book_id) as book_count from books where publishing_year between 1900 and 2000 group by author order by book_count desc, author asc offset 5\n",
    "\n",
    "2.3.1\n",
    "select publisher from books group by publisher having count(book_id)>100 order by publisher asc\n",
    "\n",
    "2.3.2\n",
    "select author, avg(book_average_rating) as average_rating from books where (publishing_year between 1940 and 1980 and genre='fiction' ) group by author having avg(book_average_rating)>3.9 order by author asc\n",
    "\n",
    "2.3.3\n",
    "select publishing_year, genre, count(book_id) as books_count from books group by publishing_year, genre having avg(book_average_rating) < 4.2 and count(book_id)>5 order by publishing_year asc, genre asc, books_count asc\n",
    "\n",
    "2.4.1\n",
    "select avg(book_ratings_count) from books where (author = 'Stephen King' or author = 'Amy Tan') and  (publishing_year between 1950 and 1995)\n",
    "\n",
    "2.4.2\n",
    "select author, genre, avg(book_average_rating) as average_rating from books group by author, genre order by average_rating desc, author asc, genre asc offset 2 limit 6\n",
    "\n",
    "2.4.3\n",
    "select author, count(distinct  publisher), sum(book_ratings_count), avg(book_average_rating), min(publishing_year), max(publishing_year)\n",
    "from books\n",
    "where publishing_year > 1930\n",
    "group by author\n",
    "having count(distinct publisher) >= 2 and max(publishing_year) > 1950"
   ]
  },
  {
   "cell_type": "markdown",
   "metadata": {},
   "source": [
    "# 3.1 - Схема данных"
   ]
  },
  {
   "cell_type": "code",
   "execution_count": null,
   "metadata": {},
   "outputs": [],
   "source": [
    "3.1.3.1\n",
    "select * from city where state='Illinois'\n",
    "\n",
    "3.1.3.2\n",
    "select count(city_id) from city where population>1000000\n",
    "\n",
    "Задание 3.1.4.1\n",
    "select cust_type, avg(annual_revenue) from customer group by cust_type\n",
    "\n",
    "Задание 3.1.4.2\n",
    "select cust_type, avg(annual_revenue) from customer group by cust_type  having avg(annual_revenue) > 25000000\n",
    "\n",
    "Задание 3.1.5.1 \n",
    "select last_name from driver where phone is null\n",
    "\n",
    "Задание 3.1.6.1\n"
   ]
  }
 ],
 "metadata": {
  "kernelspec": {
   "display_name": "Python 3",
   "language": "python",
   "name": "python3"
  },
  "language_info": {
   "codemirror_mode": {
    "name": "ipython",
    "version": 3
   },
   "file_extension": ".py",
   "mimetype": "text/x-python",
   "name": "python",
   "nbconvert_exporter": "python",
   "pygments_lexer": "ipython3",
   "version": "3.8.5"
  }
 },
 "nbformat": 4,
 "nbformat_minor": 4
}
