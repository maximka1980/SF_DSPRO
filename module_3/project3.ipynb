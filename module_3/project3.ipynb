{
 "cells": [
  {
   "cell_type": "code",
   "execution_count": 36,
   "metadata": {},
   "outputs": [],
   "source": [
    "#Module3 - Unit3 - Project3 - 'О Вкусной и здоровой пищще'\n",
    "\n",
    "import pandas as pd\n",
    "df = pd.read_csv('main_task_new.csv')\n",
    "\n",
    "#2.1 задание 1 - Какие столбцы НЕ содержат пропущенных (None) значений?\n",
    "#ответом будет столбец в котором все вхождения имеют занчения false\n",
    "#это Restaurant_id, City, Ranking, Rating, Reviews, URL_TA, ID_TA\n",
    "#df.isna().value_counts()\n",
    "\n",
    "#2.2 Задание 2 - В каких столбцах данные хранятся в числовом формате?\n",
    "#jndtnjv будут наименования столбцов с численными форматами - int float\n",
    "#df.info()\n",
    "\n",
    "#2.3 Задание 3 - В каких столбцах хранящиеся данные представляют собой список\n",
    "#все строки поэтому ответ последний \" ни один из перечисленных\" \n"
   ]
  },
  {
   "cell_type": "code",
   "execution_count": null,
   "metadata": {},
   "outputs": [],
   "source": []
  }
 ],
 "metadata": {
  "kernelspec": {
   "display_name": "Python 3",
   "language": "python",
   "name": "python3"
  },
  "language_info": {
   "codemirror_mode": {
    "name": "ipython",
    "version": 3
   },
   "file_extension": ".py",
   "mimetype": "text/x-python",
   "name": "python",
   "nbconvert_exporter": "python",
   "pygments_lexer": "ipython3",
   "version": "3.8.5"
  }
 },
 "nbformat": 4,
 "nbformat_minor": 4
}
