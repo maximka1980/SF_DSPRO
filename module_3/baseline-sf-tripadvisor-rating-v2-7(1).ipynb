{
 "cells": [
  {
   "cell_type": "markdown",
   "metadata": {},
   "source": [
    "![](https://www.pata.org/wp-content/uploads/2014/09/TripAdvisor_Logo-300x119.png)\n",
    "# Predict TripAdvisor Rating\n",
    "## В этом соревновании нам предстоит предсказать рейтинг ресторана в TripAdvisor\n",
    "**По ходу задачи:**\n",
    "* Прокачаем работу с pandas\n",
    "* Научимся работать с Kaggle Notebooks\n",
    "* Поймем как делать предобработку различных данных\n",
    "* Научимся работать с пропущенными данными (Nan)\n",
    "* Познакомимся с различными видами кодирования признаков\n",
    "* Немного попробуем [Feature Engineering](https://ru.wikipedia.org/wiki/Конструирование_признаков) (генерировать новые признаки)\n",
    "* И совсем немного затронем ML\n",
    "* И многое другое...   \n",
    "\n",
    "\n",
    "\n",
    "### И самое важное, все это вы сможете сделать самостоятельно!\n",
    "\n",
    "*Этот Ноутбук являетсся Примером/Шаблоном к этому соревнованию (Baseline) и не служит готовым решением!*   \n",
    "Вы можете использовать его как основу для построения своего решения.\n",
    "\n",
    "> что такое baseline решение, зачем оно нужно и почему предоставлять baseline к соревнованию стало важным стандартом на kaggle и других площадках.   \n",
    "**baseline** создается больше как шаблон, где можно посмотреть как происходит обращение с входящими данными и что нужно получить на выходе. При этом МЛ начинка может быть достаточно простой, просто для примера. Это помогает быстрее приступить к самому МЛ, а не тратить ценное время на чисто инженерные задачи. \n",
    "Также baseline являеться хорошей опорной точкой по метрике. Если твое решение хуже baseline - ты явно делаешь что-то не то и стоит попробовать другой путь) \n",
    "\n",
    "В контексте нашего соревнования baseline идет с небольшими примерами того, что можно делать с данными, и с инструкцией, что делать дальше, чтобы улучшить результат.  Вообще готовым решением это сложно назвать, так как используются всего 2 самых простых признака (а остальные исключаются)."
   ]
  },
  {
   "cell_type": "markdown",
   "metadata": {},
   "source": [
    "# import"
   ]
  },
  {
   "cell_type": "code",
   "execution_count": 1,
   "metadata": {
    "_cell_guid": "b1076dfc-b9ad-4769-8c92-a6c4dae69d19",
    "_uuid": "8f2839f25d086af736a60e9eeb907d3b93b6e0e5",
    "execution": {
     "iopub.execute_input": "2021-08-19T09:33:08.855161Z",
     "iopub.status.busy": "2021-08-19T09:33:08.854853Z",
     "iopub.status.idle": "2021-08-19T09:33:12.179697Z",
     "shell.execute_reply": "2021-08-19T09:33:12.178935Z",
     "shell.execute_reply.started": "2021-08-19T09:33:08.855112Z"
    }
   },
   "outputs": [],
   "source": [
    "# This Python 3 environment comes with many helpful analytics libraries installed\n",
    "# It is defined by the kaggle/python docker image: https://github.com/kaggle/docker-python\n",
    "# For example, here's several helpful packages to load in \n",
    "\n",
    "import numpy as np # linear algebra\n",
    "import pandas as pd # data processing, CSV file I/O (e.g. pd.read_csv)\n",
    "\n",
    "import re\n",
    "\n",
    "import matplotlib.pyplot as plt\n",
    "import seaborn as sns \n",
    "%matplotlib inline\n",
    "\n",
    "# Загружаем специальный удобный инструмент для разделения датасета:\n",
    "from sklearn.model_selection import train_test_split\n",
    "\n",
    "# Input data files are available in the \"../input/\" directory.\n",
    "# For example, running this (by clicking run or pressing Shift+Enter) will list all files under the input directory\n",
    "\n",
    "import os\n",
    "for dirname, _, filenames in os.walk('/kaggle/input'):\n",
    "    for filename in filenames:\n",
    "        print(os.path.join(dirname, filename))\n",
    "\n",
    "# Any results you write to the current directory are saved as output."
   ]
  },
  {
   "cell_type": "code",
   "execution_count": 2,
   "metadata": {
    "execution": {
     "iopub.execute_input": "2021-08-19T09:33:26.654364Z",
     "iopub.status.busy": "2021-08-19T09:33:26.653935Z",
     "iopub.status.idle": "2021-08-19T09:33:26.658761Z",
     "shell.execute_reply": "2021-08-19T09:33:26.657724Z",
     "shell.execute_reply.started": "2021-08-19T09:33:26.654296Z"
    }
   },
   "outputs": [],
   "source": [
    "# всегда фиксируйте RANDOM_SEED, чтобы ваши эксперименты были воспроизводимы!\n",
    "RANDOM_SEED = 42"
   ]
  },
  {
   "cell_type": "code",
   "execution_count": 3,
   "metadata": {
    "execution": {
     "iopub.execute_input": "2021-08-19T09:33:30.152979Z",
     "iopub.status.busy": "2021-08-19T09:33:30.152493Z",
     "iopub.status.idle": "2021-08-19T09:33:33.792155Z",
     "shell.execute_reply": "2021-08-19T09:33:33.791107Z",
     "shell.execute_reply.started": "2021-08-19T09:33:30.152933Z"
    }
   },
   "outputs": [],
   "source": [
    "# зафиксируем версию пакетов, чтобы эксперименты были воспроизводимы:\n",
    "!pip freeze > requirements.txt"
   ]
  },
  {
   "cell_type": "markdown",
   "metadata": {},
   "source": [
    "# DATA"
   ]
  },
  {
   "cell_type": "code",
   "execution_count": 5,
   "metadata": {
    "_cell_guid": "79c7e3d0-c299-4dcb-8224-4455121ee9b0",
    "_uuid": "d629ff2d2480ee46fbb7e2d37f6b5fab8052498a",
    "execution": {
     "iopub.execute_input": "2021-08-19T09:33:36.278920Z",
     "iopub.status.busy": "2021-08-19T09:33:36.278451Z",
     "iopub.status.idle": "2021-08-19T09:33:36.716226Z",
     "shell.execute_reply": "2021-08-19T09:33:36.714948Z",
     "shell.execute_reply.started": "2021-08-19T09:33:36.278841Z"
    }
   },
   "outputs": [],
   "source": [
    "DATA_DIR = '/kaggle/input/sf-dst-restaurant-rating/'\n",
    "df_train = pd.read_csv('final.csv')\n",
    "df_test = pd.read_csv('kaggle_task.csv')\n",
    "sample_submission = pd.read_csv('sample_submission.csv')"
   ]
  },
  {
   "cell_type": "code",
   "execution_count": 6,
   "metadata": {
    "execution": {
     "iopub.execute_input": "2021-08-19T09:33:39.592137Z",
     "iopub.status.busy": "2021-08-19T09:33:39.591831Z",
     "iopub.status.idle": "2021-08-19T09:33:39.646023Z",
     "shell.execute_reply": "2021-08-19T09:33:39.645193Z",
     "shell.execute_reply.started": "2021-08-19T09:33:39.592087Z"
    }
   },
   "outputs": [
    {
     "name": "stdout",
     "output_type": "stream",
     "text": [
      "<class 'pandas.core.frame.DataFrame'>\n",
      "RangeIndex: 40000 entries, 0 to 39999\n",
      "Data columns (total 14 columns):\n",
      " #   Column       Non-Null Count  Dtype  \n",
      "---  ------       --------------  -----  \n",
      " 0   Unnamed: 0   40000 non-null  int64  \n",
      " 1   id           40000 non-null  object \n",
      " 2   city         40000 non-null  object \n",
      " 3   cuisine      40000 non-null  object \n",
      " 4   ranking      40000 non-null  float64\n",
      " 5   rating       40000 non-null  float64\n",
      " 6   nor          40000 non-null  float64\n",
      " 7   reviews      40000 non-null  object \n",
      " 8   url_ta       40000 non-null  object \n",
      " 9   id_ta        40000 non-null  object \n",
      " 10  prcat        40000 non-null  float64\n",
      " 11  col_cuisine  40000 non-null  object \n",
      " 12  col_c        40000 non-null  int64  \n",
      " 13  city_le      40000 non-null  int64  \n",
      "dtypes: float64(4), int64(3), object(7)\n",
      "memory usage: 4.3+ MB\n"
     ]
    }
   ],
   "source": [
    "df_train.info()"
   ]
  },
  {
   "cell_type": "code",
   "execution_count": 7,
   "metadata": {
    "execution": {
     "iopub.execute_input": "2021-08-19T09:33:48.607562Z",
     "iopub.status.busy": "2021-08-19T09:33:48.607120Z",
     "iopub.status.idle": "2021-08-19T09:33:48.638917Z",
     "shell.execute_reply": "2021-08-19T09:33:48.637799Z",
     "shell.execute_reply.started": "2021-08-19T09:33:48.607482Z"
    }
   },
   "outputs": [
    {
     "data": {
      "text/html": [
       "<div>\n",
       "<style scoped>\n",
       "    .dataframe tbody tr th:only-of-type {\n",
       "        vertical-align: middle;\n",
       "    }\n",
       "\n",
       "    .dataframe tbody tr th {\n",
       "        vertical-align: top;\n",
       "    }\n",
       "\n",
       "    .dataframe thead th {\n",
       "        text-align: right;\n",
       "    }\n",
       "</style>\n",
       "<table border=\"1\" class=\"dataframe\">\n",
       "  <thead>\n",
       "    <tr style=\"text-align: right;\">\n",
       "      <th></th>\n",
       "      <th>Unnamed: 0</th>\n",
       "      <th>id</th>\n",
       "      <th>city</th>\n",
       "      <th>cuisine</th>\n",
       "      <th>ranking</th>\n",
       "      <th>rating</th>\n",
       "      <th>nor</th>\n",
       "      <th>reviews</th>\n",
       "      <th>url_ta</th>\n",
       "      <th>id_ta</th>\n",
       "      <th>prcat</th>\n",
       "      <th>col_cuisine</th>\n",
       "      <th>col_c</th>\n",
       "      <th>city_le</th>\n",
       "    </tr>\n",
       "  </thead>\n",
       "  <tbody>\n",
       "    <tr>\n",
       "      <th>0</th>\n",
       "      <td>0</td>\n",
       "      <td>id_5569</td>\n",
       "      <td>Paris</td>\n",
       "      <td>['European', 'French', 'International']</td>\n",
       "      <td>5570.0</td>\n",
       "      <td>3.5</td>\n",
       "      <td>194.0</td>\n",
       "      <td>[['Good food at your doorstep', 'A good hotel ...</td>\n",
       "      <td>/Restaurant_Review-g187147-d1912643-Reviews-R_...</td>\n",
       "      <td>d1912643</td>\n",
       "      <td>2.0</td>\n",
       "      <td>['European', 'French', 'International']</td>\n",
       "      <td>3</td>\n",
       "      <td>24</td>\n",
       "    </tr>\n",
       "    <tr>\n",
       "      <th>1</th>\n",
       "      <td>1</td>\n",
       "      <td>id_1535</td>\n",
       "      <td>Stockholm</td>\n",
       "      <td>Unknown</td>\n",
       "      <td>1537.0</td>\n",
       "      <td>4.0</td>\n",
       "      <td>10.0</td>\n",
       "      <td>[['Unique cuisine', 'Delicious Nepalese food']...</td>\n",
       "      <td>/Restaurant_Review-g189852-d7992032-Reviews-Bu...</td>\n",
       "      <td>d7992032</td>\n",
       "      <td>2.0</td>\n",
       "      <td>['Asian', 'Nepali']</td>\n",
       "      <td>2</td>\n",
       "      <td>27</td>\n",
       "    </tr>\n",
       "    <tr>\n",
       "      <th>2</th>\n",
       "      <td>2</td>\n",
       "      <td>id_352</td>\n",
       "      <td>London</td>\n",
       "      <td>['Japanese', 'Sushi', 'Asian', 'Grill', 'Veget...</td>\n",
       "      <td>353.0</td>\n",
       "      <td>4.5</td>\n",
       "      <td>688.0</td>\n",
       "      <td>[['Catch up with friends', 'Not exceptional'],...</td>\n",
       "      <td>/Restaurant_Review-g186338-d8632781-Reviews-RO...</td>\n",
       "      <td>d8632781</td>\n",
       "      <td>3.0</td>\n",
       "      <td>['Japanese', 'Sushi', 'Asian', 'Grill', 'Veget...</td>\n",
       "      <td>7</td>\n",
       "      <td>16</td>\n",
       "    </tr>\n",
       "    <tr>\n",
       "      <th>3</th>\n",
       "      <td>3</td>\n",
       "      <td>id_3456</td>\n",
       "      <td>Berlin</td>\n",
       "      <td>Unknown</td>\n",
       "      <td>3458.0</td>\n",
       "      <td>5.0</td>\n",
       "      <td>3.0</td>\n",
       "      <td>[[], []]</td>\n",
       "      <td>/Restaurant_Review-g187323-d1358776-Reviews-Es...</td>\n",
       "      <td>d1358776</td>\n",
       "      <td>2.0</td>\n",
       "      <td>[]</td>\n",
       "      <td>0</td>\n",
       "      <td>3</td>\n",
       "    </tr>\n",
       "    <tr>\n",
       "      <th>4</th>\n",
       "      <td>4</td>\n",
       "      <td>id_615</td>\n",
       "      <td>Munich</td>\n",
       "      <td>['German', 'Central European', 'Vegetarian Fri...</td>\n",
       "      <td>621.0</td>\n",
       "      <td>4.0</td>\n",
       "      <td>84.0</td>\n",
       "      <td>[['Best place to try a Bavarian food', 'Nice b...</td>\n",
       "      <td>/Restaurant_Review-g187309-d6864963-Reviews-Au...</td>\n",
       "      <td>d6864963</td>\n",
       "      <td>2.0</td>\n",
       "      <td>['German', 'Central European', 'Vegetarian Fri...</td>\n",
       "      <td>3</td>\n",
       "      <td>21</td>\n",
       "    </tr>\n",
       "  </tbody>\n",
       "</table>\n",
       "</div>"
      ],
      "text/plain": [
       "   Unnamed: 0       id       city  \\\n",
       "0           0  id_5569      Paris   \n",
       "1           1  id_1535  Stockholm   \n",
       "2           2   id_352     London   \n",
       "3           3  id_3456     Berlin   \n",
       "4           4   id_615     Munich   \n",
       "\n",
       "                                             cuisine  ranking  rating    nor  \\\n",
       "0            ['European', 'French', 'International']   5570.0     3.5  194.0   \n",
       "1                                            Unknown   1537.0     4.0   10.0   \n",
       "2  ['Japanese', 'Sushi', 'Asian', 'Grill', 'Veget...    353.0     4.5  688.0   \n",
       "3                                            Unknown   3458.0     5.0    3.0   \n",
       "4  ['German', 'Central European', 'Vegetarian Fri...    621.0     4.0   84.0   \n",
       "\n",
       "                                             reviews  \\\n",
       "0  [['Good food at your doorstep', 'A good hotel ...   \n",
       "1  [['Unique cuisine', 'Delicious Nepalese food']...   \n",
       "2  [['Catch up with friends', 'Not exceptional'],...   \n",
       "3                                           [[], []]   \n",
       "4  [['Best place to try a Bavarian food', 'Nice b...   \n",
       "\n",
       "                                              url_ta     id_ta  prcat  \\\n",
       "0  /Restaurant_Review-g187147-d1912643-Reviews-R_...  d1912643    2.0   \n",
       "1  /Restaurant_Review-g189852-d7992032-Reviews-Bu...  d7992032    2.0   \n",
       "2  /Restaurant_Review-g186338-d8632781-Reviews-RO...  d8632781    3.0   \n",
       "3  /Restaurant_Review-g187323-d1358776-Reviews-Es...  d1358776    2.0   \n",
       "4  /Restaurant_Review-g187309-d6864963-Reviews-Au...  d6864963    2.0   \n",
       "\n",
       "                                         col_cuisine  col_c  city_le  \n",
       "0            ['European', 'French', 'International']      3       24  \n",
       "1                                ['Asian', 'Nepali']      2       27  \n",
       "2  ['Japanese', 'Sushi', 'Asian', 'Grill', 'Veget...      7       16  \n",
       "3                                                 []      0        3  \n",
       "4  ['German', 'Central European', 'Vegetarian Fri...      3       21  "
      ]
     },
     "execution_count": 7,
     "metadata": {},
     "output_type": "execute_result"
    }
   ],
   "source": [
    "df_train.head(5)"
   ]
  },
  {
   "cell_type": "code",
   "execution_count": 8,
   "metadata": {
    "execution": {
     "iopub.execute_input": "2021-08-19T09:33:53.682776Z",
     "iopub.status.busy": "2021-08-19T09:33:53.682379Z",
     "iopub.status.idle": "2021-08-19T09:33:53.700129Z",
     "shell.execute_reply": "2021-08-19T09:33:53.699195Z",
     "shell.execute_reply.started": "2021-08-19T09:33:53.682718Z"
    }
   },
   "outputs": [
    {
     "name": "stdout",
     "output_type": "stream",
     "text": [
      "<class 'pandas.core.frame.DataFrame'>\n",
      "RangeIndex: 10000 entries, 0 to 9999\n",
      "Data columns (total 9 columns):\n",
      " #   Column             Non-Null Count  Dtype  \n",
      "---  ------             --------------  -----  \n",
      " 0   Restaurant_id      10000 non-null  object \n",
      " 1   City               10000 non-null  object \n",
      " 2   Cuisine Style      7693 non-null   object \n",
      " 3   Ranking            10000 non-null  float64\n",
      " 4   Price Range        6525 non-null   object \n",
      " 5   Number of Reviews  9343 non-null   float64\n",
      " 6   Reviews            9998 non-null   object \n",
      " 7   URL_TA             10000 non-null  object \n",
      " 8   ID_TA              10000 non-null  object \n",
      "dtypes: float64(2), object(7)\n",
      "memory usage: 703.2+ KB\n"
     ]
    }
   ],
   "source": [
    "df_test.info()"
   ]
  },
  {
   "cell_type": "code",
   "execution_count": 9,
   "metadata": {
    "execution": {
     "iopub.execute_input": "2021-08-19T09:34:01.124577Z",
     "iopub.status.busy": "2021-08-19T09:34:01.124197Z",
     "iopub.status.idle": "2021-08-19T09:34:01.144282Z",
     "shell.execute_reply": "2021-08-19T09:34:01.143028Z",
     "shell.execute_reply.started": "2021-08-19T09:34:01.124520Z"
    }
   },
   "outputs": [
    {
     "data": {
      "text/html": [
       "<div>\n",
       "<style scoped>\n",
       "    .dataframe tbody tr th:only-of-type {\n",
       "        vertical-align: middle;\n",
       "    }\n",
       "\n",
       "    .dataframe tbody tr th {\n",
       "        vertical-align: top;\n",
       "    }\n",
       "\n",
       "    .dataframe thead th {\n",
       "        text-align: right;\n",
       "    }\n",
       "</style>\n",
       "<table border=\"1\" class=\"dataframe\">\n",
       "  <thead>\n",
       "    <tr style=\"text-align: right;\">\n",
       "      <th></th>\n",
       "      <th>Restaurant_id</th>\n",
       "      <th>City</th>\n",
       "      <th>Cuisine Style</th>\n",
       "      <th>Ranking</th>\n",
       "      <th>Price Range</th>\n",
       "      <th>Number of Reviews</th>\n",
       "      <th>Reviews</th>\n",
       "      <th>URL_TA</th>\n",
       "      <th>ID_TA</th>\n",
       "    </tr>\n",
       "  </thead>\n",
       "  <tbody>\n",
       "    <tr>\n",
       "      <th>0</th>\n",
       "      <td>id_0</td>\n",
       "      <td>Paris</td>\n",
       "      <td>['Bar', 'Pub']</td>\n",
       "      <td>12963.0</td>\n",
       "      <td>$$ - $$$</td>\n",
       "      <td>4.0</td>\n",
       "      <td>[[], []]</td>\n",
       "      <td>/Restaurant_Review-g187147-d10746918-Reviews-L...</td>\n",
       "      <td>d10746918</td>\n",
       "    </tr>\n",
       "    <tr>\n",
       "      <th>1</th>\n",
       "      <td>id_1</td>\n",
       "      <td>Helsinki</td>\n",
       "      <td>['European', 'Scandinavian', 'Gluten Free Opti...</td>\n",
       "      <td>106.0</td>\n",
       "      <td>$$ - $$$</td>\n",
       "      <td>97.0</td>\n",
       "      <td>[['Very good reviews!', 'Fine dining in Hakani...</td>\n",
       "      <td>/Restaurant_Review-g189934-d6674944-Reviews-Ra...</td>\n",
       "      <td>d6674944</td>\n",
       "    </tr>\n",
       "    <tr>\n",
       "      <th>2</th>\n",
       "      <td>id_2</td>\n",
       "      <td>Edinburgh</td>\n",
       "      <td>['Vegetarian Friendly']</td>\n",
       "      <td>810.0</td>\n",
       "      <td>$$ - $$$</td>\n",
       "      <td>28.0</td>\n",
       "      <td>[['Better than the Links', 'Ivy Black'], ['12/...</td>\n",
       "      <td>/Restaurant_Review-g186525-d13129638-Reviews-B...</td>\n",
       "      <td>d13129638</td>\n",
       "    </tr>\n",
       "    <tr>\n",
       "      <th>3</th>\n",
       "      <td>id_3</td>\n",
       "      <td>London</td>\n",
       "      <td>['Italian', 'Mediterranean', 'European', 'Vege...</td>\n",
       "      <td>1669.0</td>\n",
       "      <td>$$$$</td>\n",
       "      <td>202.0</td>\n",
       "      <td>[['Most exquisite', 'Delicious and authentic']...</td>\n",
       "      <td>/Restaurant_Review-g186338-d680417-Reviews-Qui...</td>\n",
       "      <td>d680417</td>\n",
       "    </tr>\n",
       "    <tr>\n",
       "      <th>4</th>\n",
       "      <td>id_4</td>\n",
       "      <td>Bratislava</td>\n",
       "      <td>['Italian', 'Mediterranean', 'European', 'Seaf...</td>\n",
       "      <td>37.0</td>\n",
       "      <td>$$$$</td>\n",
       "      <td>162.0</td>\n",
       "      <td>[['Always the best in bratislava', 'Very good ...</td>\n",
       "      <td>/Restaurant_Review-g274924-d1112354-Reviews-Ma...</td>\n",
       "      <td>d1112354</td>\n",
       "    </tr>\n",
       "  </tbody>\n",
       "</table>\n",
       "</div>"
      ],
      "text/plain": [
       "  Restaurant_id        City  \\\n",
       "0          id_0       Paris   \n",
       "1          id_1    Helsinki   \n",
       "2          id_2   Edinburgh   \n",
       "3          id_3      London   \n",
       "4          id_4  Bratislava   \n",
       "\n",
       "                                       Cuisine Style  Ranking Price Range  \\\n",
       "0                                     ['Bar', 'Pub']  12963.0    $$ - $$$   \n",
       "1  ['European', 'Scandinavian', 'Gluten Free Opti...    106.0    $$ - $$$   \n",
       "2                            ['Vegetarian Friendly']    810.0    $$ - $$$   \n",
       "3  ['Italian', 'Mediterranean', 'European', 'Vege...   1669.0        $$$$   \n",
       "4  ['Italian', 'Mediterranean', 'European', 'Seaf...     37.0        $$$$   \n",
       "\n",
       "   Number of Reviews                                            Reviews  \\\n",
       "0                4.0                                           [[], []]   \n",
       "1               97.0  [['Very good reviews!', 'Fine dining in Hakani...   \n",
       "2               28.0  [['Better than the Links', 'Ivy Black'], ['12/...   \n",
       "3              202.0  [['Most exquisite', 'Delicious and authentic']...   \n",
       "4              162.0  [['Always the best in bratislava', 'Very good ...   \n",
       "\n",
       "                                              URL_TA      ID_TA  \n",
       "0  /Restaurant_Review-g187147-d10746918-Reviews-L...  d10746918  \n",
       "1  /Restaurant_Review-g189934-d6674944-Reviews-Ra...   d6674944  \n",
       "2  /Restaurant_Review-g186525-d13129638-Reviews-B...  d13129638  \n",
       "3  /Restaurant_Review-g186338-d680417-Reviews-Qui...    d680417  \n",
       "4  /Restaurant_Review-g274924-d1112354-Reviews-Ma...   d1112354  "
      ]
     },
     "execution_count": 9,
     "metadata": {},
     "output_type": "execute_result"
    }
   ],
   "source": [
    "df_test.head(5)"
   ]
  },
  {
   "cell_type": "code",
   "execution_count": 10,
   "metadata": {
    "execution": {
     "iopub.execute_input": "2021-08-19T09:34:04.146484Z",
     "iopub.status.busy": "2021-08-19T09:34:04.146105Z",
     "iopub.status.idle": "2021-08-19T09:34:04.158712Z",
     "shell.execute_reply": "2021-08-19T09:34:04.157511Z",
     "shell.execute_reply.started": "2021-08-19T09:34:04.146426Z"
    }
   },
   "outputs": [
    {
     "data": {
      "text/html": [
       "<div>\n",
       "<style scoped>\n",
       "    .dataframe tbody tr th:only-of-type {\n",
       "        vertical-align: middle;\n",
       "    }\n",
       "\n",
       "    .dataframe tbody tr th {\n",
       "        vertical-align: top;\n",
       "    }\n",
       "\n",
       "    .dataframe thead th {\n",
       "        text-align: right;\n",
       "    }\n",
       "</style>\n",
       "<table border=\"1\" class=\"dataframe\">\n",
       "  <thead>\n",
       "    <tr style=\"text-align: right;\">\n",
       "      <th></th>\n",
       "      <th>Restaurant_id</th>\n",
       "      <th>Rating</th>\n",
       "    </tr>\n",
       "  </thead>\n",
       "  <tbody>\n",
       "    <tr>\n",
       "      <th>0</th>\n",
       "      <td>id_0</td>\n",
       "      <td>2.0</td>\n",
       "    </tr>\n",
       "    <tr>\n",
       "      <th>1</th>\n",
       "      <td>id_1</td>\n",
       "      <td>2.5</td>\n",
       "    </tr>\n",
       "    <tr>\n",
       "      <th>2</th>\n",
       "      <td>id_2</td>\n",
       "      <td>4.0</td>\n",
       "    </tr>\n",
       "    <tr>\n",
       "      <th>3</th>\n",
       "      <td>id_3</td>\n",
       "      <td>1.0</td>\n",
       "    </tr>\n",
       "    <tr>\n",
       "      <th>4</th>\n",
       "      <td>id_4</td>\n",
       "      <td>4.0</td>\n",
       "    </tr>\n",
       "  </tbody>\n",
       "</table>\n",
       "</div>"
      ],
      "text/plain": [
       "  Restaurant_id  Rating\n",
       "0          id_0     2.0\n",
       "1          id_1     2.5\n",
       "2          id_2     4.0\n",
       "3          id_3     1.0\n",
       "4          id_4     4.0"
      ]
     },
     "execution_count": 10,
     "metadata": {},
     "output_type": "execute_result"
    }
   ],
   "source": [
    "sample_submission.head(5)"
   ]
  },
  {
   "cell_type": "code",
   "execution_count": 11,
   "metadata": {
    "execution": {
     "iopub.execute_input": "2021-08-19T09:34:25.558056Z",
     "iopub.status.busy": "2021-08-19T09:34:25.557710Z",
     "iopub.status.idle": "2021-08-19T09:34:25.568995Z",
     "shell.execute_reply": "2021-08-19T09:34:25.567716Z",
     "shell.execute_reply.started": "2021-08-19T09:34:25.558000Z"
    }
   },
   "outputs": [
    {
     "name": "stdout",
     "output_type": "stream",
     "text": [
      "<class 'pandas.core.frame.DataFrame'>\n",
      "RangeIndex: 10000 entries, 0 to 9999\n",
      "Data columns (total 2 columns):\n",
      " #   Column         Non-Null Count  Dtype  \n",
      "---  ------         --------------  -----  \n",
      " 0   Restaurant_id  10000 non-null  object \n",
      " 1   Rating         10000 non-null  float64\n",
      "dtypes: float64(1), object(1)\n",
      "memory usage: 156.4+ KB\n"
     ]
    }
   ],
   "source": [
    "sample_submission.info()"
   ]
  },
  {
   "cell_type": "code",
   "execution_count": 12,
   "metadata": {
    "execution": {
     "iopub.execute_input": "2021-08-19T09:34:53.081816Z",
     "iopub.status.busy": "2021-08-19T09:34:53.081436Z",
     "iopub.status.idle": "2021-08-19T09:34:53.136603Z",
     "shell.execute_reply": "2021-08-19T09:34:53.135656Z",
     "shell.execute_reply.started": "2021-08-19T09:34:53.081758Z"
    }
   },
   "outputs": [],
   "source": [
    "# ВАЖНО! дря корректной обработки признаков объединяем трейн и тест в один датасет\n",
    "df_train['sample'] = 1 # помечаем где у нас трейн\n",
    "df_test['sample'] = 0 # помечаем где у нас тест\n",
    "df_test['Rating'] = 0 # в тесте у нас нет значения Rating, мы его должны предсказать, по этому пока просто заполняем нулями\n",
    "\n",
    "data = df_test.append(df_train, sort=False).reset_index(drop=True) # объединяем"
   ]
  },
  {
   "cell_type": "code",
   "execution_count": 13,
   "metadata": {
    "execution": {
     "iopub.execute_input": "2021-08-19T09:34:56.233486Z",
     "iopub.status.busy": "2021-08-19T09:34:56.233169Z",
     "iopub.status.idle": "2021-08-19T09:34:56.280784Z",
     "shell.execute_reply": "2021-08-19T09:34:56.279378Z",
     "shell.execute_reply.started": "2021-08-19T09:34:56.233434Z"
    }
   },
   "outputs": [
    {
     "name": "stdout",
     "output_type": "stream",
     "text": [
      "<class 'pandas.core.frame.DataFrame'>\n",
      "RangeIndex: 50000 entries, 0 to 49999\n",
      "Data columns (total 25 columns):\n",
      " #   Column             Non-Null Count  Dtype  \n",
      "---  ------             --------------  -----  \n",
      " 0   Restaurant_id      10000 non-null  object \n",
      " 1   City               10000 non-null  object \n",
      " 2   Cuisine Style      7693 non-null   object \n",
      " 3   Ranking            10000 non-null  float64\n",
      " 4   Price Range        6525 non-null   object \n",
      " 5   Number of Reviews  9343 non-null   float64\n",
      " 6   Reviews            9998 non-null   object \n",
      " 7   URL_TA             10000 non-null  object \n",
      " 8   ID_TA              10000 non-null  object \n",
      " 9   sample             50000 non-null  int64  \n",
      " 10  Rating             10000 non-null  float64\n",
      " 11  Unnamed: 0         40000 non-null  float64\n",
      " 12  id                 40000 non-null  object \n",
      " 13  city               40000 non-null  object \n",
      " 14  cuisine            40000 non-null  object \n",
      " 15  ranking            40000 non-null  float64\n",
      " 16  rating             40000 non-null  float64\n",
      " 17  nor                40000 non-null  float64\n",
      " 18  reviews            40000 non-null  object \n",
      " 19  url_ta             40000 non-null  object \n",
      " 20  id_ta              40000 non-null  object \n",
      " 21  prcat              40000 non-null  float64\n",
      " 22  col_cuisine        40000 non-null  object \n",
      " 23  col_c              40000 non-null  float64\n",
      " 24  city_le            40000 non-null  float64\n",
      "dtypes: float64(10), int64(1), object(14)\n",
      "memory usage: 9.5+ MB\n"
     ]
    }
   ],
   "source": [
    "data.info()"
   ]
  },
  {
   "cell_type": "markdown",
   "metadata": {},
   "source": [
    "Подробнее по признакам:\n",
    "* City: Город \n",
    "* Cuisine Style: Кухня\n",
    "* Ranking: Ранг ресторана относительно других ресторанов в этом городе\n",
    "* Price Range: Цены в ресторане в 3 категориях\n",
    "* Number of Reviews: Количество отзывов\n",
    "* Reviews: 2 последних отзыва и даты этих отзывов\n",
    "* URL_TA: страница ресторана на 'www.tripadvisor.com' \n",
    "* ID_TA: ID ресторана в TripAdvisor\n",
    "* Rating: Рейтинг ресторана"
   ]
  },
  {
   "cell_type": "code",
   "execution_count": 14,
   "metadata": {
    "execution": {
     "iopub.execute_input": "2021-08-19T09:35:30.020000Z",
     "iopub.status.busy": "2021-08-19T09:35:30.019633Z",
     "iopub.status.idle": "2021-08-19T09:35:30.044058Z",
     "shell.execute_reply": "2021-08-19T09:35:30.042979Z",
     "shell.execute_reply.started": "2021-08-19T09:35:30.019947Z"
    }
   },
   "outputs": [
    {
     "data": {
      "text/html": [
       "<div>\n",
       "<style scoped>\n",
       "    .dataframe tbody tr th:only-of-type {\n",
       "        vertical-align: middle;\n",
       "    }\n",
       "\n",
       "    .dataframe tbody tr th {\n",
       "        vertical-align: top;\n",
       "    }\n",
       "\n",
       "    .dataframe thead th {\n",
       "        text-align: right;\n",
       "    }\n",
       "</style>\n",
       "<table border=\"1\" class=\"dataframe\">\n",
       "  <thead>\n",
       "    <tr style=\"text-align: right;\">\n",
       "      <th></th>\n",
       "      <th>Restaurant_id</th>\n",
       "      <th>City</th>\n",
       "      <th>Cuisine Style</th>\n",
       "      <th>Ranking</th>\n",
       "      <th>Price Range</th>\n",
       "      <th>Number of Reviews</th>\n",
       "      <th>Reviews</th>\n",
       "      <th>URL_TA</th>\n",
       "      <th>ID_TA</th>\n",
       "      <th>sample</th>\n",
       "      <th>...</th>\n",
       "      <th>ranking</th>\n",
       "      <th>rating</th>\n",
       "      <th>nor</th>\n",
       "      <th>reviews</th>\n",
       "      <th>url_ta</th>\n",
       "      <th>id_ta</th>\n",
       "      <th>prcat</th>\n",
       "      <th>col_cuisine</th>\n",
       "      <th>col_c</th>\n",
       "      <th>city_le</th>\n",
       "    </tr>\n",
       "  </thead>\n",
       "  <tbody>\n",
       "    <tr>\n",
       "      <th>39604</th>\n",
       "      <td>NaN</td>\n",
       "      <td>NaN</td>\n",
       "      <td>NaN</td>\n",
       "      <td>NaN</td>\n",
       "      <td>NaN</td>\n",
       "      <td>NaN</td>\n",
       "      <td>NaN</td>\n",
       "      <td>NaN</td>\n",
       "      <td>NaN</td>\n",
       "      <td>1</td>\n",
       "      <td>...</td>\n",
       "      <td>6271.0</td>\n",
       "      <td>4.0</td>\n",
       "      <td>15.0</td>\n",
       "      <td>[[], []]</td>\n",
       "      <td>/Restaurant_Review-g187514-d9872428-Reviews-Re...</td>\n",
       "      <td>d9872428</td>\n",
       "      <td>2.0</td>\n",
       "      <td>[]</td>\n",
       "      <td>0.0</td>\n",
       "      <td>19.0</td>\n",
       "    </tr>\n",
       "    <tr>\n",
       "      <th>16088</th>\n",
       "      <td>NaN</td>\n",
       "      <td>NaN</td>\n",
       "      <td>NaN</td>\n",
       "      <td>NaN</td>\n",
       "      <td>NaN</td>\n",
       "      <td>NaN</td>\n",
       "      <td>NaN</td>\n",
       "      <td>NaN</td>\n",
       "      <td>NaN</td>\n",
       "      <td>1</td>\n",
       "      <td>...</td>\n",
       "      <td>1648.0</td>\n",
       "      <td>3.5</td>\n",
       "      <td>33.0</td>\n",
       "      <td>[['Cozy little place', 'Not really a cosy wine...</td>\n",
       "      <td>/Restaurant_Review-g188644-d2159190-Reviews-Wi...</td>\n",
       "      <td>d2159190</td>\n",
       "      <td>2.0</td>\n",
       "      <td>['French', 'European', 'Wine Bar', 'Mediterran...</td>\n",
       "      <td>4.0</td>\n",
       "      <td>5.0</td>\n",
       "    </tr>\n",
       "    <tr>\n",
       "      <th>9481</th>\n",
       "      <td>id_9481</td>\n",
       "      <td>Krakow</td>\n",
       "      <td>['Polish', 'European', 'Eastern European', 'Ce...</td>\n",
       "      <td>171.0</td>\n",
       "      <td>$$ - $$$</td>\n",
       "      <td>406.0</td>\n",
       "      <td>[['true polish experience', 'Not amazing, but ...</td>\n",
       "      <td>/Restaurant_Review-g274772-d2660448-Reviews-St...</td>\n",
       "      <td>d2660448</td>\n",
       "      <td>0</td>\n",
       "      <td>...</td>\n",
       "      <td>NaN</td>\n",
       "      <td>NaN</td>\n",
       "      <td>NaN</td>\n",
       "      <td>NaN</td>\n",
       "      <td>NaN</td>\n",
       "      <td>NaN</td>\n",
       "      <td>NaN</td>\n",
       "      <td>NaN</td>\n",
       "      <td>NaN</td>\n",
       "      <td>NaN</td>\n",
       "    </tr>\n",
       "    <tr>\n",
       "      <th>13636</th>\n",
       "      <td>NaN</td>\n",
       "      <td>NaN</td>\n",
       "      <td>NaN</td>\n",
       "      <td>NaN</td>\n",
       "      <td>NaN</td>\n",
       "      <td>NaN</td>\n",
       "      <td>NaN</td>\n",
       "      <td>NaN</td>\n",
       "      <td>NaN</td>\n",
       "      <td>1</td>\n",
       "      <td>...</td>\n",
       "      <td>16.0</td>\n",
       "      <td>4.0</td>\n",
       "      <td>812.0</td>\n",
       "      <td>[['Very good traditional Italian restaurant.',...</td>\n",
       "      <td>/Restaurant_Review-g188113-d697929-Reviews-Can...</td>\n",
       "      <td>d697929</td>\n",
       "      <td>3.0</td>\n",
       "      <td>['Italian', 'Mediterranean', 'European', 'Deli...</td>\n",
       "      <td>7.0</td>\n",
       "      <td>30.0</td>\n",
       "    </tr>\n",
       "    <tr>\n",
       "      <th>35147</th>\n",
       "      <td>NaN</td>\n",
       "      <td>NaN</td>\n",
       "      <td>NaN</td>\n",
       "      <td>NaN</td>\n",
       "      <td>NaN</td>\n",
       "      <td>NaN</td>\n",
       "      <td>NaN</td>\n",
       "      <td>NaN</td>\n",
       "      <td>NaN</td>\n",
       "      <td>1</td>\n",
       "      <td>...</td>\n",
       "      <td>2032.0</td>\n",
       "      <td>4.0</td>\n",
       "      <td>47.0</td>\n",
       "      <td>[['Dinner', 'A great choice!'], ['08/29/2017',...</td>\n",
       "      <td>/Restaurant_Review-g187323-d1906057-Reviews-Ta...</td>\n",
       "      <td>d1906057</td>\n",
       "      <td>2.0</td>\n",
       "      <td>['Chinese', 'Asian', 'Vegetarian Friendly']</td>\n",
       "      <td>3.0</td>\n",
       "      <td>3.0</td>\n",
       "    </tr>\n",
       "  </tbody>\n",
       "</table>\n",
       "<p>5 rows × 25 columns</p>\n",
       "</div>"
      ],
      "text/plain": [
       "      Restaurant_id    City  \\\n",
       "39604           NaN     NaN   \n",
       "16088           NaN     NaN   \n",
       "9481        id_9481  Krakow   \n",
       "13636           NaN     NaN   \n",
       "35147           NaN     NaN   \n",
       "\n",
       "                                           Cuisine Style  Ranking Price Range  \\\n",
       "39604                                                NaN      NaN         NaN   \n",
       "16088                                                NaN      NaN         NaN   \n",
       "9481   ['Polish', 'European', 'Eastern European', 'Ce...    171.0    $$ - $$$   \n",
       "13636                                                NaN      NaN         NaN   \n",
       "35147                                                NaN      NaN         NaN   \n",
       "\n",
       "       Number of Reviews                                            Reviews  \\\n",
       "39604                NaN                                                NaN   \n",
       "16088                NaN                                                NaN   \n",
       "9481               406.0  [['true polish experience', 'Not amazing, but ...   \n",
       "13636                NaN                                                NaN   \n",
       "35147                NaN                                                NaN   \n",
       "\n",
       "                                                  URL_TA     ID_TA  sample  \\\n",
       "39604                                                NaN       NaN       1   \n",
       "16088                                                NaN       NaN       1   \n",
       "9481   /Restaurant_Review-g274772-d2660448-Reviews-St...  d2660448       0   \n",
       "13636                                                NaN       NaN       1   \n",
       "35147                                                NaN       NaN       1   \n",
       "\n",
       "       ...  ranking  rating    nor  \\\n",
       "39604  ...   6271.0     4.0   15.0   \n",
       "16088  ...   1648.0     3.5   33.0   \n",
       "9481   ...      NaN     NaN    NaN   \n",
       "13636  ...     16.0     4.0  812.0   \n",
       "35147  ...   2032.0     4.0   47.0   \n",
       "\n",
       "                                                 reviews  \\\n",
       "39604                                           [[], []]   \n",
       "16088  [['Cozy little place', 'Not really a cosy wine...   \n",
       "9481                                                 NaN   \n",
       "13636  [['Very good traditional Italian restaurant.',...   \n",
       "35147  [['Dinner', 'A great choice!'], ['08/29/2017',...   \n",
       "\n",
       "                                                  url_ta     id_ta  prcat  \\\n",
       "39604  /Restaurant_Review-g187514-d9872428-Reviews-Re...  d9872428    2.0   \n",
       "16088  /Restaurant_Review-g188644-d2159190-Reviews-Wi...  d2159190    2.0   \n",
       "9481                                                 NaN       NaN    NaN   \n",
       "13636  /Restaurant_Review-g188113-d697929-Reviews-Can...   d697929    3.0   \n",
       "35147  /Restaurant_Review-g187323-d1906057-Reviews-Ta...  d1906057    2.0   \n",
       "\n",
       "                                             col_cuisine col_c city_le  \n",
       "39604                                                 []   0.0    19.0  \n",
       "16088  ['French', 'European', 'Wine Bar', 'Mediterran...   4.0     5.0  \n",
       "9481                                                 NaN   NaN     NaN  \n",
       "13636  ['Italian', 'Mediterranean', 'European', 'Deli...   7.0    30.0  \n",
       "35147        ['Chinese', 'Asian', 'Vegetarian Friendly']   3.0     3.0  \n",
       "\n",
       "[5 rows x 25 columns]"
      ]
     },
     "execution_count": 14,
     "metadata": {},
     "output_type": "execute_result"
    }
   ],
   "source": [
    "data.sample(5)"
   ]
  },
  {
   "cell_type": "code",
   "execution_count": 15,
   "metadata": {
    "execution": {
     "iopub.execute_input": "2021-08-19T09:35:33.152022Z",
     "iopub.status.busy": "2021-08-19T09:35:33.151638Z",
     "iopub.status.idle": "2021-08-19T09:35:33.161270Z",
     "shell.execute_reply": "2021-08-19T09:35:33.160166Z",
     "shell.execute_reply.started": "2021-08-19T09:35:33.151962Z"
    }
   },
   "outputs": [
    {
     "data": {
      "text/plain": [
       "\"[['Very good reviews!', 'Fine dining in Hakaniemi'], ['12/05/2017', '10/29/2017']]\""
      ]
     },
     "execution_count": 15,
     "metadata": {},
     "output_type": "execute_result"
    }
   ],
   "source": [
    "data.Reviews[1]"
   ]
  },
  {
   "cell_type": "markdown",
   "metadata": {},
   "source": [
    "Как видим, большинство признаков у нас требует очистки и предварительной обработки."
   ]
  },
  {
   "cell_type": "code",
   "execution_count": 16,
   "metadata": {
    "execution": {
     "iopub.execute_input": "2021-08-19T09:35:44.074122Z",
     "iopub.status.busy": "2021-08-19T09:35:44.073759Z",
     "iopub.status.idle": "2021-08-19T09:35:44.506443Z",
     "shell.execute_reply": "2021-08-19T09:35:44.505219Z",
     "shell.execute_reply.started": "2021-08-19T09:35:44.074068Z"
    }
   },
   "outputs": [
    {
     "data": {
      "image/png": "[encoded data removed]",
      "text/plain": [
       "<Figure size 360x288 with 1 Axes>"
      ]
     },
     "metadata": {
      "needs_background": "light"
     },
     "output_type": "display_data"
    }
   ],
   "source": [
    "# Считаем процент пропусков\n",
    "per_nans = pd.DataFrame(1-data.count()/data.shape[0]).reset_index().rename({0:'percent'}, \\\n",
    "                                                axis=1).sort_values('percent', ascending=False).query('percent>0')\n",
    "# Строим график относительного количества пропущенных значений:\n",
    "fig, ax = plt.subplots(figsize = (5, 4))\n",
    "bar_plot = sns.barplot(x='percent', y='index', data=per_nans, alpha=0.8, ci=None)\n",
    "for ytick in bar_plot.get_yticks():\n",
    "        bar_plot.text(per_nans.iloc[ytick][1]+0.005, ytick+0.2, str(round(per_nans.iloc[ytick][1]*100,2))+' %', \n",
    "                    horizontalalignment='center',size=10, color='black',weight='semibold')\n",
    "plt.title('Относительное количество пропусков')\n",
    "plt.ylabel('')\n",
    "plt.xlabel('Percent', fontsize=12)\n",
    "plt.show()"
   ]
  },
  {
   "cell_type": "markdown",
   "metadata": {},
   "source": [
    "# Cleaning and Prepping Data\n",
    "Обычно данные содержат в себе кучу мусора, который необходимо почистить, для того чтобы привести их в приемлемый формат. Чистка данных — это необходимый этап решения почти любой реальной задачи.   \n",
    "![](https://analyticsindiamag.com/wp-content/uploads/2018/01/data-cleaning.png)"
   ]
  },
  {
   "cell_type": "markdown",
   "metadata": {},
   "source": [
    "## Очистка и обработка признаков"
   ]
  },
  {
   "cell_type": "markdown",
   "metadata": {},
   "source": [
    "# Restaurant_id"
   ]
  },
  {
   "cell_type": "code",
   "execution_count": 17,
   "metadata": {
    "execution": {
     "iopub.execute_input": "2021-08-19T09:36:00.616479Z",
     "iopub.status.busy": "2021-08-19T09:36:00.616096Z",
     "iopub.status.idle": "2021-08-19T09:36:00.651397Z",
     "shell.execute_reply": "2021-08-19T09:36:00.650694Z",
     "shell.execute_reply.started": "2021-08-19T09:36:00.616414Z"
    }
   },
   "outputs": [
    {
     "data": {
      "text/plain": [
       "id_4062    1\n",
       "id_3496    1\n",
       "id_7575    1\n",
       "id_8266    1\n",
       "id_239     1\n",
       "          ..\n",
       "id_1026    1\n",
       "id_4155    1\n",
       "id_1967    1\n",
       "id_2157    1\n",
       "id_2069    1\n",
       "Name: Restaurant_id, Length: 10000, dtype: int64"
      ]
     },
     "execution_count": 17,
     "metadata": {},
     "output_type": "execute_result"
    }
   ],
   "source": [
    "data['Restaurant_id'].value_counts()"
   ]
  },
  {
   "cell_type": "markdown",
   "metadata": {},
   "source": [
    "Некоторые id встречаются более 1 раза, что может быть всязано с тем, что они являются сетевыми. Создадим новый признак chain: 1 - ресторан сетевой, 0 - нет."
   ]
  },
  {
   "cell_type": "code",
   "execution_count": 18,
   "metadata": {
    "execution": {
     "iopub.execute_input": "2021-08-19T09:36:21.578216Z",
     "iopub.status.busy": "2021-08-19T09:36:21.577904Z",
     "iopub.status.idle": "2021-08-19T09:36:21.679059Z",
     "shell.execute_reply": "2021-08-19T09:36:21.677911Z",
     "shell.execute_reply.started": "2021-08-19T09:36:21.578163Z"
    }
   },
   "outputs": [],
   "source": [
    "chain_lst = list(data.Restaurant_id.value_counts()[data.Restaurant_id.value_counts() > 1].index)\n",
    "data['chain'] = data[data.Restaurant_id.isin(chain_lst)].Restaurant_id.apply(lambda x: 1)\n",
    "data['chain'].fillna(0, inplace=True)\n",
    "data['chain'] = data['chain'].astype(int)"
   ]
  },
  {
   "cell_type": "markdown",
   "metadata": {},
   "source": [
    "# City"
   ]
  },
  {
   "cell_type": "markdown",
   "metadata": {},
   "source": [
    "Посмотрим на распределение рейтингов по городам"
   ]
  },
  {
   "cell_type": "code",
   "execution_count": 19,
   "metadata": {
    "execution": {
     "iopub.execute_input": "2021-08-19T09:36:32.571720Z",
     "iopub.status.busy": "2021-08-19T09:36:32.571321Z",
     "iopub.status.idle": "2021-08-19T09:36:33.490054Z",
     "shell.execute_reply": "2021-08-19T09:36:33.488821Z",
     "shell.execute_reply.started": "2021-08-19T09:36:32.571660Z"
    }
   },
   "outputs": [
    {
     "ename": "ValueError",
     "evalue": "min() arg is an empty sequence",
     "output_type": "error",
     "traceback": [
      "\u001b[1;31m---------------------------------------------------------------------------\u001b[0m",
      "\u001b[1;31mValueError\u001b[0m                                Traceback (most recent call last)",
      "\u001b[1;32m<ipython-input-19-d6e22ed33d85>\u001b[0m in \u001b[0;36m<module>\u001b[1;34m\u001b[0m\n\u001b[0;32m      1\u001b[0m \u001b[0mplt\u001b[0m\u001b[1;33m.\u001b[0m\u001b[0mfigure\u001b[0m\u001b[1;33m(\u001b[0m\u001b[0mfigsize\u001b[0m\u001b[1;33m=\u001b[0m\u001b[1;33m(\u001b[0m\u001b[1;36m18\u001b[0m\u001b[1;33m,\u001b[0m \u001b[1;36m7\u001b[0m\u001b[1;33m)\u001b[0m\u001b[1;33m)\u001b[0m\u001b[1;33m\u001b[0m\u001b[1;33m\u001b[0m\u001b[0m\n\u001b[1;32m----> 2\u001b[1;33m \u001b[0msns\u001b[0m\u001b[1;33m.\u001b[0m\u001b[0mboxplot\u001b[0m\u001b[1;33m(\u001b[0m\u001b[0mx\u001b[0m\u001b[1;33m=\u001b[0m\u001b[1;34m'City'\u001b[0m\u001b[1;33m,\u001b[0m \u001b[0my\u001b[0m\u001b[1;33m=\u001b[0m\u001b[1;34m'Rating'\u001b[0m\u001b[1;33m,\u001b[0m \u001b[0mdata\u001b[0m\u001b[1;33m=\u001b[0m\u001b[0mdata\u001b[0m\u001b[1;33m[\u001b[0m\u001b[0mdata\u001b[0m\u001b[1;33m[\u001b[0m\u001b[1;34m'sample'\u001b[0m\u001b[1;33m]\u001b[0m \u001b[1;33m==\u001b[0m \u001b[1;36m1\u001b[0m\u001b[1;33m]\u001b[0m\u001b[1;33m)\u001b[0m\u001b[1;33m\u001b[0m\u001b[1;33m\u001b[0m\u001b[0m\n\u001b[0m\u001b[0;32m      3\u001b[0m \u001b[0mplt\u001b[0m\u001b[1;33m.\u001b[0m\u001b[0mxticks\u001b[0m\u001b[1;33m(\u001b[0m\u001b[0mrotation\u001b[0m\u001b[1;33m=\u001b[0m\u001b[1;36m90\u001b[0m\u001b[1;33m)\u001b[0m\u001b[1;33m;\u001b[0m\u001b[1;33m\u001b[0m\u001b[1;33m\u001b[0m\u001b[0m\n",
      "\u001b[1;32m~\\anaconda3\\lib\\site-packages\\seaborn\\_decorators.py\u001b[0m in \u001b[0;36minner_f\u001b[1;34m(*args, **kwargs)\u001b[0m\n\u001b[0;32m     44\u001b[0m             )\n\u001b[0;32m     45\u001b[0m         \u001b[0mkwargs\u001b[0m\u001b[1;33m.\u001b[0m\u001b[0mupdate\u001b[0m\u001b[1;33m(\u001b[0m\u001b[1;33m{\u001b[0m\u001b[0mk\u001b[0m\u001b[1;33m:\u001b[0m \u001b[0marg\u001b[0m \u001b[1;32mfor\u001b[0m \u001b[0mk\u001b[0m\u001b[1;33m,\u001b[0m \u001b[0marg\u001b[0m \u001b[1;32min\u001b[0m \u001b[0mzip\u001b[0m\u001b[1;33m(\u001b[0m\u001b[0msig\u001b[0m\u001b[1;33m.\u001b[0m\u001b[0mparameters\u001b[0m\u001b[1;33m,\u001b[0m \u001b[0margs\u001b[0m\u001b[1;33m)\u001b[0m\u001b[1;33m}\u001b[0m\u001b[1;33m)\u001b[0m\u001b[1;33m\u001b[0m\u001b[1;33m\u001b[0m\u001b[0m\n\u001b[1;32m---> 46\u001b[1;33m         \u001b[1;32mreturn\u001b[0m \u001b[0mf\u001b[0m\u001b[1;33m(\u001b[0m\u001b[1;33m**\u001b[0m\u001b[0mkwargs\u001b[0m\u001b[1;33m)\u001b[0m\u001b[1;33m\u001b[0m\u001b[1;33m\u001b[0m\u001b[0m\n\u001b[0m\u001b[0;32m     47\u001b[0m     \u001b[1;32mreturn\u001b[0m \u001b[0minner_f\u001b[0m\u001b[1;33m\u001b[0m\u001b[1;33m\u001b[0m\u001b[0m\n\u001b[0;32m     48\u001b[0m \u001b[1;33m\u001b[0m\u001b[0m\n",
      "\u001b[1;32m~\\anaconda3\\lib\\site-packages\\seaborn\\categorical.py\u001b[0m in \u001b[0;36mboxplot\u001b[1;34m(x, y, hue, data, order, hue_order, orient, color, palette, saturation, width, dodge, fliersize, linewidth, whis, ax, **kwargs)\u001b[0m\n\u001b[0;32m   2228\u001b[0m ):\n\u001b[0;32m   2229\u001b[0m \u001b[1;33m\u001b[0m\u001b[0m\n\u001b[1;32m-> 2230\u001b[1;33m     plotter = _BoxPlotter(x, y, hue, data, order, hue_order,\n\u001b[0m\u001b[0;32m   2231\u001b[0m                           \u001b[0morient\u001b[0m\u001b[1;33m,\u001b[0m \u001b[0mcolor\u001b[0m\u001b[1;33m,\u001b[0m \u001b[0mpalette\u001b[0m\u001b[1;33m,\u001b[0m \u001b[0msaturation\u001b[0m\u001b[1;33m,\u001b[0m\u001b[1;33m\u001b[0m\u001b[1;33m\u001b[0m\u001b[0m\n\u001b[0;32m   2232\u001b[0m                           width, dodge, fliersize, linewidth)\n",
      "\u001b[1;32m~\\anaconda3\\lib\\site-packages\\seaborn\\categorical.py\u001b[0m in \u001b[0;36m__init__\u001b[1;34m(self, x, y, hue, data, order, hue_order, orient, color, palette, saturation, width, dodge, fliersize, linewidth)\u001b[0m\n\u001b[0;32m    405\u001b[0m \u001b[1;33m\u001b[0m\u001b[0m\n\u001b[0;32m    406\u001b[0m         \u001b[0mself\u001b[0m\u001b[1;33m.\u001b[0m\u001b[0mestablish_variables\u001b[0m\u001b[1;33m(\u001b[0m\u001b[0mx\u001b[0m\u001b[1;33m,\u001b[0m \u001b[0my\u001b[0m\u001b[1;33m,\u001b[0m \u001b[0mhue\u001b[0m\u001b[1;33m,\u001b[0m \u001b[0mdata\u001b[0m\u001b[1;33m,\u001b[0m \u001b[0morient\u001b[0m\u001b[1;33m,\u001b[0m \u001b[0morder\u001b[0m\u001b[1;33m,\u001b[0m \u001b[0mhue_order\u001b[0m\u001b[1;33m)\u001b[0m\u001b[1;33m\u001b[0m\u001b[1;33m\u001b[0m\u001b[0m\n\u001b[1;32m--> 407\u001b[1;33m         \u001b[0mself\u001b[0m\u001b[1;33m.\u001b[0m\u001b[0mestablish_colors\u001b[0m\u001b[1;33m(\u001b[0m\u001b[0mcolor\u001b[0m\u001b[1;33m,\u001b[0m \u001b[0mpalette\u001b[0m\u001b[1;33m,\u001b[0m \u001b[0msaturation\u001b[0m\u001b[1;33m)\u001b[0m\u001b[1;33m\u001b[0m\u001b[1;33m\u001b[0m\u001b[0m\n\u001b[0m\u001b[0;32m    408\u001b[0m \u001b[1;33m\u001b[0m\u001b[0m\n\u001b[0;32m    409\u001b[0m         \u001b[0mself\u001b[0m\u001b[1;33m.\u001b[0m\u001b[0mdodge\u001b[0m \u001b[1;33m=\u001b[0m \u001b[0mdodge\u001b[0m\u001b[1;33m\u001b[0m\u001b[1;33m\u001b[0m\u001b[0m\n",
      "\u001b[1;32m~\\anaconda3\\lib\\site-packages\\seaborn\\categorical.py\u001b[0m in \u001b[0;36mestablish_colors\u001b[1;34m(self, color, palette, saturation)\u001b[0m\n\u001b[0;32m    317\u001b[0m         \u001b[1;31m# Determine the gray color to use for the lines framing the plot\u001b[0m\u001b[1;33m\u001b[0m\u001b[1;33m\u001b[0m\u001b[1;33m\u001b[0m\u001b[0m\n\u001b[0;32m    318\u001b[0m         \u001b[0mlight_vals\u001b[0m \u001b[1;33m=\u001b[0m \u001b[1;33m[\u001b[0m\u001b[0mcolorsys\u001b[0m\u001b[1;33m.\u001b[0m\u001b[0mrgb_to_hls\u001b[0m\u001b[1;33m(\u001b[0m\u001b[1;33m*\u001b[0m\u001b[0mc\u001b[0m\u001b[1;33m)\u001b[0m\u001b[1;33m[\u001b[0m\u001b[1;36m1\u001b[0m\u001b[1;33m]\u001b[0m \u001b[1;32mfor\u001b[0m \u001b[0mc\u001b[0m \u001b[1;32min\u001b[0m \u001b[0mrgb_colors\u001b[0m\u001b[1;33m]\u001b[0m\u001b[1;33m\u001b[0m\u001b[1;33m\u001b[0m\u001b[0m\n\u001b[1;32m--> 319\u001b[1;33m         \u001b[0mlum\u001b[0m \u001b[1;33m=\u001b[0m \u001b[0mmin\u001b[0m\u001b[1;33m(\u001b[0m\u001b[0mlight_vals\u001b[0m\u001b[1;33m)\u001b[0m \u001b[1;33m*\u001b[0m \u001b[1;36m.6\u001b[0m\u001b[1;33m\u001b[0m\u001b[1;33m\u001b[0m\u001b[0m\n\u001b[0m\u001b[0;32m    320\u001b[0m         \u001b[0mgray\u001b[0m \u001b[1;33m=\u001b[0m \u001b[0mmpl\u001b[0m\u001b[1;33m.\u001b[0m\u001b[0mcolors\u001b[0m\u001b[1;33m.\u001b[0m\u001b[0mrgb2hex\u001b[0m\u001b[1;33m(\u001b[0m\u001b[1;33m(\u001b[0m\u001b[0mlum\u001b[0m\u001b[1;33m,\u001b[0m \u001b[0mlum\u001b[0m\u001b[1;33m,\u001b[0m \u001b[0mlum\u001b[0m\u001b[1;33m)\u001b[0m\u001b[1;33m)\u001b[0m\u001b[1;33m\u001b[0m\u001b[1;33m\u001b[0m\u001b[0m\n\u001b[0;32m    321\u001b[0m \u001b[1;33m\u001b[0m\u001b[0m\n",
      "\u001b[1;31mValueError\u001b[0m: min() arg is an empty sequence"
     ]
    },
    {
     "data": {
      "text/plain": [
       "<Figure size 1296x504 with 0 Axes>"
      ]
     },
     "metadata": {},
     "output_type": "display_data"
    }
   ],
   "source": [
    "plt.figure(figsize=(18, 7))\n",
    "sns.boxplot(x='City', y='Rating', data=data[data['sample'] == 1])\n",
    "plt.xticks(rotation=90);"
   ]
  },
  {
   "cell_type": "markdown",
   "metadata": {},
   "source": [
    "### Number of reviews"
   ]
  },
  {
   "cell_type": "code",
   "execution_count": 20,
   "metadata": {
    "execution": {
     "iopub.execute_input": "2021-08-19T09:38:23.147627Z",
     "iopub.status.busy": "2021-08-19T09:38:23.146977Z",
     "iopub.status.idle": "2021-08-19T09:38:23.153322Z",
     "shell.execute_reply": "2021-08-19T09:38:23.152517Z",
     "shell.execute_reply.started": "2021-08-19T09:38:23.147575Z"
    }
   },
   "outputs": [],
   "source": [
    "# Обработаем пропуски столбца Number of Reviews - создадим дополнительный столбец\n",
    "data['Number_of_Reviews_isNAN'] = pd.isna(data['Number of Reviews']).astype('uint8')"
   ]
  },
  {
   "cell_type": "code",
   "execution_count": 21,
   "metadata": {
    "execution": {
     "iopub.execute_input": "2021-08-19T09:38:25.523766Z",
     "iopub.status.busy": "2021-08-19T09:38:25.523222Z",
     "iopub.status.idle": "2021-08-19T09:38:25.529882Z",
     "shell.execute_reply": "2021-08-19T09:38:25.528550Z",
     "shell.execute_reply.started": "2021-08-19T09:38:25.523717Z"
    }
   },
   "outputs": [],
   "source": [
    "# Заполним пропуски нулями, предполагая, что NaN может обозначать отсутствие отзывов\n",
    "data['Number of Reviews'].fillna(0, inplace=True)"
   ]
  },
  {
   "cell_type": "markdown",
   "metadata": {},
   "source": [
    "### Price Range"
   ]
  },
  {
   "cell_type": "code",
   "execution_count": 22,
   "metadata": {
    "execution": {
     "iopub.execute_input": "2021-08-19T09:38:29.193790Z",
     "iopub.status.busy": "2021-08-19T09:38:29.193301Z",
     "iopub.status.idle": "2021-08-19T09:38:29.203142Z",
     "shell.execute_reply": "2021-08-19T09:38:29.202246Z",
     "shell.execute_reply.started": "2021-08-19T09:38:29.193746Z"
    }
   },
   "outputs": [
    {
     "data": {
      "text/plain": [
       "$$ - $$$    4629\n",
       "$           1537\n",
       "$$$$         359\n",
       "Name: Price Range, dtype: int64"
      ]
     },
     "execution_count": 22,
     "metadata": {},
     "output_type": "execute_result"
    }
   ],
   "source": [
    "data['Price Range'].value_counts()"
   ]
  },
  {
   "cell_type": "markdown",
   "metadata": {},
   "source": [
    "По описанию 'Price Range' это - Цены в ресторане.  \n",
    "Их можно поставить по возрастанию (значит это не категориальный признак). А это значит, что их можно заменить последовательными числами, например 1,2,3  "
   ]
  },
  {
   "cell_type": "code",
   "execution_count": 23,
   "metadata": {
    "execution": {
     "iopub.execute_input": "2021-08-19T09:38:32.851591Z",
     "iopub.status.busy": "2021-08-19T09:38:32.851117Z",
     "iopub.status.idle": "2021-08-19T09:38:32.884666Z",
     "shell.execute_reply": "2021-08-19T09:38:32.883239Z",
     "shell.execute_reply.started": "2021-08-19T09:38:32.851525Z"
    }
   },
   "outputs": [],
   "source": [
    "# Создадим дополнительный столбец Price_Range_isNAN\n",
    "data['Price_Range_isNAN'] = pd.isna(data['Price Range']).astype('uint8')\n",
    "# Заменим Price Range числами, при этом попробуем заменить NAN на 2 - самую часто встречающуюся ценовую категорию\n",
    "replace_price_range = {'Price Range': {\"$\": 1, \"$$ - $$$\": 2, \"$$$$\": 3, np.NaN: 2}}\n",
    "data.replace(replace_price_range, inplace=True)"
   ]
  },
  {
   "cell_type": "markdown",
   "metadata": {},
   "source": [
    "### Cuisine Style"
   ]
  },
  {
   "cell_type": "code",
   "execution_count": 24,
   "metadata": {
    "execution": {
     "iopub.execute_input": "2021-08-19T09:40:29.813573Z",
     "iopub.status.busy": "2021-08-19T09:40:29.813175Z",
     "iopub.status.idle": "2021-08-19T09:40:29.827697Z",
     "shell.execute_reply": "2021-08-19T09:40:29.826468Z",
     "shell.execute_reply.started": "2021-08-19T09:40:29.813502Z"
    }
   },
   "outputs": [],
   "source": [
    "# Также создадим столбец, содержащий информацию о пропусках\n",
    "data['Cuisine_Style_isNAN'] = pd.isna(data['Cuisine Style']).astype('uint8')"
   ]
  },
  {
   "cell_type": "code",
   "execution_count": 25,
   "metadata": {
    "execution": {
     "iopub.execute_input": "2021-08-19T09:40:32.939307Z",
     "iopub.status.busy": "2021-08-19T09:40:32.938937Z",
     "iopub.status.idle": "2021-08-19T09:40:32.952700Z",
     "shell.execute_reply": "2021-08-19T09:40:32.951045Z",
     "shell.execute_reply.started": "2021-08-19T09:40:32.939254Z"
    }
   },
   "outputs": [],
   "source": [
    "# Заменим пропуски на Unknown\n",
    "data['Cuisine Style'] = data['Cuisine Style'].fillna(\"['Unknown']\")"
   ]
  },
  {
   "cell_type": "code",
   "execution_count": 26,
   "metadata": {
    "execution": {
     "iopub.execute_input": "2021-08-19T09:40:35.173903Z",
     "iopub.status.busy": "2021-08-19T09:40:35.173429Z",
     "iopub.status.idle": "2021-08-19T09:40:35.181499Z",
     "shell.execute_reply": "2021-08-19T09:40:35.180777Z",
     "shell.execute_reply.started": "2021-08-19T09:40:35.173860Z"
    }
   },
   "outputs": [],
   "source": [
    "def cuisine (df):\n",
    "    # Приводим все названия кухонь к одному формату.\n",
    "    df['Cuisine Style'] = df['Cuisine Style'].str.lower()\n",
    "\n",
    "    # Делаем преобразования.\n",
    "    cuisineStyle = set()\n",
    "    cuisines = df['Cuisine Style'].to_list()\n",
    "\n",
    "    # Заполняем сет для получения уникальных значений.\n",
    "    # А так же создаем список\n",
    "    for cuisine in cuisines:\n",
    "        cuisine = re.findall(r\"'([\\s\\S]+?)'\", cuisine)\n",
    "        for j in cuisine:\n",
    "            cuisineStyle.add(j)\n",
    "    \n",
    "    for item in cuisineStyle:\n",
    "        df[item] = df['Cuisine Style'].apply(lambda x: 1 if item in x else 0)\n",
    "    return df"
   ]
  },
  {
   "cell_type": "code",
   "execution_count": 27,
   "metadata": {
    "execution": {
     "iopub.execute_input": "2021-08-19T09:40:38.173124Z",
     "iopub.status.busy": "2021-08-19T09:40:38.172507Z",
     "iopub.status.idle": "2021-08-19T09:40:42.534347Z",
     "shell.execute_reply": "2021-08-19T09:40:42.532989Z",
     "shell.execute_reply.started": "2021-08-19T09:40:38.173068Z"
    }
   },
   "outputs": [],
   "source": [
    "data = cuisine(data)"
   ]
  },
  {
   "cell_type": "markdown",
   "metadata": {},
   "source": [
    "Можно сделать фиктивные переменные"
   ]
  },
  {
   "cell_type": "markdown",
   "metadata": {},
   "source": [
    "### Ranking"
   ]
  },
  {
   "cell_type": "code",
   "execution_count": 28,
   "metadata": {
    "execution": {
     "iopub.execute_input": "2021-08-19T09:40:47.793271Z",
     "iopub.status.busy": "2021-08-19T09:40:47.792959Z",
     "iopub.status.idle": "2021-08-19T09:40:48.289555Z",
     "shell.execute_reply": "2021-08-19T09:40:48.287945Z",
     "shell.execute_reply.started": "2021-08-19T09:40:47.793222Z"
    }
   },
   "outputs": [
    {
     "data": {
      "text/plain": [
       "<AxesSubplot:>"
      ]
     },
     "execution_count": 28,
     "metadata": {},
     "output_type": "execute_result"
    },
    {
     "data": {
      "image/png": "[encoded data removed]",
      "text/plain": [
       "<Figure size 720x504 with 1 Axes>"
      ]
     },
     "metadata": {
      "needs_background": "light"
     },
     "output_type": "display_data"
    }
   ],
   "source": [
    "# Посмотрим распределение признака\n",
    "plt.rcParams['figure.figsize'] = (10,7)\n",
    "data['Ranking'].hist(bins=100)"
   ]
  },
  {
   "cell_type": "markdown",
   "metadata": {},
   "source": [
    "У нас много ресторанов, которые не дотягивают и до 2500 места в своем городе, а что там по городам?"
   ]
  },
  {
   "cell_type": "code",
   "execution_count": 29,
   "metadata": {
    "execution": {
     "iopub.execute_input": "2021-08-19T09:41:06.409739Z",
     "iopub.status.busy": "2021-08-19T09:41:06.409395Z",
     "iopub.status.idle": "2021-08-19T09:41:06.868296Z",
     "shell.execute_reply": "2021-08-19T09:41:06.866745Z",
     "shell.execute_reply.started": "2021-08-19T09:41:06.409688Z"
    }
   },
   "outputs": [
    {
     "data": {
      "text/plain": [
       "<AxesSubplot:>"
      ]
     },
     "execution_count": 29,
     "metadata": {},
     "output_type": "execute_result"
    },
    {
     "data": {
      "image/png": "[encoded data removed]",
      "text/plain": [
       "<Figure size 720x504 with 1 Axes>"
      ]
     },
     "metadata": {
      "needs_background": "light"
     },
     "output_type": "display_data"
    }
   ],
   "source": [
    "data['City'].value_counts(ascending=True).plot(kind='barh')"
   ]
  },
  {
   "cell_type": "code",
   "execution_count": 30,
   "metadata": {
    "execution": {
     "iopub.execute_input": "2021-08-19T09:41:15.104562Z",
     "iopub.status.busy": "2021-08-19T09:41:15.104163Z",
     "iopub.status.idle": "2021-08-19T09:41:15.591987Z",
     "shell.execute_reply": "2021-08-19T09:41:15.590725Z",
     "shell.execute_reply.started": "2021-08-19T09:41:15.104486Z"
    }
   },
   "outputs": [
    {
     "data": {
      "text/plain": [
       "<AxesSubplot:>"
      ]
     },
     "execution_count": 30,
     "metadata": {},
     "output_type": "execute_result"
    },
    {
     "data": {
      "image/png": "[encoded data removed]",
      "text/plain": [
       "<Figure size 720x504 with 1 Axes>"
      ]
     },
     "metadata": {
      "needs_background": "light"
     },
     "output_type": "display_data"
    }
   ],
   "source": [
    "data['Ranking'][data['City'] =='London'].hist(bins=100)"
   ]
  },
  {
   "cell_type": "code",
   "execution_count": 31,
   "metadata": {
    "execution": {
     "iopub.execute_input": "2021-08-19T09:41:20.400722Z",
     "iopub.status.busy": "2021-08-19T09:41:20.400343Z",
     "iopub.status.idle": "2021-08-19T09:41:23.168973Z",
     "shell.execute_reply": "2021-08-19T09:41:23.167822Z",
     "shell.execute_reply.started": "2021-08-19T09:41:20.400663Z"
    }
   },
   "outputs": [
    {
     "data": {
      "image/png": "[encoded data removed]",
      "text/plain": [
       "<Figure size 720x504 with 1 Axes>"
      ]
     },
     "metadata": {
      "needs_background": "light"
     },
     "output_type": "display_data"
    }
   ],
   "source": [
    "# посмотрим на топ 10 городов\n",
    "for x in (data['City'].value_counts())[0:10].index:\n",
    "    data['Ranking'][data['City'] == x].hist(bins=100)\n",
    "plt.show()"
   ]
  },
  {
   "cell_type": "markdown",
   "metadata": {},
   "source": [
    "Получается, что Ranking имеет нормальное распределение, просто в больших городах больше ресторанов, из-за мы этого имеем смещение."
   ]
  },
  {
   "cell_type": "markdown",
   "metadata": {},
   "source": [
    "### Нормализуем переменную Ranking"
   ]
  },
  {
   "cell_type": "code",
   "execution_count": 32,
   "metadata": {
    "execution": {
     "iopub.execute_input": "2021-08-19T09:41:35.910698Z",
     "iopub.status.busy": "2021-08-19T09:41:35.910351Z",
     "iopub.status.idle": "2021-08-19T09:41:35.939550Z",
     "shell.execute_reply": "2021-08-19T09:41:35.938757Z",
     "shell.execute_reply.started": "2021-08-19T09:41:35.910655Z"
    }
   },
   "outputs": [],
   "source": [
    "# Создадим признак - количество ресторанов в городе city_restaurants\n",
    "per_city_dict = dict(data['City'].value_counts())\n",
    "data['city_restaurants'] = data.City.map(per_city_dict)"
   ]
  },
  {
   "cell_type": "code",
   "execution_count": 33,
   "metadata": {
    "execution": {
     "iopub.execute_input": "2021-08-19T09:41:40.185097Z",
     "iopub.status.busy": "2021-08-19T09:41:40.184595Z",
     "iopub.status.idle": "2021-08-19T09:41:40.299321Z",
     "shell.execute_reply": "2021-08-19T09:41:40.298654Z",
     "shell.execute_reply.started": "2021-08-19T09:41:40.185031Z"
    }
   },
   "outputs": [],
   "source": [
    "# Добавим признак - нормализованный ранг ranking_norm\n",
    "data['ranking_norm'] = data.Ranking / data.city_restaurants"
   ]
  },
  {
   "cell_type": "code",
   "execution_count": 34,
   "metadata": {
    "execution": {
     "iopub.execute_input": "2021-08-19T09:41:46.217806Z",
     "iopub.status.busy": "2021-08-19T09:41:46.215633Z",
     "iopub.status.idle": "2021-08-19T09:41:48.961523Z",
     "shell.execute_reply": "2021-08-19T09:41:48.960500Z",
     "shell.execute_reply.started": "2021-08-19T09:41:46.216160Z"
    }
   },
   "outputs": [
    {
     "data": {
      "image/png": "[encoded data removed]",
      "text/plain": [
       "<Figure size 720x504 with 1 Axes>"
      ]
     },
     "metadata": {
      "needs_background": "light"
     },
     "output_type": "display_data"
    }
   ],
   "source": [
    "# Распределение после нормализации\n",
    "for x in (data['City'].value_counts())[0:10].index:\n",
    "    data['ranking_norm'][data['City'] == x].hist(bins=100)\n",
    "plt.show()"
   ]
  },
  {
   "cell_type": "code",
   "execution_count": 35,
   "metadata": {
    "execution": {
     "iopub.execute_input": "2021-08-19T09:41:54.769017Z",
     "iopub.status.busy": "2021-08-19T09:41:54.768563Z",
     "iopub.status.idle": "2021-08-19T09:41:54.794542Z",
     "shell.execute_reply": "2021-08-19T09:41:54.793455Z",
     "shell.execute_reply.started": "2021-08-19T09:41:54.768975Z"
    }
   },
   "outputs": [],
   "source": [
    "# Оставим для обучения модели только нормализованны ранг\n",
    "data.drop(['Ranking'], axis=1, inplace=True)"
   ]
  },
  {
   "cell_type": "markdown",
   "metadata": {},
   "source": [
    "### City"
   ]
  },
  {
   "cell_type": "code",
   "execution_count": 36,
   "metadata": {
    "execution": {
     "iopub.execute_input": "2021-08-19T09:42:16.722661Z",
     "iopub.status.busy": "2021-08-19T09:42:16.722272Z",
     "iopub.status.idle": "2021-08-19T09:42:16.756173Z",
     "shell.execute_reply": "2021-08-19T09:42:16.754998Z",
     "shell.execute_reply.started": "2021-08-19T09:42:16.722602Z"
    }
   },
   "outputs": [],
   "source": [
    "# Создадим dummy - переменные\n",
    "data = pd.get_dummies(data, columns=[ 'City',], dummy_na=True)"
   ]
  },
  {
   "cell_type": "markdown",
   "metadata": {},
   "source": [
    "## Reviews"
   ]
  },
  {
   "cell_type": "markdown",
   "metadata": {},
   "source": [
    "Создадим новый признак - количество положительных слов в отзывах review_mood"
   ]
  },
  {
   "cell_type": "code",
   "execution_count": 37,
   "metadata": {
    "execution": {
     "iopub.execute_input": "2021-08-19T09:43:00.151351Z",
     "iopub.status.busy": "2021-08-19T09:43:00.151022Z",
     "iopub.status.idle": "2021-08-19T09:43:02.487918Z",
     "shell.execute_reply": "2021-08-19T09:43:02.486592Z",
     "shell.execute_reply.started": "2021-08-19T09:43:00.151313Z"
    }
   },
   "outputs": [],
   "source": [
    "good = ['good', 'great', 'nice', 'best', 'excellent', 'delicious', 'friendly',\n",
    "        'lovely', 'amazing', 'tasty', 'fantastic', 'perfect', 'wonderful',\n",
    "        'super', 'awesome', 'love', 'beautiful', 'superb', 'interesting',\n",
    "        'yummy', 'fine', 'favourite', 'surprise', 'loved', 'brilliant',\n",
    "        'favorite']\n",
    "\n",
    "data['words'] = data.Reviews.str.findall(r\"(\\w+)\")\n",
    "def mood(review):\n",
    "    ''' Подсчет положительных слов в отзывах на ресторан.\n",
    "    Возвращает количество положительных слов в отзывах. \n",
    "    '''\n",
    "    i = 0\n",
    "    for word in review:\n",
    "        for mood in good:\n",
    "            if mood == word.lower():\n",
    "                i += 1\n",
    "    return i\n",
    "data['review_mood'] = data.words.dropna().apply(mood)\n",
    "data.review_mood.fillna(0, inplace=True)"
   ]
  },
  {
   "cell_type": "code",
   "execution_count": 38,
   "metadata": {
    "execution": {
     "iopub.execute_input": "2021-08-19T09:43:06.161373Z",
     "iopub.status.busy": "2021-08-19T09:43:06.161046Z",
     "iopub.status.idle": "2021-08-19T09:43:06.314940Z",
     "shell.execute_reply": "2021-08-19T09:43:06.313920Z",
     "shell.execute_reply.started": "2021-08-19T09:43:06.161322Z"
    }
   },
   "outputs": [],
   "source": [
    "data.drop(['ID_TA'], axis=1, inplace=True)\n",
    "data.drop(['URL_TA'], axis=1, inplace=True)"
   ]
  },
  {
   "cell_type": "markdown",
   "metadata": {},
   "source": [
    "### Посмотрим распределение целевой переменной"
   ]
  },
  {
   "cell_type": "code",
   "execution_count": 39,
   "metadata": {
    "execution": {
     "iopub.execute_input": "2021-08-19T09:43:09.927938Z",
     "iopub.status.busy": "2021-08-19T09:43:09.927614Z",
     "iopub.status.idle": "2021-08-19T09:43:10.216895Z",
     "shell.execute_reply": "2021-08-19T09:43:10.215295Z",
     "shell.execute_reply.started": "2021-08-19T09:43:09.927889Z"
    }
   },
   "outputs": [
    {
     "ename": "KeyError",
     "evalue": "'Rating'",
     "output_type": "error",
     "traceback": [
      "\u001b[1;31m---------------------------------------------------------------------------\u001b[0m",
      "\u001b[1;31mKeyError\u001b[0m                                  Traceback (most recent call last)",
      "\u001b[1;32m~\\anaconda3\\lib\\site-packages\\pandas\\core\\indexes\\base.py\u001b[0m in \u001b[0;36mget_loc\u001b[1;34m(self, key, method, tolerance)\u001b[0m\n\u001b[0;32m   2894\u001b[0m             \u001b[1;32mtry\u001b[0m\u001b[1;33m:\u001b[0m\u001b[1;33m\u001b[0m\u001b[1;33m\u001b[0m\u001b[0m\n\u001b[1;32m-> 2895\u001b[1;33m                 \u001b[1;32mreturn\u001b[0m \u001b[0mself\u001b[0m\u001b[1;33m.\u001b[0m\u001b[0m_engine\u001b[0m\u001b[1;33m.\u001b[0m\u001b[0mget_loc\u001b[0m\u001b[1;33m(\u001b[0m\u001b[0mcasted_key\u001b[0m\u001b[1;33m)\u001b[0m\u001b[1;33m\u001b[0m\u001b[1;33m\u001b[0m\u001b[0m\n\u001b[0m\u001b[0;32m   2896\u001b[0m             \u001b[1;32mexcept\u001b[0m \u001b[0mKeyError\u001b[0m \u001b[1;32mas\u001b[0m \u001b[0merr\u001b[0m\u001b[1;33m:\u001b[0m\u001b[1;33m\u001b[0m\u001b[1;33m\u001b[0m\u001b[0m\n",
      "\u001b[1;32mpandas\\_libs\\index.pyx\u001b[0m in \u001b[0;36mpandas._libs.index.IndexEngine.get_loc\u001b[1;34m()\u001b[0m\n",
      "\u001b[1;32mpandas\\_libs\\index.pyx\u001b[0m in \u001b[0;36mpandas._libs.index.IndexEngine.get_loc\u001b[1;34m()\u001b[0m\n",
      "\u001b[1;32mpandas\\_libs\\hashtable_class_helper.pxi\u001b[0m in \u001b[0;36mpandas._libs.hashtable.PyObjectHashTable.get_item\u001b[1;34m()\u001b[0m\n",
      "\u001b[1;32mpandas\\_libs\\hashtable_class_helper.pxi\u001b[0m in \u001b[0;36mpandas._libs.hashtable.PyObjectHashTable.get_item\u001b[1;34m()\u001b[0m\n",
      "\u001b[1;31mKeyError\u001b[0m: 'Rating'",
      "\nThe above exception was the direct cause of the following exception:\n",
      "\u001b[1;31mKeyError\u001b[0m                                  Traceback (most recent call last)",
      "\u001b[1;32m<ipython-input-39-b2d61c237323>\u001b[0m in \u001b[0;36m<module>\u001b[1;34m\u001b[0m\n\u001b[1;32m----> 1\u001b[1;33m \u001b[0mdf_train\u001b[0m\u001b[1;33m[\u001b[0m\u001b[1;34m'Rating'\u001b[0m\u001b[1;33m]\u001b[0m\u001b[1;33m.\u001b[0m\u001b[0mvalue_counts\u001b[0m\u001b[1;33m(\u001b[0m\u001b[0mascending\u001b[0m\u001b[1;33m=\u001b[0m\u001b[1;32mTrue\u001b[0m\u001b[1;33m)\u001b[0m\u001b[1;33m.\u001b[0m\u001b[0mplot\u001b[0m\u001b[1;33m(\u001b[0m\u001b[0mkind\u001b[0m\u001b[1;33m=\u001b[0m\u001b[1;34m'barh'\u001b[0m\u001b[1;33m)\u001b[0m\u001b[1;33m\u001b[0m\u001b[1;33m\u001b[0m\u001b[0m\n\u001b[0m",
      "\u001b[1;32m~\\anaconda3\\lib\\site-packages\\pandas\\core\\frame.py\u001b[0m in \u001b[0;36m__getitem__\u001b[1;34m(self, key)\u001b[0m\n\u001b[0;32m   2900\u001b[0m             \u001b[1;32mif\u001b[0m \u001b[0mself\u001b[0m\u001b[1;33m.\u001b[0m\u001b[0mcolumns\u001b[0m\u001b[1;33m.\u001b[0m\u001b[0mnlevels\u001b[0m \u001b[1;33m>\u001b[0m \u001b[1;36m1\u001b[0m\u001b[1;33m:\u001b[0m\u001b[1;33m\u001b[0m\u001b[1;33m\u001b[0m\u001b[0m\n\u001b[0;32m   2901\u001b[0m                 \u001b[1;32mreturn\u001b[0m \u001b[0mself\u001b[0m\u001b[1;33m.\u001b[0m\u001b[0m_getitem_multilevel\u001b[0m\u001b[1;33m(\u001b[0m\u001b[0mkey\u001b[0m\u001b[1;33m)\u001b[0m\u001b[1;33m\u001b[0m\u001b[1;33m\u001b[0m\u001b[0m\n\u001b[1;32m-> 2902\u001b[1;33m             \u001b[0mindexer\u001b[0m \u001b[1;33m=\u001b[0m \u001b[0mself\u001b[0m\u001b[1;33m.\u001b[0m\u001b[0mcolumns\u001b[0m\u001b[1;33m.\u001b[0m\u001b[0mget_loc\u001b[0m\u001b[1;33m(\u001b[0m\u001b[0mkey\u001b[0m\u001b[1;33m)\u001b[0m\u001b[1;33m\u001b[0m\u001b[1;33m\u001b[0m\u001b[0m\n\u001b[0m\u001b[0;32m   2903\u001b[0m             \u001b[1;32mif\u001b[0m \u001b[0mis_integer\u001b[0m\u001b[1;33m(\u001b[0m\u001b[0mindexer\u001b[0m\u001b[1;33m)\u001b[0m\u001b[1;33m:\u001b[0m\u001b[1;33m\u001b[0m\u001b[1;33m\u001b[0m\u001b[0m\n\u001b[0;32m   2904\u001b[0m                 \u001b[0mindexer\u001b[0m \u001b[1;33m=\u001b[0m \u001b[1;33m[\u001b[0m\u001b[0mindexer\u001b[0m\u001b[1;33m]\u001b[0m\u001b[1;33m\u001b[0m\u001b[1;33m\u001b[0m\u001b[0m\n",
      "\u001b[1;32m~\\anaconda3\\lib\\site-packages\\pandas\\core\\indexes\\base.py\u001b[0m in \u001b[0;36mget_loc\u001b[1;34m(self, key, method, tolerance)\u001b[0m\n\u001b[0;32m   2895\u001b[0m                 \u001b[1;32mreturn\u001b[0m \u001b[0mself\u001b[0m\u001b[1;33m.\u001b[0m\u001b[0m_engine\u001b[0m\u001b[1;33m.\u001b[0m\u001b[0mget_loc\u001b[0m\u001b[1;33m(\u001b[0m\u001b[0mcasted_key\u001b[0m\u001b[1;33m)\u001b[0m\u001b[1;33m\u001b[0m\u001b[1;33m\u001b[0m\u001b[0m\n\u001b[0;32m   2896\u001b[0m             \u001b[1;32mexcept\u001b[0m \u001b[0mKeyError\u001b[0m \u001b[1;32mas\u001b[0m \u001b[0merr\u001b[0m\u001b[1;33m:\u001b[0m\u001b[1;33m\u001b[0m\u001b[1;33m\u001b[0m\u001b[0m\n\u001b[1;32m-> 2897\u001b[1;33m                 \u001b[1;32mraise\u001b[0m \u001b[0mKeyError\u001b[0m\u001b[1;33m(\u001b[0m\u001b[0mkey\u001b[0m\u001b[1;33m)\u001b[0m \u001b[1;32mfrom\u001b[0m \u001b[0merr\u001b[0m\u001b[1;33m\u001b[0m\u001b[1;33m\u001b[0m\u001b[0m\n\u001b[0m\u001b[0;32m   2898\u001b[0m \u001b[1;33m\u001b[0m\u001b[0m\n\u001b[0;32m   2899\u001b[0m         \u001b[1;32mif\u001b[0m \u001b[0mtolerance\u001b[0m \u001b[1;32mis\u001b[0m \u001b[1;32mnot\u001b[0m \u001b[1;32mNone\u001b[0m\u001b[1;33m:\u001b[0m\u001b[1;33m\u001b[0m\u001b[1;33m\u001b[0m\u001b[0m\n",
      "\u001b[1;31mKeyError\u001b[0m: 'Rating'"
     ]
    }
   ],
   "source": [
    "df_train['Rating'].value_counts(ascending=True).plot(kind='barh')"
   ]
  },
  {
   "cell_type": "markdown",
   "metadata": {},
   "source": [
    "### Посмотрим распределение целевой переменной относительно признака"
   ]
  },
  {
   "cell_type": "code",
   "execution_count": null,
   "metadata": {
    "execution": {
     "iopub.execute_input": "2021-08-19T09:43:15.356221Z",
     "iopub.status.busy": "2021-08-19T09:43:15.355937Z",
     "iopub.status.idle": "2021-08-19T09:43:15.849910Z",
     "shell.execute_reply": "2021-08-19T09:43:15.848427Z",
     "shell.execute_reply.started": "2021-08-19T09:43:15.356186Z"
    }
   },
   "outputs": [],
   "source": [
    "data['ranking_norm'][data['Rating'] == 5].hist(bins=100)"
   ]
  },
  {
   "cell_type": "markdown",
   "metadata": {},
   "source": [
    "Распределение напоминает нормальное"
   ]
  },
  {
   "cell_type": "code",
   "execution_count": null,
   "metadata": {
    "execution": {
     "iopub.execute_input": "2021-08-19T09:43:32.870565Z",
     "iopub.status.busy": "2021-08-19T09:43:32.870225Z",
     "iopub.status.idle": "2021-08-19T09:43:33.367639Z",
     "shell.execute_reply": "2021-08-19T09:43:33.365979Z",
     "shell.execute_reply.started": "2021-08-19T09:43:32.870500Z"
    }
   },
   "outputs": [],
   "source": [
    "data['ranking_norm'][data['Rating'] < 4].hist(bins=100)"
   ]
  },
  {
   "cell_type": "markdown",
   "metadata": {},
   "source": [
    "### И один из моих любимых - [корреляция признаков](https://ru.wikipedia.org/wiki/Корреляция)\n",
    "На этом графике уже сейчас вы сможете заметить, как признаки связаны между собой и с целевой переменной."
   ]
  },
  {
   "cell_type": "code",
   "execution_count": 40,
   "metadata": {
    "execution": {
     "iopub.execute_input": "2021-08-19T09:43:38.429202Z",
     "iopub.status.busy": "2021-08-19T09:43:38.428600Z",
     "iopub.status.idle": "2021-08-19T09:43:43.607813Z",
     "shell.execute_reply": "2021-08-19T09:43:43.606514Z",
     "shell.execute_reply.started": "2021-08-19T09:43:38.429155Z"
    }
   },
   "outputs": [
    {
     "data": {
      "text/plain": [
       "<AxesSubplot:>"
      ]
     },
     "execution_count": 40,
     "metadata": {},
     "output_type": "execute_result"
    },
    {
     "data": {
      "image/png": "[encoded data removed]",
      "text/plain": [
       "<Figure size 1080x792 with 2 Axes>"
      ]
     },
     "metadata": {
      "needs_background": "light"
     },
     "output_type": "display_data"
    }
   ],
   "source": [
    "plt.rcParams['figure.figsize'] = (15,11)\n",
    "sns.heatmap(data.corr(), cmap='vlag')"
   ]
  },
  {
   "cell_type": "code",
   "execution_count": 41,
   "metadata": {
    "execution": {
     "iopub.execute_input": "2021-08-19T09:46:47.925546Z",
     "iopub.status.busy": "2021-08-19T09:46:47.925038Z",
     "iopub.status.idle": "2021-08-19T09:46:50.900407Z",
     "shell.execute_reply": "2021-08-19T09:46:50.899090Z",
     "shell.execute_reply.started": "2021-08-19T09:46:47.925447Z"
    }
   },
   "outputs": [
    {
     "data": {
      "text/html": [
       "<div>\n",
       "<style scoped>\n",
       "    .dataframe tbody tr th:only-of-type {\n",
       "        vertical-align: middle;\n",
       "    }\n",
       "\n",
       "    .dataframe tbody tr th {\n",
       "        vertical-align: top;\n",
       "    }\n",
       "\n",
       "    .dataframe thead th {\n",
       "        text-align: right;\n",
       "    }\n",
       "</style>\n",
       "<table border=\"1\" class=\"dataframe\">\n",
       "  <thead>\n",
       "    <tr style=\"text-align: right;\">\n",
       "      <th></th>\n",
       "      <th>Rating</th>\n",
       "    </tr>\n",
       "  </thead>\n",
       "  <tbody>\n",
       "    <tr>\n",
       "      <th>Price Range</th>\n",
       "      <td>NaN</td>\n",
       "    </tr>\n",
       "    <tr>\n",
       "      <th>Number of Reviews</th>\n",
       "      <td>NaN</td>\n",
       "    </tr>\n",
       "    <tr>\n",
       "      <th>sample</th>\n",
       "      <td>NaN</td>\n",
       "    </tr>\n",
       "    <tr>\n",
       "      <th>Rating</th>\n",
       "      <td>NaN</td>\n",
       "    </tr>\n",
       "    <tr>\n",
       "      <th>Unnamed: 0</th>\n",
       "      <td>NaN</td>\n",
       "    </tr>\n",
       "    <tr>\n",
       "      <th>...</th>\n",
       "      <td>...</td>\n",
       "    </tr>\n",
       "    <tr>\n",
       "      <th>City_Vienna</th>\n",
       "      <td>NaN</td>\n",
       "    </tr>\n",
       "    <tr>\n",
       "      <th>City_Warsaw</th>\n",
       "      <td>NaN</td>\n",
       "    </tr>\n",
       "    <tr>\n",
       "      <th>City_Zurich</th>\n",
       "      <td>NaN</td>\n",
       "    </tr>\n",
       "    <tr>\n",
       "      <th>City_nan</th>\n",
       "      <td>NaN</td>\n",
       "    </tr>\n",
       "    <tr>\n",
       "      <th>review_mood</th>\n",
       "      <td>NaN</td>\n",
       "    </tr>\n",
       "  </tbody>\n",
       "</table>\n",
       "<p>166 rows × 1 columns</p>\n",
       "</div>"
      ],
      "text/plain": [
       "                   Rating\n",
       "Price Range           NaN\n",
       "Number of Reviews     NaN\n",
       "sample                NaN\n",
       "Rating                NaN\n",
       "Unnamed: 0            NaN\n",
       "...                   ...\n",
       "City_Vienna           NaN\n",
       "City_Warsaw           NaN\n",
       "City_Zurich           NaN\n",
       "City_nan              NaN\n",
       "review_mood           NaN\n",
       "\n",
       "[166 rows x 1 columns]"
      ]
     },
     "execution_count": 41,
     "metadata": {},
     "output_type": "execute_result"
    }
   ],
   "source": [
    "data.corr().Rating.sort_values(ascending=False).to_frame()"
   ]
  },
  {
   "cell_type": "markdown",
   "metadata": {},
   "source": [
    "# Data Preprocessing\n",
    "Теперь, для удобства и воспроизводимости кода, завернем всю обработку в одну большую функцию."
   ]
  },
  {
   "cell_type": "code",
   "execution_count": 55,
   "metadata": {
    "execution": {
     "iopub.execute_input": "2021-08-19T09:46:59.926121Z",
     "iopub.status.busy": "2021-08-19T09:46:59.925678Z",
     "iopub.status.idle": "2021-08-19T09:47:00.248195Z",
     "shell.execute_reply": "2021-08-19T09:47:00.246924Z",
     "shell.execute_reply.started": "2021-08-19T09:46:59.926081Z"
    }
   },
   "outputs": [
    {
     "name": "stdout",
     "output_type": "stream",
     "text": [
      "<class 'pandas.core.frame.DataFrame'>\n",
      "RangeIndex: 80000 entries, 0 to 79999\n",
      "Data columns (total 16 columns):\n",
      " #   Column       Non-Null Count  Dtype  \n",
      "---  ------       --------------  -----  \n",
      " 0   Unnamed: 0   80000 non-null  int64  \n",
      " 1   id           80000 non-null  object \n",
      " 2   city         80000 non-null  object \n",
      " 3   cuisine      80000 non-null  object \n",
      " 4   ranking      80000 non-null  float64\n",
      " 5   rating       80000 non-null  float64\n",
      " 6   nor          80000 non-null  float64\n",
      " 7   reviews      80000 non-null  object \n",
      " 8   url_ta       80000 non-null  object \n",
      " 9   id_ta        80000 non-null  object \n",
      " 10  prcat        80000 non-null  float64\n",
      " 11  col_cuisine  80000 non-null  object \n",
      " 12  col_c        80000 non-null  int64  \n",
      " 13  city_le      80000 non-null  int64  \n",
      " 14  sample       80000 non-null  int64  \n",
      " 15  Rating       40000 non-null  float64\n",
      "dtypes: float64(5), int64(4), object(7)\n",
      "memory usage: 9.8+ MB\n"
     ]
    }
   ],
   "source": [
    "# на всякий случай, заново подгружаем данные\n",
    "df_train = pd.read_csv(DATA_DIR+'/main_task.csv')\n",
    "df_test = pd.read_csv(DATA_DIR+'/kaggle_task.csv')\n",
    "df_train['sample'] = 1 # помечаем где у нас трейн\n",
    "df_test['sample'] = 0 # помечаем где у нас тест\n",
    "df_test['Rating'] = 0 # в тесте у нас нет значения Rating, мы его должны предсказать, по этому пока просто заполняем нулями\n",
    "\n",
    "data = df_test.append(df_train, sort=False).reset_index(drop=True) # объединяем\n",
    "data.info()"
   ]
  },
  {
   "cell_type": "code",
   "execution_count": 64,
   "metadata": {
    "execution": {
     "iopub.execute_input": "2021-08-19T09:47:10.921473Z",
     "iopub.status.busy": "2021-08-19T09:47:10.921139Z",
     "iopub.status.idle": "2021-08-19T09:47:10.948469Z",
     "shell.execute_reply": "2021-08-19T09:47:10.947032Z",
     "shell.execute_reply.started": "2021-08-19T09:47:10.921420Z"
    }
   },
   "outputs": [],
   "source": [
    "def preproc_data(df_input):\n",
    "    '''includes several functions to pre-process the predictor data.'''\n",
    "    \n",
    "    df_output = df_input.copy()\n",
    "    \n",
    "    # ################### 1. Предобработка ############################################################## \n",
    "    # убираем не нужные для модели признаки\n",
    "    df_output.drop(['id_ta'], axis = 1, inplace=True)\n",
    "    \n",
    "    \n",
    "    # ################### 2. NAN ############################################################## \n",
    "    # Далее заполняем пропуски, вы можете попробовать заполнением средним или средним по городу и тд...\n",
    "#    df_output['Number_of_Reviews_isNAN'] = pd.isna(df_output['Number of Reviews']).astype('uint8')\n",
    "#    df_output['Number of Reviews'].fillna(0, inplace=True)\n",
    "#    df_output['Price_Range_isNAN'] = pd.isna(data['Price Range']).astype('uint8')\n",
    "#    replace_price_range = {'Price Range': {\"$\": 1, \"$$ - $$$\": 2, \"$$$$\": 3, np.NaN: 2}}\n",
    "#    df_output.replace(replace_price_range, inplace=True)\n",
    "#    df_output['Cuisine_Style_isNAN'] = pd.isna(df_output['Cuisine Style']).astype('uint8')\n",
    " #   df_output['Cuisine Style'] = df_output['Cuisine Style'].fillna(\"['Unknown']\")\n",
    "    \n",
    "    ### Немного Feature Engineering, потому что его надо делать раньше дамми переменных \n",
    "\n",
    "#    per_city_dict = dict(df_output['City'].value_counts())\n",
    "#    df_output['city_restaurants'] = df_output.City.map(per_city_dict)\n",
    "\n",
    "#    df_output['ranking_norm'] = df_output.Ranking / df_output.city_restaurants\n",
    "    \n",
    "#    good = ['good', 'great', 'nice', 'best', 'excellent', 'delicious', 'friendly',\n",
    "#        'lovely', 'amazing', 'tasty', 'fantastic', 'perfect', 'wonderful',\n",
    "#        'super', 'awesome', 'love', 'beautiful', 'superb', 'interesting',\n",
    "#        'yummy', 'fine', 'favourite', 'surprise', 'loved', 'brilliant',\n",
    " #       'favorite']\n",
    "\n",
    "#    df_output['words'] = df_output.Reviews.str.findall(r\"(\\w+)\")\n",
    "#    def mood(review):\n",
    "#        ''' Подсчет положительных слов в отзывах на ресторан.\n",
    "#        Возвращает количество положительных слов в отзывах. \n",
    "#        '''\n",
    "#        i = 0\n",
    "#        for word in review:\n",
    "#            for mood in good:\n",
    " #               if mood == word.lower():\n",
    " #                   i += 1\n",
    "#        return i\n",
    "#    df_output['review_mood'] = df_output.words.dropna().apply(mood)\n",
    "#    df_output.review_mood.fillna(0, inplace=True)\n",
    "    # ################### 3. Encoding ############################################################## \n",
    "    df_output = pd.get_dummies(df_output, columns=[ 'city',], dummy_na=True)\n",
    "#    def cuisine (df):\n",
    "#        df['Cuisine Style'] = df['Cuisine Style'].str.lower()\n",
    "#\n",
    "#        cuisineStyle = set()\n",
    "#        cuisines = df['Cuisine Style'].to_list()\n",
    "#\n",
    " #       for cuisine in cuisines:\n",
    "#            cuisine = re.findall(r\"'([\\s\\S]+?)'\", cuisine)\n",
    "#           for j in cuisine:\n",
    "#                 cuisineStyle.add(j)\n",
    "#    \n",
    "#        for item in cuisineStyle:\n",
    "#            df[item] = df['Cuisine Style'].apply(lambda x: 1 if item in x else 0)\n",
    "#        return df\n",
    "#    df_output = cuisine(df_output)\n",
    "    \n",
    "    \n",
    "    # ################### 4. Feature Engineering ####################################################\n",
    "    chain_lst = list(df_output.id.value_counts()[df_output.id.value_counts() > 1].index)\n",
    "    df_output['chain'] = df_output[data.id.isin(chain_lst)].id.apply(lambda x: 1)\n",
    "    df_output['chain'].fillna(0, inplace=True)\n",
    "    df_output['chain'] = df_output['chain'].astype(int)\n",
    "    \n",
    "    # ################### 5. Clean #################################################### \n",
    "    # убираем признаки которые еще не успели обработать\n",
    "    object_columns = [s for s in df_output.columns if df_output[s].dtypes == 'object']\n",
    "    df_output.drop(object_columns, axis = 1, inplace=True)\n",
    "    \n",
    "    return df_output"
   ]
  },
  {
   "cell_type": "markdown",
   "metadata": {},
   "source": [
    ">По хорошему, можно было бы перевести эту большую функцию в класс и разбить на подфункции (согласно ООП). "
   ]
  },
  {
   "cell_type": "markdown",
   "metadata": {},
   "source": [
    "#### Запускаем и проверяем что получилось"
   ]
  },
  {
   "cell_type": "code",
   "execution_count": 65,
   "metadata": {
    "execution": {
     "iopub.execute_input": "2021-08-19T09:47:23.613936Z",
     "iopub.status.busy": "2021-08-19T09:47:23.613465Z",
     "iopub.status.idle": "2021-08-19T09:47:30.444857Z",
     "shell.execute_reply": "2021-08-19T09:47:30.443602Z",
     "shell.execute_reply.started": "2021-08-19T09:47:23.613893Z"
    }
   },
   "outputs": [
    {
     "data": {
      "text/html": [
       "<div>\n",
       "<style scoped>\n",
       "    .dataframe tbody tr th:only-of-type {\n",
       "        vertical-align: middle;\n",
       "    }\n",
       "\n",
       "    .dataframe tbody tr th {\n",
       "        vertical-align: top;\n",
       "    }\n",
       "\n",
       "    .dataframe thead th {\n",
       "        text-align: right;\n",
       "    }\n",
       "</style>\n",
       "<table border=\"1\" class=\"dataframe\">\n",
       "  <thead>\n",
       "    <tr style=\"text-align: right;\">\n",
       "      <th></th>\n",
       "      <th>Unnamed: 0</th>\n",
       "      <th>ranking</th>\n",
       "      <th>rating</th>\n",
       "      <th>nor</th>\n",
       "      <th>prcat</th>\n",
       "      <th>col_c</th>\n",
       "      <th>city_le</th>\n",
       "      <th>sample</th>\n",
       "      <th>Rating</th>\n",
       "      <th>city_Amsterdam</th>\n",
       "      <th>...</th>\n",
       "      <th>city_Oslo</th>\n",
       "      <th>city_Paris</th>\n",
       "      <th>city_Prague</th>\n",
       "      <th>city_Rome</th>\n",
       "      <th>city_Stockholm</th>\n",
       "      <th>city_Vienna</th>\n",
       "      <th>city_Warsaw</th>\n",
       "      <th>city_Zurich</th>\n",
       "      <th>city_nan</th>\n",
       "      <th>chain</th>\n",
       "    </tr>\n",
       "  </thead>\n",
       "  <tbody>\n",
       "    <tr>\n",
       "      <th>36633</th>\n",
       "      <td>36633</td>\n",
       "      <td>558.0</td>\n",
       "      <td>4.0</td>\n",
       "      <td>1019.0</td>\n",
       "      <td>3.0</td>\n",
       "      <td>7</td>\n",
       "      <td>20</td>\n",
       "      <td>0</td>\n",
       "      <td>0.0</td>\n",
       "      <td>0</td>\n",
       "      <td>...</td>\n",
       "      <td>0</td>\n",
       "      <td>0</td>\n",
       "      <td>0</td>\n",
       "      <td>0</td>\n",
       "      <td>0</td>\n",
       "      <td>0</td>\n",
       "      <td>0</td>\n",
       "      <td>0</td>\n",
       "      <td>0</td>\n",
       "      <td>1</td>\n",
       "    </tr>\n",
       "    <tr>\n",
       "      <th>75304</th>\n",
       "      <td>35304</td>\n",
       "      <td>1754.0</td>\n",
       "      <td>3.0</td>\n",
       "      <td>6.0</td>\n",
       "      <td>2.0</td>\n",
       "      <td>0</td>\n",
       "      <td>21</td>\n",
       "      <td>1</td>\n",
       "      <td>NaN</td>\n",
       "      <td>0</td>\n",
       "      <td>...</td>\n",
       "      <td>0</td>\n",
       "      <td>0</td>\n",
       "      <td>0</td>\n",
       "      <td>0</td>\n",
       "      <td>0</td>\n",
       "      <td>0</td>\n",
       "      <td>0</td>\n",
       "      <td>0</td>\n",
       "      <td>0</td>\n",
       "      <td>1</td>\n",
       "    </tr>\n",
       "    <tr>\n",
       "      <th>63260</th>\n",
       "      <td>23260</td>\n",
       "      <td>743.0</td>\n",
       "      <td>3.5</td>\n",
       "      <td>42.0</td>\n",
       "      <td>2.0</td>\n",
       "      <td>2</td>\n",
       "      <td>12</td>\n",
       "      <td>1</td>\n",
       "      <td>NaN</td>\n",
       "      <td>0</td>\n",
       "      <td>...</td>\n",
       "      <td>0</td>\n",
       "      <td>0</td>\n",
       "      <td>0</td>\n",
       "      <td>0</td>\n",
       "      <td>0</td>\n",
       "      <td>0</td>\n",
       "      <td>0</td>\n",
       "      <td>0</td>\n",
       "      <td>0</td>\n",
       "      <td>1</td>\n",
       "    </tr>\n",
       "    <tr>\n",
       "      <th>47352</th>\n",
       "      <td>7352</td>\n",
       "      <td>478.0</td>\n",
       "      <td>4.5</td>\n",
       "      <td>48.0</td>\n",
       "      <td>2.0</td>\n",
       "      <td>3</td>\n",
       "      <td>7</td>\n",
       "      <td>1</td>\n",
       "      <td>NaN</td>\n",
       "      <td>0</td>\n",
       "      <td>...</td>\n",
       "      <td>0</td>\n",
       "      <td>0</td>\n",
       "      <td>0</td>\n",
       "      <td>0</td>\n",
       "      <td>0</td>\n",
       "      <td>0</td>\n",
       "      <td>0</td>\n",
       "      <td>0</td>\n",
       "      <td>0</td>\n",
       "      <td>1</td>\n",
       "    </tr>\n",
       "    <tr>\n",
       "      <th>21746</th>\n",
       "      <td>21746</td>\n",
       "      <td>3040.0</td>\n",
       "      <td>4.5</td>\n",
       "      <td>11.0</td>\n",
       "      <td>1.0</td>\n",
       "      <td>1</td>\n",
       "      <td>20</td>\n",
       "      <td>0</td>\n",
       "      <td>0.0</td>\n",
       "      <td>0</td>\n",
       "      <td>...</td>\n",
       "      <td>0</td>\n",
       "      <td>0</td>\n",
       "      <td>0</td>\n",
       "      <td>0</td>\n",
       "      <td>0</td>\n",
       "      <td>0</td>\n",
       "      <td>0</td>\n",
       "      <td>0</td>\n",
       "      <td>0</td>\n",
       "      <td>1</td>\n",
       "    </tr>\n",
       "    <tr>\n",
       "      <th>57010</th>\n",
       "      <td>17010</td>\n",
       "      <td>853.0</td>\n",
       "      <td>5.0</td>\n",
       "      <td>12.0</td>\n",
       "      <td>2.0</td>\n",
       "      <td>1</td>\n",
       "      <td>1</td>\n",
       "      <td>1</td>\n",
       "      <td>NaN</td>\n",
       "      <td>0</td>\n",
       "      <td>...</td>\n",
       "      <td>0</td>\n",
       "      <td>0</td>\n",
       "      <td>0</td>\n",
       "      <td>0</td>\n",
       "      <td>0</td>\n",
       "      <td>0</td>\n",
       "      <td>0</td>\n",
       "      <td>0</td>\n",
       "      <td>0</td>\n",
       "      <td>1</td>\n",
       "    </tr>\n",
       "    <tr>\n",
       "      <th>10462</th>\n",
       "      <td>10462</td>\n",
       "      <td>7.0</td>\n",
       "      <td>4.5</td>\n",
       "      <td>2088.0</td>\n",
       "      <td>2.0</td>\n",
       "      <td>6</td>\n",
       "      <td>22</td>\n",
       "      <td>0</td>\n",
       "      <td>0.0</td>\n",
       "      <td>0</td>\n",
       "      <td>...</td>\n",
       "      <td>0</td>\n",
       "      <td>0</td>\n",
       "      <td>0</td>\n",
       "      <td>0</td>\n",
       "      <td>0</td>\n",
       "      <td>0</td>\n",
       "      <td>0</td>\n",
       "      <td>0</td>\n",
       "      <td>0</td>\n",
       "      <td>1</td>\n",
       "    </tr>\n",
       "    <tr>\n",
       "      <th>35187</th>\n",
       "      <td>35187</td>\n",
       "      <td>8865.0</td>\n",
       "      <td>4.0</td>\n",
       "      <td>26.0</td>\n",
       "      <td>1.0</td>\n",
       "      <td>5</td>\n",
       "      <td>24</td>\n",
       "      <td>0</td>\n",
       "      <td>0.0</td>\n",
       "      <td>0</td>\n",
       "      <td>...</td>\n",
       "      <td>0</td>\n",
       "      <td>1</td>\n",
       "      <td>0</td>\n",
       "      <td>0</td>\n",
       "      <td>0</td>\n",
       "      <td>0</td>\n",
       "      <td>0</td>\n",
       "      <td>0</td>\n",
       "      <td>0</td>\n",
       "      <td>1</td>\n",
       "    </tr>\n",
       "    <tr>\n",
       "      <th>6851</th>\n",
       "      <td>6851</td>\n",
       "      <td>1850.0</td>\n",
       "      <td>4.5</td>\n",
       "      <td>241.0</td>\n",
       "      <td>1.0</td>\n",
       "      <td>4</td>\n",
       "      <td>26</td>\n",
       "      <td>0</td>\n",
       "      <td>0.0</td>\n",
       "      <td>0</td>\n",
       "      <td>...</td>\n",
       "      <td>0</td>\n",
       "      <td>0</td>\n",
       "      <td>0</td>\n",
       "      <td>1</td>\n",
       "      <td>0</td>\n",
       "      <td>0</td>\n",
       "      <td>0</td>\n",
       "      <td>0</td>\n",
       "      <td>0</td>\n",
       "      <td>1</td>\n",
       "    </tr>\n",
       "    <tr>\n",
       "      <th>21195</th>\n",
       "      <td>21195</td>\n",
       "      <td>2429.0</td>\n",
       "      <td>3.5</td>\n",
       "      <td>12.0</td>\n",
       "      <td>2.0</td>\n",
       "      <td>0</td>\n",
       "      <td>5</td>\n",
       "      <td>0</td>\n",
       "      <td>0.0</td>\n",
       "      <td>0</td>\n",
       "      <td>...</td>\n",
       "      <td>0</td>\n",
       "      <td>0</td>\n",
       "      <td>0</td>\n",
       "      <td>0</td>\n",
       "      <td>0</td>\n",
       "      <td>0</td>\n",
       "      <td>0</td>\n",
       "      <td>0</td>\n",
       "      <td>0</td>\n",
       "      <td>1</td>\n",
       "    </tr>\n",
       "  </tbody>\n",
       "</table>\n",
       "<p>10 rows × 42 columns</p>\n",
       "</div>"
      ],
      "text/plain": [
       "       Unnamed: 0  ranking  rating     nor  prcat  col_c  city_le  sample  \\\n",
       "36633       36633    558.0     4.0  1019.0    3.0      7       20       0   \n",
       "75304       35304   1754.0     3.0     6.0    2.0      0       21       1   \n",
       "63260       23260    743.0     3.5    42.0    2.0      2       12       1   \n",
       "47352        7352    478.0     4.5    48.0    2.0      3        7       1   \n",
       "21746       21746   3040.0     4.5    11.0    1.0      1       20       0   \n",
       "57010       17010    853.0     5.0    12.0    2.0      1        1       1   \n",
       "10462       10462      7.0     4.5  2088.0    2.0      6       22       0   \n",
       "35187       35187   8865.0     4.0    26.0    1.0      5       24       0   \n",
       "6851         6851   1850.0     4.5   241.0    1.0      4       26       0   \n",
       "21195       21195   2429.0     3.5    12.0    2.0      0        5       0   \n",
       "\n",
       "       Rating  city_Amsterdam  ...  city_Oslo  city_Paris  city_Prague  \\\n",
       "36633     0.0               0  ...          0           0            0   \n",
       "75304     NaN               0  ...          0           0            0   \n",
       "63260     NaN               0  ...          0           0            0   \n",
       "47352     NaN               0  ...          0           0            0   \n",
       "21746     0.0               0  ...          0           0            0   \n",
       "57010     NaN               0  ...          0           0            0   \n",
       "10462     0.0               0  ...          0           0            0   \n",
       "35187     0.0               0  ...          0           1            0   \n",
       "6851      0.0               0  ...          0           0            0   \n",
       "21195     0.0               0  ...          0           0            0   \n",
       "\n",
       "       city_Rome  city_Stockholm  city_Vienna  city_Warsaw  city_Zurich  \\\n",
       "36633          0               0            0            0            0   \n",
       "75304          0               0            0            0            0   \n",
       "63260          0               0            0            0            0   \n",
       "47352          0               0            0            0            0   \n",
       "21746          0               0            0            0            0   \n",
       "57010          0               0            0            0            0   \n",
       "10462          0               0            0            0            0   \n",
       "35187          0               0            0            0            0   \n",
       "6851           1               0            0            0            0   \n",
       "21195          0               0            0            0            0   \n",
       "\n",
       "       city_nan  chain  \n",
       "36633         0      1  \n",
       "75304         0      1  \n",
       "63260         0      1  \n",
       "47352         0      1  \n",
       "21746         0      1  \n",
       "57010         0      1  \n",
       "10462         0      1  \n",
       "35187         0      1  \n",
       "6851          0      1  \n",
       "21195         0      1  \n",
       "\n",
       "[10 rows x 42 columns]"
      ]
     },
     "execution_count": 65,
     "metadata": {},
     "output_type": "execute_result"
    }
   ],
   "source": [
    "df_preproc = preproc_data(data)\n",
    "df_preproc.sample(10)"
   ]
  },
  {
   "cell_type": "code",
   "execution_count": 66,
   "metadata": {
    "execution": {
     "iopub.execute_input": "2021-08-19T09:47:42.925059Z",
     "iopub.status.busy": "2021-08-19T09:47:42.924662Z",
     "iopub.status.idle": "2021-08-19T09:47:42.948444Z",
     "shell.execute_reply": "2021-08-19T09:47:42.947156Z",
     "shell.execute_reply.started": "2021-08-19T09:47:42.924998Z"
    }
   },
   "outputs": [
    {
     "name": "stdout",
     "output_type": "stream",
     "text": [
      "<class 'pandas.core.frame.DataFrame'>\n",
      "RangeIndex: 80000 entries, 0 to 79999\n",
      "Data columns (total 42 columns):\n",
      " #   Column           Non-Null Count  Dtype  \n",
      "---  ------           --------------  -----  \n",
      " 0   Unnamed: 0       80000 non-null  int64  \n",
      " 1   ranking          80000 non-null  float64\n",
      " 2   rating           80000 non-null  float64\n",
      " 3   nor              80000 non-null  float64\n",
      " 4   prcat            80000 non-null  float64\n",
      " 5   col_c            80000 non-null  int64  \n",
      " 6   city_le          80000 non-null  int64  \n",
      " 7   sample           80000 non-null  int64  \n",
      " 8   Rating           40000 non-null  float64\n",
      " 9   city_Amsterdam   80000 non-null  uint8  \n",
      " 10  city_Athens      80000 non-null  uint8  \n",
      " 11  city_Barcelona   80000 non-null  uint8  \n",
      " 12  city_Berlin      80000 non-null  uint8  \n",
      " 13  city_Bratislava  80000 non-null  uint8  \n",
      " 14  city_Brussels    80000 non-null  uint8  \n",
      " 15  city_Budapest    80000 non-null  uint8  \n",
      " 16  city_Copenhagen  80000 non-null  uint8  \n",
      " 17  city_Dublin      80000 non-null  uint8  \n",
      " 18  city_Edinburgh   80000 non-null  uint8  \n",
      " 19  city_Geneva      80000 non-null  uint8  \n",
      " 20  city_Hamburg     80000 non-null  uint8  \n",
      " 21  city_Helsinki    80000 non-null  uint8  \n",
      " 22  city_Krakow      80000 non-null  uint8  \n",
      " 23  city_Lisbon      80000 non-null  uint8  \n",
      " 24  city_Ljubljana   80000 non-null  uint8  \n",
      " 25  city_London      80000 non-null  uint8  \n",
      " 26  city_Luxembourg  80000 non-null  uint8  \n",
      " 27  city_Lyon        80000 non-null  uint8  \n",
      " 28  city_Madrid      80000 non-null  uint8  \n",
      " 29  city_Milan       80000 non-null  uint8  \n",
      " 30  city_Munich      80000 non-null  uint8  \n",
      " 31  city_Oporto      80000 non-null  uint8  \n",
      " 32  city_Oslo        80000 non-null  uint8  \n",
      " 33  city_Paris       80000 non-null  uint8  \n",
      " 34  city_Prague      80000 non-null  uint8  \n",
      " 35  city_Rome        80000 non-null  uint8  \n",
      " 36  city_Stockholm   80000 non-null  uint8  \n",
      " 37  city_Vienna      80000 non-null  uint8  \n",
      " 38  city_Warsaw      80000 non-null  uint8  \n",
      " 39  city_Zurich      80000 non-null  uint8  \n",
      " 40  city_nan         80000 non-null  uint8  \n",
      " 41  chain            80000 non-null  int32  \n",
      "dtypes: float64(5), int32(1), int64(4), uint8(32)\n",
      "memory usage: 8.2 MB\n"
     ]
    }
   ],
   "source": [
    "df_preproc.info()"
   ]
  },
  {
   "cell_type": "code",
   "execution_count": 67,
   "metadata": {
    "execution": {
     "iopub.execute_input": "2021-08-19T09:47:48.551160Z",
     "iopub.status.busy": "2021-08-19T09:47:48.550461Z",
     "iopub.status.idle": "2021-08-19T09:47:48.636501Z",
     "shell.execute_reply": "2021-08-19T09:47:48.635226Z",
     "shell.execute_reply.started": "2021-08-19T09:47:48.551091Z"
    }
   },
   "outputs": [],
   "source": [
    "# Теперь выделим тестовую часть\n",
    "train_data = df_preproc.query('sample == 1').drop(['sample'], axis=1)\n",
    "test_data = df_preproc.query('sample == 0').drop(['sample'], axis=1)\n",
    "\n",
    "y = train_data.Rating.values            # наш таргет\n",
    "X = train_data.drop(['Rating'], axis=1)"
   ]
  },
  {
   "cell_type": "markdown",
   "metadata": {},
   "source": [
    "**Перед тем как отправлять наши данные на обучение, разделим данные на еще один тест и трейн, для валидации. \n",
    "Это поможет нам проверить, как хорошо наша модель работает, до отправки submissiona на kaggle.**"
   ]
  },
  {
   "cell_type": "code",
   "execution_count": 68,
   "metadata": {
    "execution": {
     "iopub.execute_input": "2021-08-19T09:47:55.796731Z",
     "iopub.status.busy": "2021-08-19T09:47:55.796324Z",
     "iopub.status.idle": "2021-08-19T09:47:55.869158Z",
     "shell.execute_reply": "2021-08-19T09:47:55.867901Z",
     "shell.execute_reply.started": "2021-08-19T09:47:55.796667Z"
    }
   },
   "outputs": [],
   "source": [
    "# Воспользуемся специальной функцие train_test_split для разбивки тестовых данных\n",
    "# выделим 20% данных на валидацию (параметр test_size)\n",
    "X_train, X_test, y_train, y_test = train_test_split(X, y, test_size=0.2, random_state=RANDOM_SEED)"
   ]
  },
  {
   "cell_type": "code",
   "execution_count": 69,
   "metadata": {
    "execution": {
     "iopub.execute_input": "2021-08-19T09:47:59.365205Z",
     "iopub.status.busy": "2021-08-19T09:47:59.364805Z",
     "iopub.status.idle": "2021-08-19T09:47:59.372302Z",
     "shell.execute_reply": "2021-08-19T09:47:59.371228Z",
     "shell.execute_reply.started": "2021-08-19T09:47:59.365136Z"
    }
   },
   "outputs": [
    {
     "data": {
      "text/plain": [
       "((40000, 41), (40000, 41), (40000, 40), (32000, 40), (8000, 40))"
      ]
     },
     "execution_count": 69,
     "metadata": {},
     "output_type": "execute_result"
    }
   ],
   "source": [
    "# проверяем\n",
    "test_data.shape, train_data.shape, X.shape, X_train.shape, X_test.shape"
   ]
  },
  {
   "cell_type": "markdown",
   "metadata": {},
   "source": [
    "# Model \n",
    "Сам ML"
   ]
  },
  {
   "cell_type": "code",
   "execution_count": 70,
   "metadata": {
    "execution": {
     "iopub.execute_input": "2021-08-19T09:48:13.546691Z",
     "iopub.status.busy": "2021-08-19T09:48:13.546169Z",
     "iopub.status.idle": "2021-08-19T09:48:13.551220Z",
     "shell.execute_reply": "2021-08-19T09:48:13.550263Z",
     "shell.execute_reply.started": "2021-08-19T09:48:13.546645Z"
    }
   },
   "outputs": [],
   "source": [
    "# Импортируем необходимые библиотеки:\n",
    "from sklearn.ensemble import RandomForestRegressor # инструмент для создания и обучения модели\n",
    "from sklearn import metrics # инструменты для оценки точности модели"
   ]
  },
  {
   "cell_type": "code",
   "execution_count": 71,
   "metadata": {
    "execution": {
     "iopub.execute_input": "2021-08-19T09:48:16.219058Z",
     "iopub.status.busy": "2021-08-19T09:48:16.218550Z",
     "iopub.status.idle": "2021-08-19T09:48:16.225052Z",
     "shell.execute_reply": "2021-08-19T09:48:16.223706Z",
     "shell.execute_reply.started": "2021-08-19T09:48:16.218978Z"
    }
   },
   "outputs": [],
   "source": [
    "# Создаём модель (НАСТРОЙКИ НЕ ТРОГАЕМ)\n",
    "model = RandomForestRegressor(n_estimators=100, verbose=1, n_jobs=-1, random_state=RANDOM_SEED)"
   ]
  },
  {
   "cell_type": "code",
   "execution_count": 72,
   "metadata": {
    "execution": {
     "iopub.execute_input": "2021-08-19T09:48:19.164946Z",
     "iopub.status.busy": "2021-08-19T09:48:19.164485Z",
     "iopub.status.idle": "2021-08-19T09:48:37.441991Z",
     "shell.execute_reply": "2021-08-19T09:48:37.441062Z",
     "shell.execute_reply.started": "2021-08-19T09:48:19.164905Z"
    }
   },
   "outputs": [
    {
     "ename": "ValueError",
     "evalue": "Input contains NaN, infinity or a value too large for dtype('float64').",
     "output_type": "error",
     "traceback": [
      "\u001b[1;31m---------------------------------------------------------------------------\u001b[0m",
      "\u001b[1;31mValueError\u001b[0m                                Traceback (most recent call last)",
      "\u001b[1;32m<ipython-input-72-913e4066c824>\u001b[0m in \u001b[0;36m<module>\u001b[1;34m\u001b[0m\n\u001b[0;32m      1\u001b[0m \u001b[1;31m# Обучаем модель на тестовом наборе данных\u001b[0m\u001b[1;33m\u001b[0m\u001b[1;33m\u001b[0m\u001b[1;33m\u001b[0m\u001b[0m\n\u001b[1;32m----> 2\u001b[1;33m \u001b[0mmodel\u001b[0m\u001b[1;33m.\u001b[0m\u001b[0mfit\u001b[0m\u001b[1;33m(\u001b[0m\u001b[0mX_train\u001b[0m\u001b[1;33m,\u001b[0m \u001b[0my_train\u001b[0m\u001b[1;33m)\u001b[0m\u001b[1;33m\u001b[0m\u001b[1;33m\u001b[0m\u001b[0m\n\u001b[0m\u001b[0;32m      3\u001b[0m \u001b[1;33m\u001b[0m\u001b[0m\n\u001b[0;32m      4\u001b[0m \u001b[1;31m# Используем обученную модель для предсказания рейтинга ресторанов в тестовой выборке.\u001b[0m\u001b[1;33m\u001b[0m\u001b[1;33m\u001b[0m\u001b[1;33m\u001b[0m\u001b[0m\n\u001b[0;32m      5\u001b[0m \u001b[1;31m# Предсказанные значения записываем в переменную y_pred\u001b[0m\u001b[1;33m\u001b[0m\u001b[1;33m\u001b[0m\u001b[1;33m\u001b[0m\u001b[0m\n",
      "\u001b[1;32m~\\anaconda3\\lib\\site-packages\\sklearn\\ensemble\\_forest.py\u001b[0m in \u001b[0;36mfit\u001b[1;34m(self, X, y, sample_weight)\u001b[0m\n\u001b[0;32m    301\u001b[0m                 \u001b[1;34m\"sparse multilabel-indicator for y is not supported.\"\u001b[0m\u001b[1;33m\u001b[0m\u001b[1;33m\u001b[0m\u001b[0m\n\u001b[0;32m    302\u001b[0m             )\n\u001b[1;32m--> 303\u001b[1;33m         X, y = self._validate_data(X, y, multi_output=True,\n\u001b[0m\u001b[0;32m    304\u001b[0m                                    accept_sparse=\"csc\", dtype=DTYPE)\n\u001b[0;32m    305\u001b[0m         \u001b[1;32mif\u001b[0m \u001b[0msample_weight\u001b[0m \u001b[1;32mis\u001b[0m \u001b[1;32mnot\u001b[0m \u001b[1;32mNone\u001b[0m\u001b[1;33m:\u001b[0m\u001b[1;33m\u001b[0m\u001b[1;33m\u001b[0m\u001b[0m\n",
      "\u001b[1;32m~\\anaconda3\\lib\\site-packages\\sklearn\\base.py\u001b[0m in \u001b[0;36m_validate_data\u001b[1;34m(self, X, y, reset, validate_separately, **check_params)\u001b[0m\n\u001b[0;32m    430\u001b[0m                 \u001b[0my\u001b[0m \u001b[1;33m=\u001b[0m \u001b[0mcheck_array\u001b[0m\u001b[1;33m(\u001b[0m\u001b[0my\u001b[0m\u001b[1;33m,\u001b[0m \u001b[1;33m**\u001b[0m\u001b[0mcheck_y_params\u001b[0m\u001b[1;33m)\u001b[0m\u001b[1;33m\u001b[0m\u001b[1;33m\u001b[0m\u001b[0m\n\u001b[0;32m    431\u001b[0m             \u001b[1;32melse\u001b[0m\u001b[1;33m:\u001b[0m\u001b[1;33m\u001b[0m\u001b[1;33m\u001b[0m\u001b[0m\n\u001b[1;32m--> 432\u001b[1;33m                 \u001b[0mX\u001b[0m\u001b[1;33m,\u001b[0m \u001b[0my\u001b[0m \u001b[1;33m=\u001b[0m \u001b[0mcheck_X_y\u001b[0m\u001b[1;33m(\u001b[0m\u001b[0mX\u001b[0m\u001b[1;33m,\u001b[0m \u001b[0my\u001b[0m\u001b[1;33m,\u001b[0m \u001b[1;33m**\u001b[0m\u001b[0mcheck_params\u001b[0m\u001b[1;33m)\u001b[0m\u001b[1;33m\u001b[0m\u001b[1;33m\u001b[0m\u001b[0m\n\u001b[0m\u001b[0;32m    433\u001b[0m             \u001b[0mout\u001b[0m \u001b[1;33m=\u001b[0m \u001b[0mX\u001b[0m\u001b[1;33m,\u001b[0m \u001b[0my\u001b[0m\u001b[1;33m\u001b[0m\u001b[1;33m\u001b[0m\u001b[0m\n\u001b[0;32m    434\u001b[0m \u001b[1;33m\u001b[0m\u001b[0m\n",
      "\u001b[1;32m~\\anaconda3\\lib\\site-packages\\sklearn\\utils\\validation.py\u001b[0m in \u001b[0;36minner_f\u001b[1;34m(*args, **kwargs)\u001b[0m\n\u001b[0;32m     70\u001b[0m                           FutureWarning)\n\u001b[0;32m     71\u001b[0m         \u001b[0mkwargs\u001b[0m\u001b[1;33m.\u001b[0m\u001b[0mupdate\u001b[0m\u001b[1;33m(\u001b[0m\u001b[1;33m{\u001b[0m\u001b[0mk\u001b[0m\u001b[1;33m:\u001b[0m \u001b[0marg\u001b[0m \u001b[1;32mfor\u001b[0m \u001b[0mk\u001b[0m\u001b[1;33m,\u001b[0m \u001b[0marg\u001b[0m \u001b[1;32min\u001b[0m \u001b[0mzip\u001b[0m\u001b[1;33m(\u001b[0m\u001b[0msig\u001b[0m\u001b[1;33m.\u001b[0m\u001b[0mparameters\u001b[0m\u001b[1;33m,\u001b[0m \u001b[0margs\u001b[0m\u001b[1;33m)\u001b[0m\u001b[1;33m}\u001b[0m\u001b[1;33m)\u001b[0m\u001b[1;33m\u001b[0m\u001b[1;33m\u001b[0m\u001b[0m\n\u001b[1;32m---> 72\u001b[1;33m         \u001b[1;32mreturn\u001b[0m \u001b[0mf\u001b[0m\u001b[1;33m(\u001b[0m\u001b[1;33m**\u001b[0m\u001b[0mkwargs\u001b[0m\u001b[1;33m)\u001b[0m\u001b[1;33m\u001b[0m\u001b[1;33m\u001b[0m\u001b[0m\n\u001b[0m\u001b[0;32m     73\u001b[0m     \u001b[1;32mreturn\u001b[0m \u001b[0minner_f\u001b[0m\u001b[1;33m\u001b[0m\u001b[1;33m\u001b[0m\u001b[0m\n\u001b[0;32m     74\u001b[0m \u001b[1;33m\u001b[0m\u001b[0m\n",
      "\u001b[1;32m~\\anaconda3\\lib\\site-packages\\sklearn\\utils\\validation.py\u001b[0m in \u001b[0;36mcheck_X_y\u001b[1;34m(X, y, accept_sparse, accept_large_sparse, dtype, order, copy, force_all_finite, ensure_2d, allow_nd, multi_output, ensure_min_samples, ensure_min_features, y_numeric, estimator)\u001b[0m\n\u001b[0;32m    802\u001b[0m                     estimator=estimator)\n\u001b[0;32m    803\u001b[0m     \u001b[1;32mif\u001b[0m \u001b[0mmulti_output\u001b[0m\u001b[1;33m:\u001b[0m\u001b[1;33m\u001b[0m\u001b[1;33m\u001b[0m\u001b[0m\n\u001b[1;32m--> 804\u001b[1;33m         y = check_array(y, accept_sparse='csr', force_all_finite=True,\n\u001b[0m\u001b[0;32m    805\u001b[0m                         ensure_2d=False, dtype=None)\n\u001b[0;32m    806\u001b[0m     \u001b[1;32melse\u001b[0m\u001b[1;33m:\u001b[0m\u001b[1;33m\u001b[0m\u001b[1;33m\u001b[0m\u001b[0m\n",
      "\u001b[1;32m~\\anaconda3\\lib\\site-packages\\sklearn\\utils\\validation.py\u001b[0m in \u001b[0;36minner_f\u001b[1;34m(*args, **kwargs)\u001b[0m\n\u001b[0;32m     70\u001b[0m                           FutureWarning)\n\u001b[0;32m     71\u001b[0m         \u001b[0mkwargs\u001b[0m\u001b[1;33m.\u001b[0m\u001b[0mupdate\u001b[0m\u001b[1;33m(\u001b[0m\u001b[1;33m{\u001b[0m\u001b[0mk\u001b[0m\u001b[1;33m:\u001b[0m \u001b[0marg\u001b[0m \u001b[1;32mfor\u001b[0m \u001b[0mk\u001b[0m\u001b[1;33m,\u001b[0m \u001b[0marg\u001b[0m \u001b[1;32min\u001b[0m \u001b[0mzip\u001b[0m\u001b[1;33m(\u001b[0m\u001b[0msig\u001b[0m\u001b[1;33m.\u001b[0m\u001b[0mparameters\u001b[0m\u001b[1;33m,\u001b[0m \u001b[0margs\u001b[0m\u001b[1;33m)\u001b[0m\u001b[1;33m}\u001b[0m\u001b[1;33m)\u001b[0m\u001b[1;33m\u001b[0m\u001b[1;33m\u001b[0m\u001b[0m\n\u001b[1;32m---> 72\u001b[1;33m         \u001b[1;32mreturn\u001b[0m \u001b[0mf\u001b[0m\u001b[1;33m(\u001b[0m\u001b[1;33m**\u001b[0m\u001b[0mkwargs\u001b[0m\u001b[1;33m)\u001b[0m\u001b[1;33m\u001b[0m\u001b[1;33m\u001b[0m\u001b[0m\n\u001b[0m\u001b[0;32m     73\u001b[0m     \u001b[1;32mreturn\u001b[0m \u001b[0minner_f\u001b[0m\u001b[1;33m\u001b[0m\u001b[1;33m\u001b[0m\u001b[0m\n\u001b[0;32m     74\u001b[0m \u001b[1;33m\u001b[0m\u001b[0m\n",
      "\u001b[1;32m~\\anaconda3\\lib\\site-packages\\sklearn\\utils\\validation.py\u001b[0m in \u001b[0;36mcheck_array\u001b[1;34m(array, accept_sparse, accept_large_sparse, dtype, order, copy, force_all_finite, ensure_2d, allow_nd, ensure_min_samples, ensure_min_features, estimator)\u001b[0m\n\u001b[0;32m    642\u001b[0m \u001b[1;33m\u001b[0m\u001b[0m\n\u001b[0;32m    643\u001b[0m         \u001b[1;32mif\u001b[0m \u001b[0mforce_all_finite\u001b[0m\u001b[1;33m:\u001b[0m\u001b[1;33m\u001b[0m\u001b[1;33m\u001b[0m\u001b[0m\n\u001b[1;32m--> 644\u001b[1;33m             _assert_all_finite(array,\n\u001b[0m\u001b[0;32m    645\u001b[0m                                allow_nan=force_all_finite == 'allow-nan')\n\u001b[0;32m    646\u001b[0m \u001b[1;33m\u001b[0m\u001b[0m\n",
      "\u001b[1;32m~\\anaconda3\\lib\\site-packages\\sklearn\\utils\\validation.py\u001b[0m in \u001b[0;36m_assert_all_finite\u001b[1;34m(X, allow_nan, msg_dtype)\u001b[0m\n\u001b[0;32m     94\u001b[0m                 not allow_nan and not np.isfinite(X).all()):\n\u001b[0;32m     95\u001b[0m             \u001b[0mtype_err\u001b[0m \u001b[1;33m=\u001b[0m \u001b[1;34m'infinity'\u001b[0m \u001b[1;32mif\u001b[0m \u001b[0mallow_nan\u001b[0m \u001b[1;32melse\u001b[0m \u001b[1;34m'NaN, infinity'\u001b[0m\u001b[1;33m\u001b[0m\u001b[1;33m\u001b[0m\u001b[0m\n\u001b[1;32m---> 96\u001b[1;33m             raise ValueError(\n\u001b[0m\u001b[0;32m     97\u001b[0m                     \u001b[0mmsg_err\u001b[0m\u001b[1;33m.\u001b[0m\u001b[0mformat\u001b[0m\u001b[1;33m\u001b[0m\u001b[1;33m\u001b[0m\u001b[0m\n\u001b[0;32m     98\u001b[0m                     (type_err,\n",
      "\u001b[1;31mValueError\u001b[0m: Input contains NaN, infinity or a value too large for dtype('float64')."
     ]
    }
   ],
   "source": [
    "# Обучаем модель на тестовом наборе данных\n",
    "model.fit(X_train, y_train)\n",
    "\n",
    "# Используем обученную модель для предсказания рейтинга ресторанов в тестовой выборке.\n",
    "# Предсказанные значения записываем в переменную y_pred\n",
    "y_pred = model.predict(X_test)"
   ]
  },
  {
   "cell_type": "code",
   "execution_count": 73,
   "metadata": {
    "execution": {
     "iopub.execute_input": "2021-08-19T09:48:37.443727Z",
     "iopub.status.busy": "2021-08-19T09:48:37.443455Z",
     "iopub.status.idle": "2021-08-19T09:48:37.449491Z",
     "shell.execute_reply": "2021-08-19T09:48:37.448758Z",
     "shell.execute_reply.started": "2021-08-19T09:48:37.443690Z"
    }
   },
   "outputs": [
    {
     "ename": "NameError",
     "evalue": "name 'y_pred' is not defined",
     "output_type": "error",
     "traceback": [
      "\u001b[1;31m---------------------------------------------------------------------------\u001b[0m",
      "\u001b[1;31mNameError\u001b[0m                                 Traceback (most recent call last)",
      "\u001b[1;32m<ipython-input-73-e56e003c1109>\u001b[0m in \u001b[0;36m<module>\u001b[1;34m\u001b[0m\n\u001b[0;32m      1\u001b[0m \u001b[1;31m# Сравниваем предсказанные значения (y_pred) с реальными (y_test), и смотрим насколько они в среднем отличаются\u001b[0m\u001b[1;33m\u001b[0m\u001b[1;33m\u001b[0m\u001b[1;33m\u001b[0m\u001b[0m\n\u001b[0;32m      2\u001b[0m \u001b[1;31m# Метрика называется Mean Absolute Error (MAE) и показывает среднее отклонение предсказанных значений от фактических.\u001b[0m\u001b[1;33m\u001b[0m\u001b[1;33m\u001b[0m\u001b[1;33m\u001b[0m\u001b[0m\n\u001b[1;32m----> 3\u001b[1;33m \u001b[0mprint\u001b[0m\u001b[1;33m(\u001b[0m\u001b[1;34m'MAE:'\u001b[0m\u001b[1;33m,\u001b[0m \u001b[0mmetrics\u001b[0m\u001b[1;33m.\u001b[0m\u001b[0mmean_absolute_error\u001b[0m\u001b[1;33m(\u001b[0m\u001b[0my_test\u001b[0m\u001b[1;33m,\u001b[0m \u001b[0my_pred\u001b[0m\u001b[1;33m)\u001b[0m\u001b[1;33m)\u001b[0m\u001b[1;33m\u001b[0m\u001b[1;33m\u001b[0m\u001b[0m\n\u001b[0m",
      "\u001b[1;31mNameError\u001b[0m: name 'y_pred' is not defined"
     ]
    }
   ],
   "source": [
    "# Сравниваем предсказанные значения (y_pred) с реальными (y_test), и смотрим насколько они в среднем отличаются\n",
    "# Метрика называется Mean Absolute Error (MAE) и показывает среднее отклонение предсказанных значений от фактических.\n",
    "print('MAE:', metrics.mean_absolute_error(y_test, y_pred))"
   ]
  },
  {
   "cell_type": "code",
   "execution_count": null,
   "metadata": {
    "execution": {
     "iopub.execute_input": "2021-08-03T12:55:03.209652Z",
     "iopub.status.busy": "2021-08-03T12:55:03.209346Z",
     "iopub.status.idle": "2021-08-03T12:55:03.665563Z",
     "shell.execute_reply": "2021-08-03T12:55:03.66462Z",
     "shell.execute_reply.started": "2021-08-03T12:55:03.209607Z"
    }
   },
   "outputs": [],
   "source": [
    "# в RandomForestRegressor есть возможность вывести самые важные признаки для модели\n",
    "plt.rcParams['figure.figsize'] = (10,10)\n",
    "feat_importances = pd.Series(model.feature_importances_, index=X.columns)\n",
    "feat_importances.nlargest(15).plot(kind='barh')"
   ]
  },
  {
   "cell_type": "markdown",
   "metadata": {},
   "source": [
    "# Submission\n",
    "Если все устраевает - готовим Submission на кагл"
   ]
  },
  {
   "cell_type": "code",
   "execution_count": null,
   "metadata": {
    "execution": {
     "iopub.execute_input": "2021-07-27T07:31:27.196218Z",
     "iopub.status.busy": "2021-07-27T07:31:27.19563Z",
     "iopub.status.idle": "2021-07-27T07:31:27.235756Z",
     "shell.execute_reply": "2021-07-27T07:31:27.235061Z",
     "shell.execute_reply.started": "2021-07-27T07:31:27.19614Z"
    }
   },
   "outputs": [],
   "source": [
    "test_data.sample(10)"
   ]
  },
  {
   "cell_type": "code",
   "execution_count": null,
   "metadata": {
    "execution": {
     "iopub.execute_input": "2021-07-27T07:31:27.237101Z",
     "iopub.status.busy": "2021-07-27T07:31:27.23683Z",
     "iopub.status.idle": "2021-07-27T07:31:27.246102Z",
     "shell.execute_reply": "2021-07-27T07:31:27.245062Z",
     "shell.execute_reply.started": "2021-07-27T07:31:27.237055Z"
    }
   },
   "outputs": [],
   "source": [
    "test_data = test_data.drop(['Rating'], axis=1)"
   ]
  },
  {
   "cell_type": "code",
   "execution_count": null,
   "metadata": {
    "execution": {
     "iopub.execute_input": "2021-07-27T07:31:27.247635Z",
     "iopub.status.busy": "2021-07-27T07:31:27.247379Z",
     "iopub.status.idle": "2021-07-27T07:31:27.268542Z",
     "shell.execute_reply": "2021-07-27T07:31:27.267589Z",
     "shell.execute_reply.started": "2021-07-27T07:31:27.247592Z"
    }
   },
   "outputs": [],
   "source": [
    "sample_submission"
   ]
  },
  {
   "cell_type": "code",
   "execution_count": null,
   "metadata": {
    "execution": {
     "iopub.execute_input": "2021-07-27T07:31:27.270734Z",
     "iopub.status.busy": "2021-07-27T07:31:27.270338Z",
     "iopub.status.idle": "2021-07-27T07:31:27.499575Z",
     "shell.execute_reply": "2021-07-27T07:31:27.498659Z",
     "shell.execute_reply.started": "2021-07-27T07:31:27.270592Z"
    }
   },
   "outputs": [],
   "source": [
    "predict_submission = model.predict(test_data)"
   ]
  },
  {
   "cell_type": "code",
   "execution_count": null,
   "metadata": {
    "execution": {
     "iopub.execute_input": "2021-07-27T07:31:27.501145Z",
     "iopub.status.busy": "2021-07-27T07:31:27.500826Z",
     "iopub.status.idle": "2021-07-27T07:31:27.508177Z",
     "shell.execute_reply": "2021-07-27T07:31:27.50708Z",
     "shell.execute_reply.started": "2021-07-27T07:31:27.50109Z"
    }
   },
   "outputs": [],
   "source": [
    "predict_submission"
   ]
  },
  {
   "cell_type": "code",
   "execution_count": null,
   "metadata": {
    "execution": {
     "iopub.execute_input": "2021-07-27T07:31:27.510344Z",
     "iopub.status.busy": "2021-07-27T07:31:27.509885Z",
     "iopub.status.idle": "2021-07-27T07:31:28.099017Z",
     "shell.execute_reply": "2021-07-27T07:31:28.098232Z",
     "shell.execute_reply.started": "2021-07-27T07:31:27.510212Z"
    }
   },
   "outputs": [],
   "source": [
    "sample_submission['Rating'] = predict_submission\n",
    "sample_submission.to_csv('submission.csv', index=False)\n",
    "sample_submission.head(10)"
   ]
  },
  {
   "cell_type": "markdown",
   "metadata": {},
   "source": [
    "# What's next?\n",
    "Или что делать, чтоб улучшить результат:\n",
    "* Обработать оставшиеся признаки в понятный для машины формат\n",
    "* Посмотреть, что еще можно извлечь из признаков\n",
    "* Сгенерировать новые признаки\n",
    "* Подгрузить дополнительные данные, например: по населению или благосостоянию городов\n",
    "* Подобрать состав признаков\n",
    "\n",
    "В общем, процесс творческий и весьма увлекательный! Удачи в соревновании!\n"
   ]
  },
  {
   "cell_type": "code",
   "execution_count": null,
   "metadata": {},
   "outputs": [],
   "source": []
  }
 ],
 "metadata": {
  "kernelspec": {
   "display_name": "Python 3",
   "language": "python",
   "name": "python3"
  },
  "language_info": {
   "codemirror_mode": {
    "name": "ipython",
    "version": 3
   },
   "file_extension": ".py",
   "mimetype": "text/x-python",
   "name": "python",
   "nbconvert_exporter": "python",
   "pygments_lexer": "ipython3",
   "version": "3.8.5"
  }
 },
 "nbformat": 4,
 "nbformat_minor": 4
}
