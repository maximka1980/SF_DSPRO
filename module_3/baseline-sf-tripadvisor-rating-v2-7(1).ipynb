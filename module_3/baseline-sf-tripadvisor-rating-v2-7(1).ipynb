{
 "cells": [
  {
   "cell_type": "markdown",
   "metadata": {},
   "source": [
    "![](https://www.pata.org/wp-content/uploads/2014/09/TripAdvisor_Logo-300x119.png)\n",
    "# Predict TripAdvisor Rating\n",
    "## В этом соревновании нам предстоит предсказать рейтинг ресторана в TripAdvisor\n",
    "**По ходу задачи:**\n",
    "* Прокачаем работу с pandas\n",
    "* Научимся работать с Kaggle Notebooks\n",
    "* Поймем как делать предобработку различных данных\n",
    "* Научимся работать с пропущенными данными (Nan)\n",
    "* Познакомимся с различными видами кодирования признаков\n",
    "* Немного попробуем [Feature Engineering](https://ru.wikipedia.org/wiki/Конструирование_признаков) (генерировать новые признаки)\n",
    "* И совсем немного затронем ML\n",
    "* И многое другое...   \n",
    "\n",
    "\n",
    "\n",
    "### И самое важное, все это вы сможете сделать самостоятельно!\n",
    "\n",
    "*Этот Ноутбук являетсся Примером/Шаблоном к этому соревнованию (Baseline) и не служит готовым решением!*   \n",
    "Вы можете использовать его как основу для построения своего решения.\n",
    "\n",
    "> что такое baseline решение, зачем оно нужно и почему предоставлять baseline к соревнованию стало важным стандартом на kaggle и других площадках.   \n",
    "**baseline** создается больше как шаблон, где можно посмотреть как происходит обращение с входящими данными и что нужно получить на выходе. При этом МЛ начинка может быть достаточно простой, просто для примера. Это помогает быстрее приступить к самому МЛ, а не тратить ценное время на чисто инженерные задачи. \n",
    "Также baseline являеться хорошей опорной точкой по метрике. Если твое решение хуже baseline - ты явно делаешь что-то не то и стоит попробовать другой путь) \n",
    "\n",
    "В контексте нашего соревнования baseline идет с небольшими примерами того, что можно делать с данными, и с инструкцией, что делать дальше, чтобы улучшить результат.  Вообще готовым решением это сложно назвать, так как используются всего 2 самых простых признака (а остальные исключаются)."
   ]
  },
  {
   "cell_type": "markdown",
   "metadata": {},
   "source": [
    "# import"
   ]
  },
  {
   "cell_type": "code",
   "execution_count": 2,
   "metadata": {
    "_cell_guid": "b1076dfc-b9ad-4769-8c92-a6c4dae69d19",
    "_uuid": "8f2839f25d086af736a60e9eeb907d3b93b6e0e5",
    "execution": {
     "iopub.execute_input": "2021-08-19T09:33:08.855161Z",
     "iopub.status.busy": "2021-08-19T09:33:08.854853Z",
     "iopub.status.idle": "2021-08-19T09:33:12.179697Z",
     "shell.execute_reply": "2021-08-19T09:33:12.178935Z",
     "shell.execute_reply.started": "2021-08-19T09:33:08.855112Z"
    }
   },
   "outputs": [],
   "source": [
    "# This Python 3 environment comes with many helpful analytics libraries installed\n",
    "# It is defined by the kaggle/python docker image: https://github.com/kaggle/docker-python\n",
    "# For example, here's several helpful packages to load in \n",
    "\n",
    "import numpy as np # linear algebra\n",
    "import pandas as pd # data processing, CSV file I/O (e.g. pd.read_csv)\n",
    "\n",
    "import re\n",
    "\n",
    "import matplotlib.pyplot as plt\n",
    "import seaborn as sns \n",
    "%matplotlib inline\n",
    "\n",
    "# Загружаем специальный удобный инструмент для разделения датасета:\n",
    "from sklearn.model_selection import train_test_split\n",
    "\n",
    "# Input data files are available in the \"../input/\" directory.\n",
    "# For example, running this (by clicking run or pressing Shift+Enter) will list all files under the input directory\n",
    "\n",
    "import os\n",
    "for dirname, _, filenames in os.walk('/kaggle/input'):\n",
    "    for filename in filenames:\n",
    "        print(os.path.join(dirname, filename))\n",
    "\n",
    "# Any results you write to the current directory are saved as output."
   ]
  },
  {
   "cell_type": "code",
   "execution_count": 3,
   "metadata": {
    "execution": {
     "iopub.execute_input": "2021-08-19T09:33:26.654364Z",
     "iopub.status.busy": "2021-08-19T09:33:26.653935Z",
     "iopub.status.idle": "2021-08-19T09:33:26.658761Z",
     "shell.execute_reply": "2021-08-19T09:33:26.657724Z",
     "shell.execute_reply.started": "2021-08-19T09:33:26.654296Z"
    }
   },
   "outputs": [],
   "source": [
    "# всегда фиксируйте RANDOM_SEED, чтобы ваши эксперименты были воспроизводимы!\n",
    "RANDOM_SEED = 42"
   ]
  },
  {
   "cell_type": "code",
   "execution_count": 4,
   "metadata": {
    "execution": {
     "iopub.execute_input": "2021-08-19T09:33:30.152979Z",
     "iopub.status.busy": "2021-08-19T09:33:30.152493Z",
     "iopub.status.idle": "2021-08-19T09:33:33.792155Z",
     "shell.execute_reply": "2021-08-19T09:33:33.791107Z",
     "shell.execute_reply.started": "2021-08-19T09:33:30.152933Z"
    }
   },
   "outputs": [],
   "source": [
    "# зафиксируем версию пакетов, чтобы эксперименты были воспроизводимы:\n",
    "!pip freeze > requirements.txt"
   ]
  },
  {
   "cell_type": "markdown",
   "metadata": {},
   "source": [
    "# DATA"
   ]
  },
  {
   "cell_type": "code",
   "execution_count": 5,
   "metadata": {
    "_cell_guid": "79c7e3d0-c299-4dcb-8224-4455121ee9b0",
    "_uuid": "d629ff2d2480ee46fbb7e2d37f6b5fab8052498a",
    "execution": {
     "iopub.execute_input": "2021-08-19T09:33:36.278920Z",
     "iopub.status.busy": "2021-08-19T09:33:36.278451Z",
     "iopub.status.idle": "2021-08-19T09:33:36.716226Z",
     "shell.execute_reply": "2021-08-19T09:33:36.714948Z",
     "shell.execute_reply.started": "2021-08-19T09:33:36.278841Z"
    }
   },
   "outputs": [],
   "source": [
    "DATA_DIR = '/kaggle/input/sf-dst-restaurant-rating/'\n",
    "df_train = pd.read_csv('final.csv')\n",
    "df_test = pd.read_csv('kaggle_task.csv')\n",
    "sample_submission = pd.read_csv('sample_submission.csv')"
   ]
  },
  {
   "cell_type": "code",
   "execution_count": 6,
   "metadata": {
    "execution": {
     "iopub.execute_input": "2021-08-19T09:33:39.592137Z",
     "iopub.status.busy": "2021-08-19T09:33:39.591831Z",
     "iopub.status.idle": "2021-08-19T09:33:39.646023Z",
     "shell.execute_reply": "2021-08-19T09:33:39.645193Z",
     "shell.execute_reply.started": "2021-08-19T09:33:39.592087Z"
    }
   },
   "outputs": [
    {
     "name": "stdout",
     "output_type": "stream",
     "text": [
      "<class 'pandas.core.frame.DataFrame'>\n",
      "RangeIndex: 40000 entries, 0 to 39999\n",
      "Data columns (total 14 columns):\n",
      " #   Column       Non-Null Count  Dtype  \n",
      "---  ------       --------------  -----  \n",
      " 0   Unnamed: 0   40000 non-null  int64  \n",
      " 1   id           40000 non-null  object \n",
      " 2   city         40000 non-null  object \n",
      " 3   cuisine      40000 non-null  object \n",
      " 4   ranking      40000 non-null  float64\n",
      " 5   rating       40000 non-null  float64\n",
      " 6   nor          40000 non-null  float64\n",
      " 7   reviews      40000 non-null  object \n",
      " 8   url_ta       40000 non-null  object \n",
      " 9   id_ta        40000 non-null  object \n",
      " 10  prcat        40000 non-null  float64\n",
      " 11  col_cuisine  40000 non-null  object \n",
      " 12  col_c        40000 non-null  int64  \n",
      " 13  city_le      40000 non-null  int64  \n",
      "dtypes: float64(4), int64(3), object(7)\n",
      "memory usage: 4.3+ MB\n"
     ]
    }
   ],
   "source": [
    "df_train.info()"
   ]
  },
  {
   "cell_type": "code",
   "execution_count": 7,
   "metadata": {
    "execution": {
     "iopub.execute_input": "2021-08-19T09:33:48.607562Z",
     "iopub.status.busy": "2021-08-19T09:33:48.607120Z",
     "iopub.status.idle": "2021-08-19T09:33:48.638917Z",
     "shell.execute_reply": "2021-08-19T09:33:48.637799Z",
     "shell.execute_reply.started": "2021-08-19T09:33:48.607482Z"
    }
   },
   "outputs": [
    {
     "data": {
      "text/html": [
       "<div>\n",
       "<style scoped>\n",
       "    .dataframe tbody tr th:only-of-type {\n",
       "        vertical-align: middle;\n",
       "    }\n",
       "\n",
       "    .dataframe tbody tr th {\n",
       "        vertical-align: top;\n",
       "    }\n",
       "\n",
       "    .dataframe thead th {\n",
       "        text-align: right;\n",
       "    }\n",
       "</style>\n",
       "<table border=\"1\" class=\"dataframe\">\n",
       "  <thead>\n",
       "    <tr style=\"text-align: right;\">\n",
       "      <th></th>\n",
       "      <th>Unnamed: 0</th>\n",
       "      <th>id</th>\n",
       "      <th>city</th>\n",
       "      <th>cuisine</th>\n",
       "      <th>ranking</th>\n",
       "      <th>rating</th>\n",
       "      <th>nor</th>\n",
       "      <th>reviews</th>\n",
       "      <th>url_ta</th>\n",
       "      <th>id_ta</th>\n",
       "      <th>prcat</th>\n",
       "      <th>col_cuisine</th>\n",
       "      <th>col_c</th>\n",
       "      <th>city_le</th>\n",
       "    </tr>\n",
       "  </thead>\n",
       "  <tbody>\n",
       "    <tr>\n",
       "      <th>0</th>\n",
       "      <td>0</td>\n",
       "      <td>id_5569</td>\n",
       "      <td>Paris</td>\n",
       "      <td>['European', 'French', 'International']</td>\n",
       "      <td>5570.0</td>\n",
       "      <td>3.5</td>\n",
       "      <td>194.0</td>\n",
       "      <td>[['Good food at your doorstep', 'A good hotel ...</td>\n",
       "      <td>/Restaurant_Review-g187147-d1912643-Reviews-R_...</td>\n",
       "      <td>d1912643</td>\n",
       "      <td>2.0</td>\n",
       "      <td>['European', 'French', 'International']</td>\n",
       "      <td>3</td>\n",
       "      <td>24</td>\n",
       "    </tr>\n",
       "    <tr>\n",
       "      <th>1</th>\n",
       "      <td>1</td>\n",
       "      <td>id_1535</td>\n",
       "      <td>Stockholm</td>\n",
       "      <td>Unknown</td>\n",
       "      <td>1537.0</td>\n",
       "      <td>4.0</td>\n",
       "      <td>10.0</td>\n",
       "      <td>[['Unique cuisine', 'Delicious Nepalese food']...</td>\n",
       "      <td>/Restaurant_Review-g189852-d7992032-Reviews-Bu...</td>\n",
       "      <td>d7992032</td>\n",
       "      <td>2.0</td>\n",
       "      <td>['Asian', 'Nepali']</td>\n",
       "      <td>2</td>\n",
       "      <td>27</td>\n",
       "    </tr>\n",
       "    <tr>\n",
       "      <th>2</th>\n",
       "      <td>2</td>\n",
       "      <td>id_352</td>\n",
       "      <td>London</td>\n",
       "      <td>['Japanese', 'Sushi', 'Asian', 'Grill', 'Veget...</td>\n",
       "      <td>353.0</td>\n",
       "      <td>4.5</td>\n",
       "      <td>688.0</td>\n",
       "      <td>[['Catch up with friends', 'Not exceptional'],...</td>\n",
       "      <td>/Restaurant_Review-g186338-d8632781-Reviews-RO...</td>\n",
       "      <td>d8632781</td>\n",
       "      <td>3.0</td>\n",
       "      <td>['Japanese', 'Sushi', 'Asian', 'Grill', 'Veget...</td>\n",
       "      <td>7</td>\n",
       "      <td>16</td>\n",
       "    </tr>\n",
       "    <tr>\n",
       "      <th>3</th>\n",
       "      <td>3</td>\n",
       "      <td>id_3456</td>\n",
       "      <td>Berlin</td>\n",
       "      <td>Unknown</td>\n",
       "      <td>3458.0</td>\n",
       "      <td>5.0</td>\n",
       "      <td>3.0</td>\n",
       "      <td>[[], []]</td>\n",
       "      <td>/Restaurant_Review-g187323-d1358776-Reviews-Es...</td>\n",
       "      <td>d1358776</td>\n",
       "      <td>2.0</td>\n",
       "      <td>[]</td>\n",
       "      <td>0</td>\n",
       "      <td>3</td>\n",
       "    </tr>\n",
       "    <tr>\n",
       "      <th>4</th>\n",
       "      <td>4</td>\n",
       "      <td>id_615</td>\n",
       "      <td>Munich</td>\n",
       "      <td>['German', 'Central European', 'Vegetarian Fri...</td>\n",
       "      <td>621.0</td>\n",
       "      <td>4.0</td>\n",
       "      <td>84.0</td>\n",
       "      <td>[['Best place to try a Bavarian food', 'Nice b...</td>\n",
       "      <td>/Restaurant_Review-g187309-d6864963-Reviews-Au...</td>\n",
       "      <td>d6864963</td>\n",
       "      <td>2.0</td>\n",
       "      <td>['German', 'Central European', 'Vegetarian Fri...</td>\n",
       "      <td>3</td>\n",
       "      <td>21</td>\n",
       "    </tr>\n",
       "  </tbody>\n",
       "</table>\n",
       "</div>"
      ],
      "text/plain": [
       "   Unnamed: 0       id       city  \\\n",
       "0           0  id_5569      Paris   \n",
       "1           1  id_1535  Stockholm   \n",
       "2           2   id_352     London   \n",
       "3           3  id_3456     Berlin   \n",
       "4           4   id_615     Munich   \n",
       "\n",
       "                                             cuisine  ranking  rating    nor  \\\n",
       "0            ['European', 'French', 'International']   5570.0     3.5  194.0   \n",
       "1                                            Unknown   1537.0     4.0   10.0   \n",
       "2  ['Japanese', 'Sushi', 'Asian', 'Grill', 'Veget...    353.0     4.5  688.0   \n",
       "3                                            Unknown   3458.0     5.0    3.0   \n",
       "4  ['German', 'Central European', 'Vegetarian Fri...    621.0     4.0   84.0   \n",
       "\n",
       "                                             reviews  \\\n",
       "0  [['Good food at your doorstep', 'A good hotel ...   \n",
       "1  [['Unique cuisine', 'Delicious Nepalese food']...   \n",
       "2  [['Catch up with friends', 'Not exceptional'],...   \n",
       "3                                           [[], []]   \n",
       "4  [['Best place to try a Bavarian food', 'Nice b...   \n",
       "\n",
       "                                              url_ta     id_ta  prcat  \\\n",
       "0  /Restaurant_Review-g187147-d1912643-Reviews-R_...  d1912643    2.0   \n",
       "1  /Restaurant_Review-g189852-d7992032-Reviews-Bu...  d7992032    2.0   \n",
       "2  /Restaurant_Review-g186338-d8632781-Reviews-RO...  d8632781    3.0   \n",
       "3  /Restaurant_Review-g187323-d1358776-Reviews-Es...  d1358776    2.0   \n",
       "4  /Restaurant_Review-g187309-d6864963-Reviews-Au...  d6864963    2.0   \n",
       "\n",
       "                                         col_cuisine  col_c  city_le  \n",
       "0            ['European', 'French', 'International']      3       24  \n",
       "1                                ['Asian', 'Nepali']      2       27  \n",
       "2  ['Japanese', 'Sushi', 'Asian', 'Grill', 'Veget...      7       16  \n",
       "3                                                 []      0        3  \n",
       "4  ['German', 'Central European', 'Vegetarian Fri...      3       21  "
      ]
     },
     "execution_count": 7,
     "metadata": {},
     "output_type": "execute_result"
    }
   ],
   "source": [
    "df_train.head(5)"
   ]
  },
  {
   "cell_type": "code",
   "execution_count": 8,
   "metadata": {
    "execution": {
     "iopub.execute_input": "2021-08-19T09:33:53.682776Z",
     "iopub.status.busy": "2021-08-19T09:33:53.682379Z",
     "iopub.status.idle": "2021-08-19T09:33:53.700129Z",
     "shell.execute_reply": "2021-08-19T09:33:53.699195Z",
     "shell.execute_reply.started": "2021-08-19T09:33:53.682718Z"
    }
   },
   "outputs": [
    {
     "name": "stdout",
     "output_type": "stream",
     "text": [
      "<class 'pandas.core.frame.DataFrame'>\n",
      "RangeIndex: 10000 entries, 0 to 9999\n",
      "Data columns (total 9 columns):\n",
      " #   Column             Non-Null Count  Dtype  \n",
      "---  ------             --------------  -----  \n",
      " 0   Restaurant_id      10000 non-null  object \n",
      " 1   City               10000 non-null  object \n",
      " 2   Cuisine Style      7693 non-null   object \n",
      " 3   Ranking            10000 non-null  float64\n",
      " 4   Price Range        6525 non-null   object \n",
      " 5   Number of Reviews  9343 non-null   float64\n",
      " 6   Reviews            9998 non-null   object \n",
      " 7   URL_TA             10000 non-null  object \n",
      " 8   ID_TA              10000 non-null  object \n",
      "dtypes: float64(2), object(7)\n",
      "memory usage: 703.2+ KB\n"
     ]
    }
   ],
   "source": [
    "df_test.info()"
   ]
  },
  {
   "cell_type": "code",
   "execution_count": 9,
   "metadata": {
    "execution": {
     "iopub.execute_input": "2021-08-19T09:34:01.124577Z",
     "iopub.status.busy": "2021-08-19T09:34:01.124197Z",
     "iopub.status.idle": "2021-08-19T09:34:01.144282Z",
     "shell.execute_reply": "2021-08-19T09:34:01.143028Z",
     "shell.execute_reply.started": "2021-08-19T09:34:01.124520Z"
    }
   },
   "outputs": [
    {
     "data": {
      "text/html": [
       "<div>\n",
       "<style scoped>\n",
       "    .dataframe tbody tr th:only-of-type {\n",
       "        vertical-align: middle;\n",
       "    }\n",
       "\n",
       "    .dataframe tbody tr th {\n",
       "        vertical-align: top;\n",
       "    }\n",
       "\n",
       "    .dataframe thead th {\n",
       "        text-align: right;\n",
       "    }\n",
       "</style>\n",
       "<table border=\"1\" class=\"dataframe\">\n",
       "  <thead>\n",
       "    <tr style=\"text-align: right;\">\n",
       "      <th></th>\n",
       "      <th>Restaurant_id</th>\n",
       "      <th>City</th>\n",
       "      <th>Cuisine Style</th>\n",
       "      <th>Ranking</th>\n",
       "      <th>Price Range</th>\n",
       "      <th>Number of Reviews</th>\n",
       "      <th>Reviews</th>\n",
       "      <th>URL_TA</th>\n",
       "      <th>ID_TA</th>\n",
       "    </tr>\n",
       "  </thead>\n",
       "  <tbody>\n",
       "    <tr>\n",
       "      <th>0</th>\n",
       "      <td>id_0</td>\n",
       "      <td>Paris</td>\n",
       "      <td>['Bar', 'Pub']</td>\n",
       "      <td>12963.0</td>\n",
       "      <td>$$ - $$$</td>\n",
       "      <td>4.0</td>\n",
       "      <td>[[], []]</td>\n",
       "      <td>/Restaurant_Review-g187147-d10746918-Reviews-L...</td>\n",
       "      <td>d10746918</td>\n",
       "    </tr>\n",
       "    <tr>\n",
       "      <th>1</th>\n",
       "      <td>id_1</td>\n",
       "      <td>Helsinki</td>\n",
       "      <td>['European', 'Scandinavian', 'Gluten Free Opti...</td>\n",
       "      <td>106.0</td>\n",
       "      <td>$$ - $$$</td>\n",
       "      <td>97.0</td>\n",
       "      <td>[['Very good reviews!', 'Fine dining in Hakani...</td>\n",
       "      <td>/Restaurant_Review-g189934-d6674944-Reviews-Ra...</td>\n",
       "      <td>d6674944</td>\n",
       "    </tr>\n",
       "    <tr>\n",
       "      <th>2</th>\n",
       "      <td>id_2</td>\n",
       "      <td>Edinburgh</td>\n",
       "      <td>['Vegetarian Friendly']</td>\n",
       "      <td>810.0</td>\n",
       "      <td>$$ - $$$</td>\n",
       "      <td>28.0</td>\n",
       "      <td>[['Better than the Links', 'Ivy Black'], ['12/...</td>\n",
       "      <td>/Restaurant_Review-g186525-d13129638-Reviews-B...</td>\n",
       "      <td>d13129638</td>\n",
       "    </tr>\n",
       "    <tr>\n",
       "      <th>3</th>\n",
       "      <td>id_3</td>\n",
       "      <td>London</td>\n",
       "      <td>['Italian', 'Mediterranean', 'European', 'Vege...</td>\n",
       "      <td>1669.0</td>\n",
       "      <td>$$$$</td>\n",
       "      <td>202.0</td>\n",
       "      <td>[['Most exquisite', 'Delicious and authentic']...</td>\n",
       "      <td>/Restaurant_Review-g186338-d680417-Reviews-Qui...</td>\n",
       "      <td>d680417</td>\n",
       "    </tr>\n",
       "    <tr>\n",
       "      <th>4</th>\n",
       "      <td>id_4</td>\n",
       "      <td>Bratislava</td>\n",
       "      <td>['Italian', 'Mediterranean', 'European', 'Seaf...</td>\n",
       "      <td>37.0</td>\n",
       "      <td>$$$$</td>\n",
       "      <td>162.0</td>\n",
       "      <td>[['Always the best in bratislava', 'Very good ...</td>\n",
       "      <td>/Restaurant_Review-g274924-d1112354-Reviews-Ma...</td>\n",
       "      <td>d1112354</td>\n",
       "    </tr>\n",
       "  </tbody>\n",
       "</table>\n",
       "</div>"
      ],
      "text/plain": [
       "  Restaurant_id        City  \\\n",
       "0          id_0       Paris   \n",
       "1          id_1    Helsinki   \n",
       "2          id_2   Edinburgh   \n",
       "3          id_3      London   \n",
       "4          id_4  Bratislava   \n",
       "\n",
       "                                       Cuisine Style  Ranking Price Range  \\\n",
       "0                                     ['Bar', 'Pub']  12963.0    $$ - $$$   \n",
       "1  ['European', 'Scandinavian', 'Gluten Free Opti...    106.0    $$ - $$$   \n",
       "2                            ['Vegetarian Friendly']    810.0    $$ - $$$   \n",
       "3  ['Italian', 'Mediterranean', 'European', 'Vege...   1669.0        $$$$   \n",
       "4  ['Italian', 'Mediterranean', 'European', 'Seaf...     37.0        $$$$   \n",
       "\n",
       "   Number of Reviews                                            Reviews  \\\n",
       "0                4.0                                           [[], []]   \n",
       "1               97.0  [['Very good reviews!', 'Fine dining in Hakani...   \n",
       "2               28.0  [['Better than the Links', 'Ivy Black'], ['12/...   \n",
       "3              202.0  [['Most exquisite', 'Delicious and authentic']...   \n",
       "4              162.0  [['Always the best in bratislava', 'Very good ...   \n",
       "\n",
       "                                              URL_TA      ID_TA  \n",
       "0  /Restaurant_Review-g187147-d10746918-Reviews-L...  d10746918  \n",
       "1  /Restaurant_Review-g189934-d6674944-Reviews-Ra...   d6674944  \n",
       "2  /Restaurant_Review-g186525-d13129638-Reviews-B...  d13129638  \n",
       "3  /Restaurant_Review-g186338-d680417-Reviews-Qui...    d680417  \n",
       "4  /Restaurant_Review-g274924-d1112354-Reviews-Ma...   d1112354  "
      ]
     },
     "execution_count": 9,
     "metadata": {},
     "output_type": "execute_result"
    }
   ],
   "source": [
    "df_test.head(5)"
   ]
  },
  {
   "cell_type": "code",
   "execution_count": 8,
   "metadata": {
    "execution": {
     "iopub.execute_input": "2021-08-19T09:34:04.146484Z",
     "iopub.status.busy": "2021-08-19T09:34:04.146105Z",
     "iopub.status.idle": "2021-08-19T09:34:04.158712Z",
     "shell.execute_reply": "2021-08-19T09:34:04.157511Z",
     "shell.execute_reply.started": "2021-08-19T09:34:04.146426Z"
    }
   },
   "outputs": [
    {
     "data": {
      "text/html": [
       "<div>\n",
       "<style scoped>\n",
       "    .dataframe tbody tr th:only-of-type {\n",
       "        vertical-align: middle;\n",
       "    }\n",
       "\n",
       "    .dataframe tbody tr th {\n",
       "        vertical-align: top;\n",
       "    }\n",
       "\n",
       "    .dataframe thead th {\n",
       "        text-align: right;\n",
       "    }\n",
       "</style>\n",
       "<table border=\"1\" class=\"dataframe\">\n",
       "  <thead>\n",
       "    <tr style=\"text-align: right;\">\n",
       "      <th></th>\n",
       "      <th>Restaurant_id</th>\n",
       "      <th>Rating</th>\n",
       "    </tr>\n",
       "  </thead>\n",
       "  <tbody>\n",
       "    <tr>\n",
       "      <th>0</th>\n",
       "      <td>id_0</td>\n",
       "      <td>2.0</td>\n",
       "    </tr>\n",
       "    <tr>\n",
       "      <th>1</th>\n",
       "      <td>id_1</td>\n",
       "      <td>2.5</td>\n",
       "    </tr>\n",
       "    <tr>\n",
       "      <th>2</th>\n",
       "      <td>id_2</td>\n",
       "      <td>4.0</td>\n",
       "    </tr>\n",
       "    <tr>\n",
       "      <th>3</th>\n",
       "      <td>id_3</td>\n",
       "      <td>1.0</td>\n",
       "    </tr>\n",
       "    <tr>\n",
       "      <th>4</th>\n",
       "      <td>id_4</td>\n",
       "      <td>4.0</td>\n",
       "    </tr>\n",
       "  </tbody>\n",
       "</table>\n",
       "</div>"
      ],
      "text/plain": [
       "  Restaurant_id  Rating\n",
       "0          id_0     2.0\n",
       "1          id_1     2.5\n",
       "2          id_2     4.0\n",
       "3          id_3     1.0\n",
       "4          id_4     4.0"
      ]
     },
     "execution_count": 8,
     "metadata": {},
     "output_type": "execute_result"
    }
   ],
   "source": [
    "sample_submission.head(5)"
   ]
  },
  {
   "cell_type": "code",
   "execution_count": 9,
   "metadata": {
    "execution": {
     "iopub.execute_input": "2021-08-19T09:34:25.558056Z",
     "iopub.status.busy": "2021-08-19T09:34:25.557710Z",
     "iopub.status.idle": "2021-08-19T09:34:25.568995Z",
     "shell.execute_reply": "2021-08-19T09:34:25.567716Z",
     "shell.execute_reply.started": "2021-08-19T09:34:25.558000Z"
    }
   },
   "outputs": [
    {
     "name": "stdout",
     "output_type": "stream",
     "text": [
      "<class 'pandas.core.frame.DataFrame'>\n",
      "RangeIndex: 10000 entries, 0 to 9999\n",
      "Data columns (total 2 columns):\n",
      " #   Column         Non-Null Count  Dtype  \n",
      "---  ------         --------------  -----  \n",
      " 0   Restaurant_id  10000 non-null  object \n",
      " 1   Rating         10000 non-null  float64\n",
      "dtypes: float64(1), object(1)\n",
      "memory usage: 156.4+ KB\n"
     ]
    }
   ],
   "source": [
    "sample_submission.info()"
   ]
  },
  {
   "cell_type": "code",
   "execution_count": 10,
   "metadata": {
    "execution": {
     "iopub.execute_input": "2021-08-19T09:34:53.081816Z",
     "iopub.status.busy": "2021-08-19T09:34:53.081436Z",
     "iopub.status.idle": "2021-08-19T09:34:53.136603Z",
     "shell.execute_reply": "2021-08-19T09:34:53.135656Z",
     "shell.execute_reply.started": "2021-08-19T09:34:53.081758Z"
    }
   },
   "outputs": [],
   "source": [
    "# ВАЖНО! дря корректной обработки признаков объединяем трейн и тест в один датасет\n",
    "df_train['sample'] = 1 # помечаем где у нас трейн\n",
    "df_test['sample'] = 0 # помечаем где у нас тест\n",
    "df_test['Rating'] = 0 # в тесте у нас нет значения Rating, мы его должны предсказать, по этому пока просто заполняем нулями\n",
    "\n",
    "data = df_test.append(df_train, sort=False).reset_index(drop=True) # объединяем"
   ]
  },
  {
   "cell_type": "code",
   "execution_count": 12,
   "metadata": {
    "execution": {
     "iopub.execute_input": "2021-08-19T09:34:56.233486Z",
     "iopub.status.busy": "2021-08-19T09:34:56.233169Z",
     "iopub.status.idle": "2021-08-19T09:34:56.280784Z",
     "shell.execute_reply": "2021-08-19T09:34:56.279378Z",
     "shell.execute_reply.started": "2021-08-19T09:34:56.233434Z"
    }
   },
   "outputs": [
    {
     "name": "stdout",
     "output_type": "stream",
     "text": [
      "<class 'pandas.core.frame.DataFrame'>\n",
      "RangeIndex: 50000 entries, 0 to 49999\n",
      "Data columns (total 25 columns):\n",
      " #   Column             Non-Null Count  Dtype  \n",
      "---  ------             --------------  -----  \n",
      " 0   Restaurant_id      10000 non-null  object \n",
      " 1   City               10000 non-null  object \n",
      " 2   Cuisine Style      7693 non-null   object \n",
      " 3   Ranking            10000 non-null  float64\n",
      " 4   Price Range        6525 non-null   object \n",
      " 5   Number of Reviews  9343 non-null   float64\n",
      " 6   Reviews            9998 non-null   object \n",
      " 7   URL_TA             10000 non-null  object \n",
      " 8   ID_TA              10000 non-null  object \n",
      " 9   sample             50000 non-null  int64  \n",
      " 10  Rating             10000 non-null  float64\n",
      " 11  Unnamed: 0         40000 non-null  float64\n",
      " 12  id                 40000 non-null  object \n",
      " 13  city               40000 non-null  object \n",
      " 14  cuisine            40000 non-null  object \n",
      " 15  ranking            40000 non-null  float64\n",
      " 16  rating             40000 non-null  float64\n",
      " 17  nor                40000 non-null  float64\n",
      " 18  reviews            40000 non-null  object \n",
      " 19  url_ta             40000 non-null  object \n",
      " 20  id_ta              40000 non-null  object \n",
      " 21  prcat              40000 non-null  float64\n",
      " 22  col_cuisine        40000 non-null  object \n",
      " 23  col_c              40000 non-null  float64\n",
      " 24  city_le            40000 non-null  float64\n",
      "dtypes: float64(10), int64(1), object(14)\n",
      "memory usage: 9.5+ MB\n"
     ]
    }
   ],
   "source": [
    "data.info()"
   ]
  },
  {
   "cell_type": "markdown",
   "metadata": {},
   "source": [
    "Подробнее по признакам:\n",
    "* City: Город \n",
    "* Cuisine Style: Кухня\n",
    "* Ranking: Ранг ресторана относительно других ресторанов в этом городе\n",
    "* Price Range: Цены в ресторане в 3 категориях\n",
    "* Number of Reviews: Количество отзывов\n",
    "* Reviews: 2 последних отзыва и даты этих отзывов\n",
    "* URL_TA: страница ресторана на 'www.tripadvisor.com' \n",
    "* ID_TA: ID ресторана в TripAdvisor\n",
    "* Rating: Рейтинг ресторана"
   ]
  },
  {
   "cell_type": "code",
   "execution_count": 13,
   "metadata": {
    "execution": {
     "iopub.execute_input": "2021-08-19T09:35:30.020000Z",
     "iopub.status.busy": "2021-08-19T09:35:30.019633Z",
     "iopub.status.idle": "2021-08-19T09:35:30.044058Z",
     "shell.execute_reply": "2021-08-19T09:35:30.042979Z",
     "shell.execute_reply.started": "2021-08-19T09:35:30.019947Z"
    }
   },
   "outputs": [
    {
     "data": {
      "text/html": [
       "<div>\n",
       "<style scoped>\n",
       "    .dataframe tbody tr th:only-of-type {\n",
       "        vertical-align: middle;\n",
       "    }\n",
       "\n",
       "    .dataframe tbody tr th {\n",
       "        vertical-align: top;\n",
       "    }\n",
       "\n",
       "    .dataframe thead th {\n",
       "        text-align: right;\n",
       "    }\n",
       "</style>\n",
       "<table border=\"1\" class=\"dataframe\">\n",
       "  <thead>\n",
       "    <tr style=\"text-align: right;\">\n",
       "      <th></th>\n",
       "      <th>Restaurant_id</th>\n",
       "      <th>City</th>\n",
       "      <th>Cuisine Style</th>\n",
       "      <th>Ranking</th>\n",
       "      <th>Price Range</th>\n",
       "      <th>Number of Reviews</th>\n",
       "      <th>Reviews</th>\n",
       "      <th>URL_TA</th>\n",
       "      <th>ID_TA</th>\n",
       "      <th>sample</th>\n",
       "      <th>...</th>\n",
       "      <th>ranking</th>\n",
       "      <th>rating</th>\n",
       "      <th>nor</th>\n",
       "      <th>reviews</th>\n",
       "      <th>url_ta</th>\n",
       "      <th>id_ta</th>\n",
       "      <th>prcat</th>\n",
       "      <th>col_cuisine</th>\n",
       "      <th>col_c</th>\n",
       "      <th>city_le</th>\n",
       "    </tr>\n",
       "  </thead>\n",
       "  <tbody>\n",
       "    <tr>\n",
       "      <th>34774</th>\n",
       "      <td>NaN</td>\n",
       "      <td>NaN</td>\n",
       "      <td>NaN</td>\n",
       "      <td>NaN</td>\n",
       "      <td>NaN</td>\n",
       "      <td>NaN</td>\n",
       "      <td>NaN</td>\n",
       "      <td>NaN</td>\n",
       "      <td>NaN</td>\n",
       "      <td>1</td>\n",
       "      <td>...</td>\n",
       "      <td>819.0</td>\n",
       "      <td>4.5</td>\n",
       "      <td>11.0</td>\n",
       "      <td>[['Secret is in the sauce', 'Using your Noodle...</td>\n",
       "      <td>/Restaurant_Review-g189541-d9714280-Reviews-1_...</td>\n",
       "      <td>d9714280</td>\n",
       "      <td>1.0</td>\n",
       "      <td>['Chinese']</td>\n",
       "      <td>1.0</td>\n",
       "      <td>7.0</td>\n",
       "    </tr>\n",
       "    <tr>\n",
       "      <th>44664</th>\n",
       "      <td>NaN</td>\n",
       "      <td>NaN</td>\n",
       "      <td>NaN</td>\n",
       "      <td>NaN</td>\n",
       "      <td>NaN</td>\n",
       "      <td>NaN</td>\n",
       "      <td>NaN</td>\n",
       "      <td>NaN</td>\n",
       "      <td>NaN</td>\n",
       "      <td>1</td>\n",
       "      <td>...</td>\n",
       "      <td>1098.0</td>\n",
       "      <td>4.0</td>\n",
       "      <td>283.0</td>\n",
       "      <td>[[], []]</td>\n",
       "      <td>/Restaurant_Review-g187791-d10221942-Reviews-T...</td>\n",
       "      <td>d10221942</td>\n",
       "      <td>2.0</td>\n",
       "      <td>['Italian']</td>\n",
       "      <td>1.0</td>\n",
       "      <td>26.0</td>\n",
       "    </tr>\n",
       "    <tr>\n",
       "      <th>46602</th>\n",
       "      <td>NaN</td>\n",
       "      <td>NaN</td>\n",
       "      <td>NaN</td>\n",
       "      <td>NaN</td>\n",
       "      <td>NaN</td>\n",
       "      <td>NaN</td>\n",
       "      <td>NaN</td>\n",
       "      <td>NaN</td>\n",
       "      <td>NaN</td>\n",
       "      <td>1</td>\n",
       "      <td>...</td>\n",
       "      <td>1669.0</td>\n",
       "      <td>4.5</td>\n",
       "      <td>21.0</td>\n",
       "      <td>[['great little restaurant', 'Small cozy place...</td>\n",
       "      <td>/Restaurant_Review-g188590-d3749051-Reviews-Ee...</td>\n",
       "      <td>d3749051</td>\n",
       "      <td>2.0</td>\n",
       "      <td>['European', 'Italian', 'Pizza']</td>\n",
       "      <td>3.0</td>\n",
       "      <td>0.0</td>\n",
       "    </tr>\n",
       "    <tr>\n",
       "      <th>11461</th>\n",
       "      <td>NaN</td>\n",
       "      <td>NaN</td>\n",
       "      <td>NaN</td>\n",
       "      <td>NaN</td>\n",
       "      <td>NaN</td>\n",
       "      <td>NaN</td>\n",
       "      <td>NaN</td>\n",
       "      <td>NaN</td>\n",
       "      <td>NaN</td>\n",
       "      <td>1</td>\n",
       "      <td>...</td>\n",
       "      <td>8279.0</td>\n",
       "      <td>4.5</td>\n",
       "      <td>10.0</td>\n",
       "      <td>[['Yoo need to go!', 'Quick'], ['09/20/2017', ...</td>\n",
       "      <td>/Restaurant_Review-g186338-d11444358-Reviews-Y...</td>\n",
       "      <td>d11444358</td>\n",
       "      <td>2.0</td>\n",
       "      <td>['Japanese', 'Brazilian', 'Sushi', 'South Amer...</td>\n",
       "      <td>4.0</td>\n",
       "      <td>16.0</td>\n",
       "    </tr>\n",
       "    <tr>\n",
       "      <th>24361</th>\n",
       "      <td>NaN</td>\n",
       "      <td>NaN</td>\n",
       "      <td>NaN</td>\n",
       "      <td>NaN</td>\n",
       "      <td>NaN</td>\n",
       "      <td>NaN</td>\n",
       "      <td>NaN</td>\n",
       "      <td>NaN</td>\n",
       "      <td>NaN</td>\n",
       "      <td>1</td>\n",
       "      <td>...</td>\n",
       "      <td>5741.0</td>\n",
       "      <td>5.0</td>\n",
       "      <td>2.0</td>\n",
       "      <td>[[], []]</td>\n",
       "      <td>/Restaurant_Review-g187791-d5813216-Reviews-Te...</td>\n",
       "      <td>d5813216</td>\n",
       "      <td>2.0</td>\n",
       "      <td>[]</td>\n",
       "      <td>0.0</td>\n",
       "      <td>26.0</td>\n",
       "    </tr>\n",
       "  </tbody>\n",
       "</table>\n",
       "<p>5 rows × 25 columns</p>\n",
       "</div>"
      ],
      "text/plain": [
       "      Restaurant_id City Cuisine Style  Ranking Price Range  \\\n",
       "34774           NaN  NaN           NaN      NaN         NaN   \n",
       "44664           NaN  NaN           NaN      NaN         NaN   \n",
       "46602           NaN  NaN           NaN      NaN         NaN   \n",
       "11461           NaN  NaN           NaN      NaN         NaN   \n",
       "24361           NaN  NaN           NaN      NaN         NaN   \n",
       "\n",
       "       Number of Reviews Reviews URL_TA ID_TA  sample  ...  ranking  rating  \\\n",
       "34774                NaN     NaN    NaN   NaN       1  ...    819.0     4.5   \n",
       "44664                NaN     NaN    NaN   NaN       1  ...   1098.0     4.0   \n",
       "46602                NaN     NaN    NaN   NaN       1  ...   1669.0     4.5   \n",
       "11461                NaN     NaN    NaN   NaN       1  ...   8279.0     4.5   \n",
       "24361                NaN     NaN    NaN   NaN       1  ...   5741.0     5.0   \n",
       "\n",
       "         nor                                            reviews  \\\n",
       "34774   11.0  [['Secret is in the sauce', 'Using your Noodle...   \n",
       "44664  283.0                                           [[], []]   \n",
       "46602   21.0  [['great little restaurant', 'Small cozy place...   \n",
       "11461   10.0  [['Yoo need to go!', 'Quick'], ['09/20/2017', ...   \n",
       "24361    2.0                                           [[], []]   \n",
       "\n",
       "                                                  url_ta      id_ta  prcat  \\\n",
       "34774  /Restaurant_Review-g189541-d9714280-Reviews-1_...   d9714280    1.0   \n",
       "44664  /Restaurant_Review-g187791-d10221942-Reviews-T...  d10221942    2.0   \n",
       "46602  /Restaurant_Review-g188590-d3749051-Reviews-Ee...   d3749051    2.0   \n",
       "11461  /Restaurant_Review-g186338-d11444358-Reviews-Y...  d11444358    2.0   \n",
       "24361  /Restaurant_Review-g187791-d5813216-Reviews-Te...   d5813216    2.0   \n",
       "\n",
       "                                             col_cuisine col_c city_le  \n",
       "34774                                        ['Chinese']   1.0     7.0  \n",
       "44664                                        ['Italian']   1.0    26.0  \n",
       "46602                   ['European', 'Italian', 'Pizza']   3.0     0.0  \n",
       "11461  ['Japanese', 'Brazilian', 'Sushi', 'South Amer...   4.0    16.0  \n",
       "24361                                                 []   0.0    26.0  \n",
       "\n",
       "[5 rows x 25 columns]"
      ]
     },
     "execution_count": 13,
     "metadata": {},
     "output_type": "execute_result"
    }
   ],
   "source": [
    "data.sample(5)"
   ]
  },
  {
   "cell_type": "code",
   "execution_count": 14,
   "metadata": {
    "execution": {
     "iopub.execute_input": "2021-08-19T09:35:33.152022Z",
     "iopub.status.busy": "2021-08-19T09:35:33.151638Z",
     "iopub.status.idle": "2021-08-19T09:35:33.161270Z",
     "shell.execute_reply": "2021-08-19T09:35:33.160166Z",
     "shell.execute_reply.started": "2021-08-19T09:35:33.151962Z"
    }
   },
   "outputs": [
    {
     "data": {
      "text/plain": [
       "\"[['Very good reviews!', 'Fine dining in Hakaniemi'], ['12/05/2017', '10/29/2017']]\""
      ]
     },
     "execution_count": 14,
     "metadata": {},
     "output_type": "execute_result"
    }
   ],
   "source": [
    "data.Reviews[1]"
   ]
  },
  {
   "cell_type": "markdown",
   "metadata": {},
   "source": [
    "Как видим, большинство признаков у нас требует очистки и предварительной обработки."
   ]
  },
  {
   "cell_type": "code",
   "execution_count": 15,
   "metadata": {
    "execution": {
     "iopub.execute_input": "2021-08-19T09:35:44.074122Z",
     "iopub.status.busy": "2021-08-19T09:35:44.073759Z",
     "iopub.status.idle": "2021-08-19T09:35:44.506443Z",
     "shell.execute_reply": "2021-08-19T09:35:44.505219Z",
     "shell.execute_reply.started": "2021-08-19T09:35:44.074068Z"
    }
   },
   "outputs": [
    {
     "data": {
      "image/png": "[encoded data removed]",
      "text/plain": [
       "<Figure size 360x288 with 1 Axes>"
      ]
     },
     "metadata": {
      "needs_background": "light"
     },
     "output_type": "display_data"
    }
   ],
   "source": [
    "# Считаем процент пропусков\n",
    "per_nans = pd.DataFrame(1-data.count()/data.shape[0]).reset_index().rename({0:'percent'}, \\\n",
    "                                                axis=1).sort_values('percent', ascending=False).query('percent>0')\n",
    "# Строим график относительного количества пропущенных значений:\n",
    "fig, ax = plt.subplots(figsize = (5, 4))\n",
    "bar_plot = sns.barplot(x='percent', y='index', data=per_nans, alpha=0.8, ci=None)\n",
    "for ytick in bar_plot.get_yticks():\n",
    "        bar_plot.text(per_nans.iloc[ytick][1]+0.005, ytick+0.2, str(round(per_nans.iloc[ytick][1]*100,2))+' %', \n",
    "                    horizontalalignment='center',size=10, color='black',weight='semibold')\n",
    "plt.title('Относительное количество пропусков')\n",
    "plt.ylabel('')\n",
    "plt.xlabel('Percent', fontsize=12)\n",
    "plt.show()"
   ]
  },
  {
   "cell_type": "markdown",
   "metadata": {},
   "source": [
    "# Cleaning and Prepping Data\n",
    "Обычно данные содержат в себе кучу мусора, который необходимо почистить, для того чтобы привести их в приемлемый формат. Чистка данных — это необходимый этап решения почти любой реальной задачи.   \n",
    "![](https://analyticsindiamag.com/wp-content/uploads/2018/01/data-cleaning.png)"
   ]
  },
  {
   "cell_type": "markdown",
   "metadata": {},
   "source": [
    "## Очистка и обработка признаков"
   ]
  },
  {
   "cell_type": "markdown",
   "metadata": {},
   "source": [
    "# Restaurant_id"
   ]
  },
  {
   "cell_type": "code",
   "execution_count": 16,
   "metadata": {
    "execution": {
     "iopub.execute_input": "2021-08-19T09:36:00.616479Z",
     "iopub.status.busy": "2021-08-19T09:36:00.616096Z",
     "iopub.status.idle": "2021-08-19T09:36:00.651397Z",
     "shell.execute_reply": "2021-08-19T09:36:00.650694Z",
     "shell.execute_reply.started": "2021-08-19T09:36:00.616414Z"
    }
   },
   "outputs": [
    {
     "data": {
      "text/plain": [
       "id_9904    1\n",
       "id_8387    1\n",
       "id_8964    1\n",
       "id_5746    1\n",
       "id_6074    1\n",
       "          ..\n",
       "id_8535    1\n",
       "id_7210    1\n",
       "id_2684    1\n",
       "id_3999    1\n",
       "id_114     1\n",
       "Name: Restaurant_id, Length: 10000, dtype: int64"
      ]
     },
     "execution_count": 16,
     "metadata": {},
     "output_type": "execute_result"
    }
   ],
   "source": [
    "data['Restaurant_id'].value_counts()"
   ]
  },
  {
   "cell_type": "markdown",
   "metadata": {},
   "source": [
    "Некоторые id встречаются более 1 раза, что может быть всязано с тем, что они являются сетевыми. Создадим новый признак chain: 1 - ресторан сетевой, 0 - нет."
   ]
  },
  {
   "cell_type": "code",
   "execution_count": 17,
   "metadata": {
    "execution": {
     "iopub.execute_input": "2021-08-19T09:36:21.578216Z",
     "iopub.status.busy": "2021-08-19T09:36:21.577904Z",
     "iopub.status.idle": "2021-08-19T09:36:21.679059Z",
     "shell.execute_reply": "2021-08-19T09:36:21.677911Z",
     "shell.execute_reply.started": "2021-08-19T09:36:21.578163Z"
    }
   },
   "outputs": [],
   "source": [
    "chain_lst = list(data.Restaurant_id.value_counts()[data.Restaurant_id.value_counts() > 1].index)\n",
    "data['chain'] = data[data.Restaurant_id.isin(chain_lst)].Restaurant_id.apply(lambda x: 1)\n",
    "data['chain'].fillna(0, inplace=True)\n",
    "data['chain'] = data['chain'].astype(int)"
   ]
  },
  {
   "cell_type": "markdown",
   "metadata": {},
   "source": [
    "# City"
   ]
  },
  {
   "cell_type": "markdown",
   "metadata": {},
   "source": [
    "Посмотрим на распределение рейтингов по городам"
   ]
  },
  {
   "cell_type": "code",
   "execution_count": 18,
   "metadata": {
    "execution": {
     "iopub.execute_input": "2021-08-19T09:36:32.571720Z",
     "iopub.status.busy": "2021-08-19T09:36:32.571321Z",
     "iopub.status.idle": "2021-08-19T09:36:33.490054Z",
     "shell.execute_reply": "2021-08-19T09:36:33.488821Z",
     "shell.execute_reply.started": "2021-08-19T09:36:32.571660Z"
    }
   },
   "outputs": [
    {
     "data": {
      "image/png": "[encoded data removed]",
      "text/plain": [
       "<Figure size 1296x504 with 1 Axes>"
      ]
     },
     "metadata": {
      "needs_background": "light"
     },
     "output_type": "display_data"
    }
   ],
   "source": [
    "plt.figure(figsize=(18, 7))\n",
    "sns.boxplot(x='city', y='rating', data=data[data['sample'] == 1])\n",
    "plt.xticks(rotation=90);"
   ]
  },
  {
   "cell_type": "markdown",
   "metadata": {},
   "source": [
    "### Number of reviews"
   ]
  },
  {
   "cell_type": "code",
   "execution_count": 19,
   "metadata": {
    "execution": {
     "iopub.execute_input": "2021-08-19T09:38:23.147627Z",
     "iopub.status.busy": "2021-08-19T09:38:23.146977Z",
     "iopub.status.idle": "2021-08-19T09:38:23.153322Z",
     "shell.execute_reply": "2021-08-19T09:38:23.152517Z",
     "shell.execute_reply.started": "2021-08-19T09:38:23.147575Z"
    }
   },
   "outputs": [],
   "source": [
    "# Обработаем пропуски столбца Number of Reviews - создадим дополнительный столбец\n",
    "data['Number_of_Reviews_isNAN'] = pd.isna(data['Number of Reviews']).astype('uint8')"
   ]
  },
  {
   "cell_type": "code",
   "execution_count": 20,
   "metadata": {
    "execution": {
     "iopub.execute_input": "2021-08-19T09:38:25.523766Z",
     "iopub.status.busy": "2021-08-19T09:38:25.523222Z",
     "iopub.status.idle": "2021-08-19T09:38:25.529882Z",
     "shell.execute_reply": "2021-08-19T09:38:25.528550Z",
     "shell.execute_reply.started": "2021-08-19T09:38:25.523717Z"
    }
   },
   "outputs": [],
   "source": [
    "# Заполним пропуски нулями, предполагая, что NaN может обозначать отсутствие отзывов\n",
    "data['Number of Reviews'].fillna(0, inplace=True)"
   ]
  },
  {
   "cell_type": "markdown",
   "metadata": {},
   "source": [
    "### Price Range"
   ]
  },
  {
   "cell_type": "code",
   "execution_count": 21,
   "metadata": {
    "execution": {
     "iopub.execute_input": "2021-08-19T09:38:29.193790Z",
     "iopub.status.busy": "2021-08-19T09:38:29.193301Z",
     "iopub.status.idle": "2021-08-19T09:38:29.203142Z",
     "shell.execute_reply": "2021-08-19T09:38:29.202246Z",
     "shell.execute_reply.started": "2021-08-19T09:38:29.193746Z"
    }
   },
   "outputs": [
    {
     "data": {
      "text/plain": [
       "$$ - $$$    4629\n",
       "$           1537\n",
       "$$$$         359\n",
       "Name: Price Range, dtype: int64"
      ]
     },
     "execution_count": 21,
     "metadata": {},
     "output_type": "execute_result"
    }
   ],
   "source": [
    "data['Price Range'].value_counts()"
   ]
  },
  {
   "cell_type": "markdown",
   "metadata": {},
   "source": [
    "По описанию 'Price Range' это - Цены в ресторане.  \n",
    "Их можно поставить по возрастанию (значит это не категориальный признак). А это значит, что их можно заменить последовательными числами, например 1,2,3  "
   ]
  },
  {
   "cell_type": "code",
   "execution_count": 22,
   "metadata": {
    "execution": {
     "iopub.execute_input": "2021-08-19T09:38:32.851591Z",
     "iopub.status.busy": "2021-08-19T09:38:32.851117Z",
     "iopub.status.idle": "2021-08-19T09:38:32.884666Z",
     "shell.execute_reply": "2021-08-19T09:38:32.883239Z",
     "shell.execute_reply.started": "2021-08-19T09:38:32.851525Z"
    }
   },
   "outputs": [],
   "source": [
    "# Создадим дополнительный столбец Price_Range_isNAN\n",
    "data['Price_Range_isNAN'] = pd.isna(data['Price Range']).astype('uint8')\n",
    "# Заменим Price Range числами, при этом попробуем заменить NAN на 2 - самую часто встречающуюся ценовую категорию\n",
    "replace_price_range = {'Price Range': {\"$\": 1, \"$$ - $$$\": 2, \"$$$$\": 3, np.NaN: 2}}\n",
    "data.replace(replace_price_range, inplace=True)"
   ]
  },
  {
   "cell_type": "markdown",
   "metadata": {},
   "source": [
    "### Cuisine Style"
   ]
  },
  {
   "cell_type": "code",
   "execution_count": 23,
   "metadata": {
    "execution": {
     "iopub.execute_input": "2021-08-19T09:40:29.813573Z",
     "iopub.status.busy": "2021-08-19T09:40:29.813175Z",
     "iopub.status.idle": "2021-08-19T09:40:29.827697Z",
     "shell.execute_reply": "2021-08-19T09:40:29.826468Z",
     "shell.execute_reply.started": "2021-08-19T09:40:29.813502Z"
    }
   },
   "outputs": [],
   "source": [
    "# Также создадим столбец, содержащий информацию о пропусках\n",
    "data['Cuisine_Style_isNAN'] = pd.isna(data['Cuisine Style']).astype('uint8')"
   ]
  },
  {
   "cell_type": "code",
   "execution_count": 24,
   "metadata": {
    "execution": {
     "iopub.execute_input": "2021-08-19T09:40:32.939307Z",
     "iopub.status.busy": "2021-08-19T09:40:32.938937Z",
     "iopub.status.idle": "2021-08-19T09:40:32.952700Z",
     "shell.execute_reply": "2021-08-19T09:40:32.951045Z",
     "shell.execute_reply.started": "2021-08-19T09:40:32.939254Z"
    }
   },
   "outputs": [],
   "source": [
    "# Заменим пропуски на Unknown\n",
    "data['Cuisine Style'] = data['Cuisine Style'].fillna(\"['Unknown']\")"
   ]
  },
  {
   "cell_type": "code",
   "execution_count": 25,
   "metadata": {
    "execution": {
     "iopub.execute_input": "2021-08-19T09:40:35.173903Z",
     "iopub.status.busy": "2021-08-19T09:40:35.173429Z",
     "iopub.status.idle": "2021-08-19T09:40:35.181499Z",
     "shell.execute_reply": "2021-08-19T09:40:35.180777Z",
     "shell.execute_reply.started": "2021-08-19T09:40:35.173860Z"
    }
   },
   "outputs": [],
   "source": [
    "def cuisine (df):\n",
    "    # Приводим все названия кухонь к одному формату.\n",
    "    df['Cuisine Style'] = df['Cuisine Style'].str.lower()\n",
    "\n",
    "    # Делаем преобразования.\n",
    "    cuisineStyle = set()\n",
    "    cuisines = df['Cuisine Style'].to_list()\n",
    "\n",
    "    # Заполняем сет для получения уникальных значений.\n",
    "    # А так же создаем список\n",
    "    for cuisine in cuisines:\n",
    "        cuisine = re.findall(r\"'([\\s\\S]+?)'\", cuisine)\n",
    "        for j in cuisine:\n",
    "            cuisineStyle.add(j)\n",
    "    \n",
    "    for item in cuisineStyle:\n",
    "        df[item] = df['Cuisine Style'].apply(lambda x: 1 if item in x else 0)\n",
    "    return df"
   ]
  },
  {
   "cell_type": "code",
   "execution_count": 26,
   "metadata": {
    "execution": {
     "iopub.execute_input": "2021-08-19T09:40:38.173124Z",
     "iopub.status.busy": "2021-08-19T09:40:38.172507Z",
     "iopub.status.idle": "2021-08-19T09:40:42.534347Z",
     "shell.execute_reply": "2021-08-19T09:40:42.532989Z",
     "shell.execute_reply.started": "2021-08-19T09:40:38.173068Z"
    }
   },
   "outputs": [],
   "source": [
    "data = cuisine(data)"
   ]
  },
  {
   "cell_type": "markdown",
   "metadata": {},
   "source": [
    "Можно сделать фиктивные переменные"
   ]
  },
  {
   "cell_type": "markdown",
   "metadata": {},
   "source": [
    "### Ranking"
   ]
  },
  {
   "cell_type": "code",
   "execution_count": 27,
   "metadata": {
    "execution": {
     "iopub.execute_input": "2021-08-19T09:40:47.793271Z",
     "iopub.status.busy": "2021-08-19T09:40:47.792959Z",
     "iopub.status.idle": "2021-08-19T09:40:48.289555Z",
     "shell.execute_reply": "2021-08-19T09:40:48.287945Z",
     "shell.execute_reply.started": "2021-08-19T09:40:47.793222Z"
    }
   },
   "outputs": [
    {
     "data": {
      "text/plain": [
       "<AxesSubplot:>"
      ]
     },
     "execution_count": 27,
     "metadata": {},
     "output_type": "execute_result"
    },
    {
     "data": {
      "image/png": "[encoded data removed]",
      "text/plain": [
       "<Figure size 720x504 with 1 Axes>"
      ]
     },
     "metadata": {
      "needs_background": "light"
     },
     "output_type": "display_data"
    }
   ],
   "source": [
    "# Посмотрим распределение признака\n",
    "plt.rcParams['figure.figsize'] = (10,7)\n",
    "data['Ranking'].hist(bins=100)"
   ]
  },
  {
   "cell_type": "markdown",
   "metadata": {},
   "source": [
    "У нас много ресторанов, которые не дотягивают и до 2500 места в своем городе, а что там по городам?"
   ]
  },
  {
   "cell_type": "code",
   "execution_count": 28,
   "metadata": {
    "execution": {
     "iopub.execute_input": "2021-08-19T09:41:06.409739Z",
     "iopub.status.busy": "2021-08-19T09:41:06.409395Z",
     "iopub.status.idle": "2021-08-19T09:41:06.868296Z",
     "shell.execute_reply": "2021-08-19T09:41:06.866745Z",
     "shell.execute_reply.started": "2021-08-19T09:41:06.409688Z"
    }
   },
   "outputs": [
    {
     "data": {
      "text/plain": [
       "<AxesSubplot:>"
      ]
     },
     "execution_count": 28,
     "metadata": {},
     "output_type": "execute_result"
    },
    {
     "data": {
      "image/png": "[encoded data removed]",
      "text/plain": [
       "<Figure size 720x504 with 1 Axes>"
      ]
     },
     "metadata": {
      "needs_background": "light"
     },
     "output_type": "display_data"
    }
   ],
   "source": [
    "data['City'].value_counts(ascending=True).plot(kind='barh')"
   ]
  },
  {
   "cell_type": "code",
   "execution_count": 29,
   "metadata": {
    "execution": {
     "iopub.execute_input": "2021-08-19T09:41:15.104562Z",
     "iopub.status.busy": "2021-08-19T09:41:15.104163Z",
     "iopub.status.idle": "2021-08-19T09:41:15.591987Z",
     "shell.execute_reply": "2021-08-19T09:41:15.590725Z",
     "shell.execute_reply.started": "2021-08-19T09:41:15.104486Z"
    }
   },
   "outputs": [
    {
     "data": {
      "text/plain": [
       "<AxesSubplot:>"
      ]
     },
     "execution_count": 29,
     "metadata": {},
     "output_type": "execute_result"
    },
    {
     "data": {
      "image/png": "[encoded data removed]",
      "text/plain": [
       "<Figure size 720x504 with 1 Axes>"
      ]
     },
     "metadata": {
      "needs_background": "light"
     },
     "output_type": "display_data"
    }
   ],
   "source": [
    "data['Ranking'][data['City'] =='London'].hist(bins=100)"
   ]
  },
  {
   "cell_type": "code",
   "execution_count": 30,
   "metadata": {
    "execution": {
     "iopub.execute_input": "2021-08-19T09:41:20.400722Z",
     "iopub.status.busy": "2021-08-19T09:41:20.400343Z",
     "iopub.status.idle": "2021-08-19T09:41:23.168973Z",
     "shell.execute_reply": "2021-08-19T09:41:23.167822Z",
     "shell.execute_reply.started": "2021-08-19T09:41:20.400663Z"
    }
   },
   "outputs": [
    {
     "data": {
      "image/png": "[encoded data removed]",
      "text/plain": [
       "<Figure size 720x504 with 1 Axes>"
      ]
     },
     "metadata": {
      "needs_background": "light"
     },
     "output_type": "display_data"
    }
   ],
   "source": [
    "# посмотрим на топ 10 городов\n",
    "for x in (data['City'].value_counts())[0:10].index:\n",
    "    data['Ranking'][data['City'] == x].hist(bins=100)\n",
    "plt.show()"
   ]
  },
  {
   "cell_type": "markdown",
   "metadata": {},
   "source": [
    "Получается, что Ranking имеет нормальное распределение, просто в больших городах больше ресторанов, из-за мы этого имеем смещение."
   ]
  },
  {
   "cell_type": "markdown",
   "metadata": {},
   "source": [
    "### Нормализуем переменную Ranking"
   ]
  },
  {
   "cell_type": "code",
   "execution_count": 34,
   "metadata": {
    "execution": {
     "iopub.execute_input": "2021-08-19T09:41:35.910698Z",
     "iopub.status.busy": "2021-08-19T09:41:35.910351Z",
     "iopub.status.idle": "2021-08-19T09:41:35.939550Z",
     "shell.execute_reply": "2021-08-19T09:41:35.938757Z",
     "shell.execute_reply.started": "2021-08-19T09:41:35.910655Z"
    }
   },
   "outputs": [
    {
     "data": {
      "text/plain": [
       "0        1211.0\n",
       "1          99.0\n",
       "2         149.0\n",
       "3        1436.0\n",
       "4          79.0\n",
       "          ...  \n",
       "49995       NaN\n",
       "49996       NaN\n",
       "49997       NaN\n",
       "49998       NaN\n",
       "49999       NaN\n",
       "Name: city_restaurants, Length: 50000, dtype: float64"
      ]
     },
     "metadata": {},
     "output_type": "display_data"
    }
   ],
   "source": [
    "# Создадим признак - количество ресторанов в городе city_restaurants\n",
    "per_city_dict = dict(data['City'].value_counts())\n",
    "data['city_restaurants'] = data.City.map(per_city_dict)\n",
    "#display(per_city_dict)\n",
    "display(data['city_restaurants'])"
   ]
  },
  {
   "cell_type": "code",
   "execution_count": 35,
   "metadata": {
    "execution": {
     "iopub.execute_input": "2021-08-19T09:41:40.185097Z",
     "iopub.status.busy": "2021-08-19T09:41:40.184595Z",
     "iopub.status.idle": "2021-08-19T09:41:40.299321Z",
     "shell.execute_reply": "2021-08-19T09:41:40.298654Z",
     "shell.execute_reply.started": "2021-08-19T09:41:40.185031Z"
    }
   },
   "outputs": [],
   "source": [
    "# Добавим признак - нормализованный ранг ranking_norm\n",
    "data['ranking_norm'] = data.Ranking / data.city_restaurants"
   ]
  },
  {
   "cell_type": "code",
   "execution_count": 36,
   "metadata": {
    "execution": {
     "iopub.execute_input": "2021-08-19T09:41:46.217806Z",
     "iopub.status.busy": "2021-08-19T09:41:46.215633Z",
     "iopub.status.idle": "2021-08-19T09:41:48.961523Z",
     "shell.execute_reply": "2021-08-19T09:41:48.960500Z",
     "shell.execute_reply.started": "2021-08-19T09:41:46.216160Z"
    }
   },
   "outputs": [
    {
     "data": {
      "image/png": "[encoded data removed]",
      "text/plain": [
       "<Figure size 720x504 with 1 Axes>"
      ]
     },
     "metadata": {
      "needs_background": "light"
     },
     "output_type": "display_data"
    }
   ],
   "source": [
    "# Распределение после нормализации\n",
    "for x in (data['City'].value_counts())[0:10].index:\n",
    "    data['ranking_norm'][data['City'] == x].hist(bins=100)\n",
    "plt.show()"
   ]
  },
  {
   "cell_type": "code",
   "execution_count": 37,
   "metadata": {
    "execution": {
     "iopub.execute_input": "2021-08-19T09:41:54.769017Z",
     "iopub.status.busy": "2021-08-19T09:41:54.768563Z",
     "iopub.status.idle": "2021-08-19T09:41:54.794542Z",
     "shell.execute_reply": "2021-08-19T09:41:54.793455Z",
     "shell.execute_reply.started": "2021-08-19T09:41:54.768975Z"
    }
   },
   "outputs": [],
   "source": [
    "# Оставим для обучения модели только нормализованны ранг\n",
    "data.drop(['Ranking'], axis=1, inplace=True)"
   ]
  },
  {
   "cell_type": "markdown",
   "metadata": {},
   "source": [
    "### City"
   ]
  },
  {
   "cell_type": "code",
   "execution_count": 38,
   "metadata": {
    "execution": {
     "iopub.execute_input": "2021-08-19T09:42:16.722661Z",
     "iopub.status.busy": "2021-08-19T09:42:16.722272Z",
     "iopub.status.idle": "2021-08-19T09:42:16.756173Z",
     "shell.execute_reply": "2021-08-19T09:42:16.754998Z",
     "shell.execute_reply.started": "2021-08-19T09:42:16.722602Z"
    }
   },
   "outputs": [],
   "source": [
    "# Создадим dummy - переменные\n",
    "data = pd.get_dummies(data, columns=[ 'City',], dummy_na=True)"
   ]
  },
  {
   "cell_type": "markdown",
   "metadata": {},
   "source": [
    "## Reviews"
   ]
  },
  {
   "cell_type": "markdown",
   "metadata": {},
   "source": [
    "Создадим новый признак - количество положительных слов в отзывах review_mood"
   ]
  },
  {
   "cell_type": "code",
   "execution_count": 37,
   "metadata": {
    "execution": {
     "iopub.execute_input": "2021-08-19T09:43:00.151351Z",
     "iopub.status.busy": "2021-08-19T09:43:00.151022Z",
     "iopub.status.idle": "2021-08-19T09:43:02.487918Z",
     "shell.execute_reply": "2021-08-19T09:43:02.486592Z",
     "shell.execute_reply.started": "2021-08-19T09:43:00.151313Z"
    }
   },
   "outputs": [],
   "source": [
    "good = ['good', 'great', 'nice', 'best', 'excellent', 'delicious', 'friendly',\n",
    "        'lovely', 'amazing', 'tasty', 'fantastic', 'perfect', 'wonderful',\n",
    "        'super', 'awesome', 'love', 'beautiful', 'superb', 'interesting',\n",
    "        'yummy', 'fine', 'favourite', 'surprise', 'loved', 'brilliant',\n",
    "        'favorite']\n",
    "\n",
    "data['words'] = data.Reviews.str.findall(r\"(\\w+)\")\n",
    "def mood(review):\n",
    "    ''' Подсчет положительных слов в отзывах на ресторан.\n",
    "    Возвращает количество положительных слов в отзывах. \n",
    "    '''\n",
    "    i = 0\n",
    "    for word in review:\n",
    "        for mood in good:\n",
    "            if mood == word.lower():\n",
    "                i += 1\n",
    "    return i\n",
    "data['review_mood'] = data.words.dropna().apply(mood)\n",
    "data.review_mood.fillna(0, inplace=True)"
   ]
  },
  {
   "cell_type": "code",
   "execution_count": 38,
   "metadata": {
    "execution": {
     "iopub.execute_input": "2021-08-19T09:43:06.161373Z",
     "iopub.status.busy": "2021-08-19T09:43:06.161046Z",
     "iopub.status.idle": "2021-08-19T09:43:06.314940Z",
     "shell.execute_reply": "2021-08-19T09:43:06.313920Z",
     "shell.execute_reply.started": "2021-08-19T09:43:06.161322Z"
    }
   },
   "outputs": [],
   "source": [
    "data.drop(['ID_TA'], axis=1, inplace=True)\n",
    "data.drop(['URL_TA'], axis=1, inplace=True)"
   ]
  },
  {
   "cell_type": "markdown",
   "metadata": {},
   "source": [
    "### Посмотрим распределение целевой переменной"
   ]
  },
  {
   "cell_type": "code",
   "execution_count": 39,
   "metadata": {
    "execution": {
     "iopub.execute_input": "2021-08-19T09:43:09.927938Z",
     "iopub.status.busy": "2021-08-19T09:43:09.927614Z",
     "iopub.status.idle": "2021-08-19T09:43:10.216895Z",
     "shell.execute_reply": "2021-08-19T09:43:10.215295Z",
     "shell.execute_reply.started": "2021-08-19T09:43:09.927889Z"
    }
   },
   "outputs": [
    {
     "data": {
      "text/plain": [
       "<AxesSubplot:>"
      ]
     },
     "execution_count": 39,
     "metadata": {},
     "output_type": "execute_result"
    },
    {
     "data": {
      "image/png": "[encoded data removed]",
      "text/plain": [
       "<Figure size 720x504 with 1 Axes>"
      ]
     },
     "metadata": {
      "needs_background": "light"
     },
     "output_type": "display_data"
    }
   ],
   "source": [
    "df_train['rating'].value_counts(ascending=True).plot(kind='barh')"
   ]
  },
  {
   "cell_type": "markdown",
   "metadata": {},
   "source": [
    "### Посмотрим распределение целевой переменной относительно признака"
   ]
  },
  {
   "cell_type": "code",
   "execution_count": 40,
   "metadata": {
    "execution": {
     "iopub.execute_input": "2021-08-19T09:43:15.356221Z",
     "iopub.status.busy": "2021-08-19T09:43:15.355937Z",
     "iopub.status.idle": "2021-08-19T09:43:15.849910Z",
     "shell.execute_reply": "2021-08-19T09:43:15.848427Z",
     "shell.execute_reply.started": "2021-08-19T09:43:15.356186Z"
    }
   },
   "outputs": [
    {
     "data": {
      "text/plain": [
       "<AxesSubplot:>"
      ]
     },
     "execution_count": 40,
     "metadata": {},
     "output_type": "execute_result"
    },
    {
     "data": {
      "image/png": "[encoded data removed]",
      "text/plain": [
       "<Figure size 720x504 with 1 Axes>"
      ]
     },
     "metadata": {
      "needs_background": "light"
     },
     "output_type": "display_data"
    }
   ],
   "source": [
    "data['ranking_norm'][data['rating'] == 5].hist(bins=100)"
   ]
  },
  {
   "cell_type": "markdown",
   "metadata": {},
   "source": [
    "Распределение напоминает нормальное"
   ]
  },
  {
   "cell_type": "code",
   "execution_count": 41,
   "metadata": {
    "execution": {
     "iopub.execute_input": "2021-08-19T09:43:32.870565Z",
     "iopub.status.busy": "2021-08-19T09:43:32.870225Z",
     "iopub.status.idle": "2021-08-19T09:43:33.367639Z",
     "shell.execute_reply": "2021-08-19T09:43:33.365979Z",
     "shell.execute_reply.started": "2021-08-19T09:43:32.870500Z"
    }
   },
   "outputs": [
    {
     "data": {
      "text/plain": [
       "<AxesSubplot:>"
      ]
     },
     "execution_count": 41,
     "metadata": {},
     "output_type": "execute_result"
    },
    {
     "data": {
      "image/png": "[encoded data removed]",
      "text/plain": [
       "<Figure size 720x504 with 1 Axes>"
      ]
     },
     "metadata": {
      "needs_background": "light"
     },
     "output_type": "display_data"
    }
   ],
   "source": [
    "data['ranking_norm'][data['rating'] < 4].hist(bins=100)"
   ]
  },
  {
   "cell_type": "markdown",
   "metadata": {},
   "source": [
    "### И один из моих любимых - [корреляция признаков](https://ru.wikipedia.org/wiki/Корреляция)\n",
    "На этом графике уже сейчас вы сможете заметить, как признаки связаны между собой и с целевой переменной."
   ]
  },
  {
   "cell_type": "code",
   "execution_count": 42,
   "metadata": {
    "execution": {
     "iopub.execute_input": "2021-08-19T09:43:38.429202Z",
     "iopub.status.busy": "2021-08-19T09:43:38.428600Z",
     "iopub.status.idle": "2021-08-19T09:43:43.607813Z",
     "shell.execute_reply": "2021-08-19T09:43:43.606514Z",
     "shell.execute_reply.started": "2021-08-19T09:43:38.429155Z"
    }
   },
   "outputs": [
    {
     "data": {
      "text/plain": [
       "<AxesSubplot:>"
      ]
     },
     "execution_count": 42,
     "metadata": {},
     "output_type": "execute_result"
    },
    {
     "data": {
      "image/png": "[encoded data removed]",
      "text/plain": [
       "<Figure size 1080x792 with 2 Axes>"
      ]
     },
     "metadata": {
      "needs_background": "light"
     },
     "output_type": "display_data"
    }
   ],
   "source": [
    "plt.rcParams['figure.figsize'] = (15,11)\n",
    "sns.heatmap(data.corr(), cmap='vlag')"
   ]
  },
  {
   "cell_type": "code",
   "execution_count": 41,
   "metadata": {
    "execution": {
     "iopub.execute_input": "2021-08-19T09:46:47.925546Z",
     "iopub.status.busy": "2021-08-19T09:46:47.925038Z",
     "iopub.status.idle": "2021-08-19T09:46:50.900407Z",
     "shell.execute_reply": "2021-08-19T09:46:50.899090Z",
     "shell.execute_reply.started": "2021-08-19T09:46:47.925447Z"
    }
   },
   "outputs": [
    {
     "data": {
      "text/html": [
       "<div>\n",
       "<style scoped>\n",
       "    .dataframe tbody tr th:only-of-type {\n",
       "        vertical-align: middle;\n",
       "    }\n",
       "\n",
       "    .dataframe tbody tr th {\n",
       "        vertical-align: top;\n",
       "    }\n",
       "\n",
       "    .dataframe thead th {\n",
       "        text-align: right;\n",
       "    }\n",
       "</style>\n",
       "<table border=\"1\" class=\"dataframe\">\n",
       "  <thead>\n",
       "    <tr style=\"text-align: right;\">\n",
       "      <th></th>\n",
       "      <th>Rating</th>\n",
       "    </tr>\n",
       "  </thead>\n",
       "  <tbody>\n",
       "    <tr>\n",
       "      <th>Price Range</th>\n",
       "      <td>NaN</td>\n",
       "    </tr>\n",
       "    <tr>\n",
       "      <th>Number of Reviews</th>\n",
       "      <td>NaN</td>\n",
       "    </tr>\n",
       "    <tr>\n",
       "      <th>sample</th>\n",
       "      <td>NaN</td>\n",
       "    </tr>\n",
       "    <tr>\n",
       "      <th>Rating</th>\n",
       "      <td>NaN</td>\n",
       "    </tr>\n",
       "    <tr>\n",
       "      <th>Unnamed: 0</th>\n",
       "      <td>NaN</td>\n",
       "    </tr>\n",
       "    <tr>\n",
       "      <th>...</th>\n",
       "      <td>...</td>\n",
       "    </tr>\n",
       "    <tr>\n",
       "      <th>City_Vienna</th>\n",
       "      <td>NaN</td>\n",
       "    </tr>\n",
       "    <tr>\n",
       "      <th>City_Warsaw</th>\n",
       "      <td>NaN</td>\n",
       "    </tr>\n",
       "    <tr>\n",
       "      <th>City_Zurich</th>\n",
       "      <td>NaN</td>\n",
       "    </tr>\n",
       "    <tr>\n",
       "      <th>City_nan</th>\n",
       "      <td>NaN</td>\n",
       "    </tr>\n",
       "    <tr>\n",
       "      <th>review_mood</th>\n",
       "      <td>NaN</td>\n",
       "    </tr>\n",
       "  </tbody>\n",
       "</table>\n",
       "<p>166 rows × 1 columns</p>\n",
       "</div>"
      ],
      "text/plain": [
       "                   Rating\n",
       "Price Range           NaN\n",
       "Number of Reviews     NaN\n",
       "sample                NaN\n",
       "Rating                NaN\n",
       "Unnamed: 0            NaN\n",
       "...                   ...\n",
       "City_Vienna           NaN\n",
       "City_Warsaw           NaN\n",
       "City_Zurich           NaN\n",
       "City_nan              NaN\n",
       "review_mood           NaN\n",
       "\n",
       "[166 rows x 1 columns]"
      ]
     },
     "execution_count": 41,
     "metadata": {},
     "output_type": "execute_result"
    }
   ],
   "source": [
    "data.corr().Rating.sort_values(ascending=False).to_frame()"
   ]
  },
  {
   "cell_type": "markdown",
   "metadata": {},
   "source": [
    "# Data Preprocessing\n",
    "Теперь, для удобства и воспроизводимости кода, завернем всю обработку в одну большую функцию."
   ]
  },
  {
   "cell_type": "code",
   "execution_count": 90,
   "metadata": {
    "execution": {
     "iopub.execute_input": "2021-08-19T09:46:59.926121Z",
     "iopub.status.busy": "2021-08-19T09:46:59.925678Z",
     "iopub.status.idle": "2021-08-19T09:47:00.248195Z",
     "shell.execute_reply": "2021-08-19T09:47:00.246924Z",
     "shell.execute_reply.started": "2021-08-19T09:46:59.926081Z"
    }
   },
   "outputs": [
    {
     "name": "stdout",
     "output_type": "stream",
     "text": [
      "<class 'pandas.core.frame.DataFrame'>\n",
      "RangeIndex: 40000 entries, 0 to 39999\n",
      "Columns: 138 entries, Unnamed: 0 to sample\n",
      "dtypes: float64(3), int64(134), object(1)\n",
      "memory usage: 42.1+ MB\n"
     ]
    }
   ],
   "source": [
    "# на всякий случай, заново подгружаем данные\n",
    "df_train = pd.read_csv('final.csv')\n",
    "df_test = pd.read_csv('kaggle_task.csv')\n",
    "df_train['sample'] = 1 # помечаем где у нас трейн\n",
    "df_test['sample'] = 0 # помечаем где у нас тест\n",
    "df_test['Rating'] = 0 # в тесте у нас нет значения Rating, мы его должны предсказать, по этому пока просто заполняем нулями\n",
    "\n",
    "#data = df_test.append(df_train, sort=False).reset_index(drop=True) # объединяем\n",
    "data = df_train\n",
    "data.info()"
   ]
  },
  {
   "cell_type": "code",
   "execution_count": 91,
   "metadata": {},
   "outputs": [
    {
     "data": {
      "text/html": [
       "<div>\n",
       "<style scoped>\n",
       "    .dataframe tbody tr th:only-of-type {\n",
       "        vertical-align: middle;\n",
       "    }\n",
       "\n",
       "    .dataframe tbody tr th {\n",
       "        vertical-align: top;\n",
       "    }\n",
       "\n",
       "    .dataframe thead th {\n",
       "        text-align: right;\n",
       "    }\n",
       "</style>\n",
       "<table border=\"1\" class=\"dataframe\">\n",
       "  <thead>\n",
       "    <tr style=\"text-align: right;\">\n",
       "      <th></th>\n",
       "      <th>Unnamed: 0</th>\n",
       "      <th>id</th>\n",
       "      <th>nor</th>\n",
       "      <th>prcat</th>\n",
       "      <th>col_c</th>\n",
       "      <th>col_r</th>\n",
       "      <th>city_le</th>\n",
       "      <th>city_restaurants</th>\n",
       "      <th>rank_norm</th>\n",
       "      <th>city_Amsterdam</th>\n",
       "      <th>...</th>\n",
       "      <th>city_Oslo.3</th>\n",
       "      <th>city_Paris.3</th>\n",
       "      <th>city_Prague.3</th>\n",
       "      <th>city_Rome.3</th>\n",
       "      <th>city_Stockholm.3</th>\n",
       "      <th>city_Vienna.3</th>\n",
       "      <th>city_Warsaw.3</th>\n",
       "      <th>city_Zurich.3</th>\n",
       "      <th>city_nan.3</th>\n",
       "      <th>sample</th>\n",
       "    </tr>\n",
       "  </thead>\n",
       "  <tbody>\n",
       "    <tr>\n",
       "      <th>0</th>\n",
       "      <td>0</td>\n",
       "      <td>id_5569</td>\n",
       "      <td>194.0</td>\n",
       "      <td>2.0</td>\n",
       "      <td>3</td>\n",
       "      <td>2</td>\n",
       "      <td>24</td>\n",
       "      <td>4897</td>\n",
       "      <td>1.137431</td>\n",
       "      <td>0</td>\n",
       "      <td>...</td>\n",
       "      <td>0</td>\n",
       "      <td>1</td>\n",
       "      <td>0</td>\n",
       "      <td>0</td>\n",
       "      <td>0</td>\n",
       "      <td>0</td>\n",
       "      <td>0</td>\n",
       "      <td>0</td>\n",
       "      <td>0</td>\n",
       "      <td>1</td>\n",
       "    </tr>\n",
       "    <tr>\n",
       "      <th>1</th>\n",
       "      <td>1</td>\n",
       "      <td>id_1535</td>\n",
       "      <td>10.0</td>\n",
       "      <td>2.0</td>\n",
       "      <td>2</td>\n",
       "      <td>2</td>\n",
       "      <td>27</td>\n",
       "      <td>820</td>\n",
       "      <td>1.874390</td>\n",
       "      <td>0</td>\n",
       "      <td>...</td>\n",
       "      <td>0</td>\n",
       "      <td>0</td>\n",
       "      <td>0</td>\n",
       "      <td>0</td>\n",
       "      <td>1</td>\n",
       "      <td>0</td>\n",
       "      <td>0</td>\n",
       "      <td>0</td>\n",
       "      <td>0</td>\n",
       "      <td>1</td>\n",
       "    </tr>\n",
       "    <tr>\n",
       "      <th>2</th>\n",
       "      <td>2</td>\n",
       "      <td>id_352</td>\n",
       "      <td>688.0</td>\n",
       "      <td>3.0</td>\n",
       "      <td>7</td>\n",
       "      <td>2</td>\n",
       "      <td>16</td>\n",
       "      <td>5757</td>\n",
       "      <td>0.061317</td>\n",
       "      <td>0</td>\n",
       "      <td>...</td>\n",
       "      <td>0</td>\n",
       "      <td>0</td>\n",
       "      <td>0</td>\n",
       "      <td>0</td>\n",
       "      <td>0</td>\n",
       "      <td>0</td>\n",
       "      <td>0</td>\n",
       "      <td>0</td>\n",
       "      <td>0</td>\n",
       "      <td>1</td>\n",
       "    </tr>\n",
       "    <tr>\n",
       "      <th>3</th>\n",
       "      <td>3</td>\n",
       "      <td>id_3456</td>\n",
       "      <td>3.0</td>\n",
       "      <td>2.0</td>\n",
       "      <td>0</td>\n",
       "      <td>0</td>\n",
       "      <td>3</td>\n",
       "      <td>2155</td>\n",
       "      <td>1.604640</td>\n",
       "      <td>0</td>\n",
       "      <td>...</td>\n",
       "      <td>0</td>\n",
       "      <td>0</td>\n",
       "      <td>0</td>\n",
       "      <td>0</td>\n",
       "      <td>0</td>\n",
       "      <td>0</td>\n",
       "      <td>0</td>\n",
       "      <td>0</td>\n",
       "      <td>0</td>\n",
       "      <td>1</td>\n",
       "    </tr>\n",
       "    <tr>\n",
       "      <th>4</th>\n",
       "      <td>4</td>\n",
       "      <td>id_615</td>\n",
       "      <td>84.0</td>\n",
       "      <td>2.0</td>\n",
       "      <td>3</td>\n",
       "      <td>2</td>\n",
       "      <td>21</td>\n",
       "      <td>893</td>\n",
       "      <td>0.695409</td>\n",
       "      <td>0</td>\n",
       "      <td>...</td>\n",
       "      <td>0</td>\n",
       "      <td>0</td>\n",
       "      <td>0</td>\n",
       "      <td>0</td>\n",
       "      <td>0</td>\n",
       "      <td>0</td>\n",
       "      <td>0</td>\n",
       "      <td>0</td>\n",
       "      <td>0</td>\n",
       "      <td>1</td>\n",
       "    </tr>\n",
       "    <tr>\n",
       "      <th>...</th>\n",
       "      <td>...</td>\n",
       "      <td>...</td>\n",
       "      <td>...</td>\n",
       "      <td>...</td>\n",
       "      <td>...</td>\n",
       "      <td>...</td>\n",
       "      <td>...</td>\n",
       "      <td>...</td>\n",
       "      <td>...</td>\n",
       "      <td>...</td>\n",
       "      <td>...</td>\n",
       "      <td>...</td>\n",
       "      <td>...</td>\n",
       "      <td>...</td>\n",
       "      <td>...</td>\n",
       "      <td>...</td>\n",
       "      <td>...</td>\n",
       "      <td>...</td>\n",
       "      <td>...</td>\n",
       "      <td>...</td>\n",
       "      <td>...</td>\n",
       "    </tr>\n",
       "    <tr>\n",
       "      <th>39995</th>\n",
       "      <td>39995</td>\n",
       "      <td>id_499</td>\n",
       "      <td>79.0</td>\n",
       "      <td>2.0</td>\n",
       "      <td>4</td>\n",
       "      <td>2</td>\n",
       "      <td>20</td>\n",
       "      <td>2133</td>\n",
       "      <td>0.234412</td>\n",
       "      <td>0</td>\n",
       "      <td>...</td>\n",
       "      <td>0</td>\n",
       "      <td>0</td>\n",
       "      <td>0</td>\n",
       "      <td>0</td>\n",
       "      <td>0</td>\n",
       "      <td>0</td>\n",
       "      <td>0</td>\n",
       "      <td>0</td>\n",
       "      <td>0</td>\n",
       "      <td>1</td>\n",
       "    </tr>\n",
       "    <tr>\n",
       "      <th>39996</th>\n",
       "      <td>39996</td>\n",
       "      <td>id_6340</td>\n",
       "      <td>542.0</td>\n",
       "      <td>2.0</td>\n",
       "      <td>5</td>\n",
       "      <td>2</td>\n",
       "      <td>24</td>\n",
       "      <td>4897</td>\n",
       "      <td>1.294874</td>\n",
       "      <td>0</td>\n",
       "      <td>...</td>\n",
       "      <td>0</td>\n",
       "      <td>1</td>\n",
       "      <td>0</td>\n",
       "      <td>0</td>\n",
       "      <td>0</td>\n",
       "      <td>0</td>\n",
       "      <td>0</td>\n",
       "      <td>0</td>\n",
       "      <td>0</td>\n",
       "      <td>1</td>\n",
       "    </tr>\n",
       "    <tr>\n",
       "      <th>39997</th>\n",
       "      <td>39997</td>\n",
       "      <td>id_1649</td>\n",
       "      <td>4.0</td>\n",
       "      <td>2.0</td>\n",
       "      <td>2</td>\n",
       "      <td>2</td>\n",
       "      <td>27</td>\n",
       "      <td>820</td>\n",
       "      <td>2.014634</td>\n",
       "      <td>0</td>\n",
       "      <td>...</td>\n",
       "      <td>0</td>\n",
       "      <td>0</td>\n",
       "      <td>0</td>\n",
       "      <td>0</td>\n",
       "      <td>1</td>\n",
       "      <td>0</td>\n",
       "      <td>0</td>\n",
       "      <td>0</td>\n",
       "      <td>0</td>\n",
       "      <td>1</td>\n",
       "    </tr>\n",
       "    <tr>\n",
       "      <th>39998</th>\n",
       "      <td>39998</td>\n",
       "      <td>id_640</td>\n",
       "      <td>70.0</td>\n",
       "      <td>2.0</td>\n",
       "      <td>5</td>\n",
       "      <td>2</td>\n",
       "      <td>29</td>\n",
       "      <td>727</td>\n",
       "      <td>0.881706</td>\n",
       "      <td>0</td>\n",
       "      <td>...</td>\n",
       "      <td>0</td>\n",
       "      <td>0</td>\n",
       "      <td>0</td>\n",
       "      <td>0</td>\n",
       "      <td>0</td>\n",
       "      <td>0</td>\n",
       "      <td>1</td>\n",
       "      <td>0</td>\n",
       "      <td>0</td>\n",
       "      <td>1</td>\n",
       "    </tr>\n",
       "    <tr>\n",
       "      <th>39999</th>\n",
       "      <td>39999</td>\n",
       "      <td>id_4824</td>\n",
       "      <td>260.0</td>\n",
       "      <td>2.0</td>\n",
       "      <td>1</td>\n",
       "      <td>2</td>\n",
       "      <td>20</td>\n",
       "      <td>2133</td>\n",
       "      <td>2.263010</td>\n",
       "      <td>0</td>\n",
       "      <td>...</td>\n",
       "      <td>0</td>\n",
       "      <td>0</td>\n",
       "      <td>0</td>\n",
       "      <td>0</td>\n",
       "      <td>0</td>\n",
       "      <td>0</td>\n",
       "      <td>0</td>\n",
       "      <td>0</td>\n",
       "      <td>0</td>\n",
       "      <td>1</td>\n",
       "    </tr>\n",
       "  </tbody>\n",
       "</table>\n",
       "<p>40000 rows × 138 columns</p>\n",
       "</div>"
      ],
      "text/plain": [
       "       Unnamed: 0       id    nor  prcat  col_c  col_r  city_le  \\\n",
       "0               0  id_5569  194.0    2.0      3      2       24   \n",
       "1               1  id_1535   10.0    2.0      2      2       27   \n",
       "2               2   id_352  688.0    3.0      7      2       16   \n",
       "3               3  id_3456    3.0    2.0      0      0        3   \n",
       "4               4   id_615   84.0    2.0      3      2       21   \n",
       "...           ...      ...    ...    ...    ...    ...      ...   \n",
       "39995       39995   id_499   79.0    2.0      4      2       20   \n",
       "39996       39996  id_6340  542.0    2.0      5      2       24   \n",
       "39997       39997  id_1649    4.0    2.0      2      2       27   \n",
       "39998       39998   id_640   70.0    2.0      5      2       29   \n",
       "39999       39999  id_4824  260.0    2.0      1      2       20   \n",
       "\n",
       "       city_restaurants  rank_norm  city_Amsterdam  ...  city_Oslo.3  \\\n",
       "0                  4897   1.137431               0  ...            0   \n",
       "1                   820   1.874390               0  ...            0   \n",
       "2                  5757   0.061317               0  ...            0   \n",
       "3                  2155   1.604640               0  ...            0   \n",
       "4                   893   0.695409               0  ...            0   \n",
       "...                 ...        ...             ...  ...          ...   \n",
       "39995              2133   0.234412               0  ...            0   \n",
       "39996              4897   1.294874               0  ...            0   \n",
       "39997               820   2.014634               0  ...            0   \n",
       "39998               727   0.881706               0  ...            0   \n",
       "39999              2133   2.263010               0  ...            0   \n",
       "\n",
       "       city_Paris.3  city_Prague.3  city_Rome.3  city_Stockholm.3  \\\n",
       "0                 1              0            0                 0   \n",
       "1                 0              0            0                 1   \n",
       "2                 0              0            0                 0   \n",
       "3                 0              0            0                 0   \n",
       "4                 0              0            0                 0   \n",
       "...             ...            ...          ...               ...   \n",
       "39995             0              0            0                 0   \n",
       "39996             1              0            0                 0   \n",
       "39997             0              0            0                 1   \n",
       "39998             0              0            0                 0   \n",
       "39999             0              0            0                 0   \n",
       "\n",
       "       city_Vienna.3  city_Warsaw.3  city_Zurich.3  city_nan.3  sample  \n",
       "0                  0              0              0           0       1  \n",
       "1                  0              0              0           0       1  \n",
       "2                  0              0              0           0       1  \n",
       "3                  0              0              0           0       1  \n",
       "4                  0              0              0           0       1  \n",
       "...              ...            ...            ...         ...     ...  \n",
       "39995              0              0              0           0       1  \n",
       "39996              0              0              0           0       1  \n",
       "39997              0              0              0           0       1  \n",
       "39998              0              1              0           0       1  \n",
       "39999              0              0              0           0       1  \n",
       "\n",
       "[40000 rows x 138 columns]"
      ]
     },
     "execution_count": 91,
     "metadata": {},
     "output_type": "execute_result"
    }
   ],
   "source": [
    "data.columns\n",
    "data"
   ]
  },
  {
   "cell_type": "code",
   "execution_count": 92,
   "metadata": {
    "execution": {
     "iopub.execute_input": "2021-08-19T09:47:10.921473Z",
     "iopub.status.busy": "2021-08-19T09:47:10.921139Z",
     "iopub.status.idle": "2021-08-19T09:47:10.948469Z",
     "shell.execute_reply": "2021-08-19T09:47:10.947032Z",
     "shell.execute_reply.started": "2021-08-19T09:47:10.921420Z"
    }
   },
   "outputs": [],
   "source": [
    "def preproc_data(df_input):\n",
    "    '''includes several functions to pre-process the predictor data.'''\n",
    "    \n",
    "    df_output = df_input.copy()\n",
    "    \n",
    "    # ################### 1. Предобработка ############################################################## \n",
    "    # убираем не нужные для модели признаки\n",
    "#    df_output.drop(['id_ta'], axis = 1, inplace=True)\n",
    "    \n",
    "    \n",
    "    # ################### 2. NAN ############################################################## \n",
    "    # Далее заполняем пропуски, вы можете попробовать заполнением средним или средним по городу и тд...\n",
    "#    df_output['Number_of_Reviews_isNAN'] = pd.isna(df_output['Number of Reviews']).astype('uint8')\n",
    "#    df_output['Number of Reviews'].fillna(0, inplace=True)\n",
    "#    df_output['Price_Range_isNAN'] = pd.isna(data['Price Range']).astype('uint8')\n",
    "#    replace_price_range = {'Price Range': {\"$\": 1, \"$$ - $$$\": 2, \"$$$$\": 3, np.NaN: 2}}\n",
    "#    df_output.replace(replace_price_range, inplace=True)\n",
    "#    df_output['Cuisine_Style_isNAN'] = pd.isna(df_output['Cuisine Style']).astype('uint8')\n",
    " #   df_output['Cuisine Style'] = df_output['Cuisine Style'].fillna(\"['Unknown']\")\n",
    "    \n",
    "    ### Немного Feature Engineering, потому что его надо делать раньше дамми переменных \n",
    "\n",
    "#    per_city_dict = dict(df_output['City'].value_counts())\n",
    "#    df_output['city_restaurants'] = df_output.City.map(per_city_dict)\n",
    "\n",
    "#    df_output['ranking_norm'] = df_output.Ranking / df_output.city_restaurants\n",
    "    \n",
    "#    good = ['good', 'great', 'nice', 'best', 'excellent', 'delicious', 'friendly',\n",
    "#        'lovely', 'amazing', 'tasty', 'fantastic', 'perfect', 'wonderful',\n",
    "#        'super', 'awesome', 'love', 'beautiful', 'superb', 'interesting',\n",
    "#        'yummy', 'fine', 'favourite', 'surprise', 'loved', 'brilliant',\n",
    " #       'favorite']\n",
    "\n",
    "#    df_output['words'] = df_output.Reviews.str.findall(r\"(\\w+)\")\n",
    "#    def mood(review):\n",
    "#        ''' Подсчет положительных слов в отзывах на ресторан.\n",
    "#        Возвращает количество положительных слов в отзывах. \n",
    "#        '''\n",
    "#        i = 0\n",
    "#        for word in review:\n",
    "#            for mood in good:\n",
    " #               if mood == word.lower():\n",
    " #                   i += 1\n",
    "#        return i\n",
    "#    df_output['review_mood'] = df_output.words.dropna().apply(mood)\n",
    "#    df_output.review_mood.fillna(0, inplace=True)\n",
    "    # ################### 3. Encoding ############################################################## \n",
    "#    df_output = pd.get_dummies(df_output, columns=[ 'city',], dummy_na=True)\n",
    "#    def cuisine (df):\n",
    "#        df['Cuisine Style'] = df['Cuisine Style'].str.lower()\n",
    "#\n",
    "#        cuisineStyle = set()\n",
    "#        cuisines = df['Cuisine Style'].to_list()\n",
    "#\n",
    " #       for cuisine in cuisines:\n",
    "#            cuisine = re.findall(r\"'([\\s\\S]+?)'\", cuisine)\n",
    "#           for j in cuisine:\n",
    "#                 cuisineStyle.add(j)\n",
    "#    \n",
    "#        for item in cuisineStyle:\n",
    "#            df[item] = df['Cuisine Style'].apply(lambda x: 1 if item in x else 0)\n",
    "#        return df\n",
    "#    df_output = cuisine(df_output)\n",
    "    \n",
    "    \n",
    "    # ################### 4. Feature Engineering ####################################################\n",
    "    chain_lst = list(df_output.id.value_counts()[df_output.id.value_counts() > 1].index)\n",
    "    df_output['chain'] = df_output[data.id.isin(chain_lst)].id.apply(lambda x: 1)\n",
    "    df_output['chain'].fillna(0, inplace=True)\n",
    "    df_output['chain'] = df_output['chain'].astype(int)\n",
    "    \n",
    "    # ################### 5. Clean #################################################### \n",
    "    # убираем признаки которые еще не успели обработать\n",
    "    object_columns = [s for s in df_output.columns if df_output[s].dtypes == 'object']\n",
    "    df_output.drop(object_columns, axis = 1, inplace=True)\n",
    "    \n",
    "    return df_output"
   ]
  },
  {
   "cell_type": "markdown",
   "metadata": {},
   "source": [
    ">По хорошему, можно было бы перевести эту большую функцию в класс и разбить на подфункции (согласно ООП). "
   ]
  },
  {
   "cell_type": "markdown",
   "metadata": {},
   "source": [
    "#### Запускаем и проверяем что получилось"
   ]
  },
  {
   "cell_type": "code",
   "execution_count": null,
   "metadata": {},
   "outputs": [],
   "source": []
  },
  {
   "cell_type": "code",
   "execution_count": 93,
   "metadata": {
    "execution": {
     "iopub.execute_input": "2021-08-19T09:47:23.613936Z",
     "iopub.status.busy": "2021-08-19T09:47:23.613465Z",
     "iopub.status.idle": "2021-08-19T09:47:30.444857Z",
     "shell.execute_reply": "2021-08-19T09:47:30.443602Z",
     "shell.execute_reply.started": "2021-08-19T09:47:23.613893Z"
    }
   },
   "outputs": [
    {
     "data": {
      "text/html": [
       "<div>\n",
       "<style scoped>\n",
       "    .dataframe tbody tr th:only-of-type {\n",
       "        vertical-align: middle;\n",
       "    }\n",
       "\n",
       "    .dataframe tbody tr th {\n",
       "        vertical-align: top;\n",
       "    }\n",
       "\n",
       "    .dataframe thead th {\n",
       "        text-align: right;\n",
       "    }\n",
       "</style>\n",
       "<table border=\"1\" class=\"dataframe\">\n",
       "  <thead>\n",
       "    <tr style=\"text-align: right;\">\n",
       "      <th></th>\n",
       "      <th>Unnamed: 0</th>\n",
       "      <th>id</th>\n",
       "      <th>nor</th>\n",
       "      <th>prcat</th>\n",
       "      <th>col_c</th>\n",
       "      <th>col_r</th>\n",
       "      <th>city_le</th>\n",
       "      <th>city_restaurants</th>\n",
       "      <th>rank_norm</th>\n",
       "      <th>city_Amsterdam</th>\n",
       "      <th>...</th>\n",
       "      <th>city_Oslo.3</th>\n",
       "      <th>city_Paris.3</th>\n",
       "      <th>city_Prague.3</th>\n",
       "      <th>city_Rome.3</th>\n",
       "      <th>city_Stockholm.3</th>\n",
       "      <th>city_Vienna.3</th>\n",
       "      <th>city_Warsaw.3</th>\n",
       "      <th>city_Zurich.3</th>\n",
       "      <th>city_nan.3</th>\n",
       "      <th>sample</th>\n",
       "    </tr>\n",
       "  </thead>\n",
       "  <tbody>\n",
       "    <tr>\n",
       "      <th>0</th>\n",
       "      <td>0</td>\n",
       "      <td>id_5569</td>\n",
       "      <td>194.0</td>\n",
       "      <td>2.0</td>\n",
       "      <td>3</td>\n",
       "      <td>2</td>\n",
       "      <td>24</td>\n",
       "      <td>4897</td>\n",
       "      <td>1.137431</td>\n",
       "      <td>0</td>\n",
       "      <td>...</td>\n",
       "      <td>0</td>\n",
       "      <td>1</td>\n",
       "      <td>0</td>\n",
       "      <td>0</td>\n",
       "      <td>0</td>\n",
       "      <td>0</td>\n",
       "      <td>0</td>\n",
       "      <td>0</td>\n",
       "      <td>0</td>\n",
       "      <td>1</td>\n",
       "    </tr>\n",
       "    <tr>\n",
       "      <th>1</th>\n",
       "      <td>1</td>\n",
       "      <td>id_1535</td>\n",
       "      <td>10.0</td>\n",
       "      <td>2.0</td>\n",
       "      <td>2</td>\n",
       "      <td>2</td>\n",
       "      <td>27</td>\n",
       "      <td>820</td>\n",
       "      <td>1.874390</td>\n",
       "      <td>0</td>\n",
       "      <td>...</td>\n",
       "      <td>0</td>\n",
       "      <td>0</td>\n",
       "      <td>0</td>\n",
       "      <td>0</td>\n",
       "      <td>1</td>\n",
       "      <td>0</td>\n",
       "      <td>0</td>\n",
       "      <td>0</td>\n",
       "      <td>0</td>\n",
       "      <td>1</td>\n",
       "    </tr>\n",
       "    <tr>\n",
       "      <th>2</th>\n",
       "      <td>2</td>\n",
       "      <td>id_352</td>\n",
       "      <td>688.0</td>\n",
       "      <td>3.0</td>\n",
       "      <td>7</td>\n",
       "      <td>2</td>\n",
       "      <td>16</td>\n",
       "      <td>5757</td>\n",
       "      <td>0.061317</td>\n",
       "      <td>0</td>\n",
       "      <td>...</td>\n",
       "      <td>0</td>\n",
       "      <td>0</td>\n",
       "      <td>0</td>\n",
       "      <td>0</td>\n",
       "      <td>0</td>\n",
       "      <td>0</td>\n",
       "      <td>0</td>\n",
       "      <td>0</td>\n",
       "      <td>0</td>\n",
       "      <td>1</td>\n",
       "    </tr>\n",
       "    <tr>\n",
       "      <th>3</th>\n",
       "      <td>3</td>\n",
       "      <td>id_3456</td>\n",
       "      <td>3.0</td>\n",
       "      <td>2.0</td>\n",
       "      <td>0</td>\n",
       "      <td>0</td>\n",
       "      <td>3</td>\n",
       "      <td>2155</td>\n",
       "      <td>1.604640</td>\n",
       "      <td>0</td>\n",
       "      <td>...</td>\n",
       "      <td>0</td>\n",
       "      <td>0</td>\n",
       "      <td>0</td>\n",
       "      <td>0</td>\n",
       "      <td>0</td>\n",
       "      <td>0</td>\n",
       "      <td>0</td>\n",
       "      <td>0</td>\n",
       "      <td>0</td>\n",
       "      <td>1</td>\n",
       "    </tr>\n",
       "    <tr>\n",
       "      <th>4</th>\n",
       "      <td>4</td>\n",
       "      <td>id_615</td>\n",
       "      <td>84.0</td>\n",
       "      <td>2.0</td>\n",
       "      <td>3</td>\n",
       "      <td>2</td>\n",
       "      <td>21</td>\n",
       "      <td>893</td>\n",
       "      <td>0.695409</td>\n",
       "      <td>0</td>\n",
       "      <td>...</td>\n",
       "      <td>0</td>\n",
       "      <td>0</td>\n",
       "      <td>0</td>\n",
       "      <td>0</td>\n",
       "      <td>0</td>\n",
       "      <td>0</td>\n",
       "      <td>0</td>\n",
       "      <td>0</td>\n",
       "      <td>0</td>\n",
       "      <td>1</td>\n",
       "    </tr>\n",
       "    <tr>\n",
       "      <th>5</th>\n",
       "      <td>5</td>\n",
       "      <td>id_1418</td>\n",
       "      <td>2.0</td>\n",
       "      <td>2.0</td>\n",
       "      <td>3</td>\n",
       "      <td>2</td>\n",
       "      <td>22</td>\n",
       "      <td>513</td>\n",
       "      <td>2.766082</td>\n",
       "      <td>0</td>\n",
       "      <td>...</td>\n",
       "      <td>0</td>\n",
       "      <td>0</td>\n",
       "      <td>0</td>\n",
       "      <td>0</td>\n",
       "      <td>0</td>\n",
       "      <td>0</td>\n",
       "      <td>0</td>\n",
       "      <td>0</td>\n",
       "      <td>0</td>\n",
       "      <td>1</td>\n",
       "    </tr>\n",
       "    <tr>\n",
       "      <th>6</th>\n",
       "      <td>6</td>\n",
       "      <td>id_1720</td>\n",
       "      <td>50.0</td>\n",
       "      <td>1.0</td>\n",
       "      <td>2</td>\n",
       "      <td>2</td>\n",
       "      <td>20</td>\n",
       "      <td>2133</td>\n",
       "      <td>0.807314</td>\n",
       "      <td>0</td>\n",
       "      <td>...</td>\n",
       "      <td>0</td>\n",
       "      <td>0</td>\n",
       "      <td>0</td>\n",
       "      <td>0</td>\n",
       "      <td>0</td>\n",
       "      <td>0</td>\n",
       "      <td>0</td>\n",
       "      <td>0</td>\n",
       "      <td>0</td>\n",
       "      <td>1</td>\n",
       "    </tr>\n",
       "    <tr>\n",
       "      <th>7</th>\n",
       "      <td>7</td>\n",
       "      <td>id_825</td>\n",
       "      <td>9.0</td>\n",
       "      <td>2.0</td>\n",
       "      <td>1</td>\n",
       "      <td>2</td>\n",
       "      <td>4</td>\n",
       "      <td>301</td>\n",
       "      <td>2.744186</td>\n",
       "      <td>0</td>\n",
       "      <td>...</td>\n",
       "      <td>0</td>\n",
       "      <td>0</td>\n",
       "      <td>0</td>\n",
       "      <td>0</td>\n",
       "      <td>0</td>\n",
       "      <td>0</td>\n",
       "      <td>0</td>\n",
       "      <td>0</td>\n",
       "      <td>0</td>\n",
       "      <td>1</td>\n",
       "    </tr>\n",
       "    <tr>\n",
       "      <th>8</th>\n",
       "      <td>8</td>\n",
       "      <td>id_2690</td>\n",
       "      <td>0.0</td>\n",
       "      <td>2.0</td>\n",
       "      <td>2</td>\n",
       "      <td>0</td>\n",
       "      <td>28</td>\n",
       "      <td>1166</td>\n",
       "      <td>NaN</td>\n",
       "      <td>0</td>\n",
       "      <td>...</td>\n",
       "      <td>0</td>\n",
       "      <td>0</td>\n",
       "      <td>0</td>\n",
       "      <td>0</td>\n",
       "      <td>0</td>\n",
       "      <td>1</td>\n",
       "      <td>0</td>\n",
       "      <td>0</td>\n",
       "      <td>0</td>\n",
       "      <td>1</td>\n",
       "    </tr>\n",
       "    <tr>\n",
       "      <th>9</th>\n",
       "      <td>9</td>\n",
       "      <td>id_4209</td>\n",
       "      <td>55.0</td>\n",
       "      <td>1.0</td>\n",
       "      <td>3</td>\n",
       "      <td>2</td>\n",
       "      <td>26</td>\n",
       "      <td>2078</td>\n",
       "      <td>2.025987</td>\n",
       "      <td>0</td>\n",
       "      <td>...</td>\n",
       "      <td>0</td>\n",
       "      <td>0</td>\n",
       "      <td>0</td>\n",
       "      <td>1</td>\n",
       "      <td>0</td>\n",
       "      <td>0</td>\n",
       "      <td>0</td>\n",
       "      <td>0</td>\n",
       "      <td>0</td>\n",
       "      <td>1</td>\n",
       "    </tr>\n",
       "  </tbody>\n",
       "</table>\n",
       "<p>10 rows × 138 columns</p>\n",
       "</div>"
      ],
      "text/plain": [
       "   Unnamed: 0       id    nor  prcat  col_c  col_r  city_le  city_restaurants  \\\n",
       "0           0  id_5569  194.0    2.0      3      2       24              4897   \n",
       "1           1  id_1535   10.0    2.0      2      2       27               820   \n",
       "2           2   id_352  688.0    3.0      7      2       16              5757   \n",
       "3           3  id_3456    3.0    2.0      0      0        3              2155   \n",
       "4           4   id_615   84.0    2.0      3      2       21               893   \n",
       "5           5  id_1418    2.0    2.0      3      2       22               513   \n",
       "6           6  id_1720   50.0    1.0      2      2       20              2133   \n",
       "7           7   id_825    9.0    2.0      1      2        4               301   \n",
       "8           8  id_2690    0.0    2.0      2      0       28              1166   \n",
       "9           9  id_4209   55.0    1.0      3      2       26              2078   \n",
       "\n",
       "   rank_norm  city_Amsterdam  ...  city_Oslo.3  city_Paris.3  city_Prague.3  \\\n",
       "0   1.137431               0  ...            0             1              0   \n",
       "1   1.874390               0  ...            0             0              0   \n",
       "2   0.061317               0  ...            0             0              0   \n",
       "3   1.604640               0  ...            0             0              0   \n",
       "4   0.695409               0  ...            0             0              0   \n",
       "5   2.766082               0  ...            0             0              0   \n",
       "6   0.807314               0  ...            0             0              0   \n",
       "7   2.744186               0  ...            0             0              0   \n",
       "8        NaN               0  ...            0             0              0   \n",
       "9   2.025987               0  ...            0             0              0   \n",
       "\n",
       "   city_Rome.3  city_Stockholm.3  city_Vienna.3  city_Warsaw.3  city_Zurich.3  \\\n",
       "0            0                 0              0              0              0   \n",
       "1            0                 1              0              0              0   \n",
       "2            0                 0              0              0              0   \n",
       "3            0                 0              0              0              0   \n",
       "4            0                 0              0              0              0   \n",
       "5            0                 0              0              0              0   \n",
       "6            0                 0              0              0              0   \n",
       "7            0                 0              0              0              0   \n",
       "8            0                 0              1              0              0   \n",
       "9            1                 0              0              0              0   \n",
       "\n",
       "   city_nan.3  sample  \n",
       "0           0       1  \n",
       "1           0       1  \n",
       "2           0       1  \n",
       "3           0       1  \n",
       "4           0       1  \n",
       "5           0       1  \n",
       "6           0       1  \n",
       "7           0       1  \n",
       "8           0       1  \n",
       "9           0       1  \n",
       "\n",
       "[10 rows x 138 columns]"
      ]
     },
     "metadata": {},
     "output_type": "display_data"
    },
    {
     "data": {
      "text/html": [
       "<div>\n",
       "<style scoped>\n",
       "    .dataframe tbody tr th:only-of-type {\n",
       "        vertical-align: middle;\n",
       "    }\n",
       "\n",
       "    .dataframe tbody tr th {\n",
       "        vertical-align: top;\n",
       "    }\n",
       "\n",
       "    .dataframe thead th {\n",
       "        text-align: right;\n",
       "    }\n",
       "</style>\n",
       "<table border=\"1\" class=\"dataframe\">\n",
       "  <thead>\n",
       "    <tr style=\"text-align: right;\">\n",
       "      <th></th>\n",
       "      <th>Unnamed: 0</th>\n",
       "      <th>nor</th>\n",
       "      <th>prcat</th>\n",
       "      <th>col_c</th>\n",
       "      <th>col_r</th>\n",
       "      <th>city_le</th>\n",
       "      <th>city_restaurants</th>\n",
       "      <th>rank_norm</th>\n",
       "      <th>city_Amsterdam</th>\n",
       "      <th>city_Athens</th>\n",
       "      <th>...</th>\n",
       "      <th>city_Paris.3</th>\n",
       "      <th>city_Prague.3</th>\n",
       "      <th>city_Rome.3</th>\n",
       "      <th>city_Stockholm.3</th>\n",
       "      <th>city_Vienna.3</th>\n",
       "      <th>city_Warsaw.3</th>\n",
       "      <th>city_Zurich.3</th>\n",
       "      <th>city_nan.3</th>\n",
       "      <th>sample</th>\n",
       "      <th>chain</th>\n",
       "    </tr>\n",
       "  </thead>\n",
       "  <tbody>\n",
       "    <tr>\n",
       "      <th>34332</th>\n",
       "      <td>34332</td>\n",
       "      <td>446.0</td>\n",
       "      <td>2.0</td>\n",
       "      <td>3</td>\n",
       "      <td>2</td>\n",
       "      <td>22</td>\n",
       "      <td>513</td>\n",
       "      <td>0.274854</td>\n",
       "      <td>0</td>\n",
       "      <td>0</td>\n",
       "      <td>...</td>\n",
       "      <td>0</td>\n",
       "      <td>0</td>\n",
       "      <td>0</td>\n",
       "      <td>0</td>\n",
       "      <td>0</td>\n",
       "      <td>0</td>\n",
       "      <td>0</td>\n",
       "      <td>0</td>\n",
       "      <td>1</td>\n",
       "      <td>1</td>\n",
       "    </tr>\n",
       "    <tr>\n",
       "      <th>10224</th>\n",
       "      <td>10224</td>\n",
       "      <td>36.0</td>\n",
       "      <td>2.0</td>\n",
       "      <td>5</td>\n",
       "      <td>2</td>\n",
       "      <td>30</td>\n",
       "      <td>538</td>\n",
       "      <td>1.366171</td>\n",
       "      <td>0</td>\n",
       "      <td>0</td>\n",
       "      <td>...</td>\n",
       "      <td>0</td>\n",
       "      <td>0</td>\n",
       "      <td>0</td>\n",
       "      <td>0</td>\n",
       "      <td>0</td>\n",
       "      <td>0</td>\n",
       "      <td>1</td>\n",
       "      <td>0</td>\n",
       "      <td>1</td>\n",
       "      <td>1</td>\n",
       "    </tr>\n",
       "    <tr>\n",
       "      <th>4901</th>\n",
       "      <td>4901</td>\n",
       "      <td>15.0</td>\n",
       "      <td>2.0</td>\n",
       "      <td>0</td>\n",
       "      <td>2</td>\n",
       "      <td>24</td>\n",
       "      <td>4897</td>\n",
       "      <td>2.785787</td>\n",
       "      <td>0</td>\n",
       "      <td>0</td>\n",
       "      <td>...</td>\n",
       "      <td>1</td>\n",
       "      <td>0</td>\n",
       "      <td>0</td>\n",
       "      <td>0</td>\n",
       "      <td>0</td>\n",
       "      <td>0</td>\n",
       "      <td>0</td>\n",
       "      <td>0</td>\n",
       "      <td>1</td>\n",
       "      <td>0</td>\n",
       "    </tr>\n",
       "    <tr>\n",
       "      <th>18005</th>\n",
       "      <td>18005</td>\n",
       "      <td>6.0</td>\n",
       "      <td>2.0</td>\n",
       "      <td>1</td>\n",
       "      <td>2</td>\n",
       "      <td>27</td>\n",
       "      <td>820</td>\n",
       "      <td>2.825610</td>\n",
       "      <td>0</td>\n",
       "      <td>0</td>\n",
       "      <td>...</td>\n",
       "      <td>0</td>\n",
       "      <td>0</td>\n",
       "      <td>0</td>\n",
       "      <td>1</td>\n",
       "      <td>0</td>\n",
       "      <td>0</td>\n",
       "      <td>0</td>\n",
       "      <td>0</td>\n",
       "      <td>1</td>\n",
       "      <td>1</td>\n",
       "    </tr>\n",
       "    <tr>\n",
       "      <th>31270</th>\n",
       "      <td>31270</td>\n",
       "      <td>0.0</td>\n",
       "      <td>1.0</td>\n",
       "      <td>2</td>\n",
       "      <td>1</td>\n",
       "      <td>3</td>\n",
       "      <td>2155</td>\n",
       "      <td>NaN</td>\n",
       "      <td>0</td>\n",
       "      <td>0</td>\n",
       "      <td>...</td>\n",
       "      <td>0</td>\n",
       "      <td>0</td>\n",
       "      <td>0</td>\n",
       "      <td>0</td>\n",
       "      <td>0</td>\n",
       "      <td>0</td>\n",
       "      <td>0</td>\n",
       "      <td>0</td>\n",
       "      <td>1</td>\n",
       "      <td>1</td>\n",
       "    </tr>\n",
       "    <tr>\n",
       "      <th>13744</th>\n",
       "      <td>13744</td>\n",
       "      <td>11.0</td>\n",
       "      <td>2.0</td>\n",
       "      <td>1</td>\n",
       "      <td>2</td>\n",
       "      <td>19</td>\n",
       "      <td>3108</td>\n",
       "      <td>1.141248</td>\n",
       "      <td>0</td>\n",
       "      <td>0</td>\n",
       "      <td>...</td>\n",
       "      <td>0</td>\n",
       "      <td>0</td>\n",
       "      <td>0</td>\n",
       "      <td>0</td>\n",
       "      <td>0</td>\n",
       "      <td>0</td>\n",
       "      <td>0</td>\n",
       "      <td>0</td>\n",
       "      <td>1</td>\n",
       "      <td>1</td>\n",
       "    </tr>\n",
       "    <tr>\n",
       "      <th>35849</th>\n",
       "      <td>35849</td>\n",
       "      <td>18.0</td>\n",
       "      <td>2.0</td>\n",
       "      <td>1</td>\n",
       "      <td>0</td>\n",
       "      <td>19</td>\n",
       "      <td>3108</td>\n",
       "      <td>2.315959</td>\n",
       "      <td>0</td>\n",
       "      <td>0</td>\n",
       "      <td>...</td>\n",
       "      <td>0</td>\n",
       "      <td>0</td>\n",
       "      <td>0</td>\n",
       "      <td>0</td>\n",
       "      <td>0</td>\n",
       "      <td>0</td>\n",
       "      <td>0</td>\n",
       "      <td>0</td>\n",
       "      <td>1</td>\n",
       "      <td>1</td>\n",
       "    </tr>\n",
       "    <tr>\n",
       "      <th>20266</th>\n",
       "      <td>20266</td>\n",
       "      <td>2.0</td>\n",
       "      <td>2.0</td>\n",
       "      <td>2</td>\n",
       "      <td>1</td>\n",
       "      <td>7</td>\n",
       "      <td>659</td>\n",
       "      <td>2.344461</td>\n",
       "      <td>0</td>\n",
       "      <td>0</td>\n",
       "      <td>...</td>\n",
       "      <td>0</td>\n",
       "      <td>0</td>\n",
       "      <td>0</td>\n",
       "      <td>0</td>\n",
       "      <td>0</td>\n",
       "      <td>0</td>\n",
       "      <td>0</td>\n",
       "      <td>0</td>\n",
       "      <td>1</td>\n",
       "      <td>1</td>\n",
       "    </tr>\n",
       "    <tr>\n",
       "      <th>35406</th>\n",
       "      <td>35406</td>\n",
       "      <td>46.0</td>\n",
       "      <td>2.0</td>\n",
       "      <td>1</td>\n",
       "      <td>2</td>\n",
       "      <td>19</td>\n",
       "      <td>3108</td>\n",
       "      <td>1.184685</td>\n",
       "      <td>0</td>\n",
       "      <td>0</td>\n",
       "      <td>...</td>\n",
       "      <td>0</td>\n",
       "      <td>0</td>\n",
       "      <td>0</td>\n",
       "      <td>0</td>\n",
       "      <td>0</td>\n",
       "      <td>0</td>\n",
       "      <td>0</td>\n",
       "      <td>0</td>\n",
       "      <td>1</td>\n",
       "      <td>1</td>\n",
       "    </tr>\n",
       "    <tr>\n",
       "      <th>11316</th>\n",
       "      <td>11316</td>\n",
       "      <td>4.0</td>\n",
       "      <td>2.0</td>\n",
       "      <td>0</td>\n",
       "      <td>0</td>\n",
       "      <td>26</td>\n",
       "      <td>2078</td>\n",
       "      <td>2.512993</td>\n",
       "      <td>0</td>\n",
       "      <td>0</td>\n",
       "      <td>...</td>\n",
       "      <td>0</td>\n",
       "      <td>0</td>\n",
       "      <td>1</td>\n",
       "      <td>0</td>\n",
       "      <td>0</td>\n",
       "      <td>0</td>\n",
       "      <td>0</td>\n",
       "      <td>0</td>\n",
       "      <td>1</td>\n",
       "      <td>1</td>\n",
       "    </tr>\n",
       "  </tbody>\n",
       "</table>\n",
       "<p>10 rows × 138 columns</p>\n",
       "</div>"
      ],
      "text/plain": [
       "       Unnamed: 0    nor  prcat  col_c  col_r  city_le  city_restaurants  \\\n",
       "34332       34332  446.0    2.0      3      2       22               513   \n",
       "10224       10224   36.0    2.0      5      2       30               538   \n",
       "4901         4901   15.0    2.0      0      2       24              4897   \n",
       "18005       18005    6.0    2.0      1      2       27               820   \n",
       "31270       31270    0.0    1.0      2      1        3              2155   \n",
       "13744       13744   11.0    2.0      1      2       19              3108   \n",
       "35849       35849   18.0    2.0      1      0       19              3108   \n",
       "20266       20266    2.0    2.0      2      1        7               659   \n",
       "35406       35406   46.0    2.0      1      2       19              3108   \n",
       "11316       11316    4.0    2.0      0      0       26              2078   \n",
       "\n",
       "       rank_norm  city_Amsterdam  city_Athens  ...  city_Paris.3  \\\n",
       "34332   0.274854               0            0  ...             0   \n",
       "10224   1.366171               0            0  ...             0   \n",
       "4901    2.785787               0            0  ...             1   \n",
       "18005   2.825610               0            0  ...             0   \n",
       "31270        NaN               0            0  ...             0   \n",
       "13744   1.141248               0            0  ...             0   \n",
       "35849   2.315959               0            0  ...             0   \n",
       "20266   2.344461               0            0  ...             0   \n",
       "35406   1.184685               0            0  ...             0   \n",
       "11316   2.512993               0            0  ...             0   \n",
       "\n",
       "       city_Prague.3  city_Rome.3  city_Stockholm.3  city_Vienna.3  \\\n",
       "34332              0            0                 0              0   \n",
       "10224              0            0                 0              0   \n",
       "4901               0            0                 0              0   \n",
       "18005              0            0                 1              0   \n",
       "31270              0            0                 0              0   \n",
       "13744              0            0                 0              0   \n",
       "35849              0            0                 0              0   \n",
       "20266              0            0                 0              0   \n",
       "35406              0            0                 0              0   \n",
       "11316              0            1                 0              0   \n",
       "\n",
       "       city_Warsaw.3  city_Zurich.3  city_nan.3  sample  chain  \n",
       "34332              0              0           0       1      1  \n",
       "10224              0              1           0       1      1  \n",
       "4901               0              0           0       1      0  \n",
       "18005              0              0           0       1      1  \n",
       "31270              0              0           0       1      1  \n",
       "13744              0              0           0       1      1  \n",
       "35849              0              0           0       1      1  \n",
       "20266              0              0           0       1      1  \n",
       "35406              0              0           0       1      1  \n",
       "11316              0              0           0       1      1  \n",
       "\n",
       "[10 rows x 138 columns]"
      ]
     },
     "execution_count": 93,
     "metadata": {},
     "output_type": "execute_result"
    }
   ],
   "source": [
    "display(data.head(10))\n",
    "df_preproc = preproc_data(data)\n",
    "df_preproc.sample(10)"
   ]
  },
  {
   "cell_type": "code",
   "execution_count": 94,
   "metadata": {
    "execution": {
     "iopub.execute_input": "2021-08-19T09:47:42.925059Z",
     "iopub.status.busy": "2021-08-19T09:47:42.924662Z",
     "iopub.status.idle": "2021-08-19T09:47:42.948444Z",
     "shell.execute_reply": "2021-08-19T09:47:42.947156Z",
     "shell.execute_reply.started": "2021-08-19T09:47:42.924998Z"
    }
   },
   "outputs": [
    {
     "name": "stdout",
     "output_type": "stream",
     "text": [
      "<class 'pandas.core.frame.DataFrame'>\n",
      "RangeIndex: 40000 entries, 0 to 39999\n",
      "Columns: 138 entries, Unnamed: 0 to chain\n",
      "dtypes: float64(3), int32(1), int64(134)\n",
      "memory usage: 42.0 MB\n"
     ]
    },
    {
     "data": {
      "text/html": [
       "<div>\n",
       "<style scoped>\n",
       "    .dataframe tbody tr th:only-of-type {\n",
       "        vertical-align: middle;\n",
       "    }\n",
       "\n",
       "    .dataframe tbody tr th {\n",
       "        vertical-align: top;\n",
       "    }\n",
       "\n",
       "    .dataframe thead th {\n",
       "        text-align: right;\n",
       "    }\n",
       "</style>\n",
       "<table border=\"1\" class=\"dataframe\">\n",
       "  <thead>\n",
       "    <tr style=\"text-align: right;\">\n",
       "      <th></th>\n",
       "      <th>Unnamed: 0</th>\n",
       "      <th>nor</th>\n",
       "      <th>prcat</th>\n",
       "      <th>col_c</th>\n",
       "      <th>col_r</th>\n",
       "      <th>city_le</th>\n",
       "      <th>city_restaurants</th>\n",
       "      <th>rank_norm</th>\n",
       "      <th>city_Amsterdam</th>\n",
       "      <th>city_Athens</th>\n",
       "      <th>...</th>\n",
       "      <th>city_Paris.3</th>\n",
       "      <th>city_Prague.3</th>\n",
       "      <th>city_Rome.3</th>\n",
       "      <th>city_Stockholm.3</th>\n",
       "      <th>city_Vienna.3</th>\n",
       "      <th>city_Warsaw.3</th>\n",
       "      <th>city_Zurich.3</th>\n",
       "      <th>city_nan.3</th>\n",
       "      <th>sample</th>\n",
       "      <th>chain</th>\n",
       "    </tr>\n",
       "  </thead>\n",
       "  <tbody>\n",
       "    <tr>\n",
       "      <th>0</th>\n",
       "      <td>0</td>\n",
       "      <td>194.0</td>\n",
       "      <td>2.0</td>\n",
       "      <td>3</td>\n",
       "      <td>2</td>\n",
       "      <td>24</td>\n",
       "      <td>4897</td>\n",
       "      <td>1.137431</td>\n",
       "      <td>0</td>\n",
       "      <td>0</td>\n",
       "      <td>...</td>\n",
       "      <td>1</td>\n",
       "      <td>0</td>\n",
       "      <td>0</td>\n",
       "      <td>0</td>\n",
       "      <td>0</td>\n",
       "      <td>0</td>\n",
       "      <td>0</td>\n",
       "      <td>0</td>\n",
       "      <td>1</td>\n",
       "      <td>1</td>\n",
       "    </tr>\n",
       "    <tr>\n",
       "      <th>1</th>\n",
       "      <td>1</td>\n",
       "      <td>10.0</td>\n",
       "      <td>2.0</td>\n",
       "      <td>2</td>\n",
       "      <td>2</td>\n",
       "      <td>27</td>\n",
       "      <td>820</td>\n",
       "      <td>1.874390</td>\n",
       "      <td>0</td>\n",
       "      <td>0</td>\n",
       "      <td>...</td>\n",
       "      <td>0</td>\n",
       "      <td>0</td>\n",
       "      <td>0</td>\n",
       "      <td>1</td>\n",
       "      <td>0</td>\n",
       "      <td>0</td>\n",
       "      <td>0</td>\n",
       "      <td>0</td>\n",
       "      <td>1</td>\n",
       "      <td>1</td>\n",
       "    </tr>\n",
       "    <tr>\n",
       "      <th>2</th>\n",
       "      <td>2</td>\n",
       "      <td>688.0</td>\n",
       "      <td>3.0</td>\n",
       "      <td>7</td>\n",
       "      <td>2</td>\n",
       "      <td>16</td>\n",
       "      <td>5757</td>\n",
       "      <td>0.061317</td>\n",
       "      <td>0</td>\n",
       "      <td>0</td>\n",
       "      <td>...</td>\n",
       "      <td>0</td>\n",
       "      <td>0</td>\n",
       "      <td>0</td>\n",
       "      <td>0</td>\n",
       "      <td>0</td>\n",
       "      <td>0</td>\n",
       "      <td>0</td>\n",
       "      <td>0</td>\n",
       "      <td>1</td>\n",
       "      <td>1</td>\n",
       "    </tr>\n",
       "    <tr>\n",
       "      <th>3</th>\n",
       "      <td>3</td>\n",
       "      <td>3.0</td>\n",
       "      <td>2.0</td>\n",
       "      <td>0</td>\n",
       "      <td>0</td>\n",
       "      <td>3</td>\n",
       "      <td>2155</td>\n",
       "      <td>1.604640</td>\n",
       "      <td>0</td>\n",
       "      <td>0</td>\n",
       "      <td>...</td>\n",
       "      <td>0</td>\n",
       "      <td>0</td>\n",
       "      <td>0</td>\n",
       "      <td>0</td>\n",
       "      <td>0</td>\n",
       "      <td>0</td>\n",
       "      <td>0</td>\n",
       "      <td>0</td>\n",
       "      <td>1</td>\n",
       "      <td>1</td>\n",
       "    </tr>\n",
       "    <tr>\n",
       "      <th>4</th>\n",
       "      <td>4</td>\n",
       "      <td>84.0</td>\n",
       "      <td>2.0</td>\n",
       "      <td>3</td>\n",
       "      <td>2</td>\n",
       "      <td>21</td>\n",
       "      <td>893</td>\n",
       "      <td>0.695409</td>\n",
       "      <td>0</td>\n",
       "      <td>0</td>\n",
       "      <td>...</td>\n",
       "      <td>0</td>\n",
       "      <td>0</td>\n",
       "      <td>0</td>\n",
       "      <td>0</td>\n",
       "      <td>0</td>\n",
       "      <td>0</td>\n",
       "      <td>0</td>\n",
       "      <td>0</td>\n",
       "      <td>1</td>\n",
       "      <td>1</td>\n",
       "    </tr>\n",
       "    <tr>\n",
       "      <th>...</th>\n",
       "      <td>...</td>\n",
       "      <td>...</td>\n",
       "      <td>...</td>\n",
       "      <td>...</td>\n",
       "      <td>...</td>\n",
       "      <td>...</td>\n",
       "      <td>...</td>\n",
       "      <td>...</td>\n",
       "      <td>...</td>\n",
       "      <td>...</td>\n",
       "      <td>...</td>\n",
       "      <td>...</td>\n",
       "      <td>...</td>\n",
       "      <td>...</td>\n",
       "      <td>...</td>\n",
       "      <td>...</td>\n",
       "      <td>...</td>\n",
       "      <td>...</td>\n",
       "      <td>...</td>\n",
       "      <td>...</td>\n",
       "      <td>...</td>\n",
       "    </tr>\n",
       "    <tr>\n",
       "      <th>39995</th>\n",
       "      <td>39995</td>\n",
       "      <td>79.0</td>\n",
       "      <td>2.0</td>\n",
       "      <td>4</td>\n",
       "      <td>2</td>\n",
       "      <td>20</td>\n",
       "      <td>2133</td>\n",
       "      <td>0.234412</td>\n",
       "      <td>0</td>\n",
       "      <td>0</td>\n",
       "      <td>...</td>\n",
       "      <td>0</td>\n",
       "      <td>0</td>\n",
       "      <td>0</td>\n",
       "      <td>0</td>\n",
       "      <td>0</td>\n",
       "      <td>0</td>\n",
       "      <td>0</td>\n",
       "      <td>0</td>\n",
       "      <td>1</td>\n",
       "      <td>1</td>\n",
       "    </tr>\n",
       "    <tr>\n",
       "      <th>39996</th>\n",
       "      <td>39996</td>\n",
       "      <td>542.0</td>\n",
       "      <td>2.0</td>\n",
       "      <td>5</td>\n",
       "      <td>2</td>\n",
       "      <td>24</td>\n",
       "      <td>4897</td>\n",
       "      <td>1.294874</td>\n",
       "      <td>0</td>\n",
       "      <td>0</td>\n",
       "      <td>...</td>\n",
       "      <td>1</td>\n",
       "      <td>0</td>\n",
       "      <td>0</td>\n",
       "      <td>0</td>\n",
       "      <td>0</td>\n",
       "      <td>0</td>\n",
       "      <td>0</td>\n",
       "      <td>0</td>\n",
       "      <td>1</td>\n",
       "      <td>1</td>\n",
       "    </tr>\n",
       "    <tr>\n",
       "      <th>39997</th>\n",
       "      <td>39997</td>\n",
       "      <td>4.0</td>\n",
       "      <td>2.0</td>\n",
       "      <td>2</td>\n",
       "      <td>2</td>\n",
       "      <td>27</td>\n",
       "      <td>820</td>\n",
       "      <td>2.014634</td>\n",
       "      <td>0</td>\n",
       "      <td>0</td>\n",
       "      <td>...</td>\n",
       "      <td>0</td>\n",
       "      <td>0</td>\n",
       "      <td>0</td>\n",
       "      <td>1</td>\n",
       "      <td>0</td>\n",
       "      <td>0</td>\n",
       "      <td>0</td>\n",
       "      <td>0</td>\n",
       "      <td>1</td>\n",
       "      <td>1</td>\n",
       "    </tr>\n",
       "    <tr>\n",
       "      <th>39998</th>\n",
       "      <td>39998</td>\n",
       "      <td>70.0</td>\n",
       "      <td>2.0</td>\n",
       "      <td>5</td>\n",
       "      <td>2</td>\n",
       "      <td>29</td>\n",
       "      <td>727</td>\n",
       "      <td>0.881706</td>\n",
       "      <td>0</td>\n",
       "      <td>0</td>\n",
       "      <td>...</td>\n",
       "      <td>0</td>\n",
       "      <td>0</td>\n",
       "      <td>0</td>\n",
       "      <td>0</td>\n",
       "      <td>0</td>\n",
       "      <td>1</td>\n",
       "      <td>0</td>\n",
       "      <td>0</td>\n",
       "      <td>1</td>\n",
       "      <td>1</td>\n",
       "    </tr>\n",
       "    <tr>\n",
       "      <th>39999</th>\n",
       "      <td>39999</td>\n",
       "      <td>260.0</td>\n",
       "      <td>2.0</td>\n",
       "      <td>1</td>\n",
       "      <td>2</td>\n",
       "      <td>20</td>\n",
       "      <td>2133</td>\n",
       "      <td>2.263010</td>\n",
       "      <td>0</td>\n",
       "      <td>0</td>\n",
       "      <td>...</td>\n",
       "      <td>0</td>\n",
       "      <td>0</td>\n",
       "      <td>0</td>\n",
       "      <td>0</td>\n",
       "      <td>0</td>\n",
       "      <td>0</td>\n",
       "      <td>0</td>\n",
       "      <td>0</td>\n",
       "      <td>1</td>\n",
       "      <td>1</td>\n",
       "    </tr>\n",
       "  </tbody>\n",
       "</table>\n",
       "<p>40000 rows × 138 columns</p>\n",
       "</div>"
      ],
      "text/plain": [
       "       Unnamed: 0    nor  prcat  col_c  col_r  city_le  city_restaurants  \\\n",
       "0               0  194.0    2.0      3      2       24              4897   \n",
       "1               1   10.0    2.0      2      2       27               820   \n",
       "2               2  688.0    3.0      7      2       16              5757   \n",
       "3               3    3.0    2.0      0      0        3              2155   \n",
       "4               4   84.0    2.0      3      2       21               893   \n",
       "...           ...    ...    ...    ...    ...      ...               ...   \n",
       "39995       39995   79.0    2.0      4      2       20              2133   \n",
       "39996       39996  542.0    2.0      5      2       24              4897   \n",
       "39997       39997    4.0    2.0      2      2       27               820   \n",
       "39998       39998   70.0    2.0      5      2       29               727   \n",
       "39999       39999  260.0    2.0      1      2       20              2133   \n",
       "\n",
       "       rank_norm  city_Amsterdam  city_Athens  ...  city_Paris.3  \\\n",
       "0       1.137431               0            0  ...             1   \n",
       "1       1.874390               0            0  ...             0   \n",
       "2       0.061317               0            0  ...             0   \n",
       "3       1.604640               0            0  ...             0   \n",
       "4       0.695409               0            0  ...             0   \n",
       "...          ...             ...          ...  ...           ...   \n",
       "39995   0.234412               0            0  ...             0   \n",
       "39996   1.294874               0            0  ...             1   \n",
       "39997   2.014634               0            0  ...             0   \n",
       "39998   0.881706               0            0  ...             0   \n",
       "39999   2.263010               0            0  ...             0   \n",
       "\n",
       "       city_Prague.3  city_Rome.3  city_Stockholm.3  city_Vienna.3  \\\n",
       "0                  0            0                 0              0   \n",
       "1                  0            0                 1              0   \n",
       "2                  0            0                 0              0   \n",
       "3                  0            0                 0              0   \n",
       "4                  0            0                 0              0   \n",
       "...              ...          ...               ...            ...   \n",
       "39995              0            0                 0              0   \n",
       "39996              0            0                 0              0   \n",
       "39997              0            0                 1              0   \n",
       "39998              0            0                 0              0   \n",
       "39999              0            0                 0              0   \n",
       "\n",
       "       city_Warsaw.3  city_Zurich.3  city_nan.3  sample  chain  \n",
       "0                  0              0           0       1      1  \n",
       "1                  0              0           0       1      1  \n",
       "2                  0              0           0       1      1  \n",
       "3                  0              0           0       1      1  \n",
       "4                  0              0           0       1      1  \n",
       "...              ...            ...         ...     ...    ...  \n",
       "39995              0              0           0       1      1  \n",
       "39996              0              0           0       1      1  \n",
       "39997              0              0           0       1      1  \n",
       "39998              1              0           0       1      1  \n",
       "39999              0              0           0       1      1  \n",
       "\n",
       "[40000 rows x 138 columns]"
      ]
     },
     "execution_count": 94,
     "metadata": {},
     "output_type": "execute_result"
    }
   ],
   "source": [
    "df_preproc.info()\n",
    "df_preproc"
   ]
  },
  {
   "cell_type": "code",
   "execution_count": 120,
   "metadata": {
    "execution": {
     "iopub.execute_input": "2021-08-19T09:47:48.551160Z",
     "iopub.status.busy": "2021-08-19T09:47:48.550461Z",
     "iopub.status.idle": "2021-08-19T09:47:48.636501Z",
     "shell.execute_reply": "2021-08-19T09:47:48.635226Z",
     "shell.execute_reply.started": "2021-08-19T09:47:48.551091Z"
    }
   },
   "outputs": [
    {
     "data": {
      "text/html": [
       "<div>\n",
       "<style scoped>\n",
       "    .dataframe tbody tr th:only-of-type {\n",
       "        vertical-align: middle;\n",
       "    }\n",
       "\n",
       "    .dataframe tbody tr th {\n",
       "        vertical-align: top;\n",
       "    }\n",
       "\n",
       "    .dataframe thead th {\n",
       "        text-align: right;\n",
       "    }\n",
       "</style>\n",
       "<table border=\"1\" class=\"dataframe\">\n",
       "  <thead>\n",
       "    <tr style=\"text-align: right;\">\n",
       "      <th></th>\n",
       "      <th>nor</th>\n",
       "      <th>prcat</th>\n",
       "      <th>col_c</th>\n",
       "      <th>col_r</th>\n",
       "      <th>city_le</th>\n",
       "      <th>city_restaurants</th>\n",
       "      <th>rank_norm</th>\n",
       "      <th>city_Amsterdam</th>\n",
       "      <th>city_Athens</th>\n",
       "      <th>city_Barcelona</th>\n",
       "      <th>...</th>\n",
       "      <th>city_Oslo.3</th>\n",
       "      <th>city_Paris.3</th>\n",
       "      <th>city_Prague.3</th>\n",
       "      <th>city_Rome.3</th>\n",
       "      <th>city_Stockholm.3</th>\n",
       "      <th>city_Vienna.3</th>\n",
       "      <th>city_Warsaw.3</th>\n",
       "      <th>city_Zurich.3</th>\n",
       "      <th>city_nan.3</th>\n",
       "      <th>chain</th>\n",
       "    </tr>\n",
       "  </thead>\n",
       "  <tbody>\n",
       "    <tr>\n",
       "      <th>0</th>\n",
       "      <td>194.0</td>\n",
       "      <td>2.0</td>\n",
       "      <td>3</td>\n",
       "      <td>2</td>\n",
       "      <td>24</td>\n",
       "      <td>4897</td>\n",
       "      <td>1.137431</td>\n",
       "      <td>0</td>\n",
       "      <td>0</td>\n",
       "      <td>0</td>\n",
       "      <td>...</td>\n",
       "      <td>0</td>\n",
       "      <td>1</td>\n",
       "      <td>0</td>\n",
       "      <td>0</td>\n",
       "      <td>0</td>\n",
       "      <td>0</td>\n",
       "      <td>0</td>\n",
       "      <td>0</td>\n",
       "      <td>0</td>\n",
       "      <td>1</td>\n",
       "    </tr>\n",
       "    <tr>\n",
       "      <th>1</th>\n",
       "      <td>10.0</td>\n",
       "      <td>2.0</td>\n",
       "      <td>2</td>\n",
       "      <td>2</td>\n",
       "      <td>27</td>\n",
       "      <td>820</td>\n",
       "      <td>1.874390</td>\n",
       "      <td>0</td>\n",
       "      <td>0</td>\n",
       "      <td>0</td>\n",
       "      <td>...</td>\n",
       "      <td>0</td>\n",
       "      <td>0</td>\n",
       "      <td>0</td>\n",
       "      <td>0</td>\n",
       "      <td>1</td>\n",
       "      <td>0</td>\n",
       "      <td>0</td>\n",
       "      <td>0</td>\n",
       "      <td>0</td>\n",
       "      <td>1</td>\n",
       "    </tr>\n",
       "    <tr>\n",
       "      <th>2</th>\n",
       "      <td>688.0</td>\n",
       "      <td>3.0</td>\n",
       "      <td>7</td>\n",
       "      <td>2</td>\n",
       "      <td>16</td>\n",
       "      <td>5757</td>\n",
       "      <td>0.061317</td>\n",
       "      <td>0</td>\n",
       "      <td>0</td>\n",
       "      <td>0</td>\n",
       "      <td>...</td>\n",
       "      <td>0</td>\n",
       "      <td>0</td>\n",
       "      <td>0</td>\n",
       "      <td>0</td>\n",
       "      <td>0</td>\n",
       "      <td>0</td>\n",
       "      <td>0</td>\n",
       "      <td>0</td>\n",
       "      <td>0</td>\n",
       "      <td>1</td>\n",
       "    </tr>\n",
       "    <tr>\n",
       "      <th>3</th>\n",
       "      <td>3.0</td>\n",
       "      <td>2.0</td>\n",
       "      <td>0</td>\n",
       "      <td>0</td>\n",
       "      <td>3</td>\n",
       "      <td>2155</td>\n",
       "      <td>1.604640</td>\n",
       "      <td>0</td>\n",
       "      <td>0</td>\n",
       "      <td>0</td>\n",
       "      <td>...</td>\n",
       "      <td>0</td>\n",
       "      <td>0</td>\n",
       "      <td>0</td>\n",
       "      <td>0</td>\n",
       "      <td>0</td>\n",
       "      <td>0</td>\n",
       "      <td>0</td>\n",
       "      <td>0</td>\n",
       "      <td>0</td>\n",
       "      <td>1</td>\n",
       "    </tr>\n",
       "    <tr>\n",
       "      <th>4</th>\n",
       "      <td>84.0</td>\n",
       "      <td>2.0</td>\n",
       "      <td>3</td>\n",
       "      <td>2</td>\n",
       "      <td>21</td>\n",
       "      <td>893</td>\n",
       "      <td>0.695409</td>\n",
       "      <td>0</td>\n",
       "      <td>0</td>\n",
       "      <td>0</td>\n",
       "      <td>...</td>\n",
       "      <td>0</td>\n",
       "      <td>0</td>\n",
       "      <td>0</td>\n",
       "      <td>0</td>\n",
       "      <td>0</td>\n",
       "      <td>0</td>\n",
       "      <td>0</td>\n",
       "      <td>0</td>\n",
       "      <td>0</td>\n",
       "      <td>1</td>\n",
       "    </tr>\n",
       "    <tr>\n",
       "      <th>...</th>\n",
       "      <td>...</td>\n",
       "      <td>...</td>\n",
       "      <td>...</td>\n",
       "      <td>...</td>\n",
       "      <td>...</td>\n",
       "      <td>...</td>\n",
       "      <td>...</td>\n",
       "      <td>...</td>\n",
       "      <td>...</td>\n",
       "      <td>...</td>\n",
       "      <td>...</td>\n",
       "      <td>...</td>\n",
       "      <td>...</td>\n",
       "      <td>...</td>\n",
       "      <td>...</td>\n",
       "      <td>...</td>\n",
       "      <td>...</td>\n",
       "      <td>...</td>\n",
       "      <td>...</td>\n",
       "      <td>...</td>\n",
       "      <td>...</td>\n",
       "    </tr>\n",
       "    <tr>\n",
       "      <th>39995</th>\n",
       "      <td>79.0</td>\n",
       "      <td>2.0</td>\n",
       "      <td>4</td>\n",
       "      <td>2</td>\n",
       "      <td>20</td>\n",
       "      <td>2133</td>\n",
       "      <td>0.234412</td>\n",
       "      <td>0</td>\n",
       "      <td>0</td>\n",
       "      <td>0</td>\n",
       "      <td>...</td>\n",
       "      <td>0</td>\n",
       "      <td>0</td>\n",
       "      <td>0</td>\n",
       "      <td>0</td>\n",
       "      <td>0</td>\n",
       "      <td>0</td>\n",
       "      <td>0</td>\n",
       "      <td>0</td>\n",
       "      <td>0</td>\n",
       "      <td>1</td>\n",
       "    </tr>\n",
       "    <tr>\n",
       "      <th>39996</th>\n",
       "      <td>542.0</td>\n",
       "      <td>2.0</td>\n",
       "      <td>5</td>\n",
       "      <td>2</td>\n",
       "      <td>24</td>\n",
       "      <td>4897</td>\n",
       "      <td>1.294874</td>\n",
       "      <td>0</td>\n",
       "      <td>0</td>\n",
       "      <td>0</td>\n",
       "      <td>...</td>\n",
       "      <td>0</td>\n",
       "      <td>1</td>\n",
       "      <td>0</td>\n",
       "      <td>0</td>\n",
       "      <td>0</td>\n",
       "      <td>0</td>\n",
       "      <td>0</td>\n",
       "      <td>0</td>\n",
       "      <td>0</td>\n",
       "      <td>1</td>\n",
       "    </tr>\n",
       "    <tr>\n",
       "      <th>39997</th>\n",
       "      <td>4.0</td>\n",
       "      <td>2.0</td>\n",
       "      <td>2</td>\n",
       "      <td>2</td>\n",
       "      <td>27</td>\n",
       "      <td>820</td>\n",
       "      <td>2.014634</td>\n",
       "      <td>0</td>\n",
       "      <td>0</td>\n",
       "      <td>0</td>\n",
       "      <td>...</td>\n",
       "      <td>0</td>\n",
       "      <td>0</td>\n",
       "      <td>0</td>\n",
       "      <td>0</td>\n",
       "      <td>1</td>\n",
       "      <td>0</td>\n",
       "      <td>0</td>\n",
       "      <td>0</td>\n",
       "      <td>0</td>\n",
       "      <td>1</td>\n",
       "    </tr>\n",
       "    <tr>\n",
       "      <th>39998</th>\n",
       "      <td>70.0</td>\n",
       "      <td>2.0</td>\n",
       "      <td>5</td>\n",
       "      <td>2</td>\n",
       "      <td>29</td>\n",
       "      <td>727</td>\n",
       "      <td>0.881706</td>\n",
       "      <td>0</td>\n",
       "      <td>0</td>\n",
       "      <td>0</td>\n",
       "      <td>...</td>\n",
       "      <td>0</td>\n",
       "      <td>0</td>\n",
       "      <td>0</td>\n",
       "      <td>0</td>\n",
       "      <td>0</td>\n",
       "      <td>0</td>\n",
       "      <td>1</td>\n",
       "      <td>0</td>\n",
       "      <td>0</td>\n",
       "      <td>1</td>\n",
       "    </tr>\n",
       "    <tr>\n",
       "      <th>39999</th>\n",
       "      <td>260.0</td>\n",
       "      <td>2.0</td>\n",
       "      <td>1</td>\n",
       "      <td>2</td>\n",
       "      <td>20</td>\n",
       "      <td>2133</td>\n",
       "      <td>2.263010</td>\n",
       "      <td>0</td>\n",
       "      <td>0</td>\n",
       "      <td>0</td>\n",
       "      <td>...</td>\n",
       "      <td>0</td>\n",
       "      <td>0</td>\n",
       "      <td>0</td>\n",
       "      <td>0</td>\n",
       "      <td>0</td>\n",
       "      <td>0</td>\n",
       "      <td>0</td>\n",
       "      <td>0</td>\n",
       "      <td>0</td>\n",
       "      <td>1</td>\n",
       "    </tr>\n",
       "  </tbody>\n",
       "</table>\n",
       "<p>40000 rows × 136 columns</p>\n",
       "</div>"
      ],
      "text/plain": [
       "         nor  prcat  col_c  col_r  city_le  city_restaurants  rank_norm  \\\n",
       "0      194.0    2.0      3      2       24              4897   1.137431   \n",
       "1       10.0    2.0      2      2       27               820   1.874390   \n",
       "2      688.0    3.0      7      2       16              5757   0.061317   \n",
       "3        3.0    2.0      0      0        3              2155   1.604640   \n",
       "4       84.0    2.0      3      2       21               893   0.695409   \n",
       "...      ...    ...    ...    ...      ...               ...        ...   \n",
       "39995   79.0    2.0      4      2       20              2133   0.234412   \n",
       "39996  542.0    2.0      5      2       24              4897   1.294874   \n",
       "39997    4.0    2.0      2      2       27               820   2.014634   \n",
       "39998   70.0    2.0      5      2       29               727   0.881706   \n",
       "39999  260.0    2.0      1      2       20              2133   2.263010   \n",
       "\n",
       "       city_Amsterdam  city_Athens  city_Barcelona  ...  city_Oslo.3  \\\n",
       "0                   0            0               0  ...            0   \n",
       "1                   0            0               0  ...            0   \n",
       "2                   0            0               0  ...            0   \n",
       "3                   0            0               0  ...            0   \n",
       "4                   0            0               0  ...            0   \n",
       "...               ...          ...             ...  ...          ...   \n",
       "39995               0            0               0  ...            0   \n",
       "39996               0            0               0  ...            0   \n",
       "39997               0            0               0  ...            0   \n",
       "39998               0            0               0  ...            0   \n",
       "39999               0            0               0  ...            0   \n",
       "\n",
       "       city_Paris.3  city_Prague.3  city_Rome.3  city_Stockholm.3  \\\n",
       "0                 1              0            0                 0   \n",
       "1                 0              0            0                 1   \n",
       "2                 0              0            0                 0   \n",
       "3                 0              0            0                 0   \n",
       "4                 0              0            0                 0   \n",
       "...             ...            ...          ...               ...   \n",
       "39995             0              0            0                 0   \n",
       "39996             1              0            0                 0   \n",
       "39997             0              0            0                 1   \n",
       "39998             0              0            0                 0   \n",
       "39999             0              0            0                 0   \n",
       "\n",
       "       city_Vienna.3  city_Warsaw.3  city_Zurich.3  city_nan.3  chain  \n",
       "0                  0              0              0           0      1  \n",
       "1                  0              0              0           0      1  \n",
       "2                  0              0              0           0      1  \n",
       "3                  0              0              0           0      1  \n",
       "4                  0              0              0           0      1  \n",
       "...              ...            ...            ...         ...    ...  \n",
       "39995              0              0              0           0      1  \n",
       "39996              0              0              0           0      1  \n",
       "39997              0              0              0           0      1  \n",
       "39998              0              1              0           0      1  \n",
       "39999              0              0              0           0      1  \n",
       "\n",
       "[40000 rows x 136 columns]"
      ]
     },
     "metadata": {},
     "output_type": "display_data"
    }
   ],
   "source": [
    "# Теперь выделим тестовую часть\n",
    "train_data = df_preproc.query('sample == 1').drop(['sample'], axis=1)\n",
    "test_data = df_preproc.query('sample == 0').drop(['sample'], axis=1)\n",
    "\n",
    "y = df_test.Rating.values            # наш таргет\n",
    "#X = train_data.drop(['rating'], axis=1)\n",
    "X = train_data.drop(['Unnamed: 0'], axis=1)\n",
    "#X = train_data.drop(['rating'], axis=1)\n",
    "display(X)"
   ]
  },
  {
   "cell_type": "markdown",
   "metadata": {},
   "source": [
    "**Перед тем как отправлять наши данные на обучение, разделим данные на еще один тест и трейн, для валидации. \n",
    "Это поможет нам проверить, как хорошо наша модель работает, до отправки submissiona на kaggle.**"
   ]
  },
  {
   "cell_type": "code",
   "execution_count": 121,
   "metadata": {
    "execution": {
     "iopub.execute_input": "2021-08-19T09:47:55.796731Z",
     "iopub.status.busy": "2021-08-19T09:47:55.796324Z",
     "iopub.status.idle": "2021-08-19T09:47:55.869158Z",
     "shell.execute_reply": "2021-08-19T09:47:55.867901Z",
     "shell.execute_reply.started": "2021-08-19T09:47:55.796667Z"
    }
   },
   "outputs": [
    {
     "ename": "ValueError",
     "evalue": "Found input variables with inconsistent numbers of samples: [40000, 10000]",
     "output_type": "error",
     "traceback": [
      "\u001b[1;31m---------------------------------------------------------------------------\u001b[0m",
      "\u001b[1;31mValueError\u001b[0m                                Traceback (most recent call last)",
      "\u001b[1;32m<ipython-input-121-f302de8eff69>\u001b[0m in \u001b[0;36m<module>\u001b[1;34m\u001b[0m\n\u001b[0;32m      1\u001b[0m \u001b[1;31m# Воспользуемся специальной функцие train_test_split для разбивки тестовых данных\u001b[0m\u001b[1;33m\u001b[0m\u001b[1;33m\u001b[0m\u001b[1;33m\u001b[0m\u001b[0m\n\u001b[0;32m      2\u001b[0m \u001b[1;31m# выделим 20% данных на валидацию (параметр test_size)\u001b[0m\u001b[1;33m\u001b[0m\u001b[1;33m\u001b[0m\u001b[1;33m\u001b[0m\u001b[0m\n\u001b[1;32m----> 3\u001b[1;33m \u001b[0mX_train\u001b[0m\u001b[1;33m,\u001b[0m \u001b[0mX_test\u001b[0m\u001b[1;33m,\u001b[0m \u001b[0my_train\u001b[0m\u001b[1;33m,\u001b[0m \u001b[0my_test\u001b[0m \u001b[1;33m=\u001b[0m \u001b[0mtrain_test_split\u001b[0m\u001b[1;33m(\u001b[0m\u001b[0mX\u001b[0m\u001b[1;33m,\u001b[0m \u001b[0my\u001b[0m\u001b[1;33m,\u001b[0m \u001b[0mtest_size\u001b[0m\u001b[1;33m=\u001b[0m\u001b[1;36m0.2\u001b[0m\u001b[1;33m,\u001b[0m \u001b[0mrandom_state\u001b[0m\u001b[1;33m=\u001b[0m\u001b[0mRANDOM_SEED\u001b[0m\u001b[1;33m)\u001b[0m\u001b[1;33m\u001b[0m\u001b[1;33m\u001b[0m\u001b[0m\n\u001b[0m",
      "\u001b[1;32m~\\anaconda3\\lib\\site-packages\\sklearn\\model_selection\\_split.py\u001b[0m in \u001b[0;36mtrain_test_split\u001b[1;34m(*arrays, **options)\u001b[0m\n\u001b[0;32m   2125\u001b[0m         \u001b[1;32mraise\u001b[0m \u001b[0mTypeError\u001b[0m\u001b[1;33m(\u001b[0m\u001b[1;34m\"Invalid parameters passed: %s\"\u001b[0m \u001b[1;33m%\u001b[0m \u001b[0mstr\u001b[0m\u001b[1;33m(\u001b[0m\u001b[0moptions\u001b[0m\u001b[1;33m)\u001b[0m\u001b[1;33m)\u001b[0m\u001b[1;33m\u001b[0m\u001b[1;33m\u001b[0m\u001b[0m\n\u001b[0;32m   2126\u001b[0m \u001b[1;33m\u001b[0m\u001b[0m\n\u001b[1;32m-> 2127\u001b[1;33m     \u001b[0marrays\u001b[0m \u001b[1;33m=\u001b[0m \u001b[0mindexable\u001b[0m\u001b[1;33m(\u001b[0m\u001b[1;33m*\u001b[0m\u001b[0marrays\u001b[0m\u001b[1;33m)\u001b[0m\u001b[1;33m\u001b[0m\u001b[1;33m\u001b[0m\u001b[0m\n\u001b[0m\u001b[0;32m   2128\u001b[0m \u001b[1;33m\u001b[0m\u001b[0m\n\u001b[0;32m   2129\u001b[0m     \u001b[0mn_samples\u001b[0m \u001b[1;33m=\u001b[0m \u001b[0m_num_samples\u001b[0m\u001b[1;33m(\u001b[0m\u001b[0marrays\u001b[0m\u001b[1;33m[\u001b[0m\u001b[1;36m0\u001b[0m\u001b[1;33m]\u001b[0m\u001b[1;33m)\u001b[0m\u001b[1;33m\u001b[0m\u001b[1;33m\u001b[0m\u001b[0m\n",
      "\u001b[1;32m~\\anaconda3\\lib\\site-packages\\sklearn\\utils\\validation.py\u001b[0m in \u001b[0;36mindexable\u001b[1;34m(*iterables)\u001b[0m\n\u001b[0;32m    290\u001b[0m     \"\"\"\n\u001b[0;32m    291\u001b[0m     \u001b[0mresult\u001b[0m \u001b[1;33m=\u001b[0m \u001b[1;33m[\u001b[0m\u001b[0m_make_indexable\u001b[0m\u001b[1;33m(\u001b[0m\u001b[0mX\u001b[0m\u001b[1;33m)\u001b[0m \u001b[1;32mfor\u001b[0m \u001b[0mX\u001b[0m \u001b[1;32min\u001b[0m \u001b[0miterables\u001b[0m\u001b[1;33m]\u001b[0m\u001b[1;33m\u001b[0m\u001b[1;33m\u001b[0m\u001b[0m\n\u001b[1;32m--> 292\u001b[1;33m     \u001b[0mcheck_consistent_length\u001b[0m\u001b[1;33m(\u001b[0m\u001b[1;33m*\u001b[0m\u001b[0mresult\u001b[0m\u001b[1;33m)\u001b[0m\u001b[1;33m\u001b[0m\u001b[1;33m\u001b[0m\u001b[0m\n\u001b[0m\u001b[0;32m    293\u001b[0m     \u001b[1;32mreturn\u001b[0m \u001b[0mresult\u001b[0m\u001b[1;33m\u001b[0m\u001b[1;33m\u001b[0m\u001b[0m\n\u001b[0;32m    294\u001b[0m \u001b[1;33m\u001b[0m\u001b[0m\n",
      "\u001b[1;32m~\\anaconda3\\lib\\site-packages\\sklearn\\utils\\validation.py\u001b[0m in \u001b[0;36mcheck_consistent_length\u001b[1;34m(*arrays)\u001b[0m\n\u001b[0;32m    253\u001b[0m     \u001b[0muniques\u001b[0m \u001b[1;33m=\u001b[0m \u001b[0mnp\u001b[0m\u001b[1;33m.\u001b[0m\u001b[0munique\u001b[0m\u001b[1;33m(\u001b[0m\u001b[0mlengths\u001b[0m\u001b[1;33m)\u001b[0m\u001b[1;33m\u001b[0m\u001b[1;33m\u001b[0m\u001b[0m\n\u001b[0;32m    254\u001b[0m     \u001b[1;32mif\u001b[0m \u001b[0mlen\u001b[0m\u001b[1;33m(\u001b[0m\u001b[0muniques\u001b[0m\u001b[1;33m)\u001b[0m \u001b[1;33m>\u001b[0m \u001b[1;36m1\u001b[0m\u001b[1;33m:\u001b[0m\u001b[1;33m\u001b[0m\u001b[1;33m\u001b[0m\u001b[0m\n\u001b[1;32m--> 255\u001b[1;33m         raise ValueError(\"Found input variables with inconsistent numbers of\"\n\u001b[0m\u001b[0;32m    256\u001b[0m                          \" samples: %r\" % [int(l) for l in lengths])\n\u001b[0;32m    257\u001b[0m \u001b[1;33m\u001b[0m\u001b[0m\n",
      "\u001b[1;31mValueError\u001b[0m: Found input variables with inconsistent numbers of samples: [40000, 10000]"
     ]
    }
   ],
   "source": [
    "# Воспользуемся специальной функцие train_test_split для разбивки тестовых данных\n",
    "# выделим 20% данных на валидацию (параметр test_size)\n",
    "X_train, X_test, y_train, y_test = train_test_split(X, y, test_size=0.2, random_state=RANDOM_SEED)"
   ]
  },
  {
   "cell_type": "code",
   "execution_count": 99,
   "metadata": {
    "execution": {
     "iopub.execute_input": "2021-08-19T09:47:59.365205Z",
     "iopub.status.busy": "2021-08-19T09:47:59.364805Z",
     "iopub.status.idle": "2021-08-19T09:47:59.372302Z",
     "shell.execute_reply": "2021-08-19T09:47:59.371228Z",
     "shell.execute_reply.started": "2021-08-19T09:47:59.365136Z"
    }
   },
   "outputs": [
    {
     "data": {
      "text/plain": [
       "((0, 137), (40000, 137), (40000, 108), (32000, 108), (8000, 108))"
      ]
     },
     "execution_count": 99,
     "metadata": {},
     "output_type": "execute_result"
    }
   ],
   "source": [
    "# проверяем\n",
    "test_data.shape, train_data.shape, X.shape, X_train.shape, X_test.shape"
   ]
  },
  {
   "cell_type": "markdown",
   "metadata": {},
   "source": [
    "# Model \n",
    "Сам ML"
   ]
  },
  {
   "cell_type": "code",
   "execution_count": 100,
   "metadata": {
    "execution": {
     "iopub.execute_input": "2021-08-19T09:48:13.546691Z",
     "iopub.status.busy": "2021-08-19T09:48:13.546169Z",
     "iopub.status.idle": "2021-08-19T09:48:13.551220Z",
     "shell.execute_reply": "2021-08-19T09:48:13.550263Z",
     "shell.execute_reply.started": "2021-08-19T09:48:13.546645Z"
    }
   },
   "outputs": [],
   "source": [
    "# Импортируем необходимые библиотеки:\n",
    "from sklearn.ensemble import RandomForestRegressor # инструмент для создания и обучения модели\n",
    "from sklearn import metrics # инструменты для оценки точности модели"
   ]
  },
  {
   "cell_type": "code",
   "execution_count": 101,
   "metadata": {
    "execution": {
     "iopub.execute_input": "2021-08-19T09:48:16.219058Z",
     "iopub.status.busy": "2021-08-19T09:48:16.218550Z",
     "iopub.status.idle": "2021-08-19T09:48:16.225052Z",
     "shell.execute_reply": "2021-08-19T09:48:16.223706Z",
     "shell.execute_reply.started": "2021-08-19T09:48:16.218978Z"
    }
   },
   "outputs": [],
   "source": [
    "# Создаём модель (НАСТРОЙКИ НЕ ТРОГАЕМ)\n",
    "model = RandomForestRegressor(n_estimators=100, verbose=1, n_jobs=-1, random_state=RANDOM_SEED)"
   ]
  },
  {
   "cell_type": "code",
   "execution_count": 102,
   "metadata": {
    "execution": {
     "iopub.execute_input": "2021-08-19T09:48:19.164946Z",
     "iopub.status.busy": "2021-08-19T09:48:19.164485Z",
     "iopub.status.idle": "2021-08-19T09:48:37.441991Z",
     "shell.execute_reply": "2021-08-19T09:48:37.441062Z",
     "shell.execute_reply.started": "2021-08-19T09:48:19.164905Z"
    }
   },
   "outputs": [
    {
     "ename": "ValueError",
     "evalue": "Input contains NaN, infinity or a value too large for dtype('float32').",
     "output_type": "error",
     "traceback": [
      "\u001b[1;31m---------------------------------------------------------------------------\u001b[0m",
      "\u001b[1;31mValueError\u001b[0m                                Traceback (most recent call last)",
      "\u001b[1;32m<ipython-input-102-913e4066c824>\u001b[0m in \u001b[0;36m<module>\u001b[1;34m\u001b[0m\n\u001b[0;32m      1\u001b[0m \u001b[1;31m# Обучаем модель на тестовом наборе данных\u001b[0m\u001b[1;33m\u001b[0m\u001b[1;33m\u001b[0m\u001b[1;33m\u001b[0m\u001b[0m\n\u001b[1;32m----> 2\u001b[1;33m \u001b[0mmodel\u001b[0m\u001b[1;33m.\u001b[0m\u001b[0mfit\u001b[0m\u001b[1;33m(\u001b[0m\u001b[0mX_train\u001b[0m\u001b[1;33m,\u001b[0m \u001b[0my_train\u001b[0m\u001b[1;33m)\u001b[0m\u001b[1;33m\u001b[0m\u001b[1;33m\u001b[0m\u001b[0m\n\u001b[0m\u001b[0;32m      3\u001b[0m \u001b[1;33m\u001b[0m\u001b[0m\n\u001b[0;32m      4\u001b[0m \u001b[1;31m# Используем обученную модель для предсказания рейтинга ресторанов в тестовой выборке.\u001b[0m\u001b[1;33m\u001b[0m\u001b[1;33m\u001b[0m\u001b[1;33m\u001b[0m\u001b[0m\n\u001b[0;32m      5\u001b[0m \u001b[1;31m# Предсказанные значения записываем в переменную y_pred\u001b[0m\u001b[1;33m\u001b[0m\u001b[1;33m\u001b[0m\u001b[1;33m\u001b[0m\u001b[0m\n",
      "\u001b[1;32m~\\anaconda3\\lib\\site-packages\\sklearn\\ensemble\\_forest.py\u001b[0m in \u001b[0;36mfit\u001b[1;34m(self, X, y, sample_weight)\u001b[0m\n\u001b[0;32m    301\u001b[0m                 \u001b[1;34m\"sparse multilabel-indicator for y is not supported.\"\u001b[0m\u001b[1;33m\u001b[0m\u001b[1;33m\u001b[0m\u001b[0m\n\u001b[0;32m    302\u001b[0m             )\n\u001b[1;32m--> 303\u001b[1;33m         X, y = self._validate_data(X, y, multi_output=True,\n\u001b[0m\u001b[0;32m    304\u001b[0m                                    accept_sparse=\"csc\", dtype=DTYPE)\n\u001b[0;32m    305\u001b[0m         \u001b[1;32mif\u001b[0m \u001b[0msample_weight\u001b[0m \u001b[1;32mis\u001b[0m \u001b[1;32mnot\u001b[0m \u001b[1;32mNone\u001b[0m\u001b[1;33m:\u001b[0m\u001b[1;33m\u001b[0m\u001b[1;33m\u001b[0m\u001b[0m\n",
      "\u001b[1;32m~\\anaconda3\\lib\\site-packages\\sklearn\\base.py\u001b[0m in \u001b[0;36m_validate_data\u001b[1;34m(self, X, y, reset, validate_separately, **check_params)\u001b[0m\n\u001b[0;32m    430\u001b[0m                 \u001b[0my\u001b[0m \u001b[1;33m=\u001b[0m \u001b[0mcheck_array\u001b[0m\u001b[1;33m(\u001b[0m\u001b[0my\u001b[0m\u001b[1;33m,\u001b[0m \u001b[1;33m**\u001b[0m\u001b[0mcheck_y_params\u001b[0m\u001b[1;33m)\u001b[0m\u001b[1;33m\u001b[0m\u001b[1;33m\u001b[0m\u001b[0m\n\u001b[0;32m    431\u001b[0m             \u001b[1;32melse\u001b[0m\u001b[1;33m:\u001b[0m\u001b[1;33m\u001b[0m\u001b[1;33m\u001b[0m\u001b[0m\n\u001b[1;32m--> 432\u001b[1;33m                 \u001b[0mX\u001b[0m\u001b[1;33m,\u001b[0m \u001b[0my\u001b[0m \u001b[1;33m=\u001b[0m \u001b[0mcheck_X_y\u001b[0m\u001b[1;33m(\u001b[0m\u001b[0mX\u001b[0m\u001b[1;33m,\u001b[0m \u001b[0my\u001b[0m\u001b[1;33m,\u001b[0m \u001b[1;33m**\u001b[0m\u001b[0mcheck_params\u001b[0m\u001b[1;33m)\u001b[0m\u001b[1;33m\u001b[0m\u001b[1;33m\u001b[0m\u001b[0m\n\u001b[0m\u001b[0;32m    433\u001b[0m             \u001b[0mout\u001b[0m \u001b[1;33m=\u001b[0m \u001b[0mX\u001b[0m\u001b[1;33m,\u001b[0m \u001b[0my\u001b[0m\u001b[1;33m\u001b[0m\u001b[1;33m\u001b[0m\u001b[0m\n\u001b[0;32m    434\u001b[0m \u001b[1;33m\u001b[0m\u001b[0m\n",
      "\u001b[1;32m~\\anaconda3\\lib\\site-packages\\sklearn\\utils\\validation.py\u001b[0m in \u001b[0;36minner_f\u001b[1;34m(*args, **kwargs)\u001b[0m\n\u001b[0;32m     70\u001b[0m                           FutureWarning)\n\u001b[0;32m     71\u001b[0m         \u001b[0mkwargs\u001b[0m\u001b[1;33m.\u001b[0m\u001b[0mupdate\u001b[0m\u001b[1;33m(\u001b[0m\u001b[1;33m{\u001b[0m\u001b[0mk\u001b[0m\u001b[1;33m:\u001b[0m \u001b[0marg\u001b[0m \u001b[1;32mfor\u001b[0m \u001b[0mk\u001b[0m\u001b[1;33m,\u001b[0m \u001b[0marg\u001b[0m \u001b[1;32min\u001b[0m \u001b[0mzip\u001b[0m\u001b[1;33m(\u001b[0m\u001b[0msig\u001b[0m\u001b[1;33m.\u001b[0m\u001b[0mparameters\u001b[0m\u001b[1;33m,\u001b[0m \u001b[0margs\u001b[0m\u001b[1;33m)\u001b[0m\u001b[1;33m}\u001b[0m\u001b[1;33m)\u001b[0m\u001b[1;33m\u001b[0m\u001b[1;33m\u001b[0m\u001b[0m\n\u001b[1;32m---> 72\u001b[1;33m         \u001b[1;32mreturn\u001b[0m \u001b[0mf\u001b[0m\u001b[1;33m(\u001b[0m\u001b[1;33m**\u001b[0m\u001b[0mkwargs\u001b[0m\u001b[1;33m)\u001b[0m\u001b[1;33m\u001b[0m\u001b[1;33m\u001b[0m\u001b[0m\n\u001b[0m\u001b[0;32m     73\u001b[0m     \u001b[1;32mreturn\u001b[0m \u001b[0minner_f\u001b[0m\u001b[1;33m\u001b[0m\u001b[1;33m\u001b[0m\u001b[0m\n\u001b[0;32m     74\u001b[0m \u001b[1;33m\u001b[0m\u001b[0m\n",
      "\u001b[1;32m~\\anaconda3\\lib\\site-packages\\sklearn\\utils\\validation.py\u001b[0m in \u001b[0;36mcheck_X_y\u001b[1;34m(X, y, accept_sparse, accept_large_sparse, dtype, order, copy, force_all_finite, ensure_2d, allow_nd, multi_output, ensure_min_samples, ensure_min_features, y_numeric, estimator)\u001b[0m\n\u001b[0;32m    793\u001b[0m         \u001b[1;32mraise\u001b[0m \u001b[0mValueError\u001b[0m\u001b[1;33m(\u001b[0m\u001b[1;34m\"y cannot be None\"\u001b[0m\u001b[1;33m)\u001b[0m\u001b[1;33m\u001b[0m\u001b[1;33m\u001b[0m\u001b[0m\n\u001b[0;32m    794\u001b[0m \u001b[1;33m\u001b[0m\u001b[0m\n\u001b[1;32m--> 795\u001b[1;33m     X = check_array(X, accept_sparse=accept_sparse,\n\u001b[0m\u001b[0;32m    796\u001b[0m                     \u001b[0maccept_large_sparse\u001b[0m\u001b[1;33m=\u001b[0m\u001b[0maccept_large_sparse\u001b[0m\u001b[1;33m,\u001b[0m\u001b[1;33m\u001b[0m\u001b[1;33m\u001b[0m\u001b[0m\n\u001b[0;32m    797\u001b[0m                     \u001b[0mdtype\u001b[0m\u001b[1;33m=\u001b[0m\u001b[0mdtype\u001b[0m\u001b[1;33m,\u001b[0m \u001b[0morder\u001b[0m\u001b[1;33m=\u001b[0m\u001b[0morder\u001b[0m\u001b[1;33m,\u001b[0m \u001b[0mcopy\u001b[0m\u001b[1;33m=\u001b[0m\u001b[0mcopy\u001b[0m\u001b[1;33m,\u001b[0m\u001b[1;33m\u001b[0m\u001b[1;33m\u001b[0m\u001b[0m\n",
      "\u001b[1;32m~\\anaconda3\\lib\\site-packages\\sklearn\\utils\\validation.py\u001b[0m in \u001b[0;36minner_f\u001b[1;34m(*args, **kwargs)\u001b[0m\n\u001b[0;32m     70\u001b[0m                           FutureWarning)\n\u001b[0;32m     71\u001b[0m         \u001b[0mkwargs\u001b[0m\u001b[1;33m.\u001b[0m\u001b[0mupdate\u001b[0m\u001b[1;33m(\u001b[0m\u001b[1;33m{\u001b[0m\u001b[0mk\u001b[0m\u001b[1;33m:\u001b[0m \u001b[0marg\u001b[0m \u001b[1;32mfor\u001b[0m \u001b[0mk\u001b[0m\u001b[1;33m,\u001b[0m \u001b[0marg\u001b[0m \u001b[1;32min\u001b[0m \u001b[0mzip\u001b[0m\u001b[1;33m(\u001b[0m\u001b[0msig\u001b[0m\u001b[1;33m.\u001b[0m\u001b[0mparameters\u001b[0m\u001b[1;33m,\u001b[0m \u001b[0margs\u001b[0m\u001b[1;33m)\u001b[0m\u001b[1;33m}\u001b[0m\u001b[1;33m)\u001b[0m\u001b[1;33m\u001b[0m\u001b[1;33m\u001b[0m\u001b[0m\n\u001b[1;32m---> 72\u001b[1;33m         \u001b[1;32mreturn\u001b[0m \u001b[0mf\u001b[0m\u001b[1;33m(\u001b[0m\u001b[1;33m**\u001b[0m\u001b[0mkwargs\u001b[0m\u001b[1;33m)\u001b[0m\u001b[1;33m\u001b[0m\u001b[1;33m\u001b[0m\u001b[0m\n\u001b[0m\u001b[0;32m     73\u001b[0m     \u001b[1;32mreturn\u001b[0m \u001b[0minner_f\u001b[0m\u001b[1;33m\u001b[0m\u001b[1;33m\u001b[0m\u001b[0m\n\u001b[0;32m     74\u001b[0m \u001b[1;33m\u001b[0m\u001b[0m\n",
      "\u001b[1;32m~\\anaconda3\\lib\\site-packages\\sklearn\\utils\\validation.py\u001b[0m in \u001b[0;36mcheck_array\u001b[1;34m(array, accept_sparse, accept_large_sparse, dtype, order, copy, force_all_finite, ensure_2d, allow_nd, ensure_min_samples, ensure_min_features, estimator)\u001b[0m\n\u001b[0;32m    642\u001b[0m \u001b[1;33m\u001b[0m\u001b[0m\n\u001b[0;32m    643\u001b[0m         \u001b[1;32mif\u001b[0m \u001b[0mforce_all_finite\u001b[0m\u001b[1;33m:\u001b[0m\u001b[1;33m\u001b[0m\u001b[1;33m\u001b[0m\u001b[0m\n\u001b[1;32m--> 644\u001b[1;33m             _assert_all_finite(array,\n\u001b[0m\u001b[0;32m    645\u001b[0m                                allow_nan=force_all_finite == 'allow-nan')\n\u001b[0;32m    646\u001b[0m \u001b[1;33m\u001b[0m\u001b[0m\n",
      "\u001b[1;32m~\\anaconda3\\lib\\site-packages\\sklearn\\utils\\validation.py\u001b[0m in \u001b[0;36m_assert_all_finite\u001b[1;34m(X, allow_nan, msg_dtype)\u001b[0m\n\u001b[0;32m     94\u001b[0m                 not allow_nan and not np.isfinite(X).all()):\n\u001b[0;32m     95\u001b[0m             \u001b[0mtype_err\u001b[0m \u001b[1;33m=\u001b[0m \u001b[1;34m'infinity'\u001b[0m \u001b[1;32mif\u001b[0m \u001b[0mallow_nan\u001b[0m \u001b[1;32melse\u001b[0m \u001b[1;34m'NaN, infinity'\u001b[0m\u001b[1;33m\u001b[0m\u001b[1;33m\u001b[0m\u001b[0m\n\u001b[1;32m---> 96\u001b[1;33m             raise ValueError(\n\u001b[0m\u001b[0;32m     97\u001b[0m                     \u001b[0mmsg_err\u001b[0m\u001b[1;33m.\u001b[0m\u001b[0mformat\u001b[0m\u001b[1;33m\u001b[0m\u001b[1;33m\u001b[0m\u001b[0m\n\u001b[0;32m     98\u001b[0m                     (type_err,\n",
      "\u001b[1;31mValueError\u001b[0m: Input contains NaN, infinity or a value too large for dtype('float32')."
     ]
    }
   ],
   "source": [
    "# Обучаем модель на тестовом наборе данных\n",
    "model.fit(X_train, y_train)\n",
    "\n",
    "# Используем обученную модель для предсказания рейтинга ресторанов в тестовой выборке.\n",
    "# Предсказанные значения записываем в переменную y_pred\n",
    "y_pred = model.predict(X_test)"
   ]
  },
  {
   "cell_type": "code",
   "execution_count": 73,
   "metadata": {
    "execution": {
     "iopub.execute_input": "2021-08-19T09:48:37.443727Z",
     "iopub.status.busy": "2021-08-19T09:48:37.443455Z",
     "iopub.status.idle": "2021-08-19T09:48:37.449491Z",
     "shell.execute_reply": "2021-08-19T09:48:37.448758Z",
     "shell.execute_reply.started": "2021-08-19T09:48:37.443690Z"
    }
   },
   "outputs": [
    {
     "ename": "NameError",
     "evalue": "name 'y_pred' is not defined",
     "output_type": "error",
     "traceback": [
      "\u001b[1;31m---------------------------------------------------------------------------\u001b[0m",
      "\u001b[1;31mNameError\u001b[0m                                 Traceback (most recent call last)",
      "\u001b[1;32m<ipython-input-73-e56e003c1109>\u001b[0m in \u001b[0;36m<module>\u001b[1;34m\u001b[0m\n\u001b[0;32m      1\u001b[0m \u001b[1;31m# Сравниваем предсказанные значения (y_pred) с реальными (y_test), и смотрим насколько они в среднем отличаются\u001b[0m\u001b[1;33m\u001b[0m\u001b[1;33m\u001b[0m\u001b[1;33m\u001b[0m\u001b[0m\n\u001b[0;32m      2\u001b[0m \u001b[1;31m# Метрика называется Mean Absolute Error (MAE) и показывает среднее отклонение предсказанных значений от фактических.\u001b[0m\u001b[1;33m\u001b[0m\u001b[1;33m\u001b[0m\u001b[1;33m\u001b[0m\u001b[0m\n\u001b[1;32m----> 3\u001b[1;33m \u001b[0mprint\u001b[0m\u001b[1;33m(\u001b[0m\u001b[1;34m'MAE:'\u001b[0m\u001b[1;33m,\u001b[0m \u001b[0mmetrics\u001b[0m\u001b[1;33m.\u001b[0m\u001b[0mmean_absolute_error\u001b[0m\u001b[1;33m(\u001b[0m\u001b[0my_test\u001b[0m\u001b[1;33m,\u001b[0m \u001b[0my_pred\u001b[0m\u001b[1;33m)\u001b[0m\u001b[1;33m)\u001b[0m\u001b[1;33m\u001b[0m\u001b[1;33m\u001b[0m\u001b[0m\n\u001b[0m",
      "\u001b[1;31mNameError\u001b[0m: name 'y_pred' is not defined"
     ]
    }
   ],
   "source": [
    "# Сравниваем предсказанные значения (y_pred) с реальными (y_test), и смотрим насколько они в среднем отличаются\n",
    "# Метрика называется Mean Absolute Error (MAE) и показывает среднее отклонение предсказанных значений от фактических.\n",
    "print('MAE:', metrics.mean_absolute_error(y_test, y_pred))"
   ]
  },
  {
   "cell_type": "code",
   "execution_count": null,
   "metadata": {
    "execution": {
     "iopub.execute_input": "2021-08-03T12:55:03.209652Z",
     "iopub.status.busy": "2021-08-03T12:55:03.209346Z",
     "iopub.status.idle": "2021-08-03T12:55:03.665563Z",
     "shell.execute_reply": "2021-08-03T12:55:03.66462Z",
     "shell.execute_reply.started": "2021-08-03T12:55:03.209607Z"
    }
   },
   "outputs": [],
   "source": [
    "# в RandomForestRegressor есть возможность вывести самые важные признаки для модели\n",
    "plt.rcParams['figure.figsize'] = (10,10)\n",
    "feat_importances = pd.Series(model.feature_importances_, index=X.columns)\n",
    "feat_importances.nlargest(15).plot(kind='barh')"
   ]
  },
  {
   "cell_type": "markdown",
   "metadata": {},
   "source": [
    "# Submission\n",
    "Если все устраевает - готовим Submission на кагл"
   ]
  },
  {
   "cell_type": "code",
   "execution_count": null,
   "metadata": {
    "execution": {
     "iopub.execute_input": "2021-07-27T07:31:27.196218Z",
     "iopub.status.busy": "2021-07-27T07:31:27.19563Z",
     "iopub.status.idle": "2021-07-27T07:31:27.235756Z",
     "shell.execute_reply": "2021-07-27T07:31:27.235061Z",
     "shell.execute_reply.started": "2021-07-27T07:31:27.19614Z"
    }
   },
   "outputs": [],
   "source": [
    "test_data.sample(10)"
   ]
  },
  {
   "cell_type": "code",
   "execution_count": null,
   "metadata": {
    "execution": {
     "iopub.execute_input": "2021-07-27T07:31:27.237101Z",
     "iopub.status.busy": "2021-07-27T07:31:27.23683Z",
     "iopub.status.idle": "2021-07-27T07:31:27.246102Z",
     "shell.execute_reply": "2021-07-27T07:31:27.245062Z",
     "shell.execute_reply.started": "2021-07-27T07:31:27.237055Z"
    }
   },
   "outputs": [],
   "source": [
    "test_data = test_data.drop(['Rating'], axis=1)"
   ]
  },
  {
   "cell_type": "code",
   "execution_count": null,
   "metadata": {
    "execution": {
     "iopub.execute_input": "2021-07-27T07:31:27.247635Z",
     "iopub.status.busy": "2021-07-27T07:31:27.247379Z",
     "iopub.status.idle": "2021-07-27T07:31:27.268542Z",
     "shell.execute_reply": "2021-07-27T07:31:27.267589Z",
     "shell.execute_reply.started": "2021-07-27T07:31:27.247592Z"
    }
   },
   "outputs": [],
   "source": [
    "sample_submission"
   ]
  },
  {
   "cell_type": "code",
   "execution_count": null,
   "metadata": {
    "execution": {
     "iopub.execute_input": "2021-07-27T07:31:27.270734Z",
     "iopub.status.busy": "2021-07-27T07:31:27.270338Z",
     "iopub.status.idle": "2021-07-27T07:31:27.499575Z",
     "shell.execute_reply": "2021-07-27T07:31:27.498659Z",
     "shell.execute_reply.started": "2021-07-27T07:31:27.270592Z"
    }
   },
   "outputs": [],
   "source": [
    "predict_submission = model.predict(test_data)"
   ]
  },
  {
   "cell_type": "code",
   "execution_count": null,
   "metadata": {
    "execution": {
     "iopub.execute_input": "2021-07-27T07:31:27.501145Z",
     "iopub.status.busy": "2021-07-27T07:31:27.500826Z",
     "iopub.status.idle": "2021-07-27T07:31:27.508177Z",
     "shell.execute_reply": "2021-07-27T07:31:27.50708Z",
     "shell.execute_reply.started": "2021-07-27T07:31:27.50109Z"
    }
   },
   "outputs": [],
   "source": [
    "predict_submission"
   ]
  },
  {
   "cell_type": "code",
   "execution_count": null,
   "metadata": {
    "execution": {
     "iopub.execute_input": "2021-07-27T07:31:27.510344Z",
     "iopub.status.busy": "2021-07-27T07:31:27.509885Z",
     "iopub.status.idle": "2021-07-27T07:31:28.099017Z",
     "shell.execute_reply": "2021-07-27T07:31:28.098232Z",
     "shell.execute_reply.started": "2021-07-27T07:31:27.510212Z"
    }
   },
   "outputs": [],
   "source": [
    "sample_submission['Rating'] = predict_submission\n",
    "sample_submission.to_csv('submission.csv', index=False)\n",
    "sample_submission.head(10)"
   ]
  },
  {
   "cell_type": "markdown",
   "metadata": {},
   "source": [
    "# What's next?\n",
    "Или что делать, чтоб улучшить результат:\n",
    "* Обработать оставшиеся признаки в понятный для машины формат\n",
    "* Посмотреть, что еще можно извлечь из признаков\n",
    "* Сгенерировать новые признаки\n",
    "* Подгрузить дополнительные данные, например: по населению или благосостоянию городов\n",
    "* Подобрать состав признаков\n",
    "\n",
    "В общем, процесс творческий и весьма увлекательный! Удачи в соревновании!\n"
   ]
  },
  {
   "cell_type": "code",
   "execution_count": null,
   "metadata": {},
   "outputs": [],
   "source": []
  }
 ],
 "metadata": {
  "kernelspec": {
   "display_name": "Python 3",
   "language": "python",
   "name": "python3"
  },
  "language_info": {
   "codemirror_mode": {
    "name": "ipython",
    "version": 3
   },
   "file_extension": ".py",
   "mimetype": "text/x-python",
   "name": "python",
   "nbconvert_exporter": "python",
   "pygments_lexer": "ipython3",
   "version": "3.8.5"
  }
 },
 "nbformat": 4,
 "nbformat_minor": 4
}
