{
 "cells": [
  {
   "cell_type": "code",
   "execution_count": null,
   "metadata": {},
   "outputs": [],
   "source": [
    "#правильный парсинг типа кухонь\n",
    "# - 3 - необходимо убрать пропуски в типах кухонь\n",
    "\n",
    "#надо делать цикл с конца на начало\n",
    "\n",
    "#display(df.head(5))\n",
    "\n",
    "#скопируем часть данных в отдельный датафрейм для парсинга\n",
    "import requests\n",
    "from bs4 import BeautifulSoup\n",
    "import re\n",
    "import math\n",
    "\n",
    "df_cuisine_missing = df[['id','city','url_ta','cuisine']]\n",
    "\n",
    "display(df_cuisine_missing.head(3))\n",
    "\n",
    "\n",
    "#Записать прогон циклом по NOR если он NAN тогда только брать урл\n",
    "#данные обработали и выделили в отдельный файл, поэтому все закоментировано\n",
    "\n",
    "for i in range(len(df_cuisine_missing['cuisine'])-1,0,-1):\n",
    "    if df['cuisine'][i] == 'Unknown':\n",
    "  \n",
    "        url = 'https://www.tripadvisor.com' + df_cuisine_missing['url_ta'][i]\n",
    "        headers = {\n",
    "        'User-Agent': 'My User Agent 1.0',\n",
    "        'From': 'personal@domain.com'  # This is another valid field\n",
    "        }\n",
    "        response = requests.get(url, headers=headers)\n",
    "        soup = BeautifulSoup(response.text, 'lxml')\n",
    "        pattern = re.compile(r'>[^\\d]\\w+<')\n",
    "        pattern2 = re.compile(r'[^\\d]\\w+<')\n",
    "        pattern3 = re.compile(r'\\w+')\n",
    "        \n",
    "        cuisine = soup.find_all('a', class_='_2mn01bsa')\n",
    "        cuis =[]\n",
    "        cuis = re.findall(pattern2, str(cuisine))\n",
    "        cuis = re.findall(pattern3, str(cuis))\n",
    "        df['col_cuisine'][i] = cuis\n",
    "\n",
    "df_cuisine_missing"
   ]
  }
 ],
 "metadata": {
  "kernelspec": {
   "display_name": "Python 3",
   "language": "python",
   "name": "python3"
  },
  "language_info": {
   "codemirror_mode": {
    "name": "ipython",
    "version": 3
   },
   "file_extension": ".py",
   "mimetype": "text/x-python",
   "name": "python",
   "nbconvert_exporter": "python",
   "pygments_lexer": "ipython3",
   "version": "3.8.5"
  }
 },
 "nbformat": 4,
 "nbformat_minor": 4
}
