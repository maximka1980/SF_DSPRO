{
 "cells": [
  {
   "cell_type": "code",
   "execution_count": 2,
   "metadata": {},
   "outputs": [
    {
     "data": {
      "text/html": [
       "<div>\n",
       "<style scoped>\n",
       "    .dataframe tbody tr th:only-of-type {\n",
       "        vertical-align: middle;\n",
       "    }\n",
       "\n",
       "    .dataframe tbody tr th {\n",
       "        vertical-align: top;\n",
       "    }\n",
       "\n",
       "    .dataframe thead th {\n",
       "        text-align: right;\n",
       "    }\n",
       "</style>\n",
       "<table border=\"1\" class=\"dataframe\">\n",
       "  <thead>\n",
       "    <tr style=\"text-align: right;\">\n",
       "      <th></th>\n",
       "      <th>Restaurant_id</th>\n",
       "      <th>City</th>\n",
       "      <th>Cuisine Style</th>\n",
       "      <th>Ranking</th>\n",
       "      <th>Price Range</th>\n",
       "      <th>Number of Reviews</th>\n",
       "      <th>Reviews</th>\n",
       "      <th>URL_TA</th>\n",
       "      <th>ID_TA</th>\n",
       "      <th>sample</th>\n",
       "      <th>Rating</th>\n",
       "    </tr>\n",
       "  </thead>\n",
       "  <tbody>\n",
       "    <tr>\n",
       "      <th>0</th>\n",
       "      <td>id_0</td>\n",
       "      <td>Paris</td>\n",
       "      <td>['Bar', 'Pub']</td>\n",
       "      <td>12963.0</td>\n",
       "      <td>$$ - $$$</td>\n",
       "      <td>4.0</td>\n",
       "      <td>[[], []]</td>\n",
       "      <td>/Restaurant_Review-g187147-d10746918-Reviews-L...</td>\n",
       "      <td>d10746918</td>\n",
       "      <td>0</td>\n",
       "      <td>0.0</td>\n",
       "    </tr>\n",
       "    <tr>\n",
       "      <th>1</th>\n",
       "      <td>id_1</td>\n",
       "      <td>Helsinki</td>\n",
       "      <td>['European', 'Scandinavian', 'Gluten Free Opti...</td>\n",
       "      <td>106.0</td>\n",
       "      <td>$$ - $$$</td>\n",
       "      <td>97.0</td>\n",
       "      <td>[['Very good reviews!', 'Fine dining in Hakani...</td>\n",
       "      <td>/Restaurant_Review-g189934-d6674944-Reviews-Ra...</td>\n",
       "      <td>d6674944</td>\n",
       "      <td>0</td>\n",
       "      <td>0.0</td>\n",
       "    </tr>\n",
       "    <tr>\n",
       "      <th>2</th>\n",
       "      <td>id_2</td>\n",
       "      <td>Edinburgh</td>\n",
       "      <td>['Vegetarian Friendly']</td>\n",
       "      <td>810.0</td>\n",
       "      <td>$$ - $$$</td>\n",
       "      <td>28.0</td>\n",
       "      <td>[['Better than the Links', 'Ivy Black'], ['12/...</td>\n",
       "      <td>/Restaurant_Review-g186525-d13129638-Reviews-B...</td>\n",
       "      <td>d13129638</td>\n",
       "      <td>0</td>\n",
       "      <td>0.0</td>\n",
       "    </tr>\n",
       "  </tbody>\n",
       "</table>\n",
       "</div>"
      ],
      "text/plain": [
       "  Restaurant_id       City                                      Cuisine Style  \\\n",
       "0          id_0      Paris                                     ['Bar', 'Pub']   \n",
       "1          id_1   Helsinki  ['European', 'Scandinavian', 'Gluten Free Opti...   \n",
       "2          id_2  Edinburgh                            ['Vegetarian Friendly']   \n",
       "\n",
       "   Ranking Price Range  Number of Reviews  \\\n",
       "0  12963.0    $$ - $$$                4.0   \n",
       "1    106.0    $$ - $$$               97.0   \n",
       "2    810.0    $$ - $$$               28.0   \n",
       "\n",
       "                                             Reviews  \\\n",
       "0                                           [[], []]   \n",
       "1  [['Very good reviews!', 'Fine dining in Hakani...   \n",
       "2  [['Better than the Links', 'Ivy Black'], ['12/...   \n",
       "\n",
       "                                              URL_TA      ID_TA  sample  \\\n",
       "0  /Restaurant_Review-g187147-d10746918-Reviews-L...  d10746918       0   \n",
       "1  /Restaurant_Review-g189934-d6674944-Reviews-Ra...   d6674944       0   \n",
       "2  /Restaurant_Review-g186525-d13129638-Reviews-B...  d13129638       0   \n",
       "\n",
       "   Rating  \n",
       "0     0.0  \n",
       "1     0.0  \n",
       "2     0.0  "
      ]
     },
     "execution_count": 2,
     "metadata": {},
     "output_type": "execute_result"
    }
   ],
   "source": [
    "import pandas as pd\n",
    "import re\n",
    "import numpy as np\n",
    "import datetime as dt\n",
    "import seaborn as sns\n",
    "\n",
    "from sklearn.model_selection import train_test_split\n",
    "from sklearn.ensemble import RandomForestRegressor, RandomForestClassifier\n",
    "from sklearn.preprocessing import LabelEncoder\n",
    "from sklearn import metrics\n",
    "from tqdm import tqdm\n",
    "\n",
    "import matplotlib.pyplot as plt\n",
    "%matplotlib inline\n",
    "\n",
    "RANDOM_SEED = 322\n",
    "!pip freeze > requirements.txt\n",
    "\n",
    "#импортировали исходные данные\n",
    "df = pd.read_csv('main_task.csv')\n",
    "df_kaggle = pd.read_csv('kaggle_task.csv')\n",
    "sample_sumbission = pd.read_csv('sample_submission.csv')\n",
    "df['sample'] = 1 # помечаем где у нас трейн\n",
    "df_kaggle['sample'] = 0 # помечаем где у нас тест\n",
    "df_kaggle['Rating'] = 0 # в тесте у нас нет значения Rating, мы его должны предсказать, по этому пока просто заполняем нулями\n",
    "\n",
    "data = df_kaggle.append(df, sort=False).reset_index(drop=True) # объединяем\n",
    "\n",
    "df = data\n",
    "df.head(3)"
   ]
  },
  {
   "cell_type": "code",
   "execution_count": 3,
   "metadata": {},
   "outputs": [
    {
     "data": {
      "text/html": [
       "<div>\n",
       "<style scoped>\n",
       "    .dataframe tbody tr th:only-of-type {\n",
       "        vertical-align: middle;\n",
       "    }\n",
       "\n",
       "    .dataframe tbody tr th {\n",
       "        vertical-align: top;\n",
       "    }\n",
       "\n",
       "    .dataframe thead th {\n",
       "        text-align: right;\n",
       "    }\n",
       "</style>\n",
       "<table border=\"1\" class=\"dataframe\">\n",
       "  <thead>\n",
       "    <tr style=\"text-align: right;\">\n",
       "      <th></th>\n",
       "      <th>Restaurant_id</th>\n",
       "      <th>Rating</th>\n",
       "    </tr>\n",
       "  </thead>\n",
       "  <tbody>\n",
       "    <tr>\n",
       "      <th>0</th>\n",
       "      <td>id_0</td>\n",
       "      <td>2.0</td>\n",
       "    </tr>\n",
       "    <tr>\n",
       "      <th>1</th>\n",
       "      <td>id_1</td>\n",
       "      <td>2.5</td>\n",
       "    </tr>\n",
       "    <tr>\n",
       "      <th>2</th>\n",
       "      <td>id_2</td>\n",
       "      <td>4.0</td>\n",
       "    </tr>\n",
       "    <tr>\n",
       "      <th>3</th>\n",
       "      <td>id_3</td>\n",
       "      <td>1.0</td>\n",
       "    </tr>\n",
       "    <tr>\n",
       "      <th>4</th>\n",
       "      <td>id_4</td>\n",
       "      <td>4.0</td>\n",
       "    </tr>\n",
       "    <tr>\n",
       "      <th>...</th>\n",
       "      <td>...</td>\n",
       "      <td>...</td>\n",
       "    </tr>\n",
       "    <tr>\n",
       "      <th>9995</th>\n",
       "      <td>id_9995</td>\n",
       "      <td>3.0</td>\n",
       "    </tr>\n",
       "    <tr>\n",
       "      <th>9996</th>\n",
       "      <td>id_9996</td>\n",
       "      <td>1.5</td>\n",
       "    </tr>\n",
       "    <tr>\n",
       "      <th>9997</th>\n",
       "      <td>id_9997</td>\n",
       "      <td>4.5</td>\n",
       "    </tr>\n",
       "    <tr>\n",
       "      <th>9998</th>\n",
       "      <td>id_9998</td>\n",
       "      <td>1.0</td>\n",
       "    </tr>\n",
       "    <tr>\n",
       "      <th>9999</th>\n",
       "      <td>id_9999</td>\n",
       "      <td>2.5</td>\n",
       "    </tr>\n",
       "  </tbody>\n",
       "</table>\n",
       "<p>10000 rows × 2 columns</p>\n",
       "</div>"
      ],
      "text/plain": [
       "     Restaurant_id  Rating\n",
       "0             id_0     2.0\n",
       "1             id_1     2.5\n",
       "2             id_2     4.0\n",
       "3             id_3     1.0\n",
       "4             id_4     4.0\n",
       "...            ...     ...\n",
       "9995       id_9995     3.0\n",
       "9996       id_9996     1.5\n",
       "9997       id_9997     4.5\n",
       "9998       id_9998     1.0\n",
       "9999       id_9999     2.5\n",
       "\n",
       "[10000 rows x 2 columns]"
      ]
     },
     "execution_count": 3,
     "metadata": {},
     "output_type": "execute_result"
    }
   ],
   "source": [
    "# смотрим что в sample\n",
    "sample_submission = pd.read_csv('sample_submission.csv')\n",
    "sample_submission"
   ]
  },
  {
   "cell_type": "markdown",
   "metadata": {},
   "source": [
    "# Функции"
   ]
  },
  {
   "cell_type": "code",
   "execution_count": 61,
   "metadata": {},
   "outputs": [],
   "source": [
    "#функции обработки\n",
    "\n",
    "#считаем % пропусков по каждому признаку\n",
    "#функция missing_data(data) будет принимать на вход датасет, и определять % пропусков и тип данных\n",
    "def missing_data(data):\n",
    "    for i in data.columns:\n",
    "        md = 100-data[i].isna().value_counts()[0]*100/len(data[i])\n",
    "        print('% пропусков в',i, md)\n",
    "    return\n",
    "\n",
    "#функция конвертации строковых данных в столбце Price Range, на фход идет серия, на выходе числовые значения \n",
    "#ghbpyfrf ценовой категории\n",
    "def price_cat(data):\n",
    "    if data == '$':\n",
    "        return 1\n",
    "    elif data == '$$ - $$$':\n",
    "        return 2\n",
    "    elif data == '$$$$':\n",
    "        return 3\n",
    "\n",
    "#функция которая получает на вход серию со списком всех кухонь и убирает аартефакты в названиях,\n",
    "#формируя список \n",
    "def resplit(ct):\n",
    "    ct = ct.replace(\", \",'')\n",
    "    ct = ct.replace(\"[\",'')\n",
    "    ct = ct.replace(\"]\",'')\n",
    "    ct = re.split(\"'(.*?)'\",ct)\n",
    "    ct = list(filter(None, ct))\n",
    "    return ct\n",
    "\n",
    "#функция разбивки типов кухонь , нужная для выполенния заданий в модуле\n",
    "def split_cuisine(ct):\n",
    "    if re.findall(r\"'(.*?)'\", ct) == 'Unknown':\n",
    "        return 'Unknown'\n",
    "    else:\n",
    "        return  re.findall(r\"'(.*?)'\", ct)\n",
    "\n",
    "#простая функция длинны списка\n",
    "def len_list(data):\n",
    "    return len(data)\n",
    "\n",
    "\n",
    "# функиця разделения даты из отзывов\n",
    "# тип данных строка, визуально похожая на списки\n",
    "# необходимо разпарсить данные\n",
    "# кроме того , в строке есть дата отзыва, ее тоже надо достать\n",
    "# кол-во дат будет равно кол-ву отзывов\n",
    "\n",
    "def split_date(ct):\n",
    "    if re.findall(r'\\d\\d/\\d\\d/\\d{4}', ct) == 'None':\n",
    "        return dt.datetime(1900,12,31)\n",
    "    else:\n",
    "        return  re.findall(r'\\d\\d/\\d\\d/\\d{4}', ct)\n",
    "    \n",
    "# функция возвращает разницу между первым и последним отзывом в формате datetime\n",
    "def deltadays(rd):\n",
    "    if len(rd)>=2:\n",
    "        a = dt.datetime.strptime(rd[0], '%m/%d/%Y') - dt.datetime.strptime(rd[len(rd)-1], '%m/%d/%Y')\n",
    "        return a\n",
    "    else:\n",
    "        return dt.timedelta(0)\n",
    "\n",
    "def learn_fit(df, random_state = None):\n",
    "    #X - данные о ресторанах, Y - целевая переменная\n",
    "\n",
    "    X = df.drop(['Rating', 'Restaurant_id'], axis = 1)\n",
    "    y = df['Rating']\n",
    "    \n",
    "    # Воспользуемся специальной функцие train_test_split для разбивки тестовых данных\n",
    "    # выделим 20% данных на валидацию (параметр test_size)\n",
    "    X_train, X_test, y_train, y_test = train_test_split(X, y, test_size=0.25, random_state=RANDOM_SEED)\n",
    "    \n",
    "    #создаем модель\n",
    "    regr = RandomForestRegressor(n_estimators=100, verbose=0, n_jobs=-1, random_state=RANDOM_SEED)\n",
    "    #обучение на тесте\n",
    "    regr.fit(X_train, y_train)\n",
    "    \n",
    "    #используем полученную (обученную модель) для предсказания рейтинга в тестовой сборке\n",
    "    #полученное значение пишем в отдульную переменную\n",
    "    y_predict = regr.predict(X_test)\n",
    "    \n",
    "    #сравниваем предсказанное значение y_predict с тестовым y_test\n",
    "    print('MAE Regression:', metrics.mean_absolute_error(y_test,y_predict))\n",
    "    print('MAE Regression round state:', metrics.mean_absolute_error(y_test,np.round(y_predict*2)/2))\n",
    "    \n",
    "    #классификация\n",
    "    le = LabelEncoder()\n",
    "    le.fit(y_train)\n",
    "    classif = RandomForestClassifier(n_estimators = 100, random_state=RANDOM_SEED, n_jobs=-1)\n",
    "    classif.fit(X_train, le.transform(y_train))\n",
    "    y_predict = classif.predict(X_test)\n",
    "    print('MAE Классификация:', metrics.mean_absolute_error(y_test,le.inverse_transform(y_predict)))\n",
    "    \n",
    "#    plt.rcParams['figure.figsize'] = (10,10)\n",
    "#    feat_importances = pd.Series(regr.feature_importances_, index=X.columns)\n",
    "#    feat_importances.nlargest(15).plot(kind='barh')"
   ]
  },
  {
   "cell_type": "markdown",
   "metadata": {},
   "source": [
    "# Определим кол-во пропусков в признаках. В нашей задаче пропуски надо либо заполнить либо исключить"
   ]
  },
  {
   "cell_type": "code",
   "execution_count": 5,
   "metadata": {},
   "outputs": [
    {
     "name": "stdout",
     "output_type": "stream",
     "text": [
      "% пропусков в Restaurant_id 0.0\n",
      "% пропусков в City 0.0\n",
      "% пропусков в Cuisine Style 23.180000000000007\n",
      "% пропусков в Ranking 0.0\n",
      "% пропусков в Price Range 34.721999999999994\n",
      "% пропусков в Number of Reviews 6.400000000000006\n",
      "% пропусков в Reviews 0.0040000000000048885\n",
      "% пропусков в URL_TA 0.0\n",
      "% пропусков в ID_TA 0.0\n",
      "% пропусков в sample 0.0\n",
      "% пропусков в Rating 0.0\n"
     ]
    }
   ],
   "source": [
    "missing_data(df)"
   ]
  },
  {
   "cell_type": "markdown",
   "metadata": {},
   "source": [
    "# Видим что есть пропуски в признаках типа кухонь \"Cuisine Style\" , \"Price Range\", и \"Number of Reviews\""
   ]
  },
  {
   "cell_type": "code",
   "execution_count": 6,
   "metadata": {},
   "outputs": [
    {
     "data": {
      "text/plain": [
       "Index(['Restaurant_id', 'City', 'Cuisine Style', 'Ranking', 'Price Range',\n",
       "       'Number of Reviews', 'Reviews', 'URL_TA', 'ID_TA', 'sample', 'Rating'],\n",
       "      dtype='object')"
      ]
     },
     "execution_count": 6,
     "metadata": {},
     "output_type": "execute_result"
    }
   ],
   "source": [
    "df.columns"
   ]
  },
  {
   "cell_type": "markdown",
   "metadata": {},
   "source": [
    "# Посмотрим что покажет модель при базовых данных, для этого будем использовать функцию в которой записан ML, это удобно при дальнейшей процедуре Feature Engeneering"
   ]
  },
  {
   "cell_type": "markdown",
   "metadata": {},
   "source": [
    "так мы будем проверять каждый раз влияние на результат введенного признака либо очистку данных"
   ]
  },
  {
   "cell_type": "code",
   "execution_count": 7,
   "metadata": {},
   "outputs": [
    {
     "name": "stdout",
     "output_type": "stream",
     "text": [
      "Смотрим на предикт с базовыми признаками до очистки и генерации новых\n",
      "\n",
      "MAE Regression: 0.34551783170533173\n",
      "MAE Regression round state: 0.3338034188034188\n",
      "MAE Классификация: 0.3828632478632479\n"
     ]
    }
   ],
   "source": [
    "drop_columns = ['City','Cuisine Style', 'Price Range', 'Reviews', 'URL_TA', 'ID_TA']\n",
    "print('Смотрим на предикт с базовыми признаками до очистки и генерации новых\\n')\n",
    "learn_fit(df.drop(columns = drop_columns).dropna(), random_state=322)"
   ]
  },
  {
   "cell_type": "code",
   "execution_count": 8,
   "metadata": {},
   "outputs": [
    {
     "data": {
      "text/html": [
       "<div>\n",
       "<style scoped>\n",
       "    .dataframe tbody tr th:only-of-type {\n",
       "        vertical-align: middle;\n",
       "    }\n",
       "\n",
       "    .dataframe tbody tr th {\n",
       "        vertical-align: top;\n",
       "    }\n",
       "\n",
       "    .dataframe thead th {\n",
       "        text-align: right;\n",
       "    }\n",
       "</style>\n",
       "<table border=\"1\" class=\"dataframe\">\n",
       "  <thead>\n",
       "    <tr style=\"text-align: right;\">\n",
       "      <th></th>\n",
       "      <th>mean</th>\n",
       "      <th>std</th>\n",
       "      <th>count</th>\n",
       "    </tr>\n",
       "    <tr>\n",
       "      <th>City</th>\n",
       "      <th></th>\n",
       "      <th></th>\n",
       "      <th></th>\n",
       "    </tr>\n",
       "  </thead>\n",
       "  <tbody>\n",
       "    <tr>\n",
       "      <th>Athens</th>\n",
       "      <td>3.423325</td>\n",
       "      <td>1.734354</td>\n",
       "      <td>776</td>\n",
       "    </tr>\n",
       "    <tr>\n",
       "      <th>Rome</th>\n",
       "      <td>3.395326</td>\n",
       "      <td>1.730001</td>\n",
       "      <td>2589</td>\n",
       "    </tr>\n",
       "    <tr>\n",
       "      <th>Ljubljana</th>\n",
       "      <td>3.389640</td>\n",
       "      <td>1.664843</td>\n",
       "      <td>222</td>\n",
       "    </tr>\n",
       "    <tr>\n",
       "      <th>Oporto</th>\n",
       "      <td>3.338785</td>\n",
       "      <td>1.757784</td>\n",
       "      <td>642</td>\n",
       "    </tr>\n",
       "    <tr>\n",
       "      <th>Krakow</th>\n",
       "      <td>3.315884</td>\n",
       "      <td>1.756785</td>\n",
       "      <td>554</td>\n",
       "    </tr>\n",
       "    <tr>\n",
       "      <th>Vienna</th>\n",
       "      <td>3.295218</td>\n",
       "      <td>1.703231</td>\n",
       "      <td>1443</td>\n",
       "    </tr>\n",
       "    <tr>\n",
       "      <th>Berlin</th>\n",
       "      <td>3.285952</td>\n",
       "      <td>1.757230</td>\n",
       "      <td>2705</td>\n",
       "    </tr>\n",
       "    <tr>\n",
       "      <th>Edinburgh</th>\n",
       "      <td>3.270470</td>\n",
       "      <td>1.743363</td>\n",
       "      <td>745</td>\n",
       "    </tr>\n",
       "    <tr>\n",
       "      <th>Amsterdam</th>\n",
       "      <td>3.270044</td>\n",
       "      <td>1.753022</td>\n",
       "      <td>1372</td>\n",
       "    </tr>\n",
       "    <tr>\n",
       "      <th>Dublin</th>\n",
       "      <td>3.269737</td>\n",
       "      <td>1.694452</td>\n",
       "      <td>836</td>\n",
       "    </tr>\n",
       "    <tr>\n",
       "      <th>Budapest</th>\n",
       "      <td>3.268854</td>\n",
       "      <td>1.750896</td>\n",
       "      <td>1021</td>\n",
       "    </tr>\n",
       "    <tr>\n",
       "      <th>Geneva</th>\n",
       "      <td>3.230508</td>\n",
       "      <td>1.650051</td>\n",
       "      <td>590</td>\n",
       "    </tr>\n",
       "    <tr>\n",
       "      <th>Hamburg</th>\n",
       "      <td>3.217538</td>\n",
       "      <td>1.711558</td>\n",
       "      <td>1186</td>\n",
       "    </tr>\n",
       "    <tr>\n",
       "      <th>Warsaw</th>\n",
       "      <td>3.214054</td>\n",
       "      <td>1.776353</td>\n",
       "      <td>925</td>\n",
       "    </tr>\n",
       "    <tr>\n",
       "      <th>Copenhagen</th>\n",
       "      <td>3.206960</td>\n",
       "      <td>1.688871</td>\n",
       "      <td>819</td>\n",
       "    </tr>\n",
       "    <tr>\n",
       "      <th>Prague</th>\n",
       "      <td>3.204295</td>\n",
       "      <td>1.753345</td>\n",
       "      <td>1816</td>\n",
       "    </tr>\n",
       "    <tr>\n",
       "      <th>Lisbon</th>\n",
       "      <td>3.193685</td>\n",
       "      <td>1.751274</td>\n",
       "      <td>1647</td>\n",
       "    </tr>\n",
       "    <tr>\n",
       "      <th>Barcelona</th>\n",
       "      <td>3.189985</td>\n",
       "      <td>1.696817</td>\n",
       "      <td>3395</td>\n",
       "    </tr>\n",
       "    <tr>\n",
       "      <th>Zurich</th>\n",
       "      <td>3.172993</td>\n",
       "      <td>1.733211</td>\n",
       "      <td>685</td>\n",
       "    </tr>\n",
       "    <tr>\n",
       "      <th>London</th>\n",
       "      <td>3.165508</td>\n",
       "      <td>1.698275</td>\n",
       "      <td>7193</td>\n",
       "    </tr>\n",
       "    <tr>\n",
       "      <th>Paris</th>\n",
       "      <td>3.160773</td>\n",
       "      <td>1.680255</td>\n",
       "      <td>6108</td>\n",
       "    </tr>\n",
       "    <tr>\n",
       "      <th>Munich</th>\n",
       "      <td>3.156332</td>\n",
       "      <td>1.763563</td>\n",
       "      <td>1145</td>\n",
       "    </tr>\n",
       "    <tr>\n",
       "      <th>Brussels</th>\n",
       "      <td>3.153349</td>\n",
       "      <td>1.650625</td>\n",
       "      <td>1314</td>\n",
       "    </tr>\n",
       "    <tr>\n",
       "      <th>Bratislava</th>\n",
       "      <td>3.144737</td>\n",
       "      <td>1.756285</td>\n",
       "      <td>380</td>\n",
       "    </tr>\n",
       "    <tr>\n",
       "      <th>Lyon</th>\n",
       "      <td>3.127886</td>\n",
       "      <td>1.717384</td>\n",
       "      <td>1126</td>\n",
       "    </tr>\n",
       "    <tr>\n",
       "      <th>Luxembourg</th>\n",
       "      <td>3.125475</td>\n",
       "      <td>1.653540</td>\n",
       "      <td>263</td>\n",
       "    </tr>\n",
       "    <tr>\n",
       "      <th>Helsinki</th>\n",
       "      <td>3.124211</td>\n",
       "      <td>1.700814</td>\n",
       "      <td>475</td>\n",
       "    </tr>\n",
       "    <tr>\n",
       "      <th>Madrid</th>\n",
       "      <td>3.098085</td>\n",
       "      <td>1.618793</td>\n",
       "      <td>3813</td>\n",
       "    </tr>\n",
       "    <tr>\n",
       "      <th>Stockholm</th>\n",
       "      <td>3.072120</td>\n",
       "      <td>1.664110</td>\n",
       "      <td>1033</td>\n",
       "    </tr>\n",
       "    <tr>\n",
       "      <th>Oslo</th>\n",
       "      <td>3.071721</td>\n",
       "      <td>1.690042</td>\n",
       "      <td>488</td>\n",
       "    </tr>\n",
       "    <tr>\n",
       "      <th>Milan</th>\n",
       "      <td>3.028396</td>\n",
       "      <td>1.658797</td>\n",
       "      <td>2694</td>\n",
       "    </tr>\n",
       "  </tbody>\n",
       "</table>\n",
       "</div>"
      ],
      "text/plain": [
       "                mean       std  count\n",
       "City                                 \n",
       "Athens      3.423325  1.734354    776\n",
       "Rome        3.395326  1.730001   2589\n",
       "Ljubljana   3.389640  1.664843    222\n",
       "Oporto      3.338785  1.757784    642\n",
       "Krakow      3.315884  1.756785    554\n",
       "Vienna      3.295218  1.703231   1443\n",
       "Berlin      3.285952  1.757230   2705\n",
       "Edinburgh   3.270470  1.743363    745\n",
       "Amsterdam   3.270044  1.753022   1372\n",
       "Dublin      3.269737  1.694452    836\n",
       "Budapest    3.268854  1.750896   1021\n",
       "Geneva      3.230508  1.650051    590\n",
       "Hamburg     3.217538  1.711558   1186\n",
       "Warsaw      3.214054  1.776353    925\n",
       "Copenhagen  3.206960  1.688871    819\n",
       "Prague      3.204295  1.753345   1816\n",
       "Lisbon      3.193685  1.751274   1647\n",
       "Barcelona   3.189985  1.696817   3395\n",
       "Zurich      3.172993  1.733211    685\n",
       "London      3.165508  1.698275   7193\n",
       "Paris       3.160773  1.680255   6108\n",
       "Munich      3.156332  1.763563   1145\n",
       "Brussels    3.153349  1.650625   1314\n",
       "Bratislava  3.144737  1.756285    380\n",
       "Lyon        3.127886  1.717384   1126\n",
       "Luxembourg  3.125475  1.653540    263\n",
       "Helsinki    3.124211  1.700814    475\n",
       "Madrid      3.098085  1.618793   3813\n",
       "Stockholm   3.072120  1.664110   1033\n",
       "Oslo        3.071721  1.690042    488\n",
       "Milan       3.028396  1.658797   2694"
      ]
     },
     "execution_count": 8,
     "metadata": {},
     "output_type": "execute_result"
    }
   ],
   "source": [
    "#посмотрим как меняется рейтинг по городам \n",
    "\n",
    "df.groupby('City').Rating.agg(['mean','std','count']).sort_values(by=['mean'], ascending=False)"
   ]
  },
  {
   "cell_type": "markdown",
   "metadata": {},
   "source": [
    "# feature engineering"
   ]
  },
  {
   "cell_type": "code",
   "execution_count": 56,
   "metadata": {},
   "outputs": [],
   "source": [
    "#создание новых признаков и заполнение пропусков"
   ]
  },
  {
   "cell_type": "markdown",
   "metadata": {},
   "source": [
    "## обработаем города и создадим новые признаки"
   ]
  },
  {
   "cell_type": "markdown",
   "metadata": {},
   "source": [
    "### признак Столица - capital"
   ]
  },
  {
   "cell_type": "code",
   "execution_count": 9,
   "metadata": {},
   "outputs": [
    {
     "name": "stdout",
     "output_type": "stream",
     "text": [
      "Смотрим на предикт с базовыми признаками до очистки и генерации новых\n",
      "\n",
      "MAE Regression: 0.323343432030932\n",
      "MAE Regression round state: 0.31017094017094016\n",
      "MAE Классификация: 0.35341880341880344\n"
     ]
    }
   ],
   "source": [
    "#признак Столица - capital\n",
    "\n",
    "#импортируем данные по городам мира, и заберем оттуда только столицы (признак primary)\n",
    "cities = pd.read_csv('worldcities.csv') #публичный датасет по городам мира\n",
    "cities = cities[cities['capital']=='primary']\n",
    "\n",
    "#уберем ненужную информацию и сформируем список столиц мира, хотя нам надо только европу, но все же\n",
    "cities.drop(['city_ascii', 'lat','lng','capital','id','admin_name'], inplace=True, axis=1)\n",
    "cities_list=list(cities['city'])\n",
    "\n",
    "#вводим новый признак Столица, 1 если город столичный, 0 если не столичный\n",
    "df['capital']=df['City'].apply(lambda x: 1 if x in cities_list else 0 )\n",
    "\n",
    "drop_columns = ['City','Cuisine Style', 'Price Range', 'Reviews', 'URL_TA','ID_TA']\n",
    "print('Смотрим на предикт с мотрим на предикт с новыми признаками\\n')\n",
    "learn_fit(df.drop(columns = drop_columns).dropna(), random_state=322)"
   ]
  },
  {
   "cell_type": "markdown",
   "metadata": {},
   "source": [
    "### признак население - population"
   ]
  },
  {
   "cell_type": "code",
   "execution_count": 11,
   "metadata": {},
   "outputs": [],
   "source": [
    "\n",
    "\n",
    "#получаем список уникальных городов\n",
    "city_list=df['City'].unique()\n",
    "\n",
    "#попробуем добавить численность населения\n",
    "city_list={'Paris':2.148, 'Stockholm':0.975, 'London':8.961, 'Berlin':3.669, 'Munich':1.488, 'Oporto':0.287,\n",
    "       'Milan':1.1399, 'Bratislava':0.428, 'Vienna':1.921, 'Rome':2.790, 'Barcelona':1.664, 'Madrid':3.334,\n",
    "       'Dublin':1.173, 'Brussels':1.212, 'Zurich':0.434, 'Warsaw':1.793, 'Budapest':1.750, 'Copenhagen':0.794,\n",
    "       'Amsterdam':0.860, 'Lyon':0.518, 'Hamburg':1.845, 'Lisbon':0.506, 'Prague':1.335, 'Oslo':0.693,\n",
    "       'Helsinki':0.655, 'Edinburgh':0.488, 'Geneva':0.201, 'Ljubljana':0.286, 'Athens':0.664,\n",
    "       'Luxembourg':0.644, 'Krakow':0.779}\n",
    "df['population'] = df.City.replace(to_replace=city_list)\n"
   ]
  },
  {
   "cell_type": "code",
   "execution_count": 12,
   "metadata": {},
   "outputs": [],
   "source": [
    "#проверяем модель"
   ]
  },
  {
   "cell_type": "code",
   "execution_count": 13,
   "metadata": {},
   "outputs": [
    {
     "name": "stdout",
     "output_type": "stream",
     "text": [
      "Смотрим на предикт с базовыми признаками до очистки и генерации новых\n",
      "\n",
      "MAE Regression: 0.18134871794871793\n",
      "MAE Regression round state: 0.16042735042735043\n",
      "MAE Классификация: 0.18012820512820513\n"
     ]
    }
   ],
   "source": [
    "drop_columns = ['City','Cuisine Style', 'Price Range', 'Reviews', 'URL_TA','ID_TA']\n",
    "print('Смотрим на предикт мотрим на предикт с новыми признаками\\n')\n",
    "learn_fit(df.drop(columns = drop_columns).dropna(), random_state=322)"
   ]
  },
  {
   "cell_type": "code",
   "execution_count": 13,
   "metadata": {},
   "outputs": [],
   "source": [
    "#Отлично!!! модель улучшена почти в 2 раза, играем дальше\n"
   ]
  },
  {
   "cell_type": "markdown",
   "metadata": {},
   "source": [
    "### приведем категориальную переменную Price Range к числовому виду и заменим пропуски модальным значением"
   ]
  },
  {
   "cell_type": "code",
   "execution_count": 14,
   "metadata": {},
   "outputs": [
    {
     "name": "stdout",
     "output_type": "stream",
     "text": [
      "Модальное значение для категории Price Range $$ - $$$\n",
      "% пропусков в Restaurant_id 0.0\n",
      "% пропусков в City 0.0\n",
      "% пропусков в Cuisine Style 23.180000000000007\n",
      "% пропусков в Ranking 0.0\n",
      "% пропусков в Price Range 0.0\n",
      "% пропусков в Number of Reviews 6.400000000000006\n",
      "% пропусков в Reviews 0.0040000000000048885\n",
      "% пропусков в URL_TA 0.0\n",
      "% пропусков в ID_TA 0.0\n",
      "% пропусков в sample 0.0\n",
      "% пропусков в Rating 0.0\n",
      "% пропусков в capital 0.0\n",
      "% пропусков в population 0.0\n",
      "Смотрим на предикт с базовыми признаками до очистки и генерации новых\n",
      "\n",
      "MAE Regression: 0.18066965811965813\n",
      "MAE Regression round state: 0.16004273504273503\n",
      "MAE Классификация: 0.1838034188034188\n"
     ]
    }
   ],
   "source": [
    "#узнаем модальное значение для категории Price Range\n",
    "#rjnjhsv позже заполним пропуски\n",
    "print('Модальное значение для категории Price Range',df['Price Range'].mode()[0])\n",
    "\n",
    "\n",
    "\n",
    "range_replace={'$':1, '$$ - $$$':2, '$$$$':3}\n",
    "\n",
    "df['Price Range']=df['Price Range'].replace(to_replace=range_replace)\n",
    "\n",
    "#заменим пропуски модальным значением\n",
    "df['Price Range'].fillna(2, inplace=True, axis=0)\n",
    "\n",
    "#делаем тоже самое с кэгл\n",
    "#df_kaggle['Price Range']=df_kaggle['Price Range'].replace(to_replace=range_replace)\n",
    "#df_kaggle['Price Range'].fillna(2, inplace=True, axis=0)\n",
    "\n",
    "#проверяем пропуски\n",
    "missing_data(df)\n",
    "\n",
    "#проверяем модель , уже не удаляем столбец Price Range т.к. мы его изменили \n",
    "drop_columns = ['City','Cuisine Style', 'Reviews', 'URL_TA','ID_TA']\n",
    "print('Смотрим на предикт с новыми признаками\\n')\n",
    "learn_fit(df.drop(columns = drop_columns).dropna(), random_state=322)"
   ]
  },
  {
   "cell_type": "code",
   "execution_count": 15,
   "metadata": {},
   "outputs": [],
   "source": [
    "#есть  небольшое улучшение \n"
   ]
  },
  {
   "cell_type": "markdown",
   "metadata": {},
   "source": [
    "### Добавим признак цены в городе"
   ]
  },
  {
   "cell_type": "code",
   "execution_count": 15,
   "metadata": {},
   "outputs": [],
   "source": [
    "\n",
    "price_in_city_dict = df.groupby('City')['Price Range'].mean().to_dict()\n",
    "df['Price in City'] = df['City'].map(price_in_city_dict)\n"
   ]
  },
  {
   "cell_type": "code",
   "execution_count": 16,
   "metadata": {},
   "outputs": [
    {
     "name": "stdout",
     "output_type": "stream",
     "text": [
      "Смотрим на предикт с базовыми признаками до очистки и генерации новых\n",
      "\n",
      "MAE Regression: 0.17832008547008546\n",
      "MAE Regression round state: 0.1579059829059829\n",
      "MAE Классификация: 0.17884615384615385\n"
     ]
    }
   ],
   "source": [
    "#опять проверяем модель\n",
    "\n",
    "drop_columns = ['City','Cuisine Style', 'Reviews', 'URL_TA','ID_TA']\n",
    "print('Смотрим на предикт с базовыми признаками до очистки и генерации новых\\n')\n",
    "learn_fit(df.drop(columns = drop_columns).dropna(), random_state=322)"
   ]
  },
  {
   "cell_type": "markdown",
   "metadata": {},
   "source": [
    "### Попробуем поиграть с кухнями"
   ]
  },
  {
   "cell_type": "code",
   "execution_count": 18,
   "metadata": {},
   "outputs": [],
   "source": [
    "#добавили количество кухонь в ресторане? это данные внешнего парсинга сайта tripadvisor\n",
    "#т.к. scraping занимает много времени, его провели отдельным проектом, а здесь только импортируем результаты\n",
    "#что бы сократить время\n",
    "\n",
    "cuisine = pd.read_csv('cuisine.csv')\n",
    "\n",
    "#missing_data(cuisine)\n",
    "#видим что удалось убрать пропуски в признаке Cuisine Style\n",
    "#теперь заменим данные на данные парсинга и сразу посчитаем кол-во кухонь в ресторане создав новый признак\n",
    "\n",
    "#применяем функцию которая создает списки кухонь в признаке без артефактов в строковых значениймх\n",
    "df['Cuisine Style'] = cuisine['Cuisine Style'].apply(resplit)"
   ]
  },
  {
   "cell_type": "markdown",
   "metadata": {},
   "source": [
    "### признак col-cuisine - кол-во кухонь в ресторане"
   ]
  },
  {
   "cell_type": "code",
   "execution_count": 19,
   "metadata": {},
   "outputs": [
    {
     "data": {
      "text/plain": [
       "array(['Bar', 'Pub', 'European', 'Scandinavian', 'Gluten Free Options',\n",
       "       'Vegetarian Friendly', 'Vegan Options', 'Italian', 'Mediterranean',\n",
       "       'Seafood', 'French', 'Cafe', 'Fast Food', 'Portuguese', nan,\n",
       "       'Greek', 'Friendly', 'Czech', 'Eastern European',\n",
       "       'Central European', 'Pizza', 'British', 'Spanish', 'Norwegian',\n",
       "       'African', 'Moroccan', 'Middle Eastern', 'Halal', 'Indian', 'Thai',\n",
       "       'Dutch', 'Welsh', 'American', 'Steakhouse', 'Soups', 'Scottish',\n",
       "       'Fusion', 'Street Food', 'Hungarian', 'Asian', 'Wine Bar',\n",
       "       'Barbecue', 'Central American', 'Deli', 'Peruvian',\n",
       "       'South American', 'Irish', 'Polish', 'Vietnamese', 'Lebanese',\n",
       "       'Turkish', 'Healthy', 'Japanese', 'Sushi', 'Austrian', 'Chinese',\n",
       "       'Danish', 'International', 'Gastropub', 'Korean', 'German',\n",
       "       'Contemporary', 'Food', 'Arabic', 'Diner', 'Swiss', 'Swedish',\n",
       "       'Persian', 'Dessert', 'Eastern', 'Options', 'Australian', 'Grill',\n",
       "       'Mexican', 'Bites', 'Latin', 'Bakeries', 'Belgian', 'Argentinean',\n",
       "       'Croatian', 'Tunisian', 'Russian', 'Nepali', 'Bangladeshi',\n",
       "       'Colombian', 'Sri Lankan', 'Pakistani', 'Brew Pub', 'Israeli',\n",
       "       'Brazilian', 'Delicatessen', 'Kosher', 'Sardinian', 'Ethiopian',\n",
       "       'Taiwanese', 'Indonesian', 'Malaysian', 'Venezuelan', 'Balti',\n",
       "       'Armenian', 'Slovenian', 'Caribbean', 'Jamaican', 'Ecuadorean',\n",
       "       'Chilean', 'Hawaiian', 'Minority Chinese', 'bars', 'Market',\n",
       "       'Cambodian', 'Afghani', 'Tibetan', 'Romanian', 'Southwestern',\n",
       "       'Mongolian', 'Cajun & Creole', 'Singaporean', 'restaurants',\n",
       "       'Filipino', 'Cuban', 'Native American', 'Canadian', 'Egyptian',\n",
       "       'Azerbaijani', 'Georgian', 'Yunnan', 'New Zealand', 'Romana',\n",
       "       'Basque', 'Ukrainian', 'Lazio', 'Emilian', 'Creole', 'Albanian',\n",
       "       'Central Asian', 'Romagna', 'Polynesian', 'Catalan', 'Caucasian',\n",
       "       'Uzbek', 'Salvadoran', 'Lombard', 'Xinjiang', 'Burmese', 'Kong',\n",
       "       'Fujian', 'Neapolitan', 'Campania', 'Cantonese', 'Specialties',\n",
       "       'Latvian'], dtype=object)"
      ]
     },
     "execution_count": 19,
     "metadata": {},
     "output_type": "execute_result"
    }
   ],
   "source": [
    "#считаем кол-во кухонь в каждом ресторане\n",
    "df['col_cuisine'] = df['Cuisine Style'].apply(len)\n",
    "\n",
    "#проверим результат добавления нового признака\n",
    "#drop_columns = ['City','Cuisine Style', 'Reviews', 'URL_TA','ID_TA']\n",
    "#print('Смотрим на предикт\\n')\n",
    "#learn_fit(df.drop(columns = drop_columns).dropna(), random_state=322)\n",
    "\n",
    "#видим что есть улучшение, оставляем признак col_cuisine\n",
    "\n",
    "#посчиатем сколько уникальных кухонь есть в принципе\n",
    "\n",
    "unique_cuisine = df['Cuisine Style'].explode().unique()\n",
    "unique_cuisine\n"
   ]
  },
  {
   "cell_type": "markdown",
   "metadata": {},
   "source": [
    "### добавим признак соотношения кол-ва кухонь в ресторане к макс кол-ву кухонь в городе"
   ]
  },
  {
   "cell_type": "code",
   "execution_count": 20,
   "metadata": {},
   "outputs": [
    {
     "name": "stderr",
     "output_type": "stream",
     "text": [
      "<ipython-input-20-d8c7b4e4f2c3>:11: SettingWithCopyWarning: \n",
      "A value is trying to be set on a copy of a slice from a DataFrame\n",
      "\n",
      "See the caveats in the documentation: https://pandas.pydata.org/pandas-docs/stable/user_guide/indexing.html#returning-a-view-versus-a-copy\n",
      "  dict['city_col_cuisine'][i]=len(list(unique_everseen(dict['Cuisine Style'][i])))\n"
     ]
    }
   ],
   "source": [
    "dict = pd.DataFrame(df.groupby('City')['Cuisine Style'].agg('sum'))\n",
    "#display(dict)\n",
    "dict['city_col_cuisine']=0\n",
    "\n",
    "#импортируем нужные библиотеки для подсчета уникальных элементов в списке\n",
    "from  more_itertools import unique_everseen\n",
    "\n",
    "#считаем кол-во уникальных кухонь в каждом городе\n",
    "\n",
    "for i in range(0,len(dict)):\n",
    "    dict['city_col_cuisine'][i]=len(list(unique_everseen(dict['Cuisine Style'][i])))\n",
    "\n",
    "dict_a = pd.DataFrame()\n",
    "\n",
    "for i in range(0,len(dict)):\n",
    "    new_row = {'city':dict.index[i], 'city_col_cuisine':dict.values[i][1]} \n",
    "    dict_a = dict_a.append(new_row, ignore_index=True)\n",
    "\n",
    "new_dict = dict_a.set_index('city').T.to_dict('list')"
   ]
  },
  {
   "cell_type": "markdown",
   "metadata": {},
   "source": [
    "### Добавим новый признак 'city_col_cuisine' - кол-во уникальных куонь в каждом городе"
   ]
  },
  {
   "cell_type": "code",
   "execution_count": 22,
   "metadata": {},
   "outputs": [],
   "source": [
    "df['city_col_cuisine'] = df['City'].replace(to_replace=new_dict)\n"
   ]
  },
  {
   "cell_type": "markdown",
   "metadata": {},
   "source": [
    "### Добавим новый признак, нормировка кухонь относительно каждого города"
   ]
  },
  {
   "cell_type": "code",
   "execution_count": 23,
   "metadata": {},
   "outputs": [
    {
     "name": "stdout",
     "output_type": "stream",
     "text": [
      "Смотрим на предикт новых признаков\n",
      "\n",
      "MAE Regression: 0.1770136752136752\n",
      "MAE Regression round state: 0.15376068376068375\n",
      "MAE Классификация: 0.17756410256410257\n"
     ]
    }
   ],
   "source": [
    "\n",
    "df['cuisine_norm']=df['col_cuisine']/df['city_col_cuisine']\n",
    "\n",
    "#проверяем модель\n",
    "drop_columns = ['City','Cuisine Style', 'Price Range', 'Reviews', 'URL_TA', 'ID_TA']\n",
    "print('Смотрим на предикт новых признаков\\n')\n",
    "learn_fit(df.drop(columns = drop_columns).dropna(), random_state=322)"
   ]
  },
  {
   "cell_type": "code",
   "execution_count": 24,
   "metadata": {},
   "outputs": [],
   "source": [
    "#есть небольшое улучшение \n"
   ]
  },
  {
   "cell_type": "markdown",
   "metadata": {},
   "source": [
    "### создадим признак, кол-во ресторанов в городе"
   ]
  },
  {
   "cell_type": "code",
   "execution_count": 25,
   "metadata": {},
   "outputs": [],
   "source": [
    "\n",
    "per_city_dict = df['City'].value_counts().to_dict()\n",
    "per_city_dict\n",
    "df['city_restaurants'] = df.City.map(per_city_dict)\n",
    "\n"
   ]
  },
  {
   "cell_type": "markdown",
   "metadata": {},
   "source": [
    "### Добавим признак - нормализованный ранг ranking_norm"
   ]
  },
  {
   "cell_type": "code",
   "execution_count": null,
   "metadata": {},
   "outputs": [],
   "source": [
    "\n",
    "df['ranking_norm'] = df.Ranking / df.city_restaurants\n",
    "\n",
    "drop_columns = ['City','Cuisine Style', 'Price Range', 'Reviews', 'URL_TA','ID_TA']\n",
    "print('Смотрим на предикт с новыми признаками\\n')\n",
    "learn_fit(df.drop(columns = drop_columns).dropna(), random_state=322)\n"
   ]
  },
  {
   "cell_type": "code",
   "execution_count": 22,
   "metadata": {},
   "outputs": [],
   "source": [
    "#отношение кол-ва кухонь в ресторане к среднему кол-ву кухонь в этом городе\n",
    "\n",
    "# !!!! - данный признак привел к ухудшению оценки, поэтому все закооментировано\n",
    "# что бы в дальнейшем не было мыслей считать похожие признаки\n",
    "\n",
    "#mean_city_cuisine = df.groupby('City')['col_cuisine'].mean().to_dict()\n",
    "#mean_city_cuisine\n",
    "\n",
    "#df['mcc'] = df.City.replace(to_replace=mean_city_cuisine)\n",
    "#df['mcc_norm_by_city']=df['col_cuisine']/df['mcc']\n",
    "#\n",
    "#drop_columns = ['City','Cuisine Style', 'Price Range', 'Reviews', 'URL_TA', 'ID_TA']\n",
    "#print('Смотрим на предикт с новым признаком\\n')\n",
    "#learn_fit(df.drop(columns = drop_columns).dropna(), random_state=322)"
   ]
  },
  {
   "cell_type": "code",
   "execution_count": 26,
   "metadata": {},
   "outputs": [
    {
     "name": "stdout",
     "output_type": "stream",
     "text": [
      "% пропусков в Restaurant_id 0.0\n",
      "% пропусков в City 0.0\n",
      "% пропусков в Cuisine Style 0.0\n",
      "% пропусков в Ranking 0.0\n",
      "% пропусков в Price Range 0.0\n",
      "% пропусков в Number of Reviews 6.400000000000006\n",
      "% пропусков в Reviews 0.0040000000000048885\n",
      "% пропусков в URL_TA 0.0\n",
      "% пропусков в ID_TA 0.0\n",
      "% пропусков в sample 0.0\n",
      "% пропусков в Rating 0.0\n",
      "% пропусков в capital 0.0\n",
      "% пропусков в population 0.0\n",
      "% пропусков в Price in City 0.0\n",
      "% пропусков в col_cuisine 0.0\n",
      "% пропусков в city_col_cuisine 0.0\n",
      "% пропусков в cuisine_norm 0.0\n",
      "% пропусков в city_restaurants 0.0\n"
     ]
    }
   ],
   "source": [
    "missing_data(df)"
   ]
  },
  {
   "cell_type": "code",
   "execution_count": null,
   "metadata": {},
   "outputs": [],
   "source": [
    "#остались пропуски в Number of reviews"
   ]
  },
  {
   "cell_type": "markdown",
   "metadata": {},
   "source": [
    "### Добавим новый признак nor - среднее кол-во ресторанов в городе"
   ]
  },
  {
   "cell_type": "code",
   "execution_count": 27,
   "metadata": {},
   "outputs": [
    {
     "name": "stdout",
     "output_type": "stream",
     "text": [
      "Смотрим на предикт с новыми признаками\n",
      "\n",
      "MAE Regression: 0.17603760683760683\n",
      "MAE Regression round state: 0.15508547008547008\n",
      "MAE Классификация: 0.17867521367521366\n"
     ]
    }
   ],
   "source": [
    "nor  = df.groupby('City')['Number of Reviews'].mean().to_dict()\n",
    "nor\n",
    "\n",
    "#добавили новый признак nor - среднее кол-во отзывов по городу\n",
    "df['nor']=df['City'].replace(to_replace=nor)\n",
    "\n",
    "#проверяем модель\n",
    "drop_columns = ['City','Cuisine Style', 'Price Range', 'Reviews', 'URL_TA','ID_TA']\n",
    "print('Смотрим на предикт с новыми признаками\\n')\n",
    "learn_fit(df.drop(columns = drop_columns).dropna(), random_state=322)\n"
   ]
  },
  {
   "cell_type": "code",
   "execution_count": 24,
   "metadata": {},
   "outputs": [],
   "source": [
    "#df.drop(['Number of Reviews'],  inplace=True, axis =1 )"
   ]
  },
  {
   "cell_type": "markdown",
   "metadata": {},
   "source": [
    "### Будем использовать данные внешнего скрапинга данных что бы убрать пропуски в Number of Reviews\n",
    "\n",
    " код приведен ниже, что бы не тратить время на повторный сбор пропущенных данных\n",
    " использовались регулярные выражения 2х паттернов для отбора нужной информации"
   ]
  },
  {
   "cell_type": "code",
   "execution_count": 28,
   "metadata": {},
   "outputs": [],
   "source": [
    "#import requests\n",
    "#from bs4 import BeautifulSoup\n",
    "#import re\n",
    "#import math\n",
    "#import time\n",
    "#\n",
    "#df_pars = df[['Restaurant_id','City','URL_TA','Number of Reviews']]\n",
    "\n",
    "#df_pars['nor'] = df_pars['Number of Reviews']\n",
    "\n",
    "#for i in range(len(df_pars['Number of Reviews'])-1,0,-1):\n",
    "#    if pd.isnull(df_pars['Number of Reviews'][i]) == True:\n",
    "#        #контроль\n",
    "#        print(i,'проверка',df_pars['Number of Reviews'][i])\n",
    "#        url = 'https://www.tripadvisor.com' + df_pars['URL_TA'][i]\n",
    "#        headers = {\n",
    "#        'User-Agent': 'My User Agent 1.0',\n",
    "#        'From': 'personal@domain.com'  # This is another valid field\n",
    "#        }\n",
    "#        response = requests.get(url, headers=headers)\n",
    "#        soup = BeautifulSoup(response.text, 'lxml')\n",
    "#        pattern = re.compile(r'\"reviewCount\":\"\\d*\"')\n",
    "#        pattern2 = re.compile(r'\\d*')\n",
    "#        rc = re.findall(pattern, str(soup))\n",
    "#       \n",
    "#        if isinstance(rc, str) == True:\n",
    "#            print('проверка ',rc, type(rc))\n",
    "#            df_pars['Number of Reviews'][i] = re.findall(pattern2,rc[0])\n",
    "#        else:\n",
    "#            df_pars['Number of Reviews'][i] = 0\n",
    "#    if i == 20000:\n",
    "#        print('Пауза 5 минут',i)\n",
    "#        time.sleep(300)\n",
    "#    if i % 1000 == 0:\n",
    "#        print('прошли тысячу строк',i)\n",
    "#df_pars.to_csv('df_pars.csv')"
   ]
  },
  {
   "cell_type": "code",
   "execution_count": 29,
   "metadata": {},
   "outputs": [
    {
     "name": "stdout",
     "output_type": "stream",
     "text": [
      "% пропусков в Unnamed: 0 0.0\n",
      "% пропусков в Restaurant_id 0.0\n",
      "% пропусков в City 0.0\n",
      "% пропусков в URL_TA 0.0\n",
      "% пропусков в Number of Reviews 0.0\n"
     ]
    }
   ],
   "source": [
    "#dblbv что есть пропуски в Number of Revies\n",
    "#заменим  их данными парсинга\n",
    "df_pars = pd.read_csv('df_pars.csv')\n",
    "\n",
    "#проверяем что бы не было пропусков\n",
    "missing_data(df_pars)"
   ]
  },
  {
   "cell_type": "code",
   "execution_count": 30,
   "metadata": {},
   "outputs": [],
   "source": [
    "#заменим данные в признаке на данные полученные с сайта\n",
    "df['Number of Reviews']=df_pars['Number of Reviews']"
   ]
  },
  {
   "cell_type": "code",
   "execution_count": 31,
   "metadata": {},
   "outputs": [],
   "source": [
    "#делаем бэкап на всякий случай\n",
    "backup = df"
   ]
  },
  {
   "cell_type": "code",
   "execution_count": 29,
   "metadata": {},
   "outputs": [
    {
     "name": "stdout",
     "output_type": "stream",
     "text": [
      "% пропусков в Restaurant_id 0.0\n",
      "% пропусков в City 0.0\n",
      "% пропусков в Cuisine Style 0.0\n",
      "% пропусков в Ranking 0.0\n",
      "% пропусков в Price Range 0.0\n",
      "% пропусков в Number of Reviews 0.0\n",
      "% пропусков в Reviews 0.0040000000000048885\n",
      "% пропусков в URL_TA 0.0\n",
      "% пропусков в ID_TA 0.0\n",
      "% пропусков в sample 0.0\n",
      "% пропусков в Rating 0.0\n",
      "% пропусков в capital 0.0\n",
      "% пропусков в population 0.0\n",
      "% пропусков в Price in City 0.0\n",
      "% пропусков в col_cuisine 0.0\n",
      "% пропусков в city_col_cuisine 0.0\n",
      "% пропусков в cuisine_norm 0.0\n",
      "% пропусков в city_restaurants 0.0\n",
      "% пропусков в ranking_norm 0.0\n",
      "% пропусков в nor 0.0\n"
     ]
    }
   ],
   "source": [
    "#tot одна проверка на пропуски\n",
    "missing_data(df)"
   ]
  },
  {
   "cell_type": "code",
   "execution_count": 33,
   "metadata": {},
   "outputs": [
    {
     "data": {
      "text/plain": [
       "<AxesSubplot:>"
      ]
     },
     "execution_count": 33,
     "metadata": {},
     "output_type": "execute_result"
    },
    {
     "data": {
      "image/png": "[encoded data removed]",
      "text/plain": [
       "<Figure size 720x504 with 2 Axes>"
      ]
     },
     "metadata": {
      "needs_background": "light"
     },
     "output_type": "display_data"
    }
   ],
   "source": [
    "plt.figure(figsize=(10, 7))# размер тепловой карты\n",
    "sns.heatmap(df.isnull(), cmap=\"YlGnBu_r\")"
   ]
  },
  {
   "cell_type": "code",
   "execution_count": 34,
   "metadata": {},
   "outputs": [],
   "source": [
    "#пропусков нет"
   ]
  },
  {
   "cell_type": "code",
   "execution_count": 35,
   "metadata": {},
   "outputs": [
    {
     "name": "stdout",
     "output_type": "stream",
     "text": [
      "Смотрим на предикт с новыми признаками\n",
      "\n",
      "MAE Regression: 0.17126560000000002\n",
      "MAE Regression round state: 0.1494\n",
      "MAE Классификация: 0.17508\n"
     ]
    }
   ],
   "source": [
    "#проверка MAE\n",
    "drop_columns = ['City','Cuisine Style', 'Price Range', 'Reviews', 'URL_TA','ID_TA']\n",
    "print('Смотрим на предикт с новыми признаками\\n')\n",
    "learn_fit(df.drop(columns = drop_columns).dropna(), random_state=322)"
   ]
  },
  {
   "cell_type": "code",
   "execution_count": 36,
   "metadata": {},
   "outputs": [
    {
     "data": {
      "text/plain": [
       "array(['Bar', 'Pub', 'European', 'Scandinavian', 'Gluten Free Options',\n",
       "       'Vegetarian Friendly', 'Vegan Options', 'Italian', 'Mediterranean',\n",
       "       'Seafood', 'French', 'Cafe', 'Fast Food', 'Portuguese', nan,\n",
       "       'Greek', 'Friendly', 'Czech', 'Eastern European',\n",
       "       'Central European', 'Pizza', 'British', 'Spanish', 'Norwegian',\n",
       "       'African', 'Moroccan', 'Middle Eastern', 'Halal', 'Indian', 'Thai',\n",
       "       'Dutch', 'Welsh', 'American', 'Steakhouse', 'Soups', 'Scottish',\n",
       "       'Fusion', 'Street Food', 'Hungarian', 'Asian', 'Wine Bar',\n",
       "       'Barbecue', 'Central American', 'Deli', 'Peruvian',\n",
       "       'South American', 'Irish', 'Polish', 'Vietnamese', 'Lebanese',\n",
       "       'Turkish', 'Healthy', 'Japanese', 'Sushi', 'Austrian', 'Chinese',\n",
       "       'Danish', 'International', 'Gastropub', 'Korean', 'German',\n",
       "       'Contemporary', 'Food', 'Arabic', 'Diner', 'Swiss', 'Swedish',\n",
       "       'Persian', 'Dessert', 'Eastern', 'Options', 'Australian', 'Grill',\n",
       "       'Mexican', 'Bites', 'Latin', 'Bakeries', 'Belgian', 'Argentinean',\n",
       "       'Croatian', 'Tunisian', 'Russian', 'Nepali', 'Bangladeshi',\n",
       "       'Colombian', 'Sri Lankan', 'Pakistani', 'Brew Pub', 'Israeli',\n",
       "       'Brazilian', 'Delicatessen', 'Kosher', 'Sardinian', 'Ethiopian',\n",
       "       'Taiwanese', 'Indonesian', 'Malaysian', 'Venezuelan', 'Balti',\n",
       "       'Armenian', 'Slovenian', 'Caribbean', 'Jamaican', 'Ecuadorean',\n",
       "       'Chilean', 'Hawaiian', 'Minority Chinese', 'bars', 'Market',\n",
       "       'Cambodian', 'Afghani', 'Tibetan', 'Romanian', 'Southwestern',\n",
       "       'Mongolian', 'Cajun & Creole', 'Singaporean', 'restaurants',\n",
       "       'Filipino', 'Cuban', 'Native American', 'Canadian', 'Egyptian',\n",
       "       'Azerbaijani', 'Georgian', 'Yunnan', 'New Zealand', 'Romana',\n",
       "       'Basque', 'Ukrainian', 'Lazio', 'Emilian', 'Creole', 'Albanian',\n",
       "       'Central Asian', 'Romagna', 'Polynesian', 'Catalan', 'Caucasian',\n",
       "       'Uzbek', 'Salvadoran', 'Lombard', 'Xinjiang', 'Burmese', 'Kong',\n",
       "       'Fujian', 'Neapolitan', 'Campania', 'Cantonese', 'Specialties',\n",
       "       'Latvian'], dtype=object)"
      ]
     },
     "execution_count": 36,
     "metadata": {},
     "output_type": "execute_result"
    }
   ],
   "source": [
    "# Отличный результат, мы улучшили показатели добавиви дамми переменные по типу уникальных кухонь\n",
    "\n",
    "#делаем dummy\n",
    "backup = df\n",
    "style = df['Cuisine Style'].explode()\n",
    "X = pd.get_dummies(style)\n",
    "index_list = pd.Index.tolist(X.index)\n",
    "Y = X.groupby(index_list).sum()\n",
    "df = df.join(Y)\n",
    "style.unique()\n"
   ]
  },
  {
   "cell_type": "code",
   "execution_count": 37,
   "metadata": {},
   "outputs": [
    {
     "name": "stdout",
     "output_type": "stream",
     "text": [
      "% пропусков в Restaurant_id 0.0\n",
      "% пропусков в City 0.0\n",
      "% пропусков в Cuisine Style 0.0\n",
      "% пропусков в Ranking 0.0\n",
      "% пропусков в Price Range 0.0\n",
      "% пропусков в Number of Reviews 0.0\n",
      "% пропусков в Reviews 0.0040000000000048885\n",
      "% пропусков в URL_TA 0.0\n",
      "% пропусков в ID_TA 0.0\n",
      "% пропусков в sample 0.0\n",
      "% пропусков в Rating 0.0\n",
      "% пропусков в capital 0.0\n",
      "% пропусков в population 0.0\n",
      "% пропусков в Price in City 0.0\n",
      "% пропусков в col_cuisine 0.0\n",
      "% пропусков в city_col_cuisine 0.0\n",
      "% пропусков в cuisine_norm 0.0\n",
      "% пропусков в city_restaurants 0.0\n",
      "% пропусков в nor 0.0\n",
      "% пропусков в Afghani 0.0\n",
      "% пропусков в African 0.0\n",
      "% пропусков в Albanian 0.0\n",
      "% пропусков в American 0.0\n",
      "% пропусков в Arabic 0.0\n",
      "% пропусков в Argentinean 0.0\n",
      "% пропусков в Armenian 0.0\n",
      "% пропусков в Asian 0.0\n",
      "% пропусков в Australian 0.0\n",
      "% пропусков в Austrian 0.0\n",
      "% пропусков в Azerbaijani 0.0\n",
      "% пропусков в Bakeries 0.0\n",
      "% пропусков в Balti 0.0\n",
      "% пропусков в Bangladeshi 0.0\n",
      "% пропусков в Bar 0.0\n",
      "% пропусков в Barbecue 0.0\n",
      "% пропусков в Basque 0.0\n",
      "% пропусков в Belgian 0.0\n",
      "% пропусков в Bites 0.0\n",
      "% пропусков в Brazilian 0.0\n",
      "% пропусков в Brew Pub 0.0\n",
      "% пропусков в British 0.0\n",
      "% пропусков в Burmese 0.0\n",
      "% пропусков в Cafe 0.0\n",
      "% пропусков в Cajun & Creole 0.0\n",
      "% пропусков в Cambodian 0.0\n",
      "% пропусков в Campania 0.0\n",
      "% пропусков в Canadian 0.0\n",
      "% пропусков в Cantonese 0.0\n",
      "% пропусков в Caribbean 0.0\n",
      "% пропусков в Catalan 0.0\n",
      "% пропусков в Caucasian 0.0\n",
      "% пропусков в Central American 0.0\n",
      "% пропусков в Central Asian 0.0\n",
      "% пропусков в Central European 0.0\n",
      "% пропусков в Chilean 0.0\n",
      "% пропусков в Chinese 0.0\n",
      "% пропусков в Colombian 0.0\n",
      "% пропусков в Contemporary 0.0\n",
      "% пропусков в Creole 0.0\n",
      "% пропусков в Croatian 0.0\n",
      "% пропусков в Cuban 0.0\n",
      "% пропусков в Czech 0.0\n",
      "% пропусков в Danish 0.0\n",
      "% пропусков в Deli 0.0\n",
      "% пропусков в Delicatessen 0.0\n",
      "% пропусков в Dessert 0.0\n",
      "% пропусков в Diner 0.0\n",
      "% пропусков в Dutch 0.0\n",
      "% пропусков в Eastern 0.0\n",
      "% пропусков в Eastern European 0.0\n",
      "% пропусков в Ecuadorean 0.0\n",
      "% пропусков в Egyptian 0.0\n",
      "% пропусков в Emilian 0.0\n",
      "% пропусков в Ethiopian 0.0\n",
      "% пропусков в European 0.0\n",
      "% пропусков в Fast Food 0.0\n",
      "% пропусков в Filipino 0.0\n",
      "% пропусков в Food 0.0\n",
      "% пропусков в French 0.0\n",
      "% пропусков в Friendly 0.0\n",
      "% пропусков в Fujian 0.0\n",
      "% пропусков в Fusion 0.0\n",
      "% пропусков в Gastropub 0.0\n",
      "% пропусков в Georgian 0.0\n",
      "% пропусков в German 0.0\n",
      "% пропусков в Gluten Free Options 0.0\n",
      "% пропусков в Greek 0.0\n",
      "% пропусков в Grill 0.0\n",
      "% пропусков в Halal 0.0\n",
      "% пропусков в Hawaiian 0.0\n",
      "% пропусков в Healthy 0.0\n",
      "% пропусков в Hungarian 0.0\n",
      "% пропусков в Indian 0.0\n",
      "% пропусков в Indonesian 0.0\n",
      "% пропусков в International 0.0\n",
      "% пропусков в Irish 0.0\n",
      "% пропусков в Israeli 0.0\n",
      "% пропусков в Italian 0.0\n",
      "% пропусков в Jamaican 0.0\n",
      "% пропусков в Japanese 0.0\n",
      "% пропусков в Kong 0.0\n",
      "% пропусков в Korean 0.0\n",
      "% пропусков в Kosher 0.0\n",
      "% пропусков в Latin 0.0\n",
      "% пропусков в Latvian 0.0\n",
      "% пропусков в Lazio 0.0\n",
      "% пропусков в Lebanese 0.0\n",
      "% пропусков в Lombard 0.0\n",
      "% пропусков в Malaysian 0.0\n",
      "% пропусков в Market 0.0\n",
      "% пропусков в Mediterranean 0.0\n",
      "% пропусков в Mexican 0.0\n",
      "% пропусков в Middle Eastern 0.0\n",
      "% пропусков в Minority Chinese 0.0\n",
      "% пропусков в Mongolian 0.0\n",
      "% пропусков в Moroccan 0.0\n",
      "% пропусков в Native American 0.0\n",
      "% пропусков в Neapolitan 0.0\n",
      "% пропусков в Nepali 0.0\n",
      "% пропусков в New Zealand 0.0\n",
      "% пропусков в Norwegian 0.0\n",
      "% пропусков в Options 0.0\n",
      "% пропусков в Pakistani 0.0\n",
      "% пропусков в Persian 0.0\n",
      "% пропусков в Peruvian 0.0\n",
      "% пропусков в Pizza 0.0\n",
      "% пропусков в Polish 0.0\n",
      "% пропусков в Polynesian 0.0\n",
      "% пропусков в Portuguese 0.0\n",
      "% пропусков в Pub 0.0\n",
      "% пропусков в Romagna 0.0\n",
      "% пропусков в Romana 0.0\n",
      "% пропусков в Romanian 0.0\n",
      "% пропусков в Russian 0.0\n",
      "% пропусков в Salvadoran 0.0\n",
      "% пропусков в Sardinian 0.0\n",
      "% пропусков в Scandinavian 0.0\n",
      "% пропусков в Scottish 0.0\n",
      "% пропусков в Seafood 0.0\n",
      "% пропусков в Singaporean 0.0\n",
      "% пропусков в Slovenian 0.0\n",
      "% пропусков в Soups 0.0\n",
      "% пропусков в South American 0.0\n",
      "% пропусков в Southwestern 0.0\n",
      "% пропусков в Spanish 0.0\n",
      "% пропусков в Specialties 0.0\n",
      "% пропусков в Sri Lankan 0.0\n",
      "% пропусков в Steakhouse 0.0\n",
      "% пропусков в Street Food 0.0\n",
      "% пропусков в Sushi 0.0\n",
      "% пропусков в Swedish 0.0\n",
      "% пропусков в Swiss 0.0\n",
      "% пропусков в Taiwanese 0.0\n",
      "% пропусков в Thai 0.0\n",
      "% пропусков в Tibetan 0.0\n",
      "% пропусков в Tunisian 0.0\n",
      "% пропусков в Turkish 0.0\n",
      "% пропусков в Ukrainian 0.0\n",
      "% пропусков в Uzbek 0.0\n",
      "% пропусков в Vegan Options 0.0\n",
      "% пропусков в Vegetarian Friendly 0.0\n",
      "% пропусков в Venezuelan 0.0\n",
      "% пропусков в Vietnamese 0.0\n",
      "% пропусков в Welsh 0.0\n",
      "% пропусков в Wine Bar 0.0\n",
      "% пропусков в Xinjiang 0.0\n",
      "% пропусков в Yunnan 0.0\n",
      "% пропусков в bars 0.0\n",
      "% пропусков в restaurants 0.0\n"
     ]
    }
   ],
   "source": [
    "missing_data(df)"
   ]
  },
  {
   "cell_type": "code",
   "execution_count": 40,
   "metadata": {},
   "outputs": [],
   "source": [
    "backup_dummy=df\n",
    "\n",
    "\n"
   ]
  },
  {
   "cell_type": "code",
   "execution_count": 42,
   "metadata": {},
   "outputs": [
    {
     "name": "stdout",
     "output_type": "stream",
     "text": [
      "Смотрим на предикт с новыми признаками\n",
      "\n",
      "MAE Regression: 0.16775959999999998\n",
      "MAE Regression round state: 0.1444\n",
      "MAE Классификация: 0.21416\n"
     ]
    }
   ],
   "source": [
    "#добавим новый признак \n",
    "\n",
    "from sklearn.preprocessing import LabelEncoder\n",
    "#City encoding\n",
    "le = LabelEncoder()\n",
    "le.fit(df.City)\n",
    "df['city_le']=le.transform(df.City)\n",
    "\n",
    "drop_columns = ['City','Cuisine Style', 'Price Range', 'Reviews', 'URL_TA','ID_TA']\n",
    "print('Смотрим на предикт с новыми признаками\\n')\n",
    "learn_fit(df.drop(columns = drop_columns).dropna(), random_state=322)"
   ]
  },
  {
   "cell_type": "code",
   "execution_count": null,
   "metadata": {},
   "outputs": [],
   "source": []
  },
  {
   "cell_type": "code",
   "execution_count": null,
   "metadata": {},
   "outputs": [],
   "source": []
  },
  {
   "cell_type": "code",
   "execution_count": 45,
   "metadata": {},
   "outputs": [
    {
     "data": {
      "text/plain": [
       "<AxesSubplot:>"
      ]
     },
     "execution_count": 45,
     "metadata": {},
     "output_type": "execute_result"
    },
    {
     "data": {
      "image/png": "[encoded data removed]",
      "text/plain": [
       "<Figure size 1080x792 with 2 Axes>"
      ]
     },
     "metadata": {
      "needs_background": "light"
     },
     "output_type": "display_data"
    }
   ],
   "source": [
    "import seaborn as sns \n",
    "plt.rcParams['figure.figsize'] = (15,11)\n",
    "sns.heatmap(df.corr(), cmap='vlag')"
   ]
  },
  {
   "cell_type": "code",
   "execution_count": 43,
   "metadata": {},
   "outputs": [],
   "source": [
    "# Видим что набор дамми пеерменных дает широту разброса корреляции, но вся основная часть сосредоточена вврху слева)\n",
    "\n",
    "#делаем бэкап перед созданием нового признака\n",
    "#backup = df\n"
   ]
  },
  {
   "cell_type": "markdown",
   "metadata": {},
   "source": [
    "<H1>Data Preprocessing</H1>"
   ]
  },
  {
   "cell_type": "code",
   "execution_count": null,
   "metadata": {},
   "outputs": [],
   "source": []
  },
  {
   "cell_type": "code",
   "execution_count": 47,
   "metadata": {},
   "outputs": [
    {
     "name": "stdout",
     "output_type": "stream",
     "text": [
      "<class 'pandas.core.frame.DataFrame'>\n",
      "RangeIndex: 50000 entries, 0 to 49999\n",
      "Columns: 170 entries, Restaurant_id to city_le\n",
      "dtypes: float64(9), int32(1), int64(4), object(6), uint8(150)\n",
      "memory usage: 14.6+ MB\n"
     ]
    }
   ],
   "source": [
    "df_preproc = df\n",
    "\n",
    "df_preproc.info()\n"
   ]
  },
  {
   "cell_type": "code",
   "execution_count": 48,
   "metadata": {},
   "outputs": [
    {
     "name": "stdout",
     "output_type": "stream",
     "text": [
      "% пропусков в Restaurant_id 0.0\n",
      "% пропусков в City 0.0\n",
      "% пропусков в Cuisine Style 0.0\n",
      "% пропусков в Ranking 0.0\n",
      "% пропусков в Price Range 0.0\n",
      "% пропусков в Number of Reviews 0.0\n",
      "% пропусков в Reviews 0.0040000000000048885\n",
      "% пропусков в URL_TA 0.0\n",
      "% пропусков в ID_TA 0.0\n",
      "% пропусков в sample 0.0\n",
      "% пропусков в Rating 0.0\n",
      "% пропусков в capital 0.0\n",
      "% пропусков в population 0.0\n",
      "% пропусков в Price in City 0.0\n",
      "% пропусков в col_cuisine 0.0\n",
      "% пропусков в city_col_cuisine 0.0\n",
      "% пропусков в cuisine_norm 0.0\n",
      "% пропусков в city_restaurants 0.0\n",
      "% пропусков в nor 0.0\n",
      "% пропусков в Afghani 0.0\n",
      "% пропусков в African 0.0\n",
      "% пропусков в Albanian 0.0\n",
      "% пропусков в American 0.0\n",
      "% пропусков в Arabic 0.0\n",
      "% пропусков в Argentinean 0.0\n",
      "% пропусков в Armenian 0.0\n",
      "% пропусков в Asian 0.0\n",
      "% пропусков в Australian 0.0\n",
      "% пропусков в Austrian 0.0\n",
      "% пропусков в Azerbaijani 0.0\n",
      "% пропусков в Bakeries 0.0\n",
      "% пропусков в Balti 0.0\n",
      "% пропусков в Bangladeshi 0.0\n",
      "% пропусков в Bar 0.0\n",
      "% пропусков в Barbecue 0.0\n",
      "% пропусков в Basque 0.0\n",
      "% пропусков в Belgian 0.0\n",
      "% пропусков в Bites 0.0\n",
      "% пропусков в Brazilian 0.0\n",
      "% пропусков в Brew Pub 0.0\n",
      "% пропусков в British 0.0\n",
      "% пропусков в Burmese 0.0\n",
      "% пропусков в Cafe 0.0\n",
      "% пропусков в Cajun & Creole 0.0\n",
      "% пропусков в Cambodian 0.0\n",
      "% пропусков в Campania 0.0\n",
      "% пропусков в Canadian 0.0\n",
      "% пропусков в Cantonese 0.0\n",
      "% пропусков в Caribbean 0.0\n",
      "% пропусков в Catalan 0.0\n",
      "% пропусков в Caucasian 0.0\n",
      "% пропусков в Central American 0.0\n",
      "% пропусков в Central Asian 0.0\n",
      "% пропусков в Central European 0.0\n",
      "% пропусков в Chilean 0.0\n",
      "% пропусков в Chinese 0.0\n",
      "% пропусков в Colombian 0.0\n",
      "% пропусков в Contemporary 0.0\n",
      "% пропусков в Creole 0.0\n",
      "% пропусков в Croatian 0.0\n",
      "% пропусков в Cuban 0.0\n",
      "% пропусков в Czech 0.0\n",
      "% пропусков в Danish 0.0\n",
      "% пропусков в Deli 0.0\n",
      "% пропусков в Delicatessen 0.0\n",
      "% пропусков в Dessert 0.0\n",
      "% пропусков в Diner 0.0\n",
      "% пропусков в Dutch 0.0\n",
      "% пропусков в Eastern 0.0\n",
      "% пропусков в Eastern European 0.0\n",
      "% пропусков в Ecuadorean 0.0\n",
      "% пропусков в Egyptian 0.0\n",
      "% пропусков в Emilian 0.0\n",
      "% пропусков в Ethiopian 0.0\n",
      "% пропусков в European 0.0\n",
      "% пропусков в Fast Food 0.0\n",
      "% пропусков в Filipino 0.0\n",
      "% пропусков в Food 0.0\n",
      "% пропусков в French 0.0\n",
      "% пропусков в Friendly 0.0\n",
      "% пропусков в Fujian 0.0\n",
      "% пропусков в Fusion 0.0\n",
      "% пропусков в Gastropub 0.0\n",
      "% пропусков в Georgian 0.0\n",
      "% пропусков в German 0.0\n",
      "% пропусков в Gluten Free Options 0.0\n",
      "% пропусков в Greek 0.0\n",
      "% пропусков в Grill 0.0\n",
      "% пропусков в Halal 0.0\n",
      "% пропусков в Hawaiian 0.0\n",
      "% пропусков в Healthy 0.0\n",
      "% пропусков в Hungarian 0.0\n",
      "% пропусков в Indian 0.0\n",
      "% пропусков в Indonesian 0.0\n",
      "% пропусков в International 0.0\n",
      "% пропусков в Irish 0.0\n",
      "% пропусков в Israeli 0.0\n",
      "% пропусков в Italian 0.0\n",
      "% пропусков в Jamaican 0.0\n",
      "% пропусков в Japanese 0.0\n",
      "% пропусков в Kong 0.0\n",
      "% пропусков в Korean 0.0\n",
      "% пропусков в Kosher 0.0\n",
      "% пропусков в Latin 0.0\n",
      "% пропусков в Latvian 0.0\n",
      "% пропусков в Lazio 0.0\n",
      "% пропусков в Lebanese 0.0\n",
      "% пропусков в Lombard 0.0\n",
      "% пропусков в Malaysian 0.0\n",
      "% пропусков в Market 0.0\n",
      "% пропусков в Mediterranean 0.0\n",
      "% пропусков в Mexican 0.0\n",
      "% пропусков в Middle Eastern 0.0\n",
      "% пропусков в Minority Chinese 0.0\n",
      "% пропусков в Mongolian 0.0\n",
      "% пропусков в Moroccan 0.0\n",
      "% пропусков в Native American 0.0\n",
      "% пропусков в Neapolitan 0.0\n",
      "% пропусков в Nepali 0.0\n",
      "% пропусков в New Zealand 0.0\n",
      "% пропусков в Norwegian 0.0\n",
      "% пропусков в Options 0.0\n",
      "% пропусков в Pakistani 0.0\n",
      "% пропусков в Persian 0.0\n",
      "% пропусков в Peruvian 0.0\n",
      "% пропусков в Pizza 0.0\n",
      "% пропусков в Polish 0.0\n",
      "% пропусков в Polynesian 0.0\n",
      "% пропусков в Portuguese 0.0\n",
      "% пропусков в Pub 0.0\n",
      "% пропусков в Romagna 0.0\n",
      "% пропусков в Romana 0.0\n",
      "% пропусков в Romanian 0.0\n",
      "% пропусков в Russian 0.0\n",
      "% пропусков в Salvadoran 0.0\n",
      "% пропусков в Sardinian 0.0\n",
      "% пропусков в Scandinavian 0.0\n",
      "% пропусков в Scottish 0.0\n",
      "% пропусков в Seafood 0.0\n",
      "% пропусков в Singaporean 0.0\n",
      "% пропусков в Slovenian 0.0\n",
      "% пропусков в Soups 0.0\n",
      "% пропусков в South American 0.0\n",
      "% пропусков в Southwestern 0.0\n",
      "% пропусков в Spanish 0.0\n",
      "% пропусков в Specialties 0.0\n",
      "% пропусков в Sri Lankan 0.0\n",
      "% пропусков в Steakhouse 0.0\n",
      "% пропусков в Street Food 0.0\n",
      "% пропусков в Sushi 0.0\n",
      "% пропусков в Swedish 0.0\n",
      "% пропусков в Swiss 0.0\n",
      "% пропусков в Taiwanese 0.0\n",
      "% пропусков в Thai 0.0\n",
      "% пропусков в Tibetan 0.0\n",
      "% пропусков в Tunisian 0.0\n",
      "% пропусков в Turkish 0.0\n",
      "% пропусков в Ukrainian 0.0\n",
      "% пропусков в Uzbek 0.0\n",
      "% пропусков в Vegan Options 0.0\n",
      "% пропусков в Vegetarian Friendly 0.0\n",
      "% пропусков в Venezuelan 0.0\n",
      "% пропусков в Vietnamese 0.0\n",
      "% пропусков в Welsh 0.0\n",
      "% пропусков в Wine Bar 0.0\n",
      "% пропусков в Xinjiang 0.0\n",
      "% пропусков в Yunnan 0.0\n",
      "% пропусков в bars 0.0\n",
      "% пропусков в restaurants 0.0\n",
      "% пропусков в city_le 0.0\n"
     ]
    }
   ],
   "source": [
    "\n",
    "missing_data(df)\n",
    "df_preproc.drop(['Restaurant_id','City','Cuisine Style','Reviews','URL_TA','ID_TA'], axis = 1, inplace = True)"
   ]
  },
  {
   "cell_type": "code",
   "execution_count": 49,
   "metadata": {},
   "outputs": [],
   "source": [
    "# Теперь выделим тестовую часть\n",
    "train_data = df_preproc.query('sample == 1').drop(['sample'], axis=1)\n",
    "test_data = df_preproc.query('sample == 0').drop(['sample'], axis=1)\n",
    "\n",
    "y = train_data.Rating.values            # наш таргет\n",
    "X = train_data.drop(['Rating'], axis=1)\n"
   ]
  },
  {
   "cell_type": "code",
   "execution_count": 50,
   "metadata": {},
   "outputs": [],
   "source": [
    "# Воспользуемся специальной функцие train_test_split для разбивки тестовых данных\n",
    "# выделим 20% данных на валидацию (параметр test_size)\n",
    "X_train, X_test, y_train, y_test = train_test_split(X, y, test_size=0.25, random_state=RANDOM_SEED)"
   ]
  },
  {
   "cell_type": "code",
   "execution_count": 51,
   "metadata": {},
   "outputs": [
    {
     "data": {
      "text/plain": [
       "((10000, 163),\n",
       " (40000, 163),\n",
       " (40000, 162),\n",
       " (30000, 162),\n",
       " (10000, 162),\n",
       " (30000,))"
      ]
     },
     "execution_count": 51,
     "metadata": {},
     "output_type": "execute_result"
    }
   ],
   "source": [
    "# проверяем\n",
    "test_data.shape, train_data.shape, X.shape, X_train.shape, X_test.shape, y_train.shape"
   ]
  },
  {
   "cell_type": "markdown",
   "metadata": {},
   "source": [
    "<H1>ML</H1>"
   ]
  },
  {
   "cell_type": "code",
   "execution_count": 63,
   "metadata": {},
   "outputs": [
    {
     "name": "stderr",
     "output_type": "stream",
     "text": [
      "[Parallel(n_jobs=-1)]: Using backend ThreadingBackend with 8 concurrent workers.\n",
      "[Parallel(n_jobs=-1)]: Done  34 tasks      | elapsed:    6.7s\n"
     ]
    },
    {
     "name": "stdout",
     "output_type": "stream",
     "text": [
      "MAE: 0.1844\n"
     ]
    },
    {
     "name": "stderr",
     "output_type": "stream",
     "text": [
      "[Parallel(n_jobs=-1)]: Done 100 out of 100 | elapsed:   17.3s finished\n",
      "[Parallel(n_jobs=8)]: Using backend ThreadingBackend with 8 concurrent workers.\n",
      "[Parallel(n_jobs=8)]: Done  34 tasks      | elapsed:    0.0s\n",
      "[Parallel(n_jobs=8)]: Done 100 out of 100 | elapsed:    0.0s finished\n"
     ]
    }
   ],
   "source": [
    "\n",
    "\n",
    "# Импортируем необходимые библиотеки:\n",
    "from sklearn.ensemble import RandomForestRegressor # инструмент для создания и обучения модели\n",
    "from sklearn import metrics # инструменты для оценки точности модели\n",
    "\n",
    "# Создаём модель (НАСТРОЙКИ НЕ ТРОГАЕМ)\n",
    "model = RandomForestRegressor(n_estimators=100, verbose=1, n_jobs=-1, random_state=RANDOM_SEED)\n",
    "\n",
    "# Обучаем модель на тестовом наборе данных\n",
    "model.fit(X_train, y_train)\n",
    "\n",
    "# Используем обученную модель для предсказания рейтинга ресторанов в тестовой выборке.\n",
    "# Предсказанные значения записываем в переменную y_pred\n",
    "y_pred = model.predict(X_test)\n",
    "\n",
    "\n",
    "y_pred = (y_pred * 2).round()/2\n",
    "\n",
    "\n",
    "# Сравниваем предсказанные значения (y_pred) с реальными (y_test), и смотрим насколько они в среднем отличаются\n",
    "# Метрика называется Mean Absolute Error (MAE) и показывает среднее отклонение предсказанных значений от фактических.\n",
    "print('MAE:', metrics.mean_absolute_error(y_test, y_pred))\n",
    "\n",
    "\n",
    "\n",
    "\n"
   ]
  },
  {
   "cell_type": "code",
   "execution_count": null,
   "metadata": {},
   "outputs": [],
   "source": []
  },
  {
   "cell_type": "code",
   "execution_count": 64,
   "metadata": {},
   "outputs": [],
   "source": [
    "test_data = test_data.drop(['Rating'], axis=1)\n"
   ]
  },
  {
   "cell_type": "code",
   "execution_count": 65,
   "metadata": {},
   "outputs": [
    {
     "data": {
      "text/html": [
       "<div>\n",
       "<style scoped>\n",
       "    .dataframe tbody tr th:only-of-type {\n",
       "        vertical-align: middle;\n",
       "    }\n",
       "\n",
       "    .dataframe tbody tr th {\n",
       "        vertical-align: top;\n",
       "    }\n",
       "\n",
       "    .dataframe thead th {\n",
       "        text-align: right;\n",
       "    }\n",
       "</style>\n",
       "<table border=\"1\" class=\"dataframe\">\n",
       "  <thead>\n",
       "    <tr style=\"text-align: right;\">\n",
       "      <th></th>\n",
       "      <th>Restaurant_id</th>\n",
       "      <th>Rating</th>\n",
       "    </tr>\n",
       "  </thead>\n",
       "  <tbody>\n",
       "    <tr>\n",
       "      <th>0</th>\n",
       "      <td>id_0</td>\n",
       "      <td>2.0</td>\n",
       "    </tr>\n",
       "    <tr>\n",
       "      <th>1</th>\n",
       "      <td>id_1</td>\n",
       "      <td>2.5</td>\n",
       "    </tr>\n",
       "    <tr>\n",
       "      <th>2</th>\n",
       "      <td>id_2</td>\n",
       "      <td>4.0</td>\n",
       "    </tr>\n",
       "    <tr>\n",
       "      <th>3</th>\n",
       "      <td>id_3</td>\n",
       "      <td>1.0</td>\n",
       "    </tr>\n",
       "    <tr>\n",
       "      <th>4</th>\n",
       "      <td>id_4</td>\n",
       "      <td>4.0</td>\n",
       "    </tr>\n",
       "    <tr>\n",
       "      <th>...</th>\n",
       "      <td>...</td>\n",
       "      <td>...</td>\n",
       "    </tr>\n",
       "    <tr>\n",
       "      <th>9995</th>\n",
       "      <td>id_9995</td>\n",
       "      <td>3.0</td>\n",
       "    </tr>\n",
       "    <tr>\n",
       "      <th>9996</th>\n",
       "      <td>id_9996</td>\n",
       "      <td>1.5</td>\n",
       "    </tr>\n",
       "    <tr>\n",
       "      <th>9997</th>\n",
       "      <td>id_9997</td>\n",
       "      <td>4.5</td>\n",
       "    </tr>\n",
       "    <tr>\n",
       "      <th>9998</th>\n",
       "      <td>id_9998</td>\n",
       "      <td>1.0</td>\n",
       "    </tr>\n",
       "    <tr>\n",
       "      <th>9999</th>\n",
       "      <td>id_9999</td>\n",
       "      <td>2.5</td>\n",
       "    </tr>\n",
       "  </tbody>\n",
       "</table>\n",
       "<p>10000 rows × 2 columns</p>\n",
       "</div>"
      ],
      "text/plain": [
       "     Restaurant_id  Rating\n",
       "0             id_0     2.0\n",
       "1             id_1     2.5\n",
       "2             id_2     4.0\n",
       "3             id_3     1.0\n",
       "4             id_4     4.0\n",
       "...            ...     ...\n",
       "9995       id_9995     3.0\n",
       "9996       id_9996     1.5\n",
       "9997       id_9997     4.5\n",
       "9998       id_9998     1.0\n",
       "9999       id_9999     2.5\n",
       "\n",
       "[10000 rows x 2 columns]"
      ]
     },
     "execution_count": 65,
     "metadata": {},
     "output_type": "execute_result"
    }
   ],
   "source": [
    "sample_submission"
   ]
  },
  {
   "cell_type": "code",
   "execution_count": 52,
   "metadata": {},
   "outputs": [],
   "source": [
    "#drop_columns = ['City', 'Cuisine Style', 'Reviews', 'URL_TA','ID_TA']\n",
    "#print('Смотрим на предикт с базовыми признаками до очистки и генерации новых\\n')\n",
    "#learn_fit(test_data.drop(columns = drop_columns).dropna(), random_state=322)\n",
    "#test_data"
   ]
  },
  {
   "cell_type": "code",
   "execution_count": 79,
   "metadata": {},
   "outputs": [
    {
     "name": "stderr",
     "output_type": "stream",
     "text": [
      "[Parallel(n_jobs=8)]: Using backend ThreadingBackend with 8 concurrent workers.\n",
      "[Parallel(n_jobs=8)]: Done  34 tasks      | elapsed:    0.0s\n",
      "[Parallel(n_jobs=8)]: Done 100 out of 100 | elapsed:    0.1s finished\n"
     ]
    },
    {
     "data": {
      "text/plain": [
       "array([3. , 4. , 4.5, ..., 3. , 4. , 4.5])"
      ]
     },
     "execution_count": 79,
     "metadata": {},
     "output_type": "execute_result"
    }
   ],
   "source": [
    "predict_submission = model.predict(test_data)\n",
    "predict_submission = (predict_submission * 2).round()/2\n",
    "predict_submission"
   ]
  },
  {
   "cell_type": "code",
   "execution_count": null,
   "metadata": {},
   "outputs": [],
   "source": []
  },
  {
   "cell_type": "code",
   "execution_count": 80,
   "metadata": {},
   "outputs": [
    {
     "data": {
      "text/html": [
       "<div>\n",
       "<style scoped>\n",
       "    .dataframe tbody tr th:only-of-type {\n",
       "        vertical-align: middle;\n",
       "    }\n",
       "\n",
       "    .dataframe tbody tr th {\n",
       "        vertical-align: top;\n",
       "    }\n",
       "\n",
       "    .dataframe thead th {\n",
       "        text-align: right;\n",
       "    }\n",
       "</style>\n",
       "<table border=\"1\" class=\"dataframe\">\n",
       "  <thead>\n",
       "    <tr style=\"text-align: right;\">\n",
       "      <th></th>\n",
       "      <th>Restaurant_id</th>\n",
       "      <th>Rating</th>\n",
       "    </tr>\n",
       "  </thead>\n",
       "  <tbody>\n",
       "    <tr>\n",
       "      <th>0</th>\n",
       "      <td>id_0</td>\n",
       "      <td>3.0</td>\n",
       "    </tr>\n",
       "    <tr>\n",
       "      <th>1</th>\n",
       "      <td>id_1</td>\n",
       "      <td>4.0</td>\n",
       "    </tr>\n",
       "    <tr>\n",
       "      <th>2</th>\n",
       "      <td>id_2</td>\n",
       "      <td>4.5</td>\n",
       "    </tr>\n",
       "    <tr>\n",
       "      <th>3</th>\n",
       "      <td>id_3</td>\n",
       "      <td>4.5</td>\n",
       "    </tr>\n",
       "    <tr>\n",
       "      <th>4</th>\n",
       "      <td>id_4</td>\n",
       "      <td>4.5</td>\n",
       "    </tr>\n",
       "    <tr>\n",
       "      <th>5</th>\n",
       "      <td>id_5</td>\n",
       "      <td>4.5</td>\n",
       "    </tr>\n",
       "    <tr>\n",
       "      <th>6</th>\n",
       "      <td>id_6</td>\n",
       "      <td>1.0</td>\n",
       "    </tr>\n",
       "    <tr>\n",
       "      <th>7</th>\n",
       "      <td>id_7</td>\n",
       "      <td>2.5</td>\n",
       "    </tr>\n",
       "    <tr>\n",
       "      <th>8</th>\n",
       "      <td>id_8</td>\n",
       "      <td>4.0</td>\n",
       "    </tr>\n",
       "    <tr>\n",
       "      <th>9</th>\n",
       "      <td>id_9</td>\n",
       "      <td>4.5</td>\n",
       "    </tr>\n",
       "  </tbody>\n",
       "</table>\n",
       "</div>"
      ],
      "text/plain": [
       "  Restaurant_id  Rating\n",
       "0          id_0     3.0\n",
       "1          id_1     4.0\n",
       "2          id_2     4.5\n",
       "3          id_3     4.5\n",
       "4          id_4     4.5\n",
       "5          id_5     4.5\n",
       "6          id_6     1.0\n",
       "7          id_7     2.5\n",
       "8          id_8     4.0\n",
       "9          id_9     4.5"
      ]
     },
     "execution_count": 80,
     "metadata": {},
     "output_type": "execute_result"
    }
   ],
   "source": [
    "sample_submission['Rating'] = predict_submission\n",
    "sample_submission.to_csv('submission.csv', index=False)\n",
    "sample_submission.head(10)"
   ]
  },
  {
   "cell_type": "code",
   "execution_count": null,
   "metadata": {},
   "outputs": [],
   "source": []
  },
  {
   "cell_type": "raw",
   "metadata": {},
   "source": []
  }
 ],
 "metadata": {
  "kernelspec": {
   "display_name": "Python 3",
   "language": "python",
   "name": "python3"
  },
  "language_info": {
   "codemirror_mode": {
    "name": "ipython",
    "version": 3
   },
   "file_extension": ".py",
   "mimetype": "text/x-python",
   "name": "python",
   "nbconvert_exporter": "python",
   "pygments_lexer": "ipython3",
   "version": "3.8.5"
  }
 },
 "nbformat": 4,
 "nbformat_minor": 4
}
